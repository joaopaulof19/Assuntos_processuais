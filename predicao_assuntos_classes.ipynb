{
  "nbformat": 4,
  "nbformat_minor": 0,
  "metadata": {
    "colab": {
      "provenance": []
    },
    "kernelspec": {
      "name": "python3",
      "display_name": "Python 3"
    },
    "language_info": {
      "name": "python"
    }
  },
  "cells": [
    {
      "cell_type": "markdown",
      "source": [
        "# **Carregamento de documentos**"
      ],
      "metadata": {
        "id": "s1Es-lB3duG5"
      }
    },
    {
      "cell_type": "code",
      "execution_count": 1,
      "metadata": {
        "colab": {
          "base_uri": "https://localhost:8080/"
        },
        "id": "BfMEY-kbdra3",
        "outputId": "6b5e597f-b04f-4b84-82b0-5ec579d61b02"
      },
      "outputs": [
        {
          "output_type": "stream",
          "name": "stdout",
          "text": [
            "Mounted at /content/drive\n"
          ]
        }
      ],
      "source": [
        "from google.colab import drive\n",
        "drive.mount('/content/drive')"
      ]
    },
    {
      "cell_type": "code",
      "source": [
        "!sudo apt install build-essential libpoppler-cpp-dev pkg-config python3-dev -q"
      ],
      "metadata": {
        "colab": {
          "base_uri": "https://localhost:8080/"
        },
        "id": "XxnvOpdHL2H3",
        "outputId": "6a8d0978-5da8-45b3-a792-00a5e33929e8"
      },
      "execution_count": 2,
      "outputs": [
        {
          "output_type": "stream",
          "name": "stdout",
          "text": [
            "Reading package lists...\n",
            "Building dependency tree...\n",
            "Reading state information...\n",
            "build-essential is already the newest version (12.4ubuntu1).\n",
            "pkg-config is already the newest version (0.29.1-0ubuntu2).\n",
            "python3-dev is already the newest version (3.6.7-1~18.04).\n",
            "python3-dev set to manually installed.\n",
            "The following package was automatically installed and is no longer required:\n",
            "  libnvidia-common-460\n",
            "Use 'sudo apt autoremove' to remove it.\n",
            "The following additional packages will be installed:\n",
            "  libpoppler-cpp0v5\n",
            "The following NEW packages will be installed:\n",
            "  libpoppler-cpp-dev libpoppler-cpp0v5\n",
            "0 upgraded, 2 newly installed, 0 to remove and 20 not upgraded.\n",
            "Need to get 36.7 kB of archives.\n",
            "After this operation, 188 kB of additional disk space will be used.\n",
            "Get:1 http://archive.ubuntu.com/ubuntu bionic-updates/main amd64 libpoppler-cpp0v5 amd64 0.62.0-2ubuntu2.14 [28.0 kB]\n",
            "Get:2 http://archive.ubuntu.com/ubuntu bionic-updates/main amd64 libpoppler-cpp-dev amd64 0.62.0-2ubuntu2.14 [8,676 B]\n",
            "Fetched 36.7 kB in 0s (84.1 kB/s)\n",
            "debconf: unable to initialize frontend: Dialog\n",
            "debconf: (No usable dialog-like program is installed, so the dialog based frontend cannot be used. at /usr/share/perl5/Debconf/FrontEnd/Dialog.pm line 76, <> line 2.)\n",
            "debconf: falling back to frontend: Readline\n",
            "debconf: unable to initialize frontend: Readline\n",
            "debconf: (This frontend requires a controlling tty.)\n",
            "debconf: falling back to frontend: Teletype\n",
            "dpkg-preconfigure: unable to re-open stdin: \n",
            "Selecting previously unselected package libpoppler-cpp0v5:amd64.\n",
            "(Reading database ... 124013 files and directories currently installed.)\n",
            "Preparing to unpack .../libpoppler-cpp0v5_0.62.0-2ubuntu2.14_amd64.deb ...\n",
            "Unpacking libpoppler-cpp0v5:amd64 (0.62.0-2ubuntu2.14) ...\n",
            "Selecting previously unselected package libpoppler-cpp-dev:amd64.\n",
            "Preparing to unpack .../libpoppler-cpp-dev_0.62.0-2ubuntu2.14_amd64.deb ...\n",
            "Unpacking libpoppler-cpp-dev:amd64 (0.62.0-2ubuntu2.14) ...\n",
            "Setting up libpoppler-cpp0v5:amd64 (0.62.0-2ubuntu2.14) ...\n",
            "Setting up libpoppler-cpp-dev:amd64 (0.62.0-2ubuntu2.14) ...\n",
            "Processing triggers for libc-bin (2.27-3ubuntu1.6) ...\n"
          ]
        }
      ]
    },
    {
      "cell_type": "code",
      "source": [
        "!pip install pdftotext -q"
      ],
      "metadata": {
        "id": "zUJq9fNRL7GI",
        "colab": {
          "base_uri": "https://localhost:8080/"
        },
        "outputId": "33a64f15-a8d1-4149-cff6-27e26a447513"
      },
      "execution_count": 3,
      "outputs": [
        {
          "output_type": "stream",
          "name": "stdout",
          "text": [
            "\u001b[?25l\r\u001b[K     |██▉                             | 10 kB 17.5 MB/s eta 0:00:01\r\u001b[K     |█████▊                          | 20 kB 6.4 MB/s eta 0:00:01\r\u001b[K     |████████▋                       | 30 kB 8.9 MB/s eta 0:00:01\r\u001b[K     |███████████▌                    | 40 kB 4.8 MB/s eta 0:00:01\r\u001b[K     |██████████████▍                 | 51 kB 4.3 MB/s eta 0:00:01\r\u001b[K     |█████████████████▎              | 61 kB 5.0 MB/s eta 0:00:01\r\u001b[K     |████████████████████▏           | 71 kB 5.5 MB/s eta 0:00:01\r\u001b[K     |███████████████████████         | 81 kB 5.1 MB/s eta 0:00:01\r\u001b[K     |██████████████████████████      | 92 kB 5.7 MB/s eta 0:00:01\r\u001b[K     |████████████████████████████▊   | 102 kB 5.5 MB/s eta 0:00:01\r\u001b[K     |███████████████████████████████▋| 112 kB 5.5 MB/s eta 0:00:01\r\u001b[K     |████████████████████████████████| 113 kB 5.5 MB/s \n",
            "\u001b[?25h  Building wheel for pdftotext (setup.py) ... \u001b[?25l\u001b[?25hdone\n"
          ]
        }
      ]
    },
    {
      "cell_type": "markdown",
      "source": [
        "# **Importando os documentos de petição**"
      ],
      "metadata": {
        "id": "tVd26u0uL9lO"
      }
    },
    {
      "cell_type": "code",
      "source": [
        "import numpy as np\n",
        "import pandas as pd\n",
        "import matplotlib.pyplot as plt\n",
        "import pdftotext\n",
        "import nltk\n",
        "import glob\n",
        "import re"
      ],
      "metadata": {
        "id": "XJygkVw-MHHQ"
      },
      "execution_count": 4,
      "outputs": []
    },
    {
      "cell_type": "code",
      "source": [
        "#Instanciando stopwords e o stemmer\n",
        "# nltk.download('stopwords')\n",
        "nltk.download('all')\n",
        "\n",
        "stopwords = nltk.corpus.stopwords.words('portuguese')\n",
        "\n",
        "stemmer = nltk.stem.RSLPStemmer()"
      ],
      "metadata": {
        "colab": {
          "base_uri": "https://localhost:8080/"
        },
        "id": "aBKEX6HzMWX9",
        "outputId": "53bc8192-eca5-47d1-a45c-e1b39b33fea0"
      },
      "execution_count": 5,
      "outputs": [
        {
          "output_type": "stream",
          "name": "stderr",
          "text": [
            "[nltk_data] Downloading collection 'all'\n",
            "[nltk_data]    | \n",
            "[nltk_data]    | Downloading package abc to /root/nltk_data...\n",
            "[nltk_data]    |   Unzipping corpora/abc.zip.\n",
            "[nltk_data]    | Downloading package alpino to /root/nltk_data...\n",
            "[nltk_data]    |   Unzipping corpora/alpino.zip.\n",
            "[nltk_data]    | Downloading package averaged_perceptron_tagger to\n",
            "[nltk_data]    |     /root/nltk_data...\n",
            "[nltk_data]    |   Unzipping taggers/averaged_perceptron_tagger.zip.\n",
            "[nltk_data]    | Downloading package averaged_perceptron_tagger_ru to\n",
            "[nltk_data]    |     /root/nltk_data...\n",
            "[nltk_data]    |   Unzipping\n",
            "[nltk_data]    |       taggers/averaged_perceptron_tagger_ru.zip.\n",
            "[nltk_data]    | Downloading package basque_grammars to\n",
            "[nltk_data]    |     /root/nltk_data...\n",
            "[nltk_data]    |   Unzipping grammars/basque_grammars.zip.\n",
            "[nltk_data]    | Downloading package bcp47 to /root/nltk_data...\n",
            "[nltk_data]    | Downloading package biocreative_ppi to\n",
            "[nltk_data]    |     /root/nltk_data...\n",
            "[nltk_data]    |   Unzipping corpora/biocreative_ppi.zip.\n",
            "[nltk_data]    | Downloading package bllip_wsj_no_aux to\n",
            "[nltk_data]    |     /root/nltk_data...\n",
            "[nltk_data]    |   Unzipping models/bllip_wsj_no_aux.zip.\n",
            "[nltk_data]    | Downloading package book_grammars to\n",
            "[nltk_data]    |     /root/nltk_data...\n",
            "[nltk_data]    |   Unzipping grammars/book_grammars.zip.\n",
            "[nltk_data]    | Downloading package brown to /root/nltk_data...\n",
            "[nltk_data]    |   Unzipping corpora/brown.zip.\n",
            "[nltk_data]    | Downloading package brown_tei to /root/nltk_data...\n",
            "[nltk_data]    |   Unzipping corpora/brown_tei.zip.\n",
            "[nltk_data]    | Downloading package cess_cat to /root/nltk_data...\n",
            "[nltk_data]    |   Unzipping corpora/cess_cat.zip.\n",
            "[nltk_data]    | Downloading package cess_esp to /root/nltk_data...\n",
            "[nltk_data]    |   Unzipping corpora/cess_esp.zip.\n",
            "[nltk_data]    | Downloading package chat80 to /root/nltk_data...\n",
            "[nltk_data]    |   Unzipping corpora/chat80.zip.\n",
            "[nltk_data]    | Downloading package city_database to\n",
            "[nltk_data]    |     /root/nltk_data...\n",
            "[nltk_data]    |   Unzipping corpora/city_database.zip.\n",
            "[nltk_data]    | Downloading package cmudict to /root/nltk_data...\n",
            "[nltk_data]    |   Unzipping corpora/cmudict.zip.\n",
            "[nltk_data]    | Downloading package comparative_sentences to\n",
            "[nltk_data]    |     /root/nltk_data...\n",
            "[nltk_data]    |   Unzipping corpora/comparative_sentences.zip.\n",
            "[nltk_data]    | Downloading package comtrans to /root/nltk_data...\n",
            "[nltk_data]    | Downloading package conll2000 to /root/nltk_data...\n",
            "[nltk_data]    |   Unzipping corpora/conll2000.zip.\n",
            "[nltk_data]    | Downloading package conll2002 to /root/nltk_data...\n",
            "[nltk_data]    |   Unzipping corpora/conll2002.zip.\n",
            "[nltk_data]    | Downloading package conll2007 to /root/nltk_data...\n",
            "[nltk_data]    | Downloading package crubadan to /root/nltk_data...\n",
            "[nltk_data]    |   Unzipping corpora/crubadan.zip.\n",
            "[nltk_data]    | Downloading package dependency_treebank to\n",
            "[nltk_data]    |     /root/nltk_data...\n",
            "[nltk_data]    |   Unzipping corpora/dependency_treebank.zip.\n",
            "[nltk_data]    | Downloading package dolch to /root/nltk_data...\n",
            "[nltk_data]    |   Unzipping corpora/dolch.zip.\n",
            "[nltk_data]    | Downloading package europarl_raw to\n",
            "[nltk_data]    |     /root/nltk_data...\n",
            "[nltk_data]    |   Unzipping corpora/europarl_raw.zip.\n",
            "[nltk_data]    | Downloading package extended_omw to\n",
            "[nltk_data]    |     /root/nltk_data...\n",
            "[nltk_data]    | Downloading package floresta to /root/nltk_data...\n",
            "[nltk_data]    |   Unzipping corpora/floresta.zip.\n",
            "[nltk_data]    | Downloading package framenet_v15 to\n",
            "[nltk_data]    |     /root/nltk_data...\n",
            "[nltk_data]    |   Unzipping corpora/framenet_v15.zip.\n",
            "[nltk_data]    | Downloading package framenet_v17 to\n",
            "[nltk_data]    |     /root/nltk_data...\n",
            "[nltk_data]    |   Unzipping corpora/framenet_v17.zip.\n",
            "[nltk_data]    | Downloading package gazetteers to /root/nltk_data...\n",
            "[nltk_data]    |   Unzipping corpora/gazetteers.zip.\n",
            "[nltk_data]    | Downloading package genesis to /root/nltk_data...\n",
            "[nltk_data]    |   Unzipping corpora/genesis.zip.\n",
            "[nltk_data]    | Downloading package gutenberg to /root/nltk_data...\n",
            "[nltk_data]    |   Unzipping corpora/gutenberg.zip.\n",
            "[nltk_data]    | Downloading package ieer to /root/nltk_data...\n",
            "[nltk_data]    |   Unzipping corpora/ieer.zip.\n",
            "[nltk_data]    | Downloading package inaugural to /root/nltk_data...\n",
            "[nltk_data]    |   Unzipping corpora/inaugural.zip.\n",
            "[nltk_data]    | Downloading package indian to /root/nltk_data...\n",
            "[nltk_data]    |   Unzipping corpora/indian.zip.\n",
            "[nltk_data]    | Downloading package jeita to /root/nltk_data...\n",
            "[nltk_data]    | Downloading package kimmo to /root/nltk_data...\n",
            "[nltk_data]    |   Unzipping corpora/kimmo.zip.\n",
            "[nltk_data]    | Downloading package knbc to /root/nltk_data...\n",
            "[nltk_data]    | Downloading package large_grammars to\n",
            "[nltk_data]    |     /root/nltk_data...\n",
            "[nltk_data]    |   Unzipping grammars/large_grammars.zip.\n",
            "[nltk_data]    | Downloading package lin_thesaurus to\n",
            "[nltk_data]    |     /root/nltk_data...\n",
            "[nltk_data]    |   Unzipping corpora/lin_thesaurus.zip.\n",
            "[nltk_data]    | Downloading package mac_morpho to /root/nltk_data...\n",
            "[nltk_data]    |   Unzipping corpora/mac_morpho.zip.\n",
            "[nltk_data]    | Downloading package machado to /root/nltk_data...\n",
            "[nltk_data]    | Downloading package masc_tagged to /root/nltk_data...\n",
            "[nltk_data]    | Downloading package maxent_ne_chunker to\n",
            "[nltk_data]    |     /root/nltk_data...\n",
            "[nltk_data]    |   Unzipping chunkers/maxent_ne_chunker.zip.\n",
            "[nltk_data]    | Downloading package maxent_treebank_pos_tagger to\n",
            "[nltk_data]    |     /root/nltk_data...\n",
            "[nltk_data]    |   Unzipping taggers/maxent_treebank_pos_tagger.zip.\n",
            "[nltk_data]    | Downloading package moses_sample to\n",
            "[nltk_data]    |     /root/nltk_data...\n",
            "[nltk_data]    |   Unzipping models/moses_sample.zip.\n",
            "[nltk_data]    | Downloading package movie_reviews to\n",
            "[nltk_data]    |     /root/nltk_data...\n",
            "[nltk_data]    |   Unzipping corpora/movie_reviews.zip.\n",
            "[nltk_data]    | Downloading package mte_teip5 to /root/nltk_data...\n",
            "[nltk_data]    |   Unzipping corpora/mte_teip5.zip.\n",
            "[nltk_data]    | Downloading package mwa_ppdb to /root/nltk_data...\n",
            "[nltk_data]    |   Unzipping misc/mwa_ppdb.zip.\n",
            "[nltk_data]    | Downloading package names to /root/nltk_data...\n",
            "[nltk_data]    |   Unzipping corpora/names.zip.\n",
            "[nltk_data]    | Downloading package nombank.1.0 to /root/nltk_data...\n",
            "[nltk_data]    | Downloading package nonbreaking_prefixes to\n",
            "[nltk_data]    |     /root/nltk_data...\n",
            "[nltk_data]    |   Unzipping corpora/nonbreaking_prefixes.zip.\n",
            "[nltk_data]    | Downloading package nps_chat to /root/nltk_data...\n",
            "[nltk_data]    |   Unzipping corpora/nps_chat.zip.\n",
            "[nltk_data]    | Downloading package omw to /root/nltk_data...\n",
            "[nltk_data]    | Downloading package omw-1.4 to /root/nltk_data...\n",
            "[nltk_data]    | Downloading package opinion_lexicon to\n",
            "[nltk_data]    |     /root/nltk_data...\n",
            "[nltk_data]    |   Unzipping corpora/opinion_lexicon.zip.\n",
            "[nltk_data]    | Downloading package panlex_swadesh to\n",
            "[nltk_data]    |     /root/nltk_data...\n",
            "[nltk_data]    | Downloading package paradigms to /root/nltk_data...\n",
            "[nltk_data]    |   Unzipping corpora/paradigms.zip.\n",
            "[nltk_data]    | Downloading package pe08 to /root/nltk_data...\n",
            "[nltk_data]    |   Unzipping corpora/pe08.zip.\n",
            "[nltk_data]    | Downloading package perluniprops to\n",
            "[nltk_data]    |     /root/nltk_data...\n",
            "[nltk_data]    |   Unzipping misc/perluniprops.zip.\n",
            "[nltk_data]    | Downloading package pil to /root/nltk_data...\n",
            "[nltk_data]    |   Unzipping corpora/pil.zip.\n",
            "[nltk_data]    | Downloading package pl196x to /root/nltk_data...\n",
            "[nltk_data]    |   Unzipping corpora/pl196x.zip.\n",
            "[nltk_data]    | Downloading package porter_test to /root/nltk_data...\n",
            "[nltk_data]    |   Unzipping stemmers/porter_test.zip.\n",
            "[nltk_data]    | Downloading package ppattach to /root/nltk_data...\n",
            "[nltk_data]    |   Unzipping corpora/ppattach.zip.\n",
            "[nltk_data]    | Downloading package problem_reports to\n",
            "[nltk_data]    |     /root/nltk_data...\n",
            "[nltk_data]    |   Unzipping corpora/problem_reports.zip.\n",
            "[nltk_data]    | Downloading package product_reviews_1 to\n",
            "[nltk_data]    |     /root/nltk_data...\n",
            "[nltk_data]    |   Unzipping corpora/product_reviews_1.zip.\n",
            "[nltk_data]    | Downloading package product_reviews_2 to\n",
            "[nltk_data]    |     /root/nltk_data...\n",
            "[nltk_data]    |   Unzipping corpora/product_reviews_2.zip.\n",
            "[nltk_data]    | Downloading package propbank to /root/nltk_data...\n",
            "[nltk_data]    | Downloading package pros_cons to /root/nltk_data...\n",
            "[nltk_data]    |   Unzipping corpora/pros_cons.zip.\n",
            "[nltk_data]    | Downloading package ptb to /root/nltk_data...\n",
            "[nltk_data]    |   Unzipping corpora/ptb.zip.\n",
            "[nltk_data]    | Downloading package punkt to /root/nltk_data...\n",
            "[nltk_data]    |   Unzipping tokenizers/punkt.zip.\n",
            "[nltk_data]    | Downloading package qc to /root/nltk_data...\n",
            "[nltk_data]    |   Unzipping corpora/qc.zip.\n",
            "[nltk_data]    | Downloading package reuters to /root/nltk_data...\n",
            "[nltk_data]    | Downloading package rslp to /root/nltk_data...\n",
            "[nltk_data]    |   Unzipping stemmers/rslp.zip.\n",
            "[nltk_data]    | Downloading package rte to /root/nltk_data...\n",
            "[nltk_data]    |   Unzipping corpora/rte.zip.\n",
            "[nltk_data]    | Downloading package sample_grammars to\n",
            "[nltk_data]    |     /root/nltk_data...\n",
            "[nltk_data]    |   Unzipping grammars/sample_grammars.zip.\n",
            "[nltk_data]    | Downloading package semcor to /root/nltk_data...\n",
            "[nltk_data]    | Downloading package senseval to /root/nltk_data...\n",
            "[nltk_data]    |   Unzipping corpora/senseval.zip.\n",
            "[nltk_data]    | Downloading package sentence_polarity to\n",
            "[nltk_data]    |     /root/nltk_data...\n",
            "[nltk_data]    |   Unzipping corpora/sentence_polarity.zip.\n",
            "[nltk_data]    | Downloading package sentiwordnet to\n",
            "[nltk_data]    |     /root/nltk_data...\n",
            "[nltk_data]    |   Unzipping corpora/sentiwordnet.zip.\n",
            "[nltk_data]    | Downloading package shakespeare to /root/nltk_data...\n",
            "[nltk_data]    |   Unzipping corpora/shakespeare.zip.\n",
            "[nltk_data]    | Downloading package sinica_treebank to\n",
            "[nltk_data]    |     /root/nltk_data...\n",
            "[nltk_data]    |   Unzipping corpora/sinica_treebank.zip.\n",
            "[nltk_data]    | Downloading package smultron to /root/nltk_data...\n",
            "[nltk_data]    |   Unzipping corpora/smultron.zip.\n",
            "[nltk_data]    | Downloading package snowball_data to\n",
            "[nltk_data]    |     /root/nltk_data...\n",
            "[nltk_data]    | Downloading package spanish_grammars to\n",
            "[nltk_data]    |     /root/nltk_data...\n",
            "[nltk_data]    |   Unzipping grammars/spanish_grammars.zip.\n",
            "[nltk_data]    | Downloading package state_union to /root/nltk_data...\n",
            "[nltk_data]    |   Unzipping corpora/state_union.zip.\n",
            "[nltk_data]    | Downloading package stopwords to /root/nltk_data...\n",
            "[nltk_data]    |   Unzipping corpora/stopwords.zip.\n",
            "[nltk_data]    | Downloading package subjectivity to\n",
            "[nltk_data]    |     /root/nltk_data...\n",
            "[nltk_data]    |   Unzipping corpora/subjectivity.zip.\n",
            "[nltk_data]    | Downloading package swadesh to /root/nltk_data...\n",
            "[nltk_data]    |   Unzipping corpora/swadesh.zip.\n",
            "[nltk_data]    | Downloading package switchboard to /root/nltk_data...\n",
            "[nltk_data]    |   Unzipping corpora/switchboard.zip.\n",
            "[nltk_data]    | Downloading package tagsets to /root/nltk_data...\n",
            "[nltk_data]    |   Unzipping help/tagsets.zip.\n",
            "[nltk_data]    | Downloading package timit to /root/nltk_data...\n",
            "[nltk_data]    |   Unzipping corpora/timit.zip.\n",
            "[nltk_data]    | Downloading package toolbox to /root/nltk_data...\n",
            "[nltk_data]    |   Unzipping corpora/toolbox.zip.\n",
            "[nltk_data]    | Downloading package treebank to /root/nltk_data...\n",
            "[nltk_data]    |   Unzipping corpora/treebank.zip.\n",
            "[nltk_data]    | Downloading package twitter_samples to\n",
            "[nltk_data]    |     /root/nltk_data...\n",
            "[nltk_data]    |   Unzipping corpora/twitter_samples.zip.\n",
            "[nltk_data]    | Downloading package udhr to /root/nltk_data...\n",
            "[nltk_data]    |   Unzipping corpora/udhr.zip.\n",
            "[nltk_data]    | Downloading package udhr2 to /root/nltk_data...\n",
            "[nltk_data]    |   Unzipping corpora/udhr2.zip.\n",
            "[nltk_data]    | Downloading package unicode_samples to\n",
            "[nltk_data]    |     /root/nltk_data...\n",
            "[nltk_data]    |   Unzipping corpora/unicode_samples.zip.\n",
            "[nltk_data]    | Downloading package universal_tagset to\n",
            "[nltk_data]    |     /root/nltk_data...\n",
            "[nltk_data]    |   Unzipping taggers/universal_tagset.zip.\n",
            "[nltk_data]    | Downloading package universal_treebanks_v20 to\n",
            "[nltk_data]    |     /root/nltk_data...\n",
            "[nltk_data]    | Downloading package vader_lexicon to\n",
            "[nltk_data]    |     /root/nltk_data...\n",
            "[nltk_data]    | Downloading package verbnet to /root/nltk_data...\n",
            "[nltk_data]    |   Unzipping corpora/verbnet.zip.\n",
            "[nltk_data]    | Downloading package verbnet3 to /root/nltk_data...\n",
            "[nltk_data]    |   Unzipping corpora/verbnet3.zip.\n",
            "[nltk_data]    | Downloading package webtext to /root/nltk_data...\n",
            "[nltk_data]    |   Unzipping corpora/webtext.zip.\n",
            "[nltk_data]    | Downloading package wmt15_eval to /root/nltk_data...\n",
            "[nltk_data]    |   Unzipping models/wmt15_eval.zip.\n",
            "[nltk_data]    | Downloading package word2vec_sample to\n",
            "[nltk_data]    |     /root/nltk_data...\n",
            "[nltk_data]    |   Unzipping models/word2vec_sample.zip.\n",
            "[nltk_data]    | Downloading package wordnet to /root/nltk_data...\n",
            "[nltk_data]    | Downloading package wordnet2021 to /root/nltk_data...\n",
            "[nltk_data]    | Downloading package wordnet31 to /root/nltk_data...\n",
            "[nltk_data]    | Downloading package wordnet_ic to /root/nltk_data...\n",
            "[nltk_data]    |   Unzipping corpora/wordnet_ic.zip.\n",
            "[nltk_data]    | Downloading package words to /root/nltk_data...\n",
            "[nltk_data]    |   Unzipping corpora/words.zip.\n",
            "[nltk_data]    | Downloading package ycoe to /root/nltk_data...\n",
            "[nltk_data]    |   Unzipping corpora/ycoe.zip.\n",
            "[nltk_data]    | \n",
            "[nltk_data]  Done downloading collection all\n"
          ]
        }
      ]
    },
    {
      "cell_type": "code",
      "source": [
        "# Adicionar mais palavras ao stopwords criado, verificando se já existe\n",
        "new_stopwords = ['br', 'pág', 'listView', 'https', 'http', \n",
        "                 'numbr','numbrª', 'ª', 'nº']\n",
        "print(len(stopwords))\n",
        "for word in new_stopwords:\n",
        "  if word not in stopwords:\n",
        "    stopwords.append(word)\n",
        "print(len(stopwords))"
      ],
      "metadata": {
        "colab": {
          "base_uri": "https://localhost:8080/"
        },
        "id": "5V3wH56lMglw",
        "outputId": "69eea16b-acfb-4d87-f1fd-5b62382a0ca4"
      },
      "execution_count": 6,
      "outputs": [
        {
          "output_type": "stream",
          "name": "stdout",
          "text": [
            "207\n",
            "216\n"
          ]
        }
      ]
    },
    {
      "cell_type": "code",
      "source": [
        "def transforma_dataframe(lista_arquivos, classe):\n",
        "  lista_strings = []\n",
        "  for peticao in lista_arquivos:\n",
        "    with open(peticao, \"rb\") as f:\n",
        "      pdf = pdftotext.PDF(f)\n",
        "    lista_strings.append(\"\\n\\n\".join(pdf))\n",
        "\n",
        "  classificacao = []\n",
        "  for i in range(len(lista_arquivos)):\n",
        "    classificacao.append(classe)\n",
        "\n",
        "  df = cria_dataframe(lista_arquivos, lista_strings, classificacao)\n",
        "  return df\n",
        "\n",
        "  \n",
        "\n",
        "\n",
        "def cria_dataframe(lista_arquivos, lista_strings, classificacao):\n",
        "  dicionario_peticao = {\n",
        "    'nome_documento': lista_arquivos,\n",
        "    'conteudo_peticao': lista_strings,\n",
        "    'classificacao': classificacao,\n",
        "  }\n",
        "  df_peticao_inicial = pd.DataFrame(dicionario_peticao)\n",
        "  return df_peticao_inicial\n",
        "\n",
        "\n",
        "\n",
        "  "
      ],
      "metadata": {
        "id": "QObu0I1XM7Mm"
      },
      "execution_count": 7,
      "outputs": []
    },
    {
      "cell_type": "code",
      "source": [
        "lista_arquivos = []\n",
        "for arquivo in glob.glob(r'/content/drive/MyDrive/predicao_classe/APOSENT-ESPECIAL/*pdf'):\n",
        "  if arquivo not in lista_arquivos:\n",
        "    lista_arquivos.append(arquivo)\n",
        "\n",
        "df_aposentadoria_especial = transforma_dataframe(lista_arquivos, \"aposentadoria_especial\")"
      ],
      "metadata": {
        "id": "bHujmaeqNy0P"
      },
      "execution_count": 8,
      "outputs": []
    },
    {
      "cell_type": "code",
      "source": [
        "lista_arquivos = []\n",
        "for arquivo in glob.glob(r'/content/drive/MyDrive/predicao_classe/AUXILIO-DOENCA-PREVIDENCIARIO/*pdf'):\n",
        "  if arquivo not in lista_arquivos:\n",
        "    lista_arquivos.append(arquivo)\n",
        "\n",
        "df_auxilio_doenca_previdenciario = transforma_dataframe(lista_arquivos, \"auxilio_doenca_previdenciario\")"
      ],
      "metadata": {
        "id": "h9v2uGnKPpzH"
      },
      "execution_count": 9,
      "outputs": []
    },
    {
      "cell_type": "code",
      "source": [
        "lista_arquivos = []\n",
        "for arquivo in glob.glob(r'/content/drive/MyDrive/predicao_classe/AUXILIO-EMERGENCIAL/*pdf'):\n",
        "  if arquivo not in lista_arquivos:\n",
        "    lista_arquivos.append(arquivo)\n",
        "\n",
        "df_auxilio_emergencial = transforma_dataframe(lista_arquivos, \"auxilio_emergencial\")"
      ],
      "metadata": {
        "id": "y6Rw27MyP-eo"
      },
      "execution_count": 10,
      "outputs": []
    },
    {
      "cell_type": "code",
      "source": [
        "lista_arquivos = []\n",
        "for arquivo in glob.glob(r'/content/drive/MyDrive/predicao_classe/BENEFICIO-DEFICIENTE/*pdf'):\n",
        "  if arquivo not in lista_arquivos:\n",
        "    lista_arquivos.append(arquivo)\n",
        "\n",
        "df_beneficio_deficiente = transforma_dataframe(lista_arquivos, \"beneficio_deficiente\")"
      ],
      "metadata": {
        "id": "2CxdSzPdRPR2"
      },
      "execution_count": 11,
      "outputs": []
    },
    {
      "cell_type": "code",
      "source": [
        "lista_arquivos = []\n",
        "for arquivo in glob.glob(r'/content/drive/MyDrive/predicao_classe/PENSAO-MORTE/*pdf'):\n",
        "  if arquivo not in lista_arquivos:\n",
        "    lista_arquivos.append(arquivo)\n",
        "\n",
        "df_pensao_morte = transforma_dataframe(lista_arquivos, \"pensao_morte\")"
      ],
      "metadata": {
        "id": "57ub2gIDRPZO"
      },
      "execution_count": 12,
      "outputs": []
    },
    {
      "cell_type": "code",
      "source": [
        "# lista_arquivos = []\n",
        "# for arquivo in glob.glob(r'/content/drive/MyDrive/predicao_classe/APOSENT-INVALID/*pdf'):\n",
        "#   if arquivo not in lista_arquivos:\n",
        "#     lista_arquivos.append(arquivo)\n",
        "\n",
        "# df_aposentadoria_invalidez = transforma_dataframe(lista_arquivos, \"aposentadoria_invalidez\")"
      ],
      "metadata": {
        "id": "qKZHzWQVdRi9"
      },
      "execution_count": 13,
      "outputs": []
    },
    {
      "cell_type": "code",
      "source": [
        "# lista_arquivos = []\n",
        "# for arquivo in glob.glob(r'/content/drive/MyDrive/predicao_classe/APOSENT-RURAL/*pdf'):\n",
        "#   if arquivo not in lista_arquivos:\n",
        "#     lista_arquivos.append(arquivo)\n",
        "\n",
        "# df_aposentadoria_rural = transforma_dataframe(lista_arquivos, \"aposentadoria_rural\")"
      ],
      "metadata": {
        "id": "3hujlWZhelUB"
      },
      "execution_count": 14,
      "outputs": []
    },
    {
      "cell_type": "code",
      "source": [
        "# lista_arquivos = []\n",
        "# for arquivo in glob.glob(r'/content/drive/MyDrive/predicao_classe/APOSENT-URBAN/*pdf'):\n",
        "#   if arquivo not in lista_arquivos:\n",
        "#     lista_arquivos.append(arquivo)\n",
        "\n",
        "# df_aposentadoria_Urbana = transforma_dataframe(lista_arquivos, \"aposentadoria_urbana\")"
      ],
      "metadata": {
        "id": "5HtU_wFNd0Sx"
      },
      "execution_count": 15,
      "outputs": []
    },
    {
      "cell_type": "code",
      "source": [
        "# lista_arquivos = []\n",
        "# for arquivo in glob.glob(r'/content/drive/MyDrive/predicao_classe/AUXILIO-DOENCA/*pdf'):\n",
        "#   if arquivo not in lista_arquivos:\n",
        "#     lista_arquivos.append(arquivo)\n",
        "\n",
        "# df_auxilio_doenca = transforma_dataframe(lista_arquivos, \"auxilio_doenca\")"
      ],
      "metadata": {
        "id": "hq-DlDsnfRgF"
      },
      "execution_count": 16,
      "outputs": []
    },
    {
      "cell_type": "code",
      "source": [
        "# Concatenando os dataframes\n",
        "df_peticoes_iniciais = pd.concat([df_aposentadoria_especial[:18], \n",
        "                                  df_auxilio_doenca_previdenciario[:18], \n",
        "                                  df_auxilio_emergencial[:18],\n",
        "                                  df_beneficio_deficiente[:18], df_pensao_morte[:18]\n",
        "                                  ], ignore_index=True)"
      ],
      "metadata": {
        "id": "RKsC6kXwfpNk"
      },
      "execution_count": 17,
      "outputs": []
    },
    {
      "cell_type": "code",
      "source": [
        "df_peticoes_iniciais.head()"
      ],
      "metadata": {
        "id": "Uy8Ngn65gbEI",
        "outputId": "50c37cf8-b47c-49de-fbe3-d53c8305d66b",
        "colab": {
          "base_uri": "https://localhost:8080/",
          "height": 206
        }
      },
      "execution_count": 18,
      "outputs": [
        {
          "output_type": "execute_result",
          "data": {
            "text/plain": [
              "                                      nome_documento  \\\n",
              "0  /content/drive/MyDrive/predicao_classe/APOSENT...   \n",
              "1  /content/drive/MyDrive/predicao_classe/APOSENT...   \n",
              "2  /content/drive/MyDrive/predicao_classe/APOSENT...   \n",
              "3  /content/drive/MyDrive/predicao_classe/APOSENT...   \n",
              "4  /content/drive/MyDrive/predicao_classe/APOSENT...   \n",
              "\n",
              "                                    conteudo_peticao           classificacao  \n",
              "0  EXCELENTÍSSIMO SENHOR DOUTOR JUIZ FEDER AL DO ...  aposentadoria_especial  \n",
              "1  EXCELENTISSIMO (A) SENHOR (A) DOUTOR (A) JUIZ ...  aposentadoria_especial  \n",
              "2  EXCELENTÍSSIMO(A)           SENHOR(A)        D...  aposentadoria_especial  \n",
              "3  EXCELENTÍSSIMO (A) SENHOR (A) DOUTOR (A) JUIZ ...  aposentadoria_especial  \n",
              "4  EXCELENTÍSSIMO SENHOR DOUTOR JUIZ FEDERAL DA _...  aposentadoria_especial  "
            ],
            "text/html": [
              "\n",
              "  <div id=\"df-e2e72688-f3cc-4363-933b-15c37bee4923\">\n",
              "    <div class=\"colab-df-container\">\n",
              "      <div>\n",
              "<style scoped>\n",
              "    .dataframe tbody tr th:only-of-type {\n",
              "        vertical-align: middle;\n",
              "    }\n",
              "\n",
              "    .dataframe tbody tr th {\n",
              "        vertical-align: top;\n",
              "    }\n",
              "\n",
              "    .dataframe thead th {\n",
              "        text-align: right;\n",
              "    }\n",
              "</style>\n",
              "<table border=\"1\" class=\"dataframe\">\n",
              "  <thead>\n",
              "    <tr style=\"text-align: right;\">\n",
              "      <th></th>\n",
              "      <th>nome_documento</th>\n",
              "      <th>conteudo_peticao</th>\n",
              "      <th>classificacao</th>\n",
              "    </tr>\n",
              "  </thead>\n",
              "  <tbody>\n",
              "    <tr>\n",
              "      <th>0</th>\n",
              "      <td>/content/drive/MyDrive/predicao_classe/APOSENT...</td>\n",
              "      <td>EXCELENTÍSSIMO SENHOR DOUTOR JUIZ FEDER AL DO ...</td>\n",
              "      <td>aposentadoria_especial</td>\n",
              "    </tr>\n",
              "    <tr>\n",
              "      <th>1</th>\n",
              "      <td>/content/drive/MyDrive/predicao_classe/APOSENT...</td>\n",
              "      <td>EXCELENTISSIMO (A) SENHOR (A) DOUTOR (A) JUIZ ...</td>\n",
              "      <td>aposentadoria_especial</td>\n",
              "    </tr>\n",
              "    <tr>\n",
              "      <th>2</th>\n",
              "      <td>/content/drive/MyDrive/predicao_classe/APOSENT...</td>\n",
              "      <td>EXCELENTÍSSIMO(A)           SENHOR(A)        D...</td>\n",
              "      <td>aposentadoria_especial</td>\n",
              "    </tr>\n",
              "    <tr>\n",
              "      <th>3</th>\n",
              "      <td>/content/drive/MyDrive/predicao_classe/APOSENT...</td>\n",
              "      <td>EXCELENTÍSSIMO (A) SENHOR (A) DOUTOR (A) JUIZ ...</td>\n",
              "      <td>aposentadoria_especial</td>\n",
              "    </tr>\n",
              "    <tr>\n",
              "      <th>4</th>\n",
              "      <td>/content/drive/MyDrive/predicao_classe/APOSENT...</td>\n",
              "      <td>EXCELENTÍSSIMO SENHOR DOUTOR JUIZ FEDERAL DA _...</td>\n",
              "      <td>aposentadoria_especial</td>\n",
              "    </tr>\n",
              "  </tbody>\n",
              "</table>\n",
              "</div>\n",
              "      <button class=\"colab-df-convert\" onclick=\"convertToInteractive('df-e2e72688-f3cc-4363-933b-15c37bee4923')\"\n",
              "              title=\"Convert this dataframe to an interactive table.\"\n",
              "              style=\"display:none;\">\n",
              "        \n",
              "  <svg xmlns=\"http://www.w3.org/2000/svg\" height=\"24px\"viewBox=\"0 0 24 24\"\n",
              "       width=\"24px\">\n",
              "    <path d=\"M0 0h24v24H0V0z\" fill=\"none\"/>\n",
              "    <path d=\"M18.56 5.44l.94 2.06.94-2.06 2.06-.94-2.06-.94-.94-2.06-.94 2.06-2.06.94zm-11 1L8.5 8.5l.94-2.06 2.06-.94-2.06-.94L8.5 2.5l-.94 2.06-2.06.94zm10 10l.94 2.06.94-2.06 2.06-.94-2.06-.94-.94-2.06-.94 2.06-2.06.94z\"/><path d=\"M17.41 7.96l-1.37-1.37c-.4-.4-.92-.59-1.43-.59-.52 0-1.04.2-1.43.59L10.3 9.45l-7.72 7.72c-.78.78-.78 2.05 0 2.83L4 21.41c.39.39.9.59 1.41.59.51 0 1.02-.2 1.41-.59l7.78-7.78 2.81-2.81c.8-.78.8-2.07 0-2.86zM5.41 20L4 18.59l7.72-7.72 1.47 1.35L5.41 20z\"/>\n",
              "  </svg>\n",
              "      </button>\n",
              "      \n",
              "  <style>\n",
              "    .colab-df-container {\n",
              "      display:flex;\n",
              "      flex-wrap:wrap;\n",
              "      gap: 12px;\n",
              "    }\n",
              "\n",
              "    .colab-df-convert {\n",
              "      background-color: #E8F0FE;\n",
              "      border: none;\n",
              "      border-radius: 50%;\n",
              "      cursor: pointer;\n",
              "      display: none;\n",
              "      fill: #1967D2;\n",
              "      height: 32px;\n",
              "      padding: 0 0 0 0;\n",
              "      width: 32px;\n",
              "    }\n",
              "\n",
              "    .colab-df-convert:hover {\n",
              "      background-color: #E2EBFA;\n",
              "      box-shadow: 0px 1px 2px rgba(60, 64, 67, 0.3), 0px 1px 3px 1px rgba(60, 64, 67, 0.15);\n",
              "      fill: #174EA6;\n",
              "    }\n",
              "\n",
              "    [theme=dark] .colab-df-convert {\n",
              "      background-color: #3B4455;\n",
              "      fill: #D2E3FC;\n",
              "    }\n",
              "\n",
              "    [theme=dark] .colab-df-convert:hover {\n",
              "      background-color: #434B5C;\n",
              "      box-shadow: 0px 1px 3px 1px rgba(0, 0, 0, 0.15);\n",
              "      filter: drop-shadow(0px 1px 2px rgba(0, 0, 0, 0.3));\n",
              "      fill: #FFFFFF;\n",
              "    }\n",
              "  </style>\n",
              "\n",
              "      <script>\n",
              "        const buttonEl =\n",
              "          document.querySelector('#df-e2e72688-f3cc-4363-933b-15c37bee4923 button.colab-df-convert');\n",
              "        buttonEl.style.display =\n",
              "          google.colab.kernel.accessAllowed ? 'block' : 'none';\n",
              "\n",
              "        async function convertToInteractive(key) {\n",
              "          const element = document.querySelector('#df-e2e72688-f3cc-4363-933b-15c37bee4923');\n",
              "          const dataTable =\n",
              "            await google.colab.kernel.invokeFunction('convertToInteractive',\n",
              "                                                     [key], {});\n",
              "          if (!dataTable) return;\n",
              "\n",
              "          const docLinkHtml = 'Like what you see? Visit the ' +\n",
              "            '<a target=\"_blank\" href=https://colab.research.google.com/notebooks/data_table.ipynb>data table notebook</a>'\n",
              "            + ' to learn more about interactive tables.';\n",
              "          element.innerHTML = '';\n",
              "          dataTable['output_type'] = 'display_data';\n",
              "          await google.colab.output.renderOutput(dataTable, element);\n",
              "          const docLink = document.createElement('div');\n",
              "          docLink.innerHTML = docLinkHtml;\n",
              "          element.appendChild(docLink);\n",
              "        }\n",
              "      </script>\n",
              "    </div>\n",
              "  </div>\n",
              "  "
            ]
          },
          "metadata": {},
          "execution_count": 18
        }
      ]
    },
    {
      "cell_type": "code",
      "source": [
        "df_peticoes_iniciais['conteudo_peticao'].filter(items=[78], axis=0)"
      ],
      "metadata": {
        "colab": {
          "base_uri": "https://localhost:8080/"
        },
        "id": "dXslcDUQgk27",
        "outputId": "645acff8-9632-4ab1-dfa3-dfd3fc8fc4f3"
      },
      "execution_count": 19,
      "outputs": [
        {
          "output_type": "execute_result",
          "data": {
            "text/plain": [
              "78    EXCELENTÍSSIMO (A) SENHOR (A) DOUTOR (A) JUIZ ...\n",
              "Name: conteudo_peticao, dtype: object"
            ]
          },
          "metadata": {},
          "execution_count": 19
        }
      ]
    },
    {
      "cell_type": "markdown",
      "source": [
        "# **PLN**: Pré-processamento"
      ],
      "metadata": {
        "id": "_uORsMJSxOLp"
      }
    },
    {
      "cell_type": "code",
      "source": [
        "df_peticoes_iniciais.head()"
      ],
      "metadata": {
        "outputId": "4d817ec8-2268-4cb4-b662-04bc477c1b73",
        "colab": {
          "base_uri": "https://localhost:8080/",
          "height": 206
        },
        "id": "IxnawSRufkU9"
      },
      "execution_count": 20,
      "outputs": [
        {
          "output_type": "execute_result",
          "data": {
            "text/plain": [
              "                                      nome_documento  \\\n",
              "0  /content/drive/MyDrive/predicao_classe/APOSENT...   \n",
              "1  /content/drive/MyDrive/predicao_classe/APOSENT...   \n",
              "2  /content/drive/MyDrive/predicao_classe/APOSENT...   \n",
              "3  /content/drive/MyDrive/predicao_classe/APOSENT...   \n",
              "4  /content/drive/MyDrive/predicao_classe/APOSENT...   \n",
              "\n",
              "                                    conteudo_peticao           classificacao  \n",
              "0  EXCELENTÍSSIMO SENHOR DOUTOR JUIZ FEDER AL DO ...  aposentadoria_especial  \n",
              "1  EXCELENTISSIMO (A) SENHOR (A) DOUTOR (A) JUIZ ...  aposentadoria_especial  \n",
              "2  EXCELENTÍSSIMO(A)           SENHOR(A)        D...  aposentadoria_especial  \n",
              "3  EXCELENTÍSSIMO (A) SENHOR (A) DOUTOR (A) JUIZ ...  aposentadoria_especial  \n",
              "4  EXCELENTÍSSIMO SENHOR DOUTOR JUIZ FEDERAL DA _...  aposentadoria_especial  "
            ],
            "text/html": [
              "\n",
              "  <div id=\"df-d5e0a4a8-7598-4b68-89af-238ddfdb6864\">\n",
              "    <div class=\"colab-df-container\">\n",
              "      <div>\n",
              "<style scoped>\n",
              "    .dataframe tbody tr th:only-of-type {\n",
              "        vertical-align: middle;\n",
              "    }\n",
              "\n",
              "    .dataframe tbody tr th {\n",
              "        vertical-align: top;\n",
              "    }\n",
              "\n",
              "    .dataframe thead th {\n",
              "        text-align: right;\n",
              "    }\n",
              "</style>\n",
              "<table border=\"1\" class=\"dataframe\">\n",
              "  <thead>\n",
              "    <tr style=\"text-align: right;\">\n",
              "      <th></th>\n",
              "      <th>nome_documento</th>\n",
              "      <th>conteudo_peticao</th>\n",
              "      <th>classificacao</th>\n",
              "    </tr>\n",
              "  </thead>\n",
              "  <tbody>\n",
              "    <tr>\n",
              "      <th>0</th>\n",
              "      <td>/content/drive/MyDrive/predicao_classe/APOSENT...</td>\n",
              "      <td>EXCELENTÍSSIMO SENHOR DOUTOR JUIZ FEDER AL DO ...</td>\n",
              "      <td>aposentadoria_especial</td>\n",
              "    </tr>\n",
              "    <tr>\n",
              "      <th>1</th>\n",
              "      <td>/content/drive/MyDrive/predicao_classe/APOSENT...</td>\n",
              "      <td>EXCELENTISSIMO (A) SENHOR (A) DOUTOR (A) JUIZ ...</td>\n",
              "      <td>aposentadoria_especial</td>\n",
              "    </tr>\n",
              "    <tr>\n",
              "      <th>2</th>\n",
              "      <td>/content/drive/MyDrive/predicao_classe/APOSENT...</td>\n",
              "      <td>EXCELENTÍSSIMO(A)           SENHOR(A)        D...</td>\n",
              "      <td>aposentadoria_especial</td>\n",
              "    </tr>\n",
              "    <tr>\n",
              "      <th>3</th>\n",
              "      <td>/content/drive/MyDrive/predicao_classe/APOSENT...</td>\n",
              "      <td>EXCELENTÍSSIMO (A) SENHOR (A) DOUTOR (A) JUIZ ...</td>\n",
              "      <td>aposentadoria_especial</td>\n",
              "    </tr>\n",
              "    <tr>\n",
              "      <th>4</th>\n",
              "      <td>/content/drive/MyDrive/predicao_classe/APOSENT...</td>\n",
              "      <td>EXCELENTÍSSIMO SENHOR DOUTOR JUIZ FEDERAL DA _...</td>\n",
              "      <td>aposentadoria_especial</td>\n",
              "    </tr>\n",
              "  </tbody>\n",
              "</table>\n",
              "</div>\n",
              "      <button class=\"colab-df-convert\" onclick=\"convertToInteractive('df-d5e0a4a8-7598-4b68-89af-238ddfdb6864')\"\n",
              "              title=\"Convert this dataframe to an interactive table.\"\n",
              "              style=\"display:none;\">\n",
              "        \n",
              "  <svg xmlns=\"http://www.w3.org/2000/svg\" height=\"24px\"viewBox=\"0 0 24 24\"\n",
              "       width=\"24px\">\n",
              "    <path d=\"M0 0h24v24H0V0z\" fill=\"none\"/>\n",
              "    <path d=\"M18.56 5.44l.94 2.06.94-2.06 2.06-.94-2.06-.94-.94-2.06-.94 2.06-2.06.94zm-11 1L8.5 8.5l.94-2.06 2.06-.94-2.06-.94L8.5 2.5l-.94 2.06-2.06.94zm10 10l.94 2.06.94-2.06 2.06-.94-2.06-.94-.94-2.06-.94 2.06-2.06.94z\"/><path d=\"M17.41 7.96l-1.37-1.37c-.4-.4-.92-.59-1.43-.59-.52 0-1.04.2-1.43.59L10.3 9.45l-7.72 7.72c-.78.78-.78 2.05 0 2.83L4 21.41c.39.39.9.59 1.41.59.51 0 1.02-.2 1.41-.59l7.78-7.78 2.81-2.81c.8-.78.8-2.07 0-2.86zM5.41 20L4 18.59l7.72-7.72 1.47 1.35L5.41 20z\"/>\n",
              "  </svg>\n",
              "      </button>\n",
              "      \n",
              "  <style>\n",
              "    .colab-df-container {\n",
              "      display:flex;\n",
              "      flex-wrap:wrap;\n",
              "      gap: 12px;\n",
              "    }\n",
              "\n",
              "    .colab-df-convert {\n",
              "      background-color: #E8F0FE;\n",
              "      border: none;\n",
              "      border-radius: 50%;\n",
              "      cursor: pointer;\n",
              "      display: none;\n",
              "      fill: #1967D2;\n",
              "      height: 32px;\n",
              "      padding: 0 0 0 0;\n",
              "      width: 32px;\n",
              "    }\n",
              "\n",
              "    .colab-df-convert:hover {\n",
              "      background-color: #E2EBFA;\n",
              "      box-shadow: 0px 1px 2px rgba(60, 64, 67, 0.3), 0px 1px 3px 1px rgba(60, 64, 67, 0.15);\n",
              "      fill: #174EA6;\n",
              "    }\n",
              "\n",
              "    [theme=dark] .colab-df-convert {\n",
              "      background-color: #3B4455;\n",
              "      fill: #D2E3FC;\n",
              "    }\n",
              "\n",
              "    [theme=dark] .colab-df-convert:hover {\n",
              "      background-color: #434B5C;\n",
              "      box-shadow: 0px 1px 3px 1px rgba(0, 0, 0, 0.15);\n",
              "      filter: drop-shadow(0px 1px 2px rgba(0, 0, 0, 0.3));\n",
              "      fill: #FFFFFF;\n",
              "    }\n",
              "  </style>\n",
              "\n",
              "      <script>\n",
              "        const buttonEl =\n",
              "          document.querySelector('#df-d5e0a4a8-7598-4b68-89af-238ddfdb6864 button.colab-df-convert');\n",
              "        buttonEl.style.display =\n",
              "          google.colab.kernel.accessAllowed ? 'block' : 'none';\n",
              "\n",
              "        async function convertToInteractive(key) {\n",
              "          const element = document.querySelector('#df-d5e0a4a8-7598-4b68-89af-238ddfdb6864');\n",
              "          const dataTable =\n",
              "            await google.colab.kernel.invokeFunction('convertToInteractive',\n",
              "                                                     [key], {});\n",
              "          if (!dataTable) return;\n",
              "\n",
              "          const docLinkHtml = 'Like what you see? Visit the ' +\n",
              "            '<a target=\"_blank\" href=https://colab.research.google.com/notebooks/data_table.ipynb>data table notebook</a>'\n",
              "            + ' to learn more about interactive tables.';\n",
              "          element.innerHTML = '';\n",
              "          dataTable['output_type'] = 'display_data';\n",
              "          await google.colab.output.renderOutput(dataTable, element);\n",
              "          const docLink = document.createElement('div');\n",
              "          docLink.innerHTML = docLinkHtml;\n",
              "          element.appendChild(docLink);\n",
              "        }\n",
              "      </script>\n",
              "    </div>\n",
              "  </div>\n",
              "  "
            ]
          },
          "metadata": {},
          "execution_count": 20
        }
      ]
    },
    {
      "cell_type": "code",
      "source": [
        "# Verificando a distribuição de classe\n",
        "\n",
        "print(df_peticoes_iniciais['classificacao'].value_counts())"
      ],
      "metadata": {
        "colab": {
          "base_uri": "https://localhost:8080/"
        },
        "id": "KZmvBR_U71-c",
        "outputId": "b761b703-3919-4e66-b269-a89292e82a24"
      },
      "execution_count": 21,
      "outputs": [
        {
          "output_type": "stream",
          "name": "stdout",
          "text": [
            "aposentadoria_especial           18\n",
            "auxilio_doenca_previdenciario    18\n",
            "auxilio_emergencial              18\n",
            "beneficio_deficiente             18\n",
            "pensao_morte                     18\n",
            "Name: classificacao, dtype: int64\n"
          ]
        }
      ]
    },
    {
      "cell_type": "code",
      "source": [
        "classificacao_peticoes = df_peticoes_iniciais['classificacao'].unique()\n",
        "\n",
        "classificacao_peticoes_dicionario = {}\n",
        "var = 0\n",
        "for tipo_peticao in classificacao_peticoes:\n",
        "  classificacao_peticoes_dicionario[tipo_peticao] = var\n",
        "  var +=1\n",
        "\n",
        "\n",
        "df_peticoes_iniciais['label_num'] = df_peticoes_iniciais['classificacao'].map(\n",
        "    classificacao_peticoes_dicionario\n",
        ")\n",
        "\n",
        "label_ordinal_encoding = df_peticoes_iniciais[['classificacao','label_num']]\n",
        "label_ordinal_encoding\n"
      ],
      "metadata": {
        "colab": {
          "base_uri": "https://localhost:8080/",
          "height": 424
        },
        "id": "5sU0EbE4gfaW",
        "outputId": "98702f10-a7bf-435c-b14b-68c7473dcbb3"
      },
      "execution_count": 22,
      "outputs": [
        {
          "output_type": "execute_result",
          "data": {
            "text/plain": [
              "             classificacao  label_num\n",
              "0   aposentadoria_especial          0\n",
              "1   aposentadoria_especial          0\n",
              "2   aposentadoria_especial          0\n",
              "3   aposentadoria_especial          0\n",
              "4   aposentadoria_especial          0\n",
              "..                     ...        ...\n",
              "85            pensao_morte          4\n",
              "86            pensao_morte          4\n",
              "87            pensao_morte          4\n",
              "88            pensao_morte          4\n",
              "89            pensao_morte          4\n",
              "\n",
              "[90 rows x 2 columns]"
            ],
            "text/html": [
              "\n",
              "  <div id=\"df-9fec04f4-909b-41cc-9054-3111119ec17c\">\n",
              "    <div class=\"colab-df-container\">\n",
              "      <div>\n",
              "<style scoped>\n",
              "    .dataframe tbody tr th:only-of-type {\n",
              "        vertical-align: middle;\n",
              "    }\n",
              "\n",
              "    .dataframe tbody tr th {\n",
              "        vertical-align: top;\n",
              "    }\n",
              "\n",
              "    .dataframe thead th {\n",
              "        text-align: right;\n",
              "    }\n",
              "</style>\n",
              "<table border=\"1\" class=\"dataframe\">\n",
              "  <thead>\n",
              "    <tr style=\"text-align: right;\">\n",
              "      <th></th>\n",
              "      <th>classificacao</th>\n",
              "      <th>label_num</th>\n",
              "    </tr>\n",
              "  </thead>\n",
              "  <tbody>\n",
              "    <tr>\n",
              "      <th>0</th>\n",
              "      <td>aposentadoria_especial</td>\n",
              "      <td>0</td>\n",
              "    </tr>\n",
              "    <tr>\n",
              "      <th>1</th>\n",
              "      <td>aposentadoria_especial</td>\n",
              "      <td>0</td>\n",
              "    </tr>\n",
              "    <tr>\n",
              "      <th>2</th>\n",
              "      <td>aposentadoria_especial</td>\n",
              "      <td>0</td>\n",
              "    </tr>\n",
              "    <tr>\n",
              "      <th>3</th>\n",
              "      <td>aposentadoria_especial</td>\n",
              "      <td>0</td>\n",
              "    </tr>\n",
              "    <tr>\n",
              "      <th>4</th>\n",
              "      <td>aposentadoria_especial</td>\n",
              "      <td>0</td>\n",
              "    </tr>\n",
              "    <tr>\n",
              "      <th>...</th>\n",
              "      <td>...</td>\n",
              "      <td>...</td>\n",
              "    </tr>\n",
              "    <tr>\n",
              "      <th>85</th>\n",
              "      <td>pensao_morte</td>\n",
              "      <td>4</td>\n",
              "    </tr>\n",
              "    <tr>\n",
              "      <th>86</th>\n",
              "      <td>pensao_morte</td>\n",
              "      <td>4</td>\n",
              "    </tr>\n",
              "    <tr>\n",
              "      <th>87</th>\n",
              "      <td>pensao_morte</td>\n",
              "      <td>4</td>\n",
              "    </tr>\n",
              "    <tr>\n",
              "      <th>88</th>\n",
              "      <td>pensao_morte</td>\n",
              "      <td>4</td>\n",
              "    </tr>\n",
              "    <tr>\n",
              "      <th>89</th>\n",
              "      <td>pensao_morte</td>\n",
              "      <td>4</td>\n",
              "    </tr>\n",
              "  </tbody>\n",
              "</table>\n",
              "<p>90 rows × 2 columns</p>\n",
              "</div>\n",
              "      <button class=\"colab-df-convert\" onclick=\"convertToInteractive('df-9fec04f4-909b-41cc-9054-3111119ec17c')\"\n",
              "              title=\"Convert this dataframe to an interactive table.\"\n",
              "              style=\"display:none;\">\n",
              "        \n",
              "  <svg xmlns=\"http://www.w3.org/2000/svg\" height=\"24px\"viewBox=\"0 0 24 24\"\n",
              "       width=\"24px\">\n",
              "    <path d=\"M0 0h24v24H0V0z\" fill=\"none\"/>\n",
              "    <path d=\"M18.56 5.44l.94 2.06.94-2.06 2.06-.94-2.06-.94-.94-2.06-.94 2.06-2.06.94zm-11 1L8.5 8.5l.94-2.06 2.06-.94-2.06-.94L8.5 2.5l-.94 2.06-2.06.94zm10 10l.94 2.06.94-2.06 2.06-.94-2.06-.94-.94-2.06-.94 2.06-2.06.94z\"/><path d=\"M17.41 7.96l-1.37-1.37c-.4-.4-.92-.59-1.43-.59-.52 0-1.04.2-1.43.59L10.3 9.45l-7.72 7.72c-.78.78-.78 2.05 0 2.83L4 21.41c.39.39.9.59 1.41.59.51 0 1.02-.2 1.41-.59l7.78-7.78 2.81-2.81c.8-.78.8-2.07 0-2.86zM5.41 20L4 18.59l7.72-7.72 1.47 1.35L5.41 20z\"/>\n",
              "  </svg>\n",
              "      </button>\n",
              "      \n",
              "  <style>\n",
              "    .colab-df-container {\n",
              "      display:flex;\n",
              "      flex-wrap:wrap;\n",
              "      gap: 12px;\n",
              "    }\n",
              "\n",
              "    .colab-df-convert {\n",
              "      background-color: #E8F0FE;\n",
              "      border: none;\n",
              "      border-radius: 50%;\n",
              "      cursor: pointer;\n",
              "      display: none;\n",
              "      fill: #1967D2;\n",
              "      height: 32px;\n",
              "      padding: 0 0 0 0;\n",
              "      width: 32px;\n",
              "    }\n",
              "\n",
              "    .colab-df-convert:hover {\n",
              "      background-color: #E2EBFA;\n",
              "      box-shadow: 0px 1px 2px rgba(60, 64, 67, 0.3), 0px 1px 3px 1px rgba(60, 64, 67, 0.15);\n",
              "      fill: #174EA6;\n",
              "    }\n",
              "\n",
              "    [theme=dark] .colab-df-convert {\n",
              "      background-color: #3B4455;\n",
              "      fill: #D2E3FC;\n",
              "    }\n",
              "\n",
              "    [theme=dark] .colab-df-convert:hover {\n",
              "      background-color: #434B5C;\n",
              "      box-shadow: 0px 1px 3px 1px rgba(0, 0, 0, 0.15);\n",
              "      filter: drop-shadow(0px 1px 2px rgba(0, 0, 0, 0.3));\n",
              "      fill: #FFFFFF;\n",
              "    }\n",
              "  </style>\n",
              "\n",
              "      <script>\n",
              "        const buttonEl =\n",
              "          document.querySelector('#df-9fec04f4-909b-41cc-9054-3111119ec17c button.colab-df-convert');\n",
              "        buttonEl.style.display =\n",
              "          google.colab.kernel.accessAllowed ? 'block' : 'none';\n",
              "\n",
              "        async function convertToInteractive(key) {\n",
              "          const element = document.querySelector('#df-9fec04f4-909b-41cc-9054-3111119ec17c');\n",
              "          const dataTable =\n",
              "            await google.colab.kernel.invokeFunction('convertToInteractive',\n",
              "                                                     [key], {});\n",
              "          if (!dataTable) return;\n",
              "\n",
              "          const docLinkHtml = 'Like what you see? Visit the ' +\n",
              "            '<a target=\"_blank\" href=https://colab.research.google.com/notebooks/data_table.ipynb>data table notebook</a>'\n",
              "            + ' to learn more about interactive tables.';\n",
              "          element.innerHTML = '';\n",
              "          dataTable['output_type'] = 'display_data';\n",
              "          await google.colab.output.renderOutput(dataTable, element);\n",
              "          const docLink = document.createElement('div');\n",
              "          docLink.innerHTML = docLinkHtml;\n",
              "          element.appendChild(docLink);\n",
              "        }\n",
              "      </script>\n",
              "    </div>\n",
              "  </div>\n",
              "  "
            ]
          },
          "metadata": {},
          "execution_count": 22
        }
      ]
    },
    {
      "cell_type": "code",
      "source": [
        "classificacao_peticoes_dicionario"
      ],
      "metadata": {
        "colab": {
          "base_uri": "https://localhost:8080/"
        },
        "id": "ehcNfy1RdG5g",
        "outputId": "13a8b067-e06b-41ef-ce0a-73e974a8af12"
      },
      "execution_count": 23,
      "outputs": [
        {
          "output_type": "execute_result",
          "data": {
            "text/plain": [
              "{'aposentadoria_especial': 0,\n",
              " 'auxilio_doenca_previdenciario': 1,\n",
              " 'auxilio_emergencial': 2,\n",
              " 'beneficio_deficiente': 3,\n",
              " 'pensao_morte': 4}"
            ]
          },
          "metadata": {},
          "execution_count": 23
        }
      ]
    },
    {
      "cell_type": "code",
      "source": [
        "def clean_text(text):\n",
        "  text = str(text).lower()\n",
        "  text = re.sub('https?://\\S+|www\\.\\S+', 'webaddress', text) # Substitui URLs por 'webdress'\n",
        "  text = re.sub('^.+@[^\\.].*\\.[a-z]{2,}$', 'emailaddress', text) # Substitui os endereços de e-mail por 'emailaddress'\n",
        "  text = re.sub('£|\\$|R\\$', 'moneysymb', text) # Substitui os símbolos de dinheiro por 'moneysymb' \n",
        "  text = re.sub('^\\(?[\\d]{2}\\)?[\\s-]?[\\d]{3}[\\s-]?[\\d]{4}$', 'phonenumbr', text) # Substitui números de telefone de 10 dígitos (os formatos incluem parênteses, espaços, sem espaços, traços) por 'phonenumber'\n",
        "  text = re.sub('\\d+(\\.\\d+)?', '', text) # Substitua os números por 'numbr'\n",
        "  text = re.sub('_{1,}', ' ', text) #Substitua os '_' por ' '\n",
        "  text = re.sub('[^\\w\\d\\s]', ' ', text) # Remover pontuação\n",
        "  text = re.sub('\\s+', ' ', text) # Substitui o espaço em branco entre os termos por um único espaço\n",
        "  text = re.sub('^\\s+|\\s+?$', '', text) # Remova os espaços em branco iniciais e finais\n",
        "  return text\n",
        "\n",
        "def remove_stopwords(text):\n",
        "  text = ' '.join(word for word in text.split(' ') if ((word not in stopwords) and (len(word) > 2 )))  # retira stopwords e palavras com menos de 3 letras\n",
        "  return text\n",
        "\n",
        "def stemming(text):\n",
        "    palavras=[]\n",
        "    for w in text.split():\n",
        "        palavras.append(stemmer.stem(w))\n",
        "    return (\" \".join(palavras))\n",
        "\n",
        "def tokenizar(text):\n",
        "  tokenized_words = nltk.word_tokenize(text)\n",
        "  return tokenized_words "
      ],
      "metadata": {
        "id": "a32vXAOh0IMb"
      },
      "execution_count": 24,
      "outputs": []
    },
    {
      "cell_type": "code",
      "source": [
        "df_peticoes_iniciais['text_clean'] = df_peticoes_iniciais['conteudo_peticao'].apply(clean_text)\n",
        "\n",
        "\n",
        "df_peticoes_iniciais['text_clean'] = df_peticoes_iniciais['text_clean'].apply(remove_stopwords)\n"
      ],
      "metadata": {
        "id": "y087_BXE15a7"
      },
      "execution_count": 25,
      "outputs": []
    },
    {
      "cell_type": "code",
      "source": [
        "# df_peticoes_iniciais['text_tokens'] = df_peticoes_iniciais['text_clean'].apply(tokenizar)\n",
        "\n",
        "# df_peticoes_iniciais['text_tokens']\n"
      ],
      "metadata": {
        "id": "FHymKeWzV8Xz"
      },
      "execution_count": 26,
      "outputs": []
    },
    {
      "cell_type": "code",
      "source": [
        "df_peticoes_iniciais[['conteudo_peticao', 'text_clean']] "
      ],
      "metadata": {
        "colab": {
          "base_uri": "https://localhost:8080/",
          "height": 424
        },
        "id": "ID9L3Nq023yE",
        "outputId": "381b2e1e-0b52-44ab-f782-f2d7163a1eba"
      },
      "execution_count": 27,
      "outputs": [
        {
          "output_type": "execute_result",
          "data": {
            "text/plain": [
              "                                     conteudo_peticao  \\\n",
              "0   EXCELENTÍSSIMO SENHOR DOUTOR JUIZ FEDER AL DO ...   \n",
              "1   EXCELENTISSIMO (A) SENHOR (A) DOUTOR (A) JUIZ ...   \n",
              "2   EXCELENTÍSSIMO(A)           SENHOR(A)        D...   \n",
              "3   EXCELENTÍSSIMO (A) SENHOR (A) DOUTOR (A) JUIZ ...   \n",
              "4   EXCELENTÍSSIMO SENHOR DOUTOR JUIZ FEDERAL DA _...   \n",
              "..                                                ...   \n",
              "85                Justiça Federal da 5ª Região\\n  ...   \n",
              "86  EXCELENTÍSSIMO (A) SENHOR (A) DOUTOR (A) JUIZ ...   \n",
              "87  EXCELENTÍSSIMO SENHOR DOUTOR JUIZ FEDERAL DA _...   \n",
              "88  EXCELENTÍSSIMO SENHOR DOUTOR JUIZ FEDERAL DO J...   \n",
              "89  EXCELENTÍSSIMO SENHOR DOUTOR JUIZ FEDERAL DO J...   \n",
              "\n",
              "                                           text_clean  \n",
              "0   excelentíssimo senhor doutor juiz feder juizad...  \n",
              "1   excelentissimo senhor doutor juiz vara previde...  \n",
              "2   excelentíssimo senhor doutor juiz federal vara...  \n",
              "3   excelentíssimo senhor doutor juiz federal juiz...  \n",
              "4   excelentíssimo senhor doutor juiz federal vara...  \n",
              "..                                                ...  \n",
              "85  justiça federal região pje processo judicial e...  \n",
              "86  excelentíssimo senhor doutor juiz direito juiz...  \n",
              "87  excelentíssimo senhor doutor juiz federal vara...  \n",
              "88  excelentíssimo senhor doutor juiz federal juiz...  \n",
              "89  excelentíssimo senhor doutor juiz federal juiz...  \n",
              "\n",
              "[90 rows x 2 columns]"
            ],
            "text/html": [
              "\n",
              "  <div id=\"df-c91135f1-8ec9-4231-af31-2634be42efb9\">\n",
              "    <div class=\"colab-df-container\">\n",
              "      <div>\n",
              "<style scoped>\n",
              "    .dataframe tbody tr th:only-of-type {\n",
              "        vertical-align: middle;\n",
              "    }\n",
              "\n",
              "    .dataframe tbody tr th {\n",
              "        vertical-align: top;\n",
              "    }\n",
              "\n",
              "    .dataframe thead th {\n",
              "        text-align: right;\n",
              "    }\n",
              "</style>\n",
              "<table border=\"1\" class=\"dataframe\">\n",
              "  <thead>\n",
              "    <tr style=\"text-align: right;\">\n",
              "      <th></th>\n",
              "      <th>conteudo_peticao</th>\n",
              "      <th>text_clean</th>\n",
              "    </tr>\n",
              "  </thead>\n",
              "  <tbody>\n",
              "    <tr>\n",
              "      <th>0</th>\n",
              "      <td>EXCELENTÍSSIMO SENHOR DOUTOR JUIZ FEDER AL DO ...</td>\n",
              "      <td>excelentíssimo senhor doutor juiz feder juizad...</td>\n",
              "    </tr>\n",
              "    <tr>\n",
              "      <th>1</th>\n",
              "      <td>EXCELENTISSIMO (A) SENHOR (A) DOUTOR (A) JUIZ ...</td>\n",
              "      <td>excelentissimo senhor doutor juiz vara previde...</td>\n",
              "    </tr>\n",
              "    <tr>\n",
              "      <th>2</th>\n",
              "      <td>EXCELENTÍSSIMO(A)           SENHOR(A)        D...</td>\n",
              "      <td>excelentíssimo senhor doutor juiz federal vara...</td>\n",
              "    </tr>\n",
              "    <tr>\n",
              "      <th>3</th>\n",
              "      <td>EXCELENTÍSSIMO (A) SENHOR (A) DOUTOR (A) JUIZ ...</td>\n",
              "      <td>excelentíssimo senhor doutor juiz federal juiz...</td>\n",
              "    </tr>\n",
              "    <tr>\n",
              "      <th>4</th>\n",
              "      <td>EXCELENTÍSSIMO SENHOR DOUTOR JUIZ FEDERAL DA _...</td>\n",
              "      <td>excelentíssimo senhor doutor juiz federal vara...</td>\n",
              "    </tr>\n",
              "    <tr>\n",
              "      <th>...</th>\n",
              "      <td>...</td>\n",
              "      <td>...</td>\n",
              "    </tr>\n",
              "    <tr>\n",
              "      <th>85</th>\n",
              "      <td>Justiça Federal da 5ª Região\\n  ...</td>\n",
              "      <td>justiça federal região pje processo judicial e...</td>\n",
              "    </tr>\n",
              "    <tr>\n",
              "      <th>86</th>\n",
              "      <td>EXCELENTÍSSIMO (A) SENHOR (A) DOUTOR (A) JUIZ ...</td>\n",
              "      <td>excelentíssimo senhor doutor juiz direito juiz...</td>\n",
              "    </tr>\n",
              "    <tr>\n",
              "      <th>87</th>\n",
              "      <td>EXCELENTÍSSIMO SENHOR DOUTOR JUIZ FEDERAL DA _...</td>\n",
              "      <td>excelentíssimo senhor doutor juiz federal vara...</td>\n",
              "    </tr>\n",
              "    <tr>\n",
              "      <th>88</th>\n",
              "      <td>EXCELENTÍSSIMO SENHOR DOUTOR JUIZ FEDERAL DO J...</td>\n",
              "      <td>excelentíssimo senhor doutor juiz federal juiz...</td>\n",
              "    </tr>\n",
              "    <tr>\n",
              "      <th>89</th>\n",
              "      <td>EXCELENTÍSSIMO SENHOR DOUTOR JUIZ FEDERAL DO J...</td>\n",
              "      <td>excelentíssimo senhor doutor juiz federal juiz...</td>\n",
              "    </tr>\n",
              "  </tbody>\n",
              "</table>\n",
              "<p>90 rows × 2 columns</p>\n",
              "</div>\n",
              "      <button class=\"colab-df-convert\" onclick=\"convertToInteractive('df-c91135f1-8ec9-4231-af31-2634be42efb9')\"\n",
              "              title=\"Convert this dataframe to an interactive table.\"\n",
              "              style=\"display:none;\">\n",
              "        \n",
              "  <svg xmlns=\"http://www.w3.org/2000/svg\" height=\"24px\"viewBox=\"0 0 24 24\"\n",
              "       width=\"24px\">\n",
              "    <path d=\"M0 0h24v24H0V0z\" fill=\"none\"/>\n",
              "    <path d=\"M18.56 5.44l.94 2.06.94-2.06 2.06-.94-2.06-.94-.94-2.06-.94 2.06-2.06.94zm-11 1L8.5 8.5l.94-2.06 2.06-.94-2.06-.94L8.5 2.5l-.94 2.06-2.06.94zm10 10l.94 2.06.94-2.06 2.06-.94-2.06-.94-.94-2.06-.94 2.06-2.06.94z\"/><path d=\"M17.41 7.96l-1.37-1.37c-.4-.4-.92-.59-1.43-.59-.52 0-1.04.2-1.43.59L10.3 9.45l-7.72 7.72c-.78.78-.78 2.05 0 2.83L4 21.41c.39.39.9.59 1.41.59.51 0 1.02-.2 1.41-.59l7.78-7.78 2.81-2.81c.8-.78.8-2.07 0-2.86zM5.41 20L4 18.59l7.72-7.72 1.47 1.35L5.41 20z\"/>\n",
              "  </svg>\n",
              "      </button>\n",
              "      \n",
              "  <style>\n",
              "    .colab-df-container {\n",
              "      display:flex;\n",
              "      flex-wrap:wrap;\n",
              "      gap: 12px;\n",
              "    }\n",
              "\n",
              "    .colab-df-convert {\n",
              "      background-color: #E8F0FE;\n",
              "      border: none;\n",
              "      border-radius: 50%;\n",
              "      cursor: pointer;\n",
              "      display: none;\n",
              "      fill: #1967D2;\n",
              "      height: 32px;\n",
              "      padding: 0 0 0 0;\n",
              "      width: 32px;\n",
              "    }\n",
              "\n",
              "    .colab-df-convert:hover {\n",
              "      background-color: #E2EBFA;\n",
              "      box-shadow: 0px 1px 2px rgba(60, 64, 67, 0.3), 0px 1px 3px 1px rgba(60, 64, 67, 0.15);\n",
              "      fill: #174EA6;\n",
              "    }\n",
              "\n",
              "    [theme=dark] .colab-df-convert {\n",
              "      background-color: #3B4455;\n",
              "      fill: #D2E3FC;\n",
              "    }\n",
              "\n",
              "    [theme=dark] .colab-df-convert:hover {\n",
              "      background-color: #434B5C;\n",
              "      box-shadow: 0px 1px 3px 1px rgba(0, 0, 0, 0.15);\n",
              "      filter: drop-shadow(0px 1px 2px rgba(0, 0, 0, 0.3));\n",
              "      fill: #FFFFFF;\n",
              "    }\n",
              "  </style>\n",
              "\n",
              "      <script>\n",
              "        const buttonEl =\n",
              "          document.querySelector('#df-c91135f1-8ec9-4231-af31-2634be42efb9 button.colab-df-convert');\n",
              "        buttonEl.style.display =\n",
              "          google.colab.kernel.accessAllowed ? 'block' : 'none';\n",
              "\n",
              "        async function convertToInteractive(key) {\n",
              "          const element = document.querySelector('#df-c91135f1-8ec9-4231-af31-2634be42efb9');\n",
              "          const dataTable =\n",
              "            await google.colab.kernel.invokeFunction('convertToInteractive',\n",
              "                                                     [key], {});\n",
              "          if (!dataTable) return;\n",
              "\n",
              "          const docLinkHtml = 'Like what you see? Visit the ' +\n",
              "            '<a target=\"_blank\" href=https://colab.research.google.com/notebooks/data_table.ipynb>data table notebook</a>'\n",
              "            + ' to learn more about interactive tables.';\n",
              "          element.innerHTML = '';\n",
              "          dataTable['output_type'] = 'display_data';\n",
              "          await google.colab.output.renderOutput(dataTable, element);\n",
              "          const docLink = document.createElement('div');\n",
              "          docLink.innerHTML = docLinkHtml;\n",
              "          element.appendChild(docLink);\n",
              "        }\n",
              "      </script>\n",
              "    </div>\n",
              "  </div>\n",
              "  "
            ]
          },
          "metadata": {},
          "execution_count": 27
        }
      ]
    },
    {
      "cell_type": "code",
      "source": [],
      "metadata": {
        "id": "1e_ZIMjRrvU9"
      },
      "execution_count": 27,
      "outputs": []
    },
    {
      "cell_type": "markdown",
      "source": [
        "# **Train test split**"
      ],
      "metadata": {
        "id": "3-5w864Lr_MM"
      }
    },
    {
      "cell_type": "code",
      "source": [
        "from sklearn.model_selection import train_test_split\n",
        "\n",
        "X_train, X_test, y_train, y_test = train_test_split(\n",
        "    df_peticoes_iniciais.text_clean, \n",
        "    df_peticoes_iniciais.label_num, \n",
        "    test_size=1/6, # 20% samples will go to test dataset\n",
        "    random_state=2022,\n",
        "    stratify=df_peticoes_iniciais.label_num\n",
        ")"
      ],
      "metadata": {
        "id": "uaRlG-07sJ4m"
      },
      "execution_count": 28,
      "outputs": []
    },
    {
      "cell_type": "code",
      "source": [
        "print(\"Shape of X_train: \", X_train.shape)\n",
        "print(\"Shape of X_test: \", X_test.shape)"
      ],
      "metadata": {
        "colab": {
          "base_uri": "https://localhost:8080/"
        },
        "id": "3hKPQUKMsdiv",
        "outputId": "b90f9ea3-6cb7-4ea4-bbca-332066516d20"
      },
      "execution_count": 29,
      "outputs": [
        {
          "output_type": "stream",
          "name": "stdout",
          "text": [
            "Shape of X_train:  (75,)\n",
            "Shape of X_test:  (15,)\n"
          ]
        }
      ]
    },
    {
      "cell_type": "code",
      "source": [
        "X_train.head()"
      ],
      "metadata": {
        "colab": {
          "base_uri": "https://localhost:8080/"
        },
        "id": "mUfNYW7ushq5",
        "outputId": "052fdbe1-6c4e-4a90-b7c9-14b1b59ad331"
      },
      "execution_count": 30,
      "outputs": [
        {
          "output_type": "execute_result",
          "data": {
            "text/plain": [
              "62    juizo vara federal subseção judiciária ouricur...\n",
              "40    juizo federal subseção judiciária pernambuco v...\n",
              "52    excelentíssimo senhor juiz federal juizado esp...\n",
              "64    excelentíssimo senhor doutor juiz federal juiz...\n",
              "80    excelentíssimo senhor juiz íza vara justiça fe...\n",
              "Name: text_clean, dtype: object"
            ]
          },
          "metadata": {},
          "execution_count": 30
        }
      ]
    },
    {
      "cell_type": "code",
      "source": [
        "y_train.value_counts()"
      ],
      "metadata": {
        "colab": {
          "base_uri": "https://localhost:8080/"
        },
        "id": "kGjB7kSpslbs",
        "outputId": "570c2436-ddf1-4c30-ecc2-c454902cf36c"
      },
      "execution_count": 31,
      "outputs": [
        {
          "output_type": "execute_result",
          "data": {
            "text/plain": [
              "3    15\n",
              "2    15\n",
              "4    15\n",
              "1    15\n",
              "0    15\n",
              "Name: label_num, dtype: int64"
            ]
          },
          "metadata": {},
          "execution_count": 31
        }
      ]
    },
    {
      "cell_type": "code",
      "source": [
        "y_test.value_counts()"
      ],
      "metadata": {
        "colab": {
          "base_uri": "https://localhost:8080/"
        },
        "id": "gPiUv6uZsrvP",
        "outputId": "5efea269-4ff9-4fa9-d81c-010cdb3a26ff"
      },
      "execution_count": 32,
      "outputs": [
        {
          "output_type": "execute_result",
          "data": {
            "text/plain": [
              "4    3\n",
              "2    3\n",
              "3    3\n",
              "0    3\n",
              "1    3\n",
              "Name: label_num, dtype: int64"
            ]
          },
          "metadata": {},
          "execution_count": 32
        }
      ]
    },
    {
      "cell_type": "code",
      "source": [
        "y_test"
      ],
      "metadata": {
        "colab": {
          "base_uri": "https://localhost:8080/"
        },
        "id": "xGPXlVkogVmD",
        "outputId": "3db22166-6645-4792-cfeb-27105fbe1ee9"
      },
      "execution_count": 33,
      "outputs": [
        {
          "output_type": "execute_result",
          "data": {
            "text/plain": [
              "78    4\n",
              "49    2\n",
              "54    3\n",
              "68    3\n",
              "16    0\n",
              "29    1\n",
              "37    2\n",
              "58    3\n",
              "48    2\n",
              "89    4\n",
              "26    1\n",
              "13    0\n",
              "1     0\n",
              "87    4\n",
              "18    1\n",
              "Name: label_num, dtype: int64"
            ]
          },
          "metadata": {},
          "execution_count": 33
        }
      ]
    },
    {
      "cell_type": "markdown",
      "source": [
        "# **Treinamento e Predição**"
      ],
      "metadata": {
        "id": "OQrTSa2Hu3Yf"
      }
    },
    {
      "cell_type": "markdown",
      "source": [
        "### **Tentativa 1**:\n",
        "\n",
        "usando o módulo pipeline sklearn crie um pipeline de classificação para classificar as Petições. Observação:\n",
        "\n",
        "use TF-IDF para pré-processar o texto.\n",
        "\n",
        "usar **KNN** como o classificador\n",
        "\n",
        "imprimir o relatório de classificação."
      ],
      "metadata": {
        "id": "BuStG8vhs3Gr"
      }
    },
    {
      "cell_type": "code",
      "source": [
        "from sklearn.neighbors import KNeighborsClassifier\n",
        "from sklearn.pipeline import Pipeline\n",
        "from sklearn.metrics import classification_report\n",
        "\n",
        "from sklearn.feature_extraction.text import TfidfVectorizer\n",
        "\n",
        "\n",
        "#1. create a pipeline object\n",
        "pipeline_vizinhos_proximos = Pipeline([\n",
        "     ('vectorizer_tfidf',TfidfVectorizer()),    \n",
        "     ('KNN', KNeighborsClassifier())         \n",
        "])\n",
        "\n",
        "#2. fit with X_train and y_train\n",
        "pipeline_vizinhos_proximos.fit(X_train, y_train)\n",
        "print(pipeline_vizinhos_proximos['vectorizer_tfidf'].transform(X_train).toarray())\n",
        "\n",
        "print('---------------')\n",
        "\n",
        "print(pipeline_vizinhos_proximos['vectorizer_tfidf'].vocabulary_)"
      ],
      "metadata": {
        "colab": {
          "base_uri": "https://localhost:8080/"
        },
        "id": "Fj5eDRgPs3aN",
        "outputId": "0785ec1a-e818-40e0-9fb4-3479b21281e4"
      },
      "execution_count": 34,
      "outputs": [
        {
          "output_type": "stream",
          "name": "stdout",
          "text": [
            "[[0.         0.         0.         ... 0.         0.         0.02054051]\n",
            " [0.         0.         0.         ... 0.         0.         0.04378939]\n",
            " [0.         0.         0.         ... 0.         0.         0.        ]\n",
            " ...\n",
            " [0.         0.24855169 0.         ... 0.         0.         0.        ]\n",
            " [0.         0.         0.         ... 0.         0.         0.        ]\n",
            " [0.         0.         0.         ... 0.         0.         0.        ]]\n",
            "---------------\n",
            "{'juizo': 4670, 'vara': 8148, 'federal': 3516, 'subseção': 7610, 'judiciária': 4664, 'ouricuri': 5694, 'pernambuco': 5966, 'gratuidade': 3858, 'justiça': 4739, 'lei': 4807, 'microcefalia': 5152, 'cid': 1326, 'lazaro': 4785, 'ravi': 6688, 'luna': 4934, 'brasileiro': 1047, 'solteiro': 7546, 'anos': 497, 'inscrito': 4386, 'cpf': 1996, 'sob': 7502, 'portador': 6079, 'sds': 7326, 'neste': 5406, 'ato': 795, 'representado': 6964, 'genitora': 3796, 'sra': 7575, 'ana': 450, 'helaine': 3921, 'silva': 7468, 'brasileira': 1046, 'solteira': 7545, 'desempregada': 2394, 'inscrita': 4383, 'portadora': 6080, 'ssp': 7577, 'residente': 7025, 'domiciliada': 2736, 'rua': 7228, 'santana': 7292, 'alto': 399, 'boa': 1018, 'vista': 8294, 'araripina': 634, 'cep': 1282, 'fone': 3638, 'endereço': 2975, 'eletrônico': 2877, 'advogado': 221, 'constante': 1768, 'rodapé': 7200, 'meio': 5090, 'bastante': 960, 'procurador': 6393, 'final': 3584, 'subscreve': 7602, 'instrumento': 4424, 'procuratório': 6400, 'anexo': 485, 'vem': 8175, 'respeitosamente': 7050, 'presença': 6255, 'exa': 3278, 'propor': 6466, 'presente': 6253, 'ação': 917, 'previdenciária': 6310, 'concessão': 1598, 'amparo': 438, 'assistencial': 720, 'pessoa': 5991, 'deficiencia': 2217, 'loas': 4896, 'antecipação': 517, 'tutela': 8034, 'prioridade': 6342, 'processual': 6389, 'menor': 5115, 'face': 3453, 'instituto': 4414, 'nacional': 5319, 'seguro': 7363, 'social': 7516, 'inss': 4399, 'localizado': 4901, 'avenida': 905, 'perimetral': 5936, 'governador': 3845, 'muniz': 5289, 'ramos': 6677, 'centro': 1278, 'fatos': 3497, 'fundamentos': 3742, 'jurídicos': 4722, 'seguir': 7352, 'expostos': 3406, 'requerimentos': 7001, 'preliminares': 6236, 'gratuita': 3859, 'primeiramente': 6329, 'requer': 6987, 'benefícios': 989, 'descrito': 2373, 'art': 676, 'razão': 6691, 'parte': 5787, 'autora': 869, 'possuir': 6126, 'condições': 1643, 'arcar': 643, 'custas': 2084, 'processuais': 6388, 'prejuízo': 6232, 'sustento': 7720, 'próprio': 6547, 'família': 3482, 'renúncia': 6947, 'requerente': 6990, 'informa': 4323, 'valor': 8136, 'crédito': 2038, 'venha': 8183, 'exceder': 3296, 'salários': 7282, 'mínimos': 5311, 'procedimento': 6376, 'necessário': 5369, 'devido': 2520, 'ajuizamento': 320, 'prosseguimento': 6490, 'pleito': 6034, 'perante': 5885, 'juizado': 4668, 'especial': 3131, 'iii': 4032, 'tramitação': 7944, 'doença': 2731, 'grave': 3863, 'conforme': 1679, 'laudo': 4783, 'sendo': 7380, 'assim': 709, 'termos': 7837, 'vii': 8262, 'inclusão': 4204, 'deficiência': 2220, 'estatuto': 3209, 'pugno': 6577, 'desde': 2378, 'deferimento': 2211, 'impúbere': 4143, 'secundaria': 7334, 'hipóxia': 3950, 'neonatal': 5397, 'atraso': 800, 'desenvolvimento': 2410, 'neuropscomotor': 5417, 'associado': 730, 'sustentação': 7719, 'cefálico': 1263, 'adequado': 143, 'comprovado': 1541, 'através': 803, 'laudos': 4784, 'médicos': 5305, 'facilmente': 3457, 'perceptível': 5897, 'simples': 7477, 'olhar': 5612, 'busca': 1066, 'jurisdicional': 4712, 'ter': 7824, 'direito': 2597, 'receber': 6731, 'bpc': 1037, 'baixa': 923, 'renda': 6935, 'conformidade': 1680, 'legislação': 4798, 'vigente': 8248, 'momento': 5208, 'nascimento': 5337, 'ademais': 140, 'excelência': 3299, 'acesso': 64, 'medicamentos': 5080, 'exames': 3280, 'especializados': 3137, 'tecnologias': 7783, 'necessárias': 5368, 'cujo': 2050, 'nasceu': 5333, 'síndrome': 7728, 'congênita': 1688, 'salienta': 7272, 'desenvolveu': 2405, 'novas': 5483, 'complicações': 1508, 'saúde': 7320, 'medida': 5085, 'crescendo': 2006, 'resposta': 7065, 'poder': 6049, 'público': 6597, 'chegam': 1314, 'mesma': 5141, 'velocidade': 8174, 'agrava': 273, 'problema': 6361, 'observado': 5541, 'frequência': 3705, 'dificuldade': 2560, 'engolir': 2996, 'alimentos': 371, 'capacidade': 1155, 'deglutição': 2236, 'relata': 6894, 'embora': 2902, 'amamentado': 416, 'normalmente': 5455, 'alguma': 356, 'lázaro': 4942, 'regrediu': 6856, 'consegue': 1715, 'levar': 4829, 'leite': 4812, 'estômago': 3244, 'nutrir': 5501, 'melhor': 5095, 'preciso': 6190, 'instalar': 4402, 'sonda': 7564, 'nariz': 5326, 'alguns': 358, 'casos': 1219, 'fazer': 3506, 'gastrostomia': 3791, 'receba': 6727, 'nutrientes': 5500, 'ajuda': 317, 'sistema': 7488, 'instalado': 4401, 'barriga': 946, 'fotos': 3684, 'ilustram': 4040, 'situação': 7498, 'unica': 8075, 'grupo': 3878, 'familiar': 3480, 'proveniente': 6520, 'programas': 6431, 'transferência': 7956, 'auxílio': 895, 'brasil': 1043, 'rmoneysymb': 7195, 'seiscentos': 7366, 'reais': 6703, 'integram': 4444, 'cálculo': 2090, 'aferição': 236, 'per': 5884, 'capita': 1160, 'fim': 3581, 'trata': 7978, 'criança': 2015, 'enfermidade': 2979, 'dificulta': 2562, 'respiração': 7054, 'alimentação': 370, 'tornando': 7905, 'utilização': 8120, 'equipamentos': 3070, 'especiais': 3130, 'tipo': 7869, 'benefício': 988, 'deficiente': 2218, 'número': 5507, 'der': 2326, 'motivo': 5250, 'indeferimento': 4239, 'atende': 743, 'critério': 2027, 'miserabilidade': 5178, 'salário': 7281, 'mínimo': 5310, 'área': 8394, 'médica': 5301, 'perícia': 5979, 'neuropediatra': 5416, 'vulnerabilidade': 8343, 'mensal': 5119, 'considerado': 1735, 'inconstitucional': 4219, 'stf': 7582, 'ano': 493, 'pois': 6055, 'determinar': 2490, 'pobreza': 6044, 'somente': 7563, 'matemática': 5050, 'criou': 2022, 'então': 3046, 'parâmetro': 5800, 'objetivo': 5521, 'definidor': 2225, 'decidiu': 2161, 'aliados': 366, 'econômico': 2804, 'fatores': 3496, 'concretos': 1623, 'tais': 7748, 'vida': 8240, 'modestas': 5192, 'necessidades': 5356, 'resultam': 7107, 'risco': 7187, 'configurando': 1666, 'hipótese': 3948, 'complemento': 1498, 'atenuar': 760, 'manifesta': 4992, 'implementar': 4085, 'dignidade': 2577, 'cumprindo': 2065, 'previsão': 6320, 'constituição': 1794, 'prevê': 6323, 'artigo': 684, 'inciso': 4193, 'todos': 7887, 'necessitarem': 5365, 'enquadramento': 3003, 'idoso': 4018, 'puderem': 6573, 'manter': 5005, 'própria': 6546, 'subsistência': 7616, 'provida': 6524, 'assistência': 727, 'prestada': 6268, 'necessitar': 5364, 'independentemente': 4251, 'contribuição': 1895, 'seguridade': 7362, 'objetivos': 5522, 'garantia': 3781, 'comprovem': 1553, 'meios': 5091, 'prover': 6523, 'manutenção': 5015, 'dispuser': 2660, 'sentido': 7393, 'prestação': 6277, 'continuada': 1857, 'sessenta': 7430, 'cinco': 1341, 'viii': 8263, 'inaudita': 4160, 'altera': 383, 'ingressou': 4351, 'juízo': 4746, 'pleiteando': 6027, 'requerimento': 7000, 'administrativo': 167, 'realizado': 6711, 'ainda': 314, 'referido': 6815, 'pedido': 5854, 'sido': 7456, 'instruído': 4428, 'relatório': 6908, 'médico': 5304, 'especialista': 3133, 'pediatria': 5853, 'neurologia': 5412, 'infantil': 4311, 'dra': 2770, 'tatiane': 7769, 'alves': 409, 'diagnosticando': 2535, 'autor': 868, 'paralisia': 5765, 'cerebral': 1286, 'espástica': 3169, 'hemiplégica': 3923, 'outras': 5702, 'formas': 3655, 'retardo': 7120, 'fisiológico': 3608, 'normal': 5453, 'bem': 971, 'respectiva': 7040, 'avaliação': 902, 'socioeconômica': 7519, 'comprovou': 1554, 'posto': 6140, 'caberia': 1085, 'autarquia': 851, 'preenchidos': 6210, 'requisitos': 7005, 'ensejadores': 3013, 'disposto': 2657, 'infraconstitucional': 4342, 'conceder': 1577, 'ora': 5653, 'requerido': 6998, 'desta': 2450, 'feita': 3521, 'observar': 5544, 'aplicabilidade': 553, 'urgência': 8103, 'concedida': 1580, 'sempre': 7376, 'elementos': 2868, 'evidenciam': 3262, 'quais': 6604, 'probabilidade': 6356, 'perigo': 5931, 'dano': 2127, 'resultado': 7105, 'útil': 8432, 'processo': 6385, 'caso': 1218, 'tela': 7788, 'devidamente': 2518, 'comprovada': 1538, 'provas': 6515, 'acostadas': 114, 'autos': 884, 'relatórios': 6909, 'cópias': 2110, 'prontuário': 6459, 'demonstraram': 2285, 'ocorrência': 5584, 'seguintes': 7351, 'diagnósticos': 2538, 'apenas': 547, 'deixar': 2243, 'dúvidas': 2795, 'referente': 6811, 'além': 412, 'configurada': 1664, 'ficou': 3561, 'amplamente': 440, 'vive': 8311, 'possuindo': 6125, 'suficiente': 7640, 'atender': 747, 'básicas': 1075, 'relação': 6910, 'verifica': 8201, 'delineado': 2258, 'buscar': 1070, 'perseguido': 5967, 'faz': 3502, 'jus': 4723, 'data': 2139, 'ocorrido': 5582, 'dedicar': 2195, 'tempo': 7799, 'tratamento': 7982, 'filho': 3571, 'conseguindo': 1716, 'obter': 5561, 'emprego': 2940, 'fixo': 3618, 'registrado': 6843, 'permita': 5954, 'sustentar': 7717, 'minimamente': 5164, 'pedidos': 5856, 'positis': 6101, 'peticionário': 5997, 'verdade': 8193, 'jurídica': 4719, 'pleitear': 6029, 'preliminarmente': 6237, 'preferencial': 6216, 'feito': 3523, 'legal': 4791, 'antecipada': 510, 'imediata': 4048, 'código': 2107, 'civil': 1365, 'demais': 2262, 'legislações': 4799, 'pertinentes': 5978, 'citação': 1360, 'intimação': 4513, 'representante': 6968, 'querendo': 6644, 'apresentar': 598, 'defesa': 2215, 'prazo': 6170, 'audiência': 828, 'tentativa': 7815, 'concialiação': 1599, 'junte': 4700, 'conteste': 1847, 'acaso': 46, 'queira': 6637, 'realização': 6717, 'base': 952, 'cif': 1338, 'estabelece': 3182, 'decreto': 2191, 'finalidade': 3585, 'restar': 7089, 'provada': 6511, 'procedência': 6378, 'condenar': 1631, 'condenação': 1634, 'pagamento': 5733, 'honorários': 3968, 'periciais': 5922, 'advocatícios': 219, 'percentual': 5896, 'sobre': 7504, 'retenção': 7121, 'honorarios': 3964, 'contratuais': 1886, 'fixados': 3615, 'procuração': 6401, 'aplicação': 562, 'juros': 4717, 'correção': 1966, 'monetária': 5212, 'incidir': 4188, 'todo': 7886, 'parcelas': 5773, 'vincendas': 8266, 'observando': 5543, 'prescrição': 6251, 'quinquenal': 6655, 'protesta': 6498, 'prova': 6510, 'admitidos': 178, 'especialmente': 3138, 'documental': 2724, 'testemunhal': 7849, 'pericial': 5923, 'depoimento': 2319, 'pessoal': 5993, 'vossa': 8340, 'futuras': 3750, 'intimações': 4514, 'atos': 796, 'judiciais': 4659, 'fizerem': 3623, 'acontecer': 106, 'feitas': 3522, 'nome': 5442, 'roberto': 7197, 'alencar': 349, 'vieira': 8245, 'oab': 5509, 'vencidas': 8179, 'total': 7913, 'fins': 3593, 'legais': 4790, 'atribui': 807, 'causa': 1230, 'qurenta': 6662, 'sete': 7433, 'mil': 5156, 'duzentos': 2784, 'oito': 5609, 'nestes': 5407, 'pede': 5851, 'outubro': 5708, 'assinado': 712, 'digitalmente': 2573, 'valdemar': 8125, 'antônio': 530, 'melo': 5099, 'músico': 5315, 'domiciliado': 2739, 'três': 8025, 'quadra': 6601, 'loteamente': 4917, 'prata': 6164, 'maranguape': 5019, 'paulista': 5839, 'infra': 4340, 'ajuizar': 321, 'emergencial': 2911, 'fazenda': 3504, 'união': 8088, 'cnpj': 1398, 'senador': 7378, 'josé': 4648, 'henrique': 3926, 'andar': 471, 'ilha': 4037, 'recife': 6751, 'empresa': 2941, 'tecnologia': 7782, 'informações': 4338, 'previdência': 6315, 'dataprev': 2142, 'sede': 7336, 'engenheiro': 2994, 'domingos': 2745, 'ferreira': 3541, 'viagem': 8233, 'caixa': 1114, 'econômica': 2802, 'alfândega': 353, 'motivos': 5251, 'passa': 5803, 'expor': 3401, 'tratar': 7985, 'poucas': 6153, 'instruções': 4426, 'estudo': 3238, 'amigo': 430, 'cadastrou': 1102, 'aplicativo': 561, 'disponibilizado': 2645, 'realizando': 6713, 'cadastro': 1100, 'dia': 2530, 'abril': 24, 'recebimento': 6741, 'governo': 3847, 'aprovado': 606, 'preencher': 6204, 'acontece': 104, 'auxiliou': 894, 'perdeu': 5901, 'senha': 7382, 'impossibilitando': 4114, 'realizasse': 6716, 'transferências': 7957, 'pode': 6045, 'verificado': 8203, 'consulta': 1808, 'realizada': 6709, 'site': 7492, 'webaddress': 8359, 'possível': 6133, 'verificar': 8204, 'todas': 7884, 'primeiras': 6330, 'creditadas': 2001, 'imagem': 4044, 'abaixo': 5, 'extensão': 3424, 'destinando': 2466, 'quatro': 6630, 'trezentos': 8007, 'determinado': 2485, 'imaginou': 4046, 'poderia': 6051, 'recebido': 6739, 'valores': 8139, 'indevidamente': 4256, 'ocorreu': 5580, 'procurar': 6399, 'deste': 2462, 'patrono': 5834, 'verifiquei': 8209, 'acima': 70, 'creditas': 2002, 'negado': 5376, 'fato': 3494, 'indeferido': 4237, 'porque': 6076, 'identificou': 4010, 'devolução': 2523, 'integral': 4441, 'recursos': 6793, 'anteriormente': 521, 'recebidos': 6740, 'íntegra': 8408, 'negativa': 5380, 'visto': 8296, 'ficaram': 3556, 'disponíveis': 2650, 'acessar': 63, 'parados': 5761, 'utilizados': 8116, 'retornaram': 7134, 'tentou': 7820, 'agência': 312, 'tentar': 7814, 'redefinir': 6798, 'obteve': 5562, 'sucesso': 7634, 'financeiro': 3588, 'destinado': 2464, 'trabalhadores': 7927, 'informais': 4329, 'microempreendedores': 5154, 'individuais': 4280, 'mei': 5089, 'autônomos': 889, 'desempregados': 2397, 'instituído': 4418, 'fornecer': 3668, 'proteção': 6504, 'período': 5982, 'enfrentamento': 2988, 'crise': 2023, 'causada': 1231, 'pandemia': 5751, 'coronavírus': 1949, 'covid': 1992, 'vez': 8227, 'atendidos': 755, 'critérios': 2028, 'margem': 5032, 'discricionariedade': 2623, 'portanto': 6087, 'evidenciado': 3260, 'pleno': 6038, 'atendimento': 756, 'bloqueio': 1017, 'qualquer': 6616, 'motivação': 5249, 'impedindo': 4063, 'exercício': 3342, 'contraditório': 1873, 'ampla': 439, 'ferem': 3530, 'morte': 5237, 'devendo': 2507, 'intervenção': 4507, 'judicial': 4660, 'cpc': 1995, 'evidenciem': 3264, 'perfeitamente': 5911, 'caracterizados': 1173, 'vejamos': 8172, 'demonstrado': 2280, 'direto': 2601, 'caracterizado': 1172, 'demonstração': 2289, 'inequívoca': 4296, 'veracidade': 8189, 'argumentos': 652, 'exordiais': 3377, 'documentais': 2723, 'juntadas': 4693, 'confirmar': 1673, 'iminente': 4051, 'necessidade': 5355, 'obtenção': 5560, 'deve': 2503, 'magistrado': 4965, 'deferir': 2213, 'antecipadamente': 511, 'objeto': 5523, 'postulado': 6144, 'destaca': 2451, 'doutrina': 2761, 'lógica': 4950, 'aguardar': 307, 'desfecho': 2414, 'diante': 2541, 'inequívoco': 4297, 'constitutivo': 1796, 'incontroverso': 4226, 'racionalidade': 6667, 'obrigar': 5531, 'esperar': 3158, 'produção': 6410, 'impeditivos': 4066, 'modificativos': 5198, 'extintivos': 3429, 'desincumbiu': 2427, 'ônus': 8421, 'demora': 2293, 'inerente': 4298, 'cuja': 2048, 'incumbe': 4234, 'réu': 7247, 'certamente': 1289, 'beneficia': 975, 'marinoni': 5038, 'luiz': 4930, 'guilherme': 3894, 'evidência': 3267, 'editora': 2812, 'caráter': 1210, 'alimentar': 369, 'garante': 3779, 'digna': 2574, 'sobrevivência': 7514, 'cristalino': 2025, 'ineficácia': 4293, 'provimento': 6531, 'lide': 4844, 'exatamente': 3285, 'desprovida': 2441, 'fonte': 3642, 'consequência': 1724, 'devida': 2517, 'liminar': 4847, 'partes': 5788, 'rés': 7246, 'efetuem': 2841, 'cento': 1275, 'cinquenta': 1343, 'somas': 7560, 'totalizam': 7917, 'importância': 4107, 'devidos': 2521, 'deveriam': 2512, 'percebidos': 5894, 'desconhecimento': 2359, 'saber': 7255, 'mexer': 5147, 'facilidade': 3455, 'aparelhos': 538, 'eletrônicos': 2878, 'conseguiu': 1720, 'realizar': 6714, 'atualmente': 821, 'desempregado': 2396, 'tendo': 7808, 'responsabilidade': 7061, 'existência': 3374, 'despesas': 2439, 'tal': 7749, 'junta': 4691, 'declaração': 2175, 'hipossuficiência': 3944, 'demonstra': 2277, 'inviabilidade': 4529, 'judicias': 4663, 'comprometer': 1533, 'clara': 1373, 'redação': 6796, 'razões': 6692, 'fulcro': 3718, 'lxxiv': 4939, 'deferida': 2207, 'exposto': 3405, 'cada': 1094, 'somados': 7556, 'disto': 2673, 'responder': 7057, 'determinando': 2487, 'conceda': 1574, 'depositando': 2320, 'conta': 1813, 'corrente': 1956, 'instituição': 4412, 'picpay': 6003, 'serviços': 7429, 'titularidade': 7875, 'admitidas': 176, 'dezembro': 2525, 'victor': 8239, 'rêgo': 7249, 'barros': 948, 'oliveira': 5617, 'excelentíssimo': 3298, 'senhor': 7383, 'juiz': 4667, 'cível': 2106, 'qualificação': 6614, 'encontra': 2963, 'qualificada': 6607, 'exª': 3448, 'contra': 1870, 'requerendo': 6989, 'declara': 2167, 'recebia': 6736, 'bolsa': 1023, 'ocorre': 5576, 'transição': 7968, 'programa': 6429, 'partir': 5797, 'contemplada': 1832, 'recebeu': 6735, 'dois': 2733, 'meses': 5139, 'auxilio': 893, 'cancelado': 1143, 'nenhuma': 5396, 'justificativa': 4734, 'documento': 2728, 'dirigiu': 2606, 'órgão': 8418, 'prefeitura': 6215, 'local': 4899, 'responsável': 7064, 'informaram': 4334, 'contrato': 1884, 'serviço': 7428, 'goiana': 3835, 'encerrado': 2958, 'segundo': 7356, 'beneficiário': 985, 'novo': 5488, 'cumpre': 2059, 'estabelecidos': 3190, 'trabalhando': 7930, 'permite': 5956, 'única': 8427, 'pagava': 5738, 'casa': 1212, 'aluguel': 405, 'remédios': 6932, 'etc': 3246, 'hoje': 3955, 'filha': 3569, 'encontram': 2965, 'narrados': 5328, 'viu': 8309, 'outra': 5701, 'alternativa': 392, 'senão': 7396, 'acionar': 73, 'judiciário': 4666, 'direitos': 2598, 'disso': 2666, 'extrema': 3444, 'interceda': 4468, 'requerer': 6992, 'seguinte': 7350, 'crfb': 2009, 'realize': 6718, 'atrasados': 799, 'cancelados': 1144, 'injustamente': 4366, 'reativado': 6725, 'condenando': 1630, 'restabelecer': 7083, 'pagar': 5736, 'canceladas': 1142, 'acrescidas': 123, 'logo': 4906, 'renunciando': 6945, 'teto': 7852, 'doutor': 2760, 'civel': 1364, 'caruaru': 1207, 'maria': 5035, 'maiza': 4976, 'gonçalves': 3842, 'cédula': 2097, 'identidade': 4003, 'colômbia': 1438, 'monteiro': 5222, 'brejo': 1054, 'madre': 4960, 'deus': 2498, 'subsidiariamente': 7612, 'mário': 5292, 'santo': 7294, 'amaro': 422, 'aduz': 205, 'leis': 4811, 'penas': 5869, 'pobre': 6042, 'financeiras': 3587, 'interessado': 4473, 'comprovação': 1551, 'desse': 2448, 'estado': 3195, 'dju': 2715, 'excedente': 3294, 'renuncia': 6943, 'vigentes': 8249, 'época': 8400, 'propositura': 6471, 'demanda': 2263, 'aplicada': 554, 'matéria': 5064, 'rito': 7193, 'perito': 5940, 'especializado': 3136, 'predominante': 6200, 'ortopedica': 5683, 'designado': 2419, 'habilitado': 3901, 'ortopedia': 5682, 'possa': 6107, 'dar': 2137, 'parecer': 5778, 'cerca': 1283, 'demandante': 2269, 'mapa': 5016, 'residencia': 7022, 'fica': 3552, 'mercado': 5129, 'lírio': 4947, 'vales': 8131, 'próximo': 6549, 'principal': 6336, 'formulou': 3664, 'postulando': 6146, 'extrato': 3440, 'tocante': 7882, 'incapacidade': 4164, 'paniculite': 5754, 'atingindo': 778, 'regiões': 6852, 'pescoço': 5987, 'dorso': 2755, 'dor': 2752, 'lombar': 4911, 'gonartrose': 3838, 'doenças': 2732, 'sequelas': 7403, 'retiram': 7129, 'atividades': 790, 'laborativas': 4763, 'habituais': 3905, 'indefinidamente': 4243, 'sequela': 7402, 'definitiva': 2228, 'atesta': 764, 'dessa': 2446, 'forma': 3646, 'possui': 6123, 'orgânica': 5667, 'realmente': 6721, 'carente': 1190, 'mora': 5225, 'sozinha': 7572, 'toda': 7883, 'sorte': 7568, 'mantém': 5012, 'terceiros': 7830, 'custos': 2089, 'fisioterápico': 3609, 'fornecidos': 3671, 'sus': 7705, 'outrossim': 5707, 'resta': 7081, 'estabelecido': 3189, 'igual': 4027, 'jurídico': 4721, 'concerne': 1593, 'verificação': 8205, 'evitar': 3271, 'distorções': 2675, 'conduzam': 1648, 'situações': 7499, 'desprovidas': 2442, 'razoabilidade': 6689, 'incapaz': 4173, 'idosa': 4016, 'inferior': 4316, 'último': 8425, 'relativizado': 6901, 'analisadas': 456, 'socioeconômicas': 7520, 'indivíduo': 4284, 'tratando': 7984, 'questão': 6651, 'verba': 8190, 'eminente': 2915, 'considerando': 1738, 'conflito': 1676, 'bens': 991, 'vulnerável': 8345, 'assistida': 722, 'outro': 5704, 'satisfeitos': 7312, 'gravidade': 3865, 'estágio': 3241, 'exercer': 3333, 'atividade': 788, 'laboral': 4760, 'habitual': 3906, 'garanta': 3777, 'doente': 2730, 'precisar': 6189, 'tratamentos': 7983, 'adequados': 144, 'merece': 5131, 'destacado': 2453, 'baixíssimo': 924, 'nível': 5504, 'sociocultural': 7518, 'impede': 4058, 'intelectuais': 4456, 'instituiu': 4411, 'grifou': 3875, 'mencionado': 5107, 'alterada': 384, 'passando': 5807, 'teor': 7822, 'efeitos': 2824, 'caput': 1166, 'composta': 1516, 'cônjuge': 2113, 'companheiro': 1464, 'pais': 5744, 'ausência': 850, 'madrasta': 4959, 'padrasto': 5726, 'irmãos': 4556, 'solteiros': 7547, 'filhos': 3572, 'enteados': 3026, 'menores': 5116, 'tutelados': 8036, 'vivam': 8310, 'efeito': 2823, 'considera': 1732, 'impedimentos': 4062, 'longo': 4913, 'natureza': 5347, 'física': 3760, 'intelectual': 4457, 'sensorial': 7389, 'interação': 4466, 'diversas': 2690, 'barreiras': 943, 'podem': 6046, 'obstruir': 5555, 'participação': 5790, 'plena': 6036, 'efetiva': 2825, 'sociedade': 7517, 'pessoas': 5995, 'incapacitam': 4169, 'independente': 4250, 'trabalho': 7936, 'quarto': 6626, 'pressupõe': 6266, 'preenchimento': 6211, 'condição': 1642, 'consoante': 1756, 'original': 5675, 'mental': 5123, 'igualdade': 4028, 'atual': 814, 'dispositivo': 2653, 'desamparo': 2339, 'demonstrada': 2278, 'documentos': 2729, 'anexos': 486, 'constatam': 1775, 'configurado': 1665, 'econômicas': 2803, 'consonância': 1764, 'inserida': 4393, 'fixação': 3617, 'diversidade': 2691, 'possibilidade': 6110, 'fixar': 3616, 'capta': 1165, 'superior': 7664, 'limite': 4861, 'extrai': 3432, 'julgamento': 4679, 'stj': 7583, 'rcl': 6694, 'análise': 535, 'nota': 5466, 'médicas': 5303, 'deferido': 2209, 'beneficio': 981, 'previdenciário': 6312, 'agravo': 282, 'incapacitado': 4168, 'possua': 6119, 'familiares': 3481, 'gere': 3814, 'presunção': 6286, 'absoluta': 29, 'absoluto': 31, 'patamar': 5821, 'afasta': 227, 'outros': 5706, 'momentânea': 5210, 'conceito': 1584, 'previsto': 6318, 'presentes': 6254, 'cumulativos': 2070, 'receio': 6743, 'irreparável': 4564, 'difícil': 2567, 'reparação': 6949, 'cabe': 1080, 'antecipado': 512, 'provido': 6527, 'trf': 8008, 'rel': 6887, 'des': 2332, 'marcello': 5025, 'souza': 7571, 'granado': 3854, 'turma': 8032, 'especializada': 3135, 'julgado': 4676, 'grifo': 3873, 'atualizar': 818, 'cadúnico': 1106, 'impossibilitada': 4112, 'nesse': 5402, 'portaria': 6089, 'maio': 4971, 'verbis': 8192, 'operação': 5639, 'único': 8428, 'sociais': 7515, 'sobretudo': 7507, 'municípios': 5287, 'prejudicada': 6218, 'suspensão': 7714, 'aulas': 838, 'direcionamento': 2595, 'unidades': 8078, 'infectados': 4312, 'fechamento': 3513, 'centros': 1279, 'referência': 6818, 'postos': 6141, 'cadastramento': 1099, 'resolve': 7034, 'março': 5044, 'ministro': 5168, 'cidadania': 1328, 'vigorar': 8257, 'acrescida': 122, 'ficam': 3553, 'suspensas': 7711, 'alterações': 389, 'cadastrais': 1097, 'famílias': 3483, 'beneficiárias': 984, 'gestão': 3823, 'folha': 3635, 'enquanto': 3010, 'concedido': 1582, 'jurisprudência': 4715, 'tribunal': 8011, 'fática': 3755, 'mudou': 5267, 'última': 8424, 'atualização': 819, 'analisar': 460, 'restabelecimento': 7086, 'dada': 2114, 'suspenso': 7713, 'exclusivamente': 3314, 'alteração': 388, 'realidade': 6706, 'técnica': 8045, 'relationem': 6897, 'recurso': 6792, 'desprovido': 2443, 'relator': 6905, 'polyana': 6060, 'falcão': 3465, 'brito': 1058, 'terceira': 7828, 'publicação': 6567, 'creta': 2008, 'destarte': 2460, 'suporte': 7675, 'pátria': 6586, 'fazendo': 3505, 'excedam': 3293, 'trinta': 8020, 'oitocentos': 5610, 'setenta': 7436, 'centavos': 1274, 'marco': 5028, 'inicial': 4357, 'dias': 2544, 'atuais': 813, 'incidência': 4192, 'parágrafo': 5798, 'determina': 2483, 'poderá': 6053, 'suportar': 7674, 'eventuais': 3254, 'carta': 1202, 'magna': 4967, 'nomeação': 5447, 'habilitada': 3900, 'elaboração': 2858, 'exame': 3279, 'atestar': 769, 'laborativa': 4762, 'ventilada': 8185, 'comparecer': 1468, 'conciliação': 1603, 'designada': 2417, 'oferecer': 5593, 'contestação': 1846, 'oportunamente': 5644, 'pena': 5865, 'serem': 7407, 'considerados': 1736, 'verdadeiros': 8196, 'alegados': 339, 'ilustre': 4041, 'ministério': 5169, 'entenda': 3027, 'atuar': 822, 'fiscal': 3600, 'procedente': 6367, 'retroativos': 7142, 'contar': 1826, 'atrasadas': 798, 'devem': 2506, 'corrigidas': 1967, 'monetariamente': 5211, 'provar': 6514, 'alegado': 338, 'anexa': 477, 'mediante': 5077, 'assistente': 721, 'tecnicamente': 7780, 'competente': 1488, 'juntada': 4692, 'posteriormente': 6139, 'retido': 7122, 'favor': 3500, 'consta': 1765, 'rpv': 7226, 'declarar': 2173, 'submetido': 7598, 'ratificação': 6686, 'explanado': 3388, 'exordial': 3378, 'santa': 7291, 'cruz': 2034, 'capibaribe': 1159, 'setembro': 7435, 'rodrigo': 7207, 'ewerton': 3277, 'araújo': 637, 'apresentação': 599, 'quesitos': 6647, 'função': 3745, 'periciando': 5925, 'desenvolvidas': 2407, 'proatividade': 6355, 'foco': 3632, 'disposição': 2655, 'emocional': 2925, 'raciocínio': 6666, 'desempenho': 2393, 'distração': 2676, 'falta': 3475, 'emocionais': 2924, 'afins': 246, 'prejudicar': 6223, 'impedir': 4064, 'uso': 8106, 'medicação': 5082, 'controlada': 1900, 'afirmativa': 252, 'colaterais': 1424, 'possíveis': 6132, 'influem': 4320, 'moléstia': 5206, 'compatível': 1479, 'baseado': 954, 'chegoua': 1318, 'conclusão': 1610, 'gera': 3802, 'existindo': 3371, 'permanente': 5948, 'recuperação': 6789, 'quadro': 6602, 'patológico': 5827, 'pessoais': 5992, 'idade': 3995, 'escolaridade': 3108, 'grau': 3861, 'instrução': 4425, 'entende': 3028, 'apto': 616, 'laborais': 4759, 'ocasionar': 5571, 'algum': 355, 'agravamento': 277, 'curto': 2082, 'médio': 5306, 'patologia': 5824, 'positivo': 6105, 'negativo': 5382, 'dados': 2118, 'científicos': 1337, 'equivalente': 3076, 'perfeitoestado': 5913, 'atribua': 806, 'habitualmente': 3908, 'exercia': 3335, 'agravando': 278, 'atestados': 767, 'levados': 4825, 'juntados': 4695, 'quesito': 6646, 'anterior': 519, 'explique': 3394, 'fundamentação': 3740, 'desconsiderou': 2362, 'cfm': 1306, 'diga': 2568, 'pertinente': 5977, 'entender': 3030, 'abordada': 15, 'minuciosamente': 5171, 'porqual': 6074, 'íza': 8410, 'josefa': 4643, 'deta': 2478, 'viúva': 8326, 'lar': 4776, 'ereador': 3088, 'pedro': 5860, 'doca': 2721, 'jataúba': 4620, 'advogados': 222, 'assinados': 713, 'doa': 2717, 'doc': 2720, 'profissional': 6423, 'página': 6584, 'onde': 5631, 'receberão': 6734, 'citações': 1361, 'notificações': 5472, 'promover': 6450, 'pensão': 5877, 'interno': 4490, 'procuradoria': 6396, 'regional': 6838, 'arnóbio': 664, 'marques': 5041, 'empresarial': 2942, 'camilo': 1129, 'salas': 7268, 'contato': 1829, 'clyf': 1389, 'adv': 210, 'telefone': 7791, 'transpõe': 7974, 'obstáculos': 5558, 'rol': 7214, 'humanos': 3984, 'dever': 2508, 'criar': 2017, 'artifícios': 683, 'superem': 7660, 'tant': 7758, 'pacifica': 5717, 'ensina': 3019, 'analisado': 457, 'individualmente': 4283, 'enfatizar': 2978, 'egrégio': 2847, 'região': 6851, 'pacificou': 5720, 'deverá': 2513, 'rendimentos': 6939, 'mensais': 5118, 'correspondentes': 1959, 'dez': 2524, 'observa': 5538, 'acórdão': 134, 'renova': 6941, 'litigar': 4883, 'contrário': 1909, 'estará': 3207, 'contribuindo': 1891, 'consolide': 1762, 'obstáculo': 5557, 'injusto': 4369, 'juizados': 4669, 'representação': 6973, 'poderes': 6050, 'outorgados': 5699, 'renunciar': 6946, 'créditos': 2039, 'porventura': 6094, 'ultrapassem': 8068, 'interesse': 4475, 'agir': 266, 'requereu': 6995, 'falecimento': 3471, 'esposo': 3168, 'malaquias': 4981, 'faleceu': 3467, 'porém': 6095, 'infelicidade': 4314, 'configura': 1663, 'antes': 522, 'nada': 5320, 'importante': 4103, 'frisar': 3709, 'cnis': 1395, 'comprova': 1537, 'segurado': 7359, 'falecido': 3469, 'suplicante': 7671, 'junto': 4701, 'argumento': 651, 'qualidade': 6606, 'dependente': 2312, 'esposa': 3165, 'companheira': 1463, 'realizaram': 6715, 'casamento': 1217, 'religioso': 6917, 'paróquia': 5802, 'sebastião': 7329, 'diocese': 2590, 'pesqueira': 5989, 'tanto': 7760, 'receberam': 6732, 'certidão': 1290, 'utilizada': 8113, 'retirar': 7130, 'muitos': 5272, 'solicitou': 7543, 'segunda': 7354, 'via': 8229, 'fornecida': 3669, 'oficiala': 5602, 'titular': 7873, 'cartório': 1205, 'realizou': 6720, 'transcrição': 7955, 'evento': 3252, 'livro': 4893, 'oficial': 5601, 'emitia': 2918, 'retirada': 7128, 'colacionado': 1422, 'mãos': 5299, 'apresentou': 602, 'casada': 1213, 'comprovantes': 1546, 'residência': 7030, 'cujus': 2052, 'apresenta': 591, 'diferentes': 2555, 'ocasiões': 5574, 'reforçando': 6825, 'narrativa': 5329, 'conviviam': 1932, 'maritalmente': 5040, 'munida': 5288, 'duas': 2774, 'testemunhas': 7850, 'serventia': 7415, 'notarial': 5468, 'registral': 6844, 'inclusive': 4202, 'acostados': 116, 'emitidos': 2922, 'emitido': 2921, 'dúvida': 2794, 'erroneamente': 3095, 'negada': 5374, 'retroativo': 7141, 'óbito': 8412, 'pago': 5739, 'dependentes': 2313, 'protege': 6492, 'encontrando': 2966, 'tipificada': 7868, 'disciplinada': 2611, 'artigos': 685, 'dispõe': 2663, 'planos': 6021, 'possibilitar': 6113, 'suprir': 7692, 'possuía': 6129, 'executar': 3321, 'contava': 1831, 'após': 626, 'excepcionalidade': 3303, 'dito': 2684, 'havia': 3915, 'cumprimento': 2064, 'agraciado': 272, 'entendimento': 3034, 'largamente': 4778, 'aplicado': 556, 'ementa': 2907, 'estável': 3242, 'conjunto': 1703, 'falecer': 3466, 'aposentado': 579, 'independe': 4248, 'carência': 1211, 'dependência': 2317, 'presumida': 6281, 'infere': 4315, 'segurada': 7358, 'acordo': 110, 'percepção': 5898, 'mantidos': 5010, 'incidirão': 4191, 'expedição': 3383, 'precatório': 6176, 'decidido': 2159, 'supremo': 7686, 'repercussão': 6953, 'geral': 3808, 'reconhecida': 6773, 'observada': 5539, 'súmula': 7738, 'vinculante': 8271, 'disposições': 2656, 'contidas': 1852, 'isenta': 4575, 'emolumentos': 2926, 'remessa': 6925, 'havida': 3917, 'submetida': 7597, 'apelação': 545, 'desembargador': 2384, 'baptista': 939, 'pereira': 5907, 'décima': 2789, 'djf': 2713, 'fazem': 3503, 'deixado': 2240, 'economicamente': 2800, 'enumerados': 3047, 'incisos': 4194, 'corresponde': 1957, 'classe': 1378, 'emancipado': 2896, 'vinte': 8278, 'inválido': 4539, 'irmão': 4555, 'regulamento': 6871, 'taxativo': 7775, 'resp': 7038, 'dje': 2712, 'precisa': 6186, 'comprovar': 1547, 'calculado': 1117, 'expostas': 3404, 'moldes': 5205, 'requeridos': 6999, 'citado': 1355, 'supracitado': 7679, 'apresente': 600, 'sofrer': 7531, 'consequências': 1725, 'jurídicas': 4720, 'revelia': 7159, 'proceda': 6364, 'pague': 5741, 'provados': 6513, 'sucumbência': 7637, 'cavalcanti': 1247, 'lima': 4846, 'yokota': 8378, 'associados': 731, 'ordem': 5655, 'quanto': 6619, 'constantes': 1769, 'excedentes': 3295, 'dezoito': 2529, 'oitenta': 5606, 'youshiro': 8379, 'neto': 5409, 'palmares': 5749, 'livia': 4889, 'santos': 7296, 'engenho': 2995, 'gamileira': 3774, 'grande': 3855, 'zona': 8384, 'rural': 7236, 'cidade': 1329, 'catende': 1228, 'intermédio': 4485, 'obrigação': 5535, 'bancário': 933, 'sul': 7649, 'bloco': 1013, 'bairro': 922, 'asa': 691, 'brasília': 1050, 'executivo': 3323, 'esplanada': 3161, 'ministérios': 5170, 'eixo': 2853, 'monumental': 5224, 'inicialmente': 4358, 'custa': 2083, 'colocar': 1435, 'xxxv': 8373, 'beneficiária': 983, 'automática': 866, 'primeira': 6328, 'interrompido': 4502, 'órgãos': 8419, 'controle': 1901, 'identificaram': 4008, 'indícios': 4290, 'conseguinte': 1717, 'regulamentou': 6873, 'provisória': 6533, 'emergência': 2913, 'pública': 6595, 'internacional': 4487, 'decorrente': 2185, 'distribuído': 2678, 'postulou': 6149, 'êxito': 8403, 'certo': 1293, 'decorrer': 2187, 'execução': 3324, 'tomou': 7899, 'ciência': 1370, 'tido': 7865, 'depósitos': 2325, 'prestações': 6278, 'devidas': 2519, 'contudo': 1910, 'alegou': 343, 'parcela': 5772, 'desconhecia': 2356, 'posteriores': 6138, 'saques': 7300, 'prestou': 6279, 'queixa': 6641, 'delegacia': 2249, 'reclamação': 6759, 'cef': 1260, 'passo': 5814, 'passado': 5804, 'havendo': 3912, 'económica': 2801, 'todavia': 7885, 'segue': 7346, 'município': 5286, 'restando': 7088, 'resolução': 7033, 'humana': 3981, 'fundamental': 3736, 'situar': 7497, 'tema': 7794, 'fundamentais': 3735, 'homem': 3958, 'constitui': 1788, 'expressão': 3413, 'adequada': 141, 'referir': 6817, 'princípios': 6340, 'resumem': 7115, 'concepção': 1592, 'mundo': 5284, 'informam': 4331, 'ideologia': 4011, 'política': 6062, 'ordenamento': 5657, 'reservada': 7011, 'designar': 2420, 'prerrogativas': 6246, 'instituições': 4413, 'concretiza': 1619, 'garantias': 3782, 'convivência': 1933, 'livre': 4892, 'qualificativo': 6613, 'acha': 66, 'indicação': 4270, 'realiza': 6708, 'convive': 1929, 'vezes': 8228, 'sobrevive': 7509, 'formalmente': 3652, 'reconhecidos': 6776, 'concreta': 1618, 'materialmente': 5053, 'efetivados': 2827, 'macho': 4955, 'espécie': 3170, 'significa': 7463, 'conteúdo': 1850, 'encabeça': 2947, 'título': 8055, 'completa': 1499, 'expressamente': 3408, 'insculpido': 4390, 'princípio': 6339, 'constitucional': 1784, 'afonso': 257, 'atrai': 797, 'micros': 5155, 'empreendedores': 2930, 'reconhecido': 6775, 'sentença': 7392, 'endereços': 2976, 'apresentem': 601, 'réus': 7248, 'definitivo': 2230, 'stephen': 7581, 'thiago': 7861, 'pje': 6017, 'julgador': 4677, 'distribuição': 2677, 'assuntos': 737, 'aposentadoria': 580, 'invalidez': 4522, 'segredo': 7343, 'sim': 7472, 'terceiro': 7829, 'vinculado': 8270, 'rosineide': 7219, 'amancio': 417, 'saulo': 7316, 'quental': 6642, 'reu': 7144, 'assinatura': 715, 'petição': 5999, 'seção': 7447, 'auxiliar': 891, 'escritório': 3116, 'tabira': 7743, 'céu': 2102, 'azul': 916, 'camaragibe': 1126, 'mui': 5268, 'subscrito': 7605, 'constituído': 1800, 'incluso': 4203, 'nomeado': 5444, 'cumulado': 2068, 'sito': 7494, 'vários': 8349, 'retornar': 7133, 'documentações': 2727, 'anexas': 484, 'assinadas': 711, 'profissionais': 6422, 'eletronicamente': 2874, 'aqui': 627, 'apresentadas': 593, 'confissão': 1675, 'ortopedista': 5684, 'existente': 3368, 'jefs': 4623, 'confirmada': 1670, 'condenado': 1628, 'restituir': 7093, 'continuar': 1862, 'voltar': 8333, 'recomendação': 6766, 'implantação': 4079, 'entretanto': 3044, 'testemunhais': 7848, 'vitória': 8308, 'antão': 529, 'suely': 7639, 'aleixo': 345, 'seis': 7365, 'várzea': 8350, 'advogada': 220, 'constituída': 1798, 'mandato': 4988, 'dores': 2754, 'recebe': 6728, 'avisos': 912, 'visando': 8290, 'conhecido': 1694, 'secretaria': 7332, 'inscreveu': 4382, 'exigência': 3358, 'esclarece': 3099, 'gênero': 3899, 'feminino': 3527, 'exerce': 3331, 'âmbito': 8396, 'doméstico': 2747, 'desemprego': 2398, 'anotações': 501, 'ctps': 2043, 'enfrentar': 2990, 'circunstancias': 1349, 'reside': 7020, 'comunidade': 1569, 'conhecida': 1693, 'favela': 3499, 'situada': 7495, 'barraco': 942, 'cedido': 1257, 'composto': 1517, 'cômodos': 2111, 'cidadã': 1330, 'enfrenta': 2985, 'enquadra': 2998, 'exigidos': 3353, 'programais': 6430, 'inscrição': 4388, 'existir': 3372, 'bruta': 1062, 'quatrocentos': 6631, 'extado': 3421, 'caracterizada': 1171, 'percapta': 5887, 'centos': 1276, 'denominada': 2300, 'linha': 4874, 'previstos': 6319, 'constam': 1766, 'demonstram': 2282, 'àquela': 8386, 'exigida': 3350, 'contemplação': 1837, 'destoam': 2472, 'formal': 3649, 'tampouco': 7756, 'imprescindível': 4125, 'esclarecer': 3100, 'jamais': 4610, 'prestadas': 6269, 'buscou': 1071, 'cras': 1998, 'identificação': 4009, 'numeração': 5497, 'descrita': 2370, 'modo': 5201, 'informação': 4337, 'remuneração': 6930, 'quarenta': 6622, 'maneira': 4989, 'equivocada': 3080, 'funcionários': 3727, 'atenderam': 748, 'implicou': 4096, 'necessária': 5367, 'sérios': 7727, 'prejuízos': 6233, 'financeiros': 3589, 'decorrência': 2189, 'erro': 3094, 'administração': 169, 'descentralizados': 2350, 'contestar': 1845, 'julho': 4685, 'julgada': 4674, 'cadunico': 1105, 'atualizações': 820, 'danos': 2128, 'morais': 5229, 'causou': 1240, 'bárbara': 1073, 'evelyn': 3251, 'incidirem': 4189, 'liberado': 4835, 'acordado': 108, 'anexado': 480, 'excederem': 3297, 'paulo': 5840, 'eduardo': 2817, 'bezerra': 999, 'lumba': 4932, 'ceabdj': 1254, 'casado': 1214, 'joão': 4652, 'rio': 7185, 'branco': 1041, 'ibura': 3992, 'firmado': 3596, 'olavo': 5611, 'bilac': 1003, 'apartamento': 540, 'jardim': 4619, 'atlântico': 794, 'olinda': 5616, 'encaminhadas': 2950, 'decorrentes': 2186, 'revis': 7165, 'revisão': 7170, 'mario': 5039, 'articulados': 680, 'referida': 6813, 'apt': 613, 'thiagoblumba': 7862, 'gmail': 3833, 'observe': 5546, 'tabela': 7741, 'apuração': 624, 'apurou': 625, 'apurado': 620, 'virtude': 8287, 'laborados': 4758, 'cetepe': 1303, 'ati': 772, 'exposição': 3402, 'agente': 264, 'nocivo': 5438, 'ruído': 7241, 'decibéis': 2155, 'ppp': 6159, 'ddoo': 2149, 'reconhecimento': 6777, 'redução': 6805, 'fator': 3495, 'rmi': 7194, 'fixada': 3613, 'fixa': 3612, 'cite': 1362, 'atingido': 777, 'prevideniciário': 6314, 'vigorava': 8258, 'regra': 6853, 'pontos': 6069, 'deu': 2497, 'consiste': 1750, 'tratam': 7981, 'alíneas': 414, 'média': 5300, 'aritmética': 655, 'maiores': 4973, 'contributivo': 1898, 'multiplicada': 5278, 'ffator': 3547, 'incluído': 4207, 'perííodo': 5984, 'laborado': 4757, 'setor': 7437, 'computação': 1559, 'qua': 6600, 'técnicos': 8048, 'ffica': 3548, 'ica': 3993, 'claro': 1377, 'pracitado': 6161, 'enquadrado': 3000, 'converté': 1925, 'los': 4915, 'comum': 1562, 'ante': 505, 'aao': 3, 'citar': 1359, 'edição': 2814, 'deveria': 2511, 'passou': 5816, 'esclarecimentos': 3104, 'níveis': 5503, 'jurisprudencial': 4714, 'vigência': 8261, 'indicou': 4272, 'procedido': 6374, 'esclarecidoclarecido': 3102, 'mostrou': 5242, 'pretensão': 6295, 'autoral': 872, 'reconhecer': 6770, 'econhecer': 2797, 'conseqüente': 1726, 'conversão': 1919, 'revisar': 7166, 'acréscimo': 126, 'especialidade': 3132, 'respeitada': 7045, 'permitidos': 5962, 'pactuados': 5722, 'celebrado': 1265, 'correspondente': 1958, 'federais': 3515, 'concedidos': 1583, 'nove': 5484, 'soma': 7553, 'jeane': 4621, 'emeliano': 2904, 'sítio': 7731, 'estancinha': 3203, 'exu': 3447, 'adiante': 153, 'cadastrado': 1096, 'ordinária': 5661, 'vinculada': 8269, 'economia': 2798, 'juazeiro': 4654, 'norte': 5464, 'baseando': 955, 'fáticos': 3758, 'aduzidos': 207, 'pleiteou': 6033, 'comunicado': 1564, 'decisão': 2164, 'acostado': 115, 'adolescente': 182, 'perícias': 5980, 'cargo': 1193, 'concluiu': 1607, 'incapacitada': 4167, 'entanto': 3023, 'real': 6705, 'ofício': 5605, 'monitoramento': 5215, 'operacional': 5637, 'informar': 4333, 'irregularidade': 4559, 'atentando': 757, 'percebe': 5889, 'aposentada': 578, 'perceber': 5891, 'consequentemente': 1723, 'ultrapassa': 8063, 'importantes': 4104, 'considerações': 1741, 'condiz': 1639, 'ressaltado': 7068, 'apurar': 622, 'respectivo': 7043, 'salientamos': 7273, 'continua': 1856, 'fibrose': 3551, 'cística': 2104, 'manifestações': 4996, 'pulmonares': 6578, 'anomalidades': 495, 'transtorno': 7975, 'ansioso': 504, 'especificado': 3142, 'incapacita': 4166, 'omniprofissional': 5626, 'notória': 5474, 'custeadas': 2085, 'hipossuficiente': 3942, 'pretende': 6287, 'expressa': 3407, 'regulamenta': 6862, 'elencadas': 2871, 'prevista': 6316, 'reduzir': 6803, 'janeiro': 4614, 'mínima': 5309, 'revogando': 7172, 'idosos': 4019, 'possuam': 6120, 'assegurado': 697, 'afastada': 228, 'constituem': 1787, 'avançada': 904, 'acompanhada': 91, 'cerne': 1287, 'apreciar': 586, 'trouxe': 8021, 'regulamentação': 6870, 'anomalias': 494, 'lesões': 4819, 'irreversíveis': 4570, 'hereditária': 3928, 'congênitas': 1689, 'adquiridas': 195, 'impeçam': 4076, 'diária': 2709, 'anexados': 481, 'atestam': 768, 'permanentemente': 5949, 'preconizados': 6197, 'transtornos': 7976, 'mentais': 5122, 'repercussões': 6954, 'áreas': 8395, 'necessitando': 5363, 'urgentemente': 8102, 'acompanhamento': 95, 'psiquiatria': 6561, 'psicologia': 6551, 'locomoção': 4904, 'impossível': 4117, 'reversão': 7163, 'friso': 3711, 'nova': 5480, 'uniformização': 8081, 'tun': 8030, 'traduz': 7939, 'adotado': 187, 'elementares': 2866, 'impossibilita': 4111, 'aptidão': 615, 'vale': 8127, 'ressaltar': 7069, 'intenção': 4462, 'exigir': 3355, 'requisito': 7004, 'alcançar': 332, 'possuíssem': 6131, 'quase': 6627, 'vegetativa': 8167, 'iria': 4553, 'desacordo': 2336, 'inserção': 4396, 'estimulando': 3226, 'interagir': 4465, 'desenvolver': 2403, 'casu': 1222, 'recorrente': 6782, 'apesar': 550, 'vestir': 8225, 'banhar': 937, 'plenamente': 6037, 'induvidoso': 4289, 'sabido': 7256, 'proteger': 6493, 'pretenso': 6293, 'preenche': 6201, 'lado': 4771, 'constituirá': 1792, 'aferir': 235, 'cuidadosa': 2046, 'núcleo': 5506, 'daquele': 2135, 'quantum': 6621, 'eventualmente': 3257, 'ultrapasse': 8067, 'indeferir': 4240, 'entendendo': 3029, 'parente': 5780, 'cômputo': 2112, 'impossibilidade': 4110, 'interpretação': 4499, 'restritiva': 7099, 'precedentes': 6179, 'regulamentado': 6865, 'portadores': 6083, 'veda': 8163, 'percebido': 5893, 'membro': 5101, 'consolidou': 1763, 'insatisfatório': 4381, 'faça': 3510, 'probatórios': 6360, 'aptos': 617, 'ministra': 5167, 'thereza': 7860, 'assis': 716, 'moura': 5258, 'sexta': 7444, 'recentemente': 6746, 'quinta': 6656, 'idêntica': 4020, 'acertadamente': 59, 'agtr': 303, 'insuficiente': 4432, 'agravante': 279, 'válido': 8346, 'podendo': 6048, 'utilizar': 8118, 'insuficiência': 4433, 'subsistir': 7615, 'obstante': 5552, 'incabível': 4163, 'estreita': 3233, 'valoração': 8137, 'concreto': 1622, 'excepcionalmente': 3304, 'acerca': 58, 'admite': 174, 'precário': 6199, 'orientação': 5672, 'postulante': 6147, 'prima': 6327, 'facie': 3454, 'mister': 5181, 'utilize': 8121, 'proporcionalidade': 6468, 'ponderar': 6066, 'adequação': 145, 'percebida': 5892, 'inconstitucionalidade': 4220, 'argüida': 653, 'adin': 158, 'improcedente': 4129, 'maioria': 4974, 'votos': 8342, 'plenário': 6040, 'proferida': 6411, 'retirou': 7131, 'decisium': 2162, 'ver': 8187, 'preceito': 6181, 'estabeleceu': 3186, 'objetiva': 5516, 'penúria': 5881, 'incontestável': 4224, 'dispensando': 2639, 'daí': 2146, 'suplantado': 7668, 'poderão': 6054, 'ressalte': 7070, 'tribunais': 8010, 'pátrios': 6587, 'têm': 8051, 'admitido': 177, 'analógica': 466, 'esposado': 3167, 'extraordinário': 3436, 'transcreve': 7948, 'violação': 8281, 'adi': 149, 'inexistência': 4306, 'contraria': 1876, 'corte': 1978, 'dedução': 2201, 'entidade': 3038, 'cezar': 1305, 'peluso': 5864, 'julgar': 4681, 'assegurar': 699, 'administrativa': 164, 'moratórios': 5231, 'incidentes': 4187, 'efetivo': 2833, 'cancelamento': 1145, 'cobrança': 1408, 'mandando': 4986, 'processada': 6380, 'condenada': 1627, 'cientificação': 1335, 'intervir': 4509, 'calculados': 1118, 'cominações': 1459, 'introduzidas': 4517, 'fiscais': 3599, 'maximira': 5066, 'ribeiro': 7180, 'wanderley': 8358, 'iago': 3990, 'sales': 7270, 'almeida': 378, 'josenita': 4645, 'barbosa': 941, 'assessoria': 707, 'residentes': 7026, 'domiciliados': 2740, 'jose': 4642, 'barata': 940, 'jiquia': 4627, 'procuradores': 6395, 'campos': 1139, 'piedade': 6004, 'jaboatão': 4601, 'guararapes': 3882, 'fax': 3501, 'mail': 4969, 'juridico': 4708, 'josales': 4641, 'deverão': 2514, 'endereçadas': 2974, 'publicações': 6568, 'herculano': 3927, 'bandeira': 936, 'pina': 6007, 'fundamento': 3741, 'fones': 3639, 'medicamentoso': 5081, 'lumbago': 4933, 'ciática': 1369, 'manguito': 4991, 'rotador': 7220, 'esporão': 3164, 'calcâneo': 1120, 'primária': 6334, 'bilateral': 1004, 'coxartrose': 1993, 'neoplasia': 5398, 'maligna': 4982, 'coutinho': 1991, 'crm': 2029, 'esperança': 3157, 'abrandamento': 18, 'enfermidades': 2980, 'diapasão': 2542, 'impossibilitado': 4113, 'contrariando': 1877, 'expectativas': 3379, 'agravou': 284, 'esforço': 3119, 'fez': 3546, 'recuperar': 6787, 'readquiriu': 6698, 'adquiriu': 198, 'inconformada': 4214, 'verbas': 8191, 'salariais': 7265, 'oriundas': 5679, 'continuando': 1861, 'mesmos': 5143, 'sintomas': 7484, 'socorre': 7524, 'acolhida': 80, 'previdenciários': 6313, 'destinados': 2465, 'cobertura': 1403, 'eventos': 3253, 'causadores': 1233, 'arts': 689, 'respectivamente': 7041, 'dependendo': 2311, 'caracterização': 1177, 'temporária': 7804, 'diz': 2706, 'havendocumprido': 3913, 'exigido': 3352, 'nesta': 5404, 'ficar': 3555, 'quinze': 6657, 'consecutivos': 1712, 'filiar': 3574, 'regime': 6832, 'lesão': 4818, 'invocada': 4535, 'salvo': 7280, 'sobrevier': 7508, 'progressão': 6434, 'enuncia': 3048, 'cumprida': 2061, 'estando': 3204, 'gozo': 3851, 'insusceptível': 4435, 'reabilitação': 6697, 'paga': 5731, 'permanecer': 5944, 'dependerá': 2316, 'daprevidência': 2132, 'expensas': 3384, 'acompanhar': 97, 'confiança': 1662, 'conferirá': 1659, 'dispositivos': 2654, 'transcritos': 7954, 'necessários': 5370, 'analise': 463, 'autorizam': 881, 'porquanto': 6075, 'labor': 4754, 'saliente': 7275, 'início': 4544, 'mediação': 5078, 'manifestar': 4994, 'ambas': 423, 'dispensem': 2641, 'deslinde': 2429, 'questões': 6652, 'ligadas': 4845, 'nexo': 5428, 'causalidade': 1234, 'consequente': 1722, 'ética': 8401, 'categoria': 1225, 'normas': 5456, 'específicas': 3150, 'observadas': 5540, 'referidas': 6814, 'norma': 5451, 'cogente': 1411, 'vincula': 8268, 'nulidade': 5495, 'complexo': 1505, 'envolve': 3054, 'clínico': 1393, 'essenciais': 3178, 'satisfatória': 7304, 'imperativo': 4070, 'versa': 8212, 'expert': 3387, 'confecção': 1653, 'pareceres': 5779, 'irresponsáveis': 4568, 'trecho': 8003, 'discordar': 2618, 'atestado': 766, 'justifique': 4737, 'discordância': 2619, 'trabalhador': 7925, 'assumindo': 736, 'diploma': 2592, 'exige': 3348, 'fumus': 3721, 'boni': 1031, 'iuris': 4595, 'periculum': 5930, 'visa': 8288, 'evidente': 3265, 'eis': 2852, 'intuitivo': 4519, 'mantença': 5004, 'toada': 7879, 'necessita': 5357, 'custear': 2086, 'reúne': 7176, 'patrocinar': 5831, 'copias': 1941, 'revela': 7156, 'genéricos': 3801, 'inerentes': 4299, 'pretendido': 6290, 'tão': 8044, 'inúmeros': 4546, 'inaptidão': 4157, 'tornam': 7904, 'satisfeito': 7311, 'específico': 3151, 'ponto': 6068, 'transcrever': 7951, 'grifei': 3872, 'leitura': 4813, 'transcrito': 7953, 'totalmente': 7919, 'imperativa': 4069, 'antecipatória': 516, 'imperioso': 4073, 'antecipados': 513, 'limine': 4849, 'litis': 4885, 'imediato': 4050, 'obrigações': 5536, 'inteligência': 4458, 'inominado': 4373, 'interposto': 4495, 'suspensivo': 7712, 'eventual': 3255, 'petitório': 5998, 'compele': 1481, 'cumprir': 2066, 'primeiro': 6331, 'implantar': 4078, 'peça': 6002, 'inaugural': 4161, 'principalmente': 6337, 'conselho': 1721, 'medicina': 5084, 'majoração': 4978, 'constatação': 1777, 'cessado': 1297, 'acidente': 67, 'mera': 5127, 'limitação': 4859, 'intimado': 4512, 'imediatamente': 4049, 'vencimento': 8181, 'importe': 4105, 'cabíveis': 1090, 'jurisdição': 4713, 'junho': 4689, 'shirleide': 7451, 'bacharel': 919, 'próprios': 6548, 'respondidos': 7060, 'destacar': 2456, 'elaborar': 2856, 'técnico': 8047, 'ditames': 2683, 'retro': 7136, 'fundamentar': 3737, 'respostas': 7066, 'peculiaridades': 5846, 'patologias': 5825, 'diagnosticadas': 2533, 'provável': 6536, 'diagnóstico': 2537, 'campo': 1138, 'atuação': 824, 'indicada': 4262, 'avaliadas': 898, 'esclareça': 3105, 'consistem': 1751, 'pericianda': 5924, 'evolutivo': 3274, 'descompensado': 2351, 'estabilizado': 3193, 'apreciando': 585, 'acompanha': 90, 'apontam': 572, 'exemplificativo': 3328, 'veja': 8171, 'aduziu': 209, 'paciente': 5715, 'indeterminado': 4254, 'luz': 4937, 'acolher': 79, 'apontado': 571, 'colega': 1425, 'desabona': 2333, 'referidos': 6816, 'fundamentadamente': 3734, 'estimado': 3225, 'indicado': 4264, 'dizer': 2708, 'restringe': 7095, 'desempenhada': 2387, 'uniprofissional': 8083, 'estende': 3214, 'relacionadas': 6889, 'multiprofissional': 5282, 'especifique': 3146, 'surgimento': 7695, 'término': 8049, 'apta': 614, 'afirma': 247, 'funcional': 3722, 'comparado': 1465, 'irá': 4573, 'sintomatologia': 7485, 'psiquiátrica': 6562, 'ambiente': 426, 'rotina': 7222, 'geraram': 3812, 'trate': 7987, 'incapacitante': 4170, 'considerar': 1739, 'sofreu': 7532, 'sofre': 7528, 'acometimento': 89, 'moral': 5230, 'trabalhista': 7935, 'feder': 3514, 'virtual': 8286, 'secção': 7335, 'montenegro': 5223, 'arraial': 669, 'salgado': 7271, 'legalmente': 4793, 'arquivado': 667, 'ciente': 1334, 'postulados': 6145, 'horário': 3973, 'indicados': 4266, 'andamento': 470, 'comunicar': 1565, 'curso': 2081, 'natural': 5345, 'estrangeira': 3230, 'formulado': 3661, 'ingresso': 4350, 'pleiteiam': 6032, 'assegurados': 698, 'exerceu': 3334, 'insalubres': 4378, 'administrativamente': 165, 'indeferida': 4236, 'alegação': 341, 'descritas': 2371, 'dss': 2773, 'sabemos': 7253, 'deixou': 2248, 'hábeis': 3988, 'corroboram': 1974, 'indispensáveis': 4276, 'pleiteado': 6026, 'amparada': 435, 'pleiteia': 6031, 'trabalhado': 7924, 'durante': 2780, 'sujeito': 7646, 'prejudiquem': 6231, 'integridade': 4451, 'variar': 8150, 'filiação': 3576, 'segurados': 7360, 'filiados': 3573, 'corresponderá': 1960, 'corrigidos': 1969, 'competência': 1490, 'sucessivas': 7632, 'exercidas': 3338, 'exercido': 3339, 'sucessivamente': 7631, 'sujeitas': 7645, 'prejudiciais': 6226, 'completar': 1502, 'respectivos': 7044, 'períodos': 5983, 'considerada': 1733, 'preponderante': 6241, 'multiplicadores': 5280, 'converter': 1921, 'mulher': 5273, 'beneficiando': 978, 'convertido': 1923, 'somado': 7555, 'motorista': 5254, 'caminhões': 1135, 'carga': 1192, 'caminhão': 1134, 'desenvolvida': 2406, 'molde': 5204, 'improvido': 4132, 'arice': 654, 'amaral': 420, 'adquirido': 196, 'contagem': 1823, 'tratorista': 7989, 'pesada': 5985, 'preliminar': 6235, 'rejeitada': 6886, 'adesivo': 147, 'prejudicado': 6219, 'providos': 6528, 'confunde': 1682, 'mérito': 5307, 'dirimida': 2608, 'presta': 6267, 'trabalha': 7923, 'ocorrida': 5581, 'reconheça': 6778, 'retira': 7127, 'patrimônio': 5830, 'min': 5162, 'felix': 3526, 'fischer': 3604, 'elencada': 2870, 'decretos': 2192, 'regulamentares': 6869, 'advento': 212, 'agentes': 265, 'item': 4590, 'transporte': 7972, 'urbano': 8096, 'rodoviário': 7206, 'posicionou': 6100, 'descaracteriza': 2344, 'agressividade': 286, 'nocividade': 5437, 'ams': 448, 'tourinho': 7921, 'cabais': 1078, 'neutralizado': 5419, 'completo': 1503, 'deletéria': 2250, 'ambientais': 424, 'nocivos': 5439, 'perfaz': 5909, 'proporcional': 6467, 'implementadas': 4083, 'emenda': 2905, 'inovações': 4375, 'constitucionais': 1783, 'atingem': 775, 'exato': 3287, 'fase': 3491, 'mês': 5308, 'fixado': 3614, 'índices': 8406, 'pretéritas': 6298, 'gonzaga': 3841, 'moreira': 5233, 'organizada': 5665, 'obrigatória': 5533, 'observados': 5542, 'preservem': 6259, 'equilíbrio': 3068, 'atuarial': 823, 'atenderá': 750, 'dou': 2758, 'dentro': 2306, 'limites': 4863, 'julgados': 4678, 'quer': 6643, 'declarada': 2168, 'quaisquer': 6605, 'tipos': 7870, 'prestam': 6273, 'formar': 3654, 'convicção': 1926, 'obtida': 5563, 'defeso': 2216, 'frontalmente': 3712, 'justo': 4741, 'texto': 7853, 'inclusa': 4201, 'dossiê': 2756, 'básicos': 1077, 'irreal': 4557, 'desumana': 2473, 'injusta': 4365, 'completamente': 1501, 'desvinculada': 2476, 'sócio': 7733, 'ferindo': 3535, 'históricos': 3953, 'justificam': 4731, 'introdução': 4518, 'interpretadas': 4497, 'realizem': 6719, 'destinação': 2469, 'aplicadas': 555, 'evidentemente': 3266, 'assistir': 726, 'república': 6984, 'federativa': 3517, 'erradicar': 3092, 'marginalização': 5034, 'desigualdades': 2425, 'criando': 2014, 'tantos': 7761, 'empecilhos': 2928, 'ferido': 3533, 'velhice': 8173, 'indigna': 4273, 'aumentando': 840, 'conseqüência': 1727, 'exército': 3449, 'marginalizados': 5033, 'destituídos': 2470, 'consideração': 1740, 'país': 5842, 'sobejamente': 7503, 'satisfaz': 7305, 'força': 3679, 'vigor': 8256, 'vasta': 8158, 'documentação': 2726, 'acrescenta': 118, 'preencheu': 6206, 'farta': 3489, 'resolveu': 7037, 'ignorar': 4023, 'concedendo': 1576, 'enfocados': 2983, 'exegese': 3326, 'permitida': 5959, 'inteira': 4453, 'divergência': 2688, 'regionais': 6837, 'uníssona': 8092, 'pacífica': 5723, 'procedentes': 6368, 'oral': 5654, 'dezesseis': 2527, 'nemézio': 5394, 'vasconcelos': 8153, 'júnior': 4747, 'exmo': 3375, 'célia': 2098, 'agricultora': 292, 'lulu': 4931, 'lara': 4777, 'jamille': 4612, 'rocha': 7199, 'teixeira': 7786, 'barreto': 945, 'valdir': 8126, 'crato': 1999, 'promovente': 6448, 'sério': 7726, 'comprometimento': 1535, 'públicos': 6598, 'estadual': 3197, 'colaboração': 1419, 'possam': 6108, 'concederão': 1579, 'necessitados': 5361, 'gozarão': 3850, 'nacionais': 5318, 'estrangeiros': 3232, 'recorrer': 6783, 'penal': 5866, 'militar': 5161, 'necessitado': 5360, 'gozará': 3849, 'afirmação': 254, 'prestará': 6276, 'comprovarem': 1548, 'cujos': 2051, 'jeronimo': 4624, 'elias': 2881, 'indeferiu': 4242, 'alegando': 340, 'mostra': 5239, 'procura': 6391, 'garantido': 3785, 'initio': 4364, 'estampado': 3201, 'continuado': 1858, 'substitutiva': 7625, 'regras': 6855, 'vêm': 8353, 'disciplinadas': 2612, 'quantos': 6620, 'depende': 2309, 'ocasião': 5573, 'regido': 6831, 'voltante': 8332, 'boia': 1019, 'fria': 3706, 'instituidor': 4409, 'suplementar': 7670, 'márcio': 5291, 'juntado': 4694, 'obrigatório': 5534, 'imóvel': 4145, 'aglomerado': 268, 'produtor': 6403, 'proprietário': 6479, 'usufrutuário': 8109, 'possuidor': 6124, 'assentado': 703, 'parceiro': 5771, 'meeiro': 5088, 'comodatário': 1462, 'arrendatário': 671, 'rurais': 7235, 'explore': 3398, 'agropecuária': 295, 'módulos': 5312, 'maior': 4972, 'equiparado': 3072, 'comprovadamente': 1539, 'trabalhem': 7934, 'colaborando': 1418, 'ativamente': 786, 'corroborar': 1976, 'robusta': 7198, 'assegura': 695, 'carteira': 1203, 'sindicato': 7481, 'darf': 2138, 'itr': 4593, 'recibos': 6750, 'suprimentos': 7689, 'beneficiários': 986, 'indicadas': 4263, 'colaciona': 1420, 'casados': 1215, 'novembro': 5486, 'preenchido': 6209, 'temporal': 7801, 'disciplinado': 2613, 'requerida': 6996, 'noventa': 5487, 'vínculo': 8355, 'matrimonial': 5060, 'responda': 7055, 'ocorra': 5575, 'dezenove': 2526, 'espera': 3153, 'douto': 2759, 'laercio': 4772, 'guerra': 3890, 'servente': 7414, 'registro': 6847, 'jaqueira': 4617, 'coronel': 1950, 'paranhos': 5767, 'modelo': 5187, 'filiou': 3577, 'celebração': 1266, 'usina': 8105, 'frei': 3698, 'caneca': 1150, 'mantendo': 5003, 'depreende': 2321, 'planilha': 6019, 'colacionadas': 1421, 'anotar': 499, 'cozinhador': 1994, 'vigilante': 8253, 'intermitente': 4484, 'calor': 1124, 'hidrocarbonetos': 3936, 'aromáticos': 665, 'perfis': 5915, 'profissiográficos': 6421, 'nocivas': 5436, 'verteu': 8219, 'contribuições': 1896, 'levantamento': 4828, 'ambiental': 425, 'colacionados': 1423, 'cumpriu': 2067, 'protocolizou': 6506, 'aps': 612, 'equívoca': 3086, 'entrada': 3041, 'comunicação': 1566, 'irresignado': 4565, 'descaso': 2349, 'sanar': 7285, 'elucidada': 2891, 'valer': 8129, 'assegurada': 696, 'constitucionalmente': 1786, 'obedecidas': 5510, 'ratificou': 6687, 'dispor': 2652, 'inscritos': 4387, 'cumpra': 2058, 'adicional': 155, 'faltava': 3477, 'atingir': 779, 'chamado': 1309, 'pedágio': 5862, 'empregado': 2933, 'bastando': 959, 'remunerada': 6928, 'empregador': 2934, 'tributário': 8015, 'cartões': 1206, 'declarações': 2176, 'garantir': 3787, 'proteções': 6505, 'previdenciárias': 6311, 'diferenciado': 2551, 'exercida': 3337, 'sabe': 7252, 'prestados': 6272, 'riscos': 7188, 'superiores': 7665, 'normais': 5452, 'cumprido': 2062, 'justifica': 4729, 'arcabouço': 642, 'ressalta': 7067, 'adquire': 193, 'exercitado': 3341, 'regulamentada': 6863, 'contasse': 1827, 'trabalhasse': 7933, 'menos': 5117, 'penosos': 5874, 'perigosos': 5935, 'suprimiu': 7691, 'venham': 8184, 'consideradas': 1734, 'contida': 1851, 'alhures': 363, 'funções': 3746, 'efetivamente': 2828, 'elencados': 2872, 'ocasional': 5570, 'alternância': 395, 'jornada': 4638, 'exposta': 3403, 'agressivos': 288, 'dando': 2122, 'continuidade': 1865, 'respaldo': 7039, 'normativo': 5460, 'frise': 3710, 'terminou': 7835, 'pacificado': 5718, 'inúmeras': 4545, 'ratificados': 6685, 'bastava': 962, 'enquadrada': 2999, 'categorias': 1226, 'previstas': 6317, 'juris': 4711, 'jure': 4705, 'arroladas': 674, 'mencionados': 5108, 'meramente': 5128, 'impedimento': 4061, 'tidas': 7864, 'perigosas': 5933, 'penosas': 5872, 'comprovadas': 1540, 'adiantado': 152, 'gozam': 3848, 'relativa': 6898, 'napoleão': 5322, 'nunes': 5499, 'maia': 4968, 'citando': 1358, 'professora': 6418, 'adriane': 200, 'bramante': 1040, 'afirmou': 255, 'inegável': 4294, 'acontecimento': 107, 'súbito': 7737, 'tange': 7757, 'segurança': 7361, 'patrimonial': 5829, 'precária': 6198, 'jairo': 4609, 'fares': 3485, 'clementel': 1385, 'prosperar': 6489, 'denegatório': 2297, 'averbar': 908, 'posterior': 6137, 'retroativas': 7140, 'datado': 2141, 'interposição': 4494, 'termo': 7836, 'homologar': 3962, 'ressalvando': 7075, 'optar': 5651, 'saldo': 7269, 'faculta': 3459, 'instruem': 4421, 'vir': 8284, 'produzir': 6408, 'permitidas': 5960, 'reservando': 7012, 'especificá': 3145, 'las': 4779, 'oportuna': 5643, 'motivadamente': 5245, 'naquelas': 5323, 'camila': 1128, 'carla': 1195, 'moraes': 5228, 'rodrigues': 7208, 'edinalva': 2807, 'andrade': 473, 'regularmente': 6878, 'areia': 646, 'junco': 4688, 'vertentes': 8218, 'solicitar': 7541, 'interpor': 4492, 'previdenciaria': 6309, 'transformação': 7960, 'acepção': 57, 'demandar': 2270, 'sacrifício': 7262, 'liminarmente': 4848, 'turno': 8033, 'pretendidos': 6291, 'satisfaça': 7309, 'temporariamente': 7803, 'pleitos': 6035, 'propostos': 6475, 'verossimilhança': 8210, 'fundado': 3729, 'dão': 2786, 'viável': 8324, 'trabalhar': 7931, 'trazer': 7997, 'mercê': 5130, 'nenhum': 5395, 'existem': 3365, 'assistem': 718, 'negados': 5377, 'existe': 3364, 'reparar': 6948, 'atendida': 753, 'pleiteada': 6025, 'comprovados': 1542, 'pretendida': 6289, 'encontrar': 2967, 'cotidiano': 1987, 'comunicou': 1568, 'sequer': 7404, 'disponibilizou': 2649, 'concernente': 1594, 'consultas': 1809, 'portal': 6084, 'registros': 6848, 'intimada': 4510, 'restou': 7094, 'trabalhadora': 7926, 'juventude': 4742, 'rurícola': 7237, 'terras': 7840, 'labora': 4755, 'comprovante': 1545, 'demostrando': 2295, 'nunca': 5498, 'urbanas': 8095, 'agricultura': 294, 'garantiu': 3788, 'fichas': 3560, 'hospitalares': 3976, 'profissão': 6425, 'eleitoral': 2865, 'constando': 1767, 'ocupação': 5587, 'dap': 2131, 'pronaf': 6457, 'anual': 531, 'material': 5052, 'explorada': 3396, 'areias': 647, 'milho': 5158, 'feijão': 3519, 'galinha': 3770, 'derivados': 2329, 'propriedade': 6477, 'agendamento': 263, 'presidente': 6261, 'atribuições': 810, 'confere': 1654, 'agosto': 271, 'disciplinar': 2616, 'solicitação': 7542, 'aplicando': 559, 'exceto': 3307, 'comparecimento': 1473, 'remarcação': 6923, 'hipóteses': 3949, 'agendada': 262, 'resguardada': 7015, 'solicitante': 7540, 'registrada': 6841, 'eventualidade': 3256, 'mantida': 5008, 'caminho': 1133, 'continuou': 1867, 'acometida': 87, 'câncer': 2096, 'oncologia': 5630, 'acostou': 117, 'comprovando': 1544, 'pars': 5786, 'encontrarem': 2968, 'quis': 6658, 'contemporânea': 1839, 'limitar': 4857, 'senda': 7379, 'transformado': 7958, 'cura': 2075, 'irreversível': 4571, 'autoriza': 876, 'urge': 8099, 'escrita': 3114, 'constatada': 1773, 'incurável': 4235, 'mero': 5136, 'desconsiderando': 2361, 'persiste': 5970, 'cabível': 1091, 'eminentemente': 2916, 'fernando': 3538, 'quadros': 6603, 'hialina': 3932, 'clareza': 1375, 'levando': 4826, 'inconteste': 4223, 'lídima': 4944, 'implante': 4080, 'demonstre': 2291, 'restabelecido': 7085, 'efetuando': 2837, 'pagos': 5740, 'transforme': 7961, 'determinação': 2491, 'protestando': 6500, 'alçada': 411, 'pedimos': 5858, 'esperamos': 3155, 'miranda': 5176, 'thaina': 7856, 'vitoria': 8307, 'perereira': 5908, 'nascida': 5334, 'representador': 6965, 'evânia': 3276, 'sitio': 7493, 'olho': 5613, 'agua': 305, 'gravatá': 3862, 'rafaelly': 6669, 'medeiros': 5076, 'franciele': 3689, 'cristina': 2026, 'otilia': 5691, 'paulina': 5838, 'albuquerque': 326, 'riacho': 7179, 'mel': 5093, 'constituídos': 1801, 'sala': 7264, 'fsantana': 3717, 'advocaciafranciscosantana': 217, 'suficientes': 7641, 'permitam': 5955, 'salarios': 7267, 'minimos': 5165, 'perfeito': 5912, 'tramitou': 7946, 'deferindo': 2212, 'thainá': 7857, 'havidos': 3919, 'maternidade': 5055, 'periodo': 5938, 'inicio': 4362, 'area': 645, 'estivas': 3229, 'autodeclaração': 862, 'cafundó': 1108, 'havido': 3918, 'batata': 964, 'criação': 2018, 'ingressa': 4346, 'averbação': 909, 'caraterizados': 1179, 'autoras': 873, 'incube': 4233, 'evidencia': 3258, 'util': 8111, 'demonstrados': 2281, 'oitiva': 5607, 'contrária': 1907, 'vedada': 8164, 'implicar': 4092, 'perecimento': 5906, 'invocado': 4536, 'necessite': 5366, 'sobreviver': 7512, 'excepcional': 3302, 'cognição': 1413, 'sumária': 7653, 'aplicar': 560, 'parcimônia': 5777, 'restringindo': 7097, 'àqueles': 8389, 'verifique': 8208, 'aludido': 403, 'conclui': 1605, 'satisfazer': 7307, 'cumulativamente': 2069, 'ingressar': 4349, 'rgps': 7177, 'alegações': 342, 'autorais': 871, 'evidenciada': 3259, 'agrg': 290, 'mantido': 5009, 'quo': 6661, 'rogerio': 7212, 'tobias': 7881, 'carvalho': 1209, 'disponibilização': 2648, 'restam': 7087, 'legitimidade': 4800, 'substituidora': 7620, 'definição': 2231, 'trazida': 7998, 'define': 2222, 'inválidos': 4540, 'emancipados': 2897, 'perímetro': 5981, 'reuniu': 7153, 'arrepio': 672, 'subsistem': 7614, 'atualizado': 816, 'proceder': 6369, 'onze': 5636, 'quinhentos': 6654, 'ipca': 4547, 'taxa': 7772, 'iniciando': 4359, 'integralmente': 4443, 'dado': 2117, 'parâmetros': 5801, 'escorreito': 3112, 'novecentos': 5485, 'francisco': 3691, 'xavier': 8365, 'vicente': 8237, 'marcia': 5026, 'torres': 7911, 'economica': 2799, 'israel': 4587, 'feriane': 3531, 'informacoes': 4325, 'carolina': 1199, 'soares': 7501, 'previdencia': 6308, 'concessao': 1597, 'sergipe': 7409, 'jef': 4622, 'natal': 5341, 'conrado': 1707, 'aracaju': 632, 'marciabartowskii': 5027, 'defensoria': 2206, 'dpu': 2769, 'gov': 3844, 'beira': 968, 'mar': 5018, 'praia': 6163, 'cju': 1372, 'agu': 304, 'barão': 951, 'maruim': 5043, 'juriraj': 4710, 'unidade': 8077, 'ivo': 4598, 'prado': 6162, 'alicerçando': 368, 'satisfativa': 7303, 'institução': 4416, 'praxe': 6169, 'forense': 3644, 'apreciação': 587, 'conjuntura': 1704, 'ensejou': 3018, 'atribuição': 809, 'verdadeira': 8194, 'penalidade': 5867, 'repise': 6958, 'impor': 4101, 'patente': 5823, 'documentalmente': 2725, 'aguarde': 308, 'desenrolar': 2400, 'deveras': 2509, 'cruel': 2032, 'deixando': 2242, 'guardar': 3884, 'observância': 5549, 'precariamente': 6174, 'população': 6070, 'alheios': 362, 'vontade': 8338, 'isolamento': 4583, 'solucionada': 7548, 'transformar': 7959, 'poupança': 6156, 'futuramente': 3749, 'exauriente': 3289, 'servirá': 7425, 'urgente': 8101, 'raimundo': 6673, 'costa': 1982, 'coelho': 1409, 'versar': 8216, 'encartado': 2957, 'reserva': 7010, 'incluídos': 4208, 'contexto': 1849, 'sanitária': 7289, 'desemparo': 2386, 'enfrentando': 2989, 'dificuldades': 2561, 'suprimento': 7688, 'postergação': 6136, 'otávio': 5692, 'noronha': 5463, 'excerto': 3305, 'decisório': 2165, 'traz': 7995, 'circunstâncias': 1351, 'horas': 3970, 'operações': 5640, 'referentes': 6812, 'representa': 6962, 'intercorrência': 4469, 'administrável': 170, 'desaceleração': 2334, 'abrupta': 27, 'comerciais': 1451, 'privado': 6349, 'retardar': 7119, 'acarretará': 44, 'desastrosas': 2340, 'sls': 7500, 'autuado': 885, 'trfª': 8009, 'reversibilidade': 7162, 'irreversibilidade': 4569, 'recíproca': 6795, 'sopesamento': 7566, 'interesses': 4476, 'fiel': 3563, 'balança': 926, 'epígrafe': 3066, 'precisamente': 6187, 'balanceamento': 925, 'absolutamente': 30, 'delicado': 2252, 'preponderar': 6242, 'encargos': 2955, 'propugna': 6481, 'prerrogativa': 6245, 'inc': 4162, 'combinado': 1444, 'recebendo': 6730, 'bloqueadas': 1015, 'municipal': 5285, 'trabalhou': 7938, 'funcionária': 3725, 'vitalício': 8305, 'bicos': 1001, 'esporadicamente': 3163, 'garçonete': 3789, 'resumo': 7117, 'sobremaneira': 7505, 'limitada': 4851, 'limitações': 4860, 'impostas': 4119, 'privada': 6348, 'equivocado': 3082, 'imperiosa': 4072, 'invocar': 4538, 'determine': 2492, 'demandados': 2267, 'rogando': 7211, 'levada': 4823, 'desnaturar': 2432, 'mendicância': 5112, 'privação': 6353, 'afigura': 243, 'condizente': 1641, 'parágrafos': 5799, 'comento': 1449, 'embasam': 2901, 'apreço': 603, 'harmonia': 3911, 'diversos': 2693, 'denominado': 2301, 'persistindo': 5971, 'adequações': 146, 'legislativas': 4796, 'excepcionais': 3301, 'membros': 5102, 'acrescentou': 121, 'supra': 7678, 'derradeiro': 2331, 'distintos': 2671, 'daqueles': 2136, 'residual': 7029, 'equivalentes': 3077, 'pior': 6014, 'contrastando': 1879, 'reitere': 6885, 'assola': 733, 'mães': 5297, 'chefes': 1313, 'monoparental': 5219, 'limitadas': 4852, 'incidam': 4180, 'vedações': 8166, 'trazidas': 7999, 'beneciários': 973, 'elegíveis': 2863, 'pagas': 5737, 'beneciário': 972, 'atenda': 741, 'ativo': 791, 'provenientes': 6521, 'ressalvados': 7074, 'abono': 14, 'salarial': 7266, 'regulado': 6859, 'aufira': 836, 'exterior': 3426, 'definida': 2223, 'tributáveis': 8016, 'posse': 6109, 'terra': 7839, 'nua': 5493, 'isentos': 4578, 'tributados': 8012, 'declarante': 2172, 'imposto': 4120, 'contribuinte': 1892, 'conviva': 1928, 'enteado': 3025, 'matriculado': 5059, 'estabelecimento': 3191, 'ensino': 3021, 'preso': 6263, 'fechado': 3512, 'físicas': 3761, 'reclusão': 6761, 'adolescentes': 183, 'xii': 8366, 'indicativo': 4269, 'bases': 957, 'xiii': 8367, 'elegibilidade': 2862, 'xiv': 8368, 'movimentado': 5259, 'relativos': 6903, 'disponibilizados': 2646, 'contábil': 1911, 'digital': 2570, 'aberta': 10, 'definido': 2224, 'estagiário': 3199, 'coordenação': 1940, 'aperfeiçoamento': 549, 'capes': 1158, 'bolsas': 1024, 'científico': 1336, 'tecnológico': 7784, 'cnpq': 1399, 'concedidas': 1581, 'distrital': 2679, 'consistindo': 1754, 'mudança': 5265, 'substancial': 7618, 'limitou': 4864, 'transcrita': 7952, 'exemplo': 3329, 'compatibilizada': 1477, 'essência': 3180, 'brutal': 1063, 'necessitadas': 5359, 'explica': 3389, 'estipulados': 3228, 'panorama': 5755, 'legislativo': 4797, 'úteis': 8430, 'pleitearam': 6030, 'fáticas': 3756, 'histórico': 3952, 'inesperado': 4300, 'pensamento': 5875, 'leigo': 4808, 'vivenciada': 8313, 'persistência': 5973, 'notório': 5476, 'precisando': 6188, 'aspectos': 693, 'global': 3831, 'moderna': 5190, 'atípico': 826, 'dominado': 2743, 'incertezas': 4177, 'complementa': 1493, 'crucial': 2031, 'relações': 6911, 'atingidas': 776, 'indireta': 4274, 'diretamente': 2600, 'obviamente': 5567, 'sanitários': 7290, 'econômicos': 2805, 'incidem': 4182, 'aquisitivo': 628, 'intensa': 4459, 'surpreender': 7700, 'dadas': 2115, 'assolam': 734, 'piora': 6015, 'demandando': 2268, 'mitigados': 5185, 'evitados': 3269, 'nessa': 5401, 'ideias': 4001, 'atenuação': 761, 'negativos': 5383, 'conflitos': 1677, 'obrigacionais': 5526, 'servindo': 7423, 'apoio': 566, 'fraternidade': 3693, 'teoria': 7823, 'capitalismo': 1162, 'humanista': 3982, 'alcance': 328, 'paz': 5841, 'interpretada': 4496, 'previamente': 6307, 'combinando': 1445, 'avaliados': 899, 'mencionada': 5105, 'almejada': 379, 'espírito': 3172, 'cidadão': 1331, 'detidamente': 2494, 'normativa': 5457, 'guarde': 3886, 'consigo': 1749, 'destacam': 2454, 'ensinamentos': 3020, 'professor': 6417, 'carlos': 1196, 'augusto': 837, 'alcântara': 334, 'machado': 4954, 'aspecto': 692, 'destaque': 2459, 'descartado': 2348, 'ideológico': 4013, 'particular': 5794, 'acerto': 61, 'entendia': 3032, 'lex': 4833, 'legum': 4802, 'particularmente': 5796, 'nasce': 5330, 'impregnada': 4123, 'canotilho': 1151, 'fenômeno': 3528, 'político': 6064, 'carl': 1194, 'schmitt': 7324, 'afirmava': 253, 'decisões': 2166, 'políticas': 6063, 'consignada': 1745, 'perseguir': 5968, 'impregna': 4122, 'transcrevem': 7949, 'formada': 3647, 'indissolúvel': 4278, 'estados': 3196, 'distrito': 2680, 'democrático': 2276, 'preconceitos': 6194, 'origem': 5673, 'raça': 6693, 'sexo': 7443, 'cor': 1942, 'discriminação': 2624, 'iguais': 4026, 'distinção': 2672, 'garantindo': 3786, 'brasileiros': 1048, 'inviolabilidade': 4533, 'liberdade': 4838, 'infância': 4344, 'adolescência': 184, 'crianças': 2016, 'carentes': 1191, 'jovem': 4649, 'educação': 2821, 'lazer': 4786, 'profissionalização': 6424, 'cultura': 2057, 'respeito': 7049, 'comunitária': 1570, 'colocá': 1436, 'negligência': 5386, 'exploração': 3397, 'violência': 8283, 'crueldade': 2033, 'opressão': 5649, 'notadamente': 5467, 'inexiste': 4304, 'puramente': 6583, 'literal': 4881, 'validade': 8132, 'mormente': 5235, 'restará': 7091, 'relatoria': 6907, 'celso': 1270, 'mello': 5098, 'rtj': 7227, 'desrespeito': 2444, 'autoridade': 875, 'suprema': 7685, 'procedeu': 6372, 'reinterpretação': 6882, 'comandos': 1441, 'emergentes': 2912, 'parametricidade': 5766, 'emanadas': 2895, 'ações': 918, 'reclamatórias': 6758, 'evolução': 3275, 'hermenêutica': 3929, 'nelas': 5390, 'julgamentos': 4680, 'revestidos': 7164, 'eficácia': 2845, 'erga': 3089, 'omnes': 5625, 'proferidos': 6414, 'fiscalização': 3602, 'abstrata': 33, 'idoneidade': 4015, 'constitucionalidade': 1785, 'abstrato': 34, 'gilmar': 3825, 'mendes': 5111, 'consagrado': 1709, 'revelou': 7160, 'inadequado': 4147, 'excluía': 3317, 'tutelar': 8037, 'ressignificação': 7080, 'conferida': 1656, 'fundada': 3728, 'modificações': 5200, 'supervenientes': 7666, 'fático': 3757, 'conduziu': 1649, 'superação': 7659, 'ensejando': 3014, 'interpretativa': 4498, 'compreensão': 1527, 'vocação': 8328, 'protetiva': 6501, 'parcial': 5775, 'pronúncia': 6463, 'injustificada': 4367, 'recusa': 6794, 'reclamante': 6756, 'neurológica': 5414, 'degenerativa': 2235, 'crônica': 2041, 'inadmissibilidade': 4150, 'transgrediria': 7962, 'dirigido': 2605, 'proibição': 6437, 'expressões': 3414, 'derivadas': 2328, 'aurélio': 846, 'iniciativa': 4361, 'chefe': 1312, 'compete': 1487, 'projetos': 6439, 'versando': 8215, 'estrutura': 3234, 'alínea': 413, 'aplicáveis': 563, 'simetria': 7473, 'federativas': 3518, 'vinculação': 8272, 'regência': 6879, 'unitário': 8084, 'futura': 3748, 'mecanismo': 5073, 'indexação': 4259, 'divulg': 2703, 'public': 6564, 'oportuno': 5647, 'voto': 8341, 'condutor': 1645, 'unanimidade': 8074, 'inviável': 4534, 'atrelar': 805, 'alusivo': 407, 'admissão': 171, 'identificar': 4007, 'impugnados': 4137, 'coaduna': 1401, 'resguardar': 7019, 'adotar': 189, 'ensejar': 3015, 'insubsistência': 4431, 'enfoque': 2984, 'emprestando': 2944, 'fiz': 3620, 'compreender': 1521, 'preceitos': 6182, 'tomar': 7896, 'pecúnia': 5850, 'instante': 4405, 'editada': 2808, 'montante': 5221, 'condicionados': 1637, 'reajustes': 6704, 'futuros': 3752, 'disciplina': 2610, 'empreender': 2931, 'hermenêutico': 3930, 'elogiável': 2890, 'integrantes': 4446, 'classes': 1379, 'desfavorecidas': 2413, 'erradicação': 3093, 'concretude': 1624, 'denominar': 2302, 'chamada': 1308, 'ulisses': 8060, 'guimarães': 3896, 'levado': 4824, 'linear': 4871, 'indistintamente': 4279, 'mesmas': 5142, 'anteriores': 520, 'voltando': 8331, 'kethelin': 4753, 'intepretação': 4463, 'condenados': 1629, 'efetuado': 2835, 'incluam': 4195, 'cronograma': 2030, 'representantes': 6969, 'oferecerem': 5594, 'formulados': 3662, 'mostrem': 5241, 'juntamente': 4697, 'deixa': 2238, 'patrícia': 5836, 'defensora': 2205, 'volume': 8335, 'revista': 7168, 'cassiano': 1220, 'matias': 5057, 'tadeu': 7745, 'procuradora': 6394, 'fine': 3592, 'pedidod': 5855, 'litispendência': 4887, 'coisa': 1415, 'processos': 6387, 'existentes': 3369, 'especificamente': 3143, 'enfermo': 2981, 'demonstrando': 2283, 'processamento': 6383, 'enunciado': 3049, 'sumular': 7652, 'protocolou': 6508, 'nbº': 5348, 'absurdo': 35, 'pese': 5988, 'conjunta': 1701, 'concluído': 1611, 'qualificadores': 6611, 'corpo': 1951, 'qualificador': 6610, 'participações': 5791, 'leve': 4830, 'assistido': 724, 'analfabeto': 452, 'assinar': 714, 'genitores': 3797, 'vivos': 8322, 'constituindo': 1789, 'sozinho': 7573, 'bico': 1000, 'tornou': 7910, 'renal': 6933, 'explicitado': 3390, 'conjunção': 1705, 'levou': 4832, 'concluir': 1606, 'indicador': 4265, 'controverso': 1903, 'diferente': 2553, 'alegada': 336, 'considerou': 1743, 'confirmação': 1674, 'estádio': 3240, 'terapia': 7826, 'atestada': 765, 'administrativas': 166, 'realizadas': 6710, 'procedimentos': 6377, 'tentava': 7817, 'momentos': 5209, 'determinada': 2484, 'peritos': 5941, 'vide': 8242, 'esclarecimento': 3103, 'eslucidar': 3123, 'hemodiálise': 3924, 'hospitalar': 3975, 'artificial': 682, 'tenta': 7812, 'filtração': 3580, 'depuração': 2324, 'limpeza': 4867, 'terminal': 7833, 'dialítica': 2539, 'dialítico': 2540, 'extremamente': 3445, 'invasivo': 4523, 'desgastante': 2415, 'dispendioso': 2632, 'sessões': 7432, 'semana': 7370, 'segundas': 7355, 'quartas': 6625, 'sextas': 7445, 'duram': 2779, 'torno': 7909, 'diárias': 2710, 'argumentação': 650, 'salientar': 7274, 'nefropatia': 5371, 'acomete': 84, 'isentas': 4577, 'interim': 4480, 'prejudicam': 6221, 'corpóreas': 1952, 'temporais': 7800, 'impacta': 4054, 'negativamente': 5381, 'futuro': 3751, 'cenário': 1281, 'anexada': 478, 'dispêndio': 2661, 'intelectivo': 4455, 'obstruem': 5554, 'existencial': 3367, 'autorizadores': 880, 'digne': 2576, 'estabelecer': 3184, 'escolhemos': 3109, 'iniciar': 4360, 'tnu': 7878, 'nitidamente': 5430, 'provê': 6537, 'praticamente': 6167, 'incontestavelmente': 4222, 'constituinte': 1790, 'frente': 3701, 'recentes': 6747, 'produza': 6405, 'compreendida': 1523, 'necessariamente': 5354, 'biológica': 1005, 'restrições': 7103, 'biológicas': 1006, 'diferença': 2556, 'sintetizando': 7483, 'cause': 1239, 'incapacidades': 4165, 'sensoriais': 7388, 'biológicos': 1008, 'adaptação': 136, 'dificultem': 2563, 'percebemos': 5890, 'confundida': 1683, 'abrangente': 20, 'analisa': 454, 'uns': 8090, 'firmou': 3598, 'republicanos': 6980, 'construção': 1805, 'solidária': 7544, 'reduzindo': 6802, 'promoção': 6454, 'destacou': 2458, 'desamparados': 2338, 'associada': 728, 'fatídica': 3498, 'conseguirá': 1719, 'torna': 7903, 'amparar': 437, 'evitando': 3270, 'chama': 1307, 'atenção': 762, 'quantidade': 6617, 'conduz': 1647, 'protocolo': 6507, 'analisaram': 461, 'discutida': 2627, 'conseguir': 1718, 'buscando': 1069, 'recorreu': 6784, 'pôde': 6592, 'resguardado': 7016, 'pregressa': 6217, 'crê': 2040, 'serve': 7413, 'demonstrar': 2284, 'precariedade': 6175, 'recente': 6745, 'sérias': 7724, 'vivendo': 8315, 'insegura': 4391, 'corretamente': 1964, 'contrasta': 1878, 'viver': 8316, 'restarem': 7090, 'agravar': 280, 'prioritária': 6343, 'reputando': 6982, 'afirmados': 249, 'diferenças': 2557, 'quitação': 6660, 'averiguação': 911, 'usual': 8108, 'tudo': 8027, 'corrigido': 1968, 'supramencionada': 7681, 'juliany': 4687, 'lopes': 4914, 'cordeiro': 1943, 'natasha': 5343, 'michiles': 5151, 'mãe': 5296, 'natividade': 5344, 'divorciada': 2700, 'informal': 4330, 'braz': 1051, 'pinho': 6009, 'seabra': 7327, 'parentesco': 5782, 'thaila': 7855, 'ayala': 914, 'michelis': 5148, 'arthur': 678, 'prisional': 6346, 'propõe': 6484, 'manoel': 5001, 'borba': 1035, 'progresso': 6433, 'pabx': 5714, 'originário': 5677, 'prolatado': 6442, 'cota': 1984, 'dupla': 2777, 'provedora': 6518, 'deferiu': 2214, 'recursal': 6791, 'determinou': 2493, 'aer': 224, 'analisados': 458, 'rígidos': 7250, 'indeferidos': 4238, 'superada': 7656, 'devesse': 2515, 'assentamento': 704, 'carcerário': 1183, 'presa': 6248, 'novamente': 5482, 'manifestamente': 4993, 'ilícita': 4042, 'importa': 4102, 'supostamente': 7677, 'foragida': 3643, 'manteve': 5007, 'interessada': 4472, 'extinguiu': 3428, 'punibilidade': 6581, 'afastando': 231, 'suposta': 7676, 'status': 7578, 'acatadas': 47, 'apontou': 574, 'judicialmente': 4662, 'indubitável': 4287, 'pressupostos': 6265, 'sequência': 7405, 'adicionais': 154, 'tributável': 8017, 'calendário': 1121, 'declarados': 2171, 'exceda': 3292, 'isenção': 4579, 'vedação': 8165, 'presos': 6264, 'estrangeiro': 3231, 'cotas': 1985, 'recebidas': 6738, 'exibidos': 3344, 'residindo': 7028, 'território': 7842, 'privativa': 6352, 'permanece': 5943, 'ultrapassam': 8065, 'criado': 2012, 'limitado': 4853, 'auferir': 835, 'pertencente': 5976, 'recebê': 6742, 'atrelado': 804, 'ideia': 4000, 'convívio': 1938, 'grifos': 3874, 'rememore': 6924, 'guarda': 3883, 'semelhança': 7372, 'assistenciais': 719, 'elegível': 2864, 'impõe': 4142, 'conjugada': 1696, 'exsurge': 3420, 'tempos': 7805, 'devastador': 2502, 'relativamente': 6899, 'possuem': 6122, 'grandeza': 3857, 'implica': 4090, 'incluir': 4199, 'inibitória': 4353, 'obstar': 5553, 'auxílios': 896, 'indeferitório': 4241, 'formulada': 3659, 'confirmando': 1672, 'cumpria': 2060, 'abstendo': 32, 'negar': 5379, 'tratados': 7980, 'superadas': 7657, 'constituam': 1781, 'óbice': 8411, 'prorrogações': 6488, 'sucumbenciais': 7636, 'pugna': 6576, 'considere': 1742, 'vistoria': 8297, 'mandado': 4983, 'designação': 2421, 'cincos': 1342, 'fatima': 3493, 'bourbon': 1036, 'lira': 4879, 'joao': 4631, 'fátima': 3759, 'brasilei': 1044, 'histologia': 3951, 'portadorado': 6081, 'domiciliadaà': 2738, 'rubem': 7229, 'queiroga': 6638, 'janga': 4616, 'guedes': 3889, 'individual': 4281, 'advocacia': 216, 'inscritano': 4384, 'cpnj': 1997, 'estabelecida': 3188, 'paes': 5729, 'cabral': 1089, 'prazos': 6171, 'santanaeguedes': 7293, 'contatos': 1830, 'nce': 5349, 'apo': 565, 'espe': 3127, 'tos': 7912, 'controvertida': 1904, 'indica': 4261, 'resume': 7114, 'cedo': 1259, 'laborou': 4769, 'locais': 4898, 'contribuiu': 1893, 'periodicamente': 5937, 'vínculos': 8356, 'empregatícios': 2939, 'recolhimentos': 6764, 'concomitantes': 1614, 'pescador': 5986, 'ltda': 4921, 'nucleo': 5494, 'anatomia': 468, 'patologica': 5826, 'semina': 7375, 'diagnostico': 2536, 'laboratorio': 4764, 'diva': 2685, 'vital': 8303, 'cia': 1322, 'studio': 7585, 'cirurgica': 1352, 'spac': 7574, 'desnecessária': 2434, 'apresentada': 592, 'detinha': 2495, 'reforma': 6821, 'debate': 2151, 'algumas': 357, 'laboratórios': 4766, 'químicos': 6665, 'laborada': 4756, 'acostada': 113, 'desenvolvido': 2408, 'ªmaria': 8385, 'indispensável': 4277, 'reconheceu': 6771, 'citada': 1354, 'conferir': 1658, 'tese': 7845, 'laboratório': 4765, 'habitualidade': 3907, 'permanência': 5952, 'sujeição': 7648, 'insalubre': 4377, 'podemos': 6047, 'seremconsiderados': 7408, 'exercidos': 3340, 'caracterizando': 1175, 'sistemática': 7490, 'executado': 3320, 'tempus': 7806, 'regitactum': 6850, 'aplicável': 564, 'reafirmação': 6702, 'tratado': 7979, 'legalidade': 4792, 'positivada': 6103, 'modificação': 5199, 'afim': 245, 'permitir': 5964, 'pres': 6247, 'satisfazia': 7308, 'implementou': 4088, 'servidor': 7421, 'exigindo': 3354, 'efetivação': 2831, 'concordância': 1616, 'escrito': 3115, 'aplica': 552, 'resultem': 7112, 'vantajoso': 8147, 'constar': 1770, 'satisfizer': 7314, 'implementá': 4089, 'reafirmado': 6700, 'admitida': 175, 'manifestação': 4995, 'melhoria': 5096, 'satisfação': 7310, 'causar': 1236, 'consolidado': 1758, 'deveres': 2510, 'proibições': 6438, 'normativos': 5461, 'internas': 4488, 'igualmente': 4030, 'obrigados': 5529, 'desrespeitou': 2445, 'delimitados': 2255, 'xxxvi': 8374, 'prejudicará': 6224, 'representativos': 6972, 'controvérsia': 1905, 'repetitiva': 6955, 'firmada': 3595, 'possivel': 6117, 'implementados': 4084, 'intersticio': 4504, 'entrega': 3042, 'instâncias': 4430, 'ordinárias': 5662, 'pedir': 5859, 'ordinário': 5663, 'apontar': 573, 'negligencia': 5385, 'recebida': 6737, 'jud': 4656, 'prestar': 6275, 'despacho': 2436, 'informou': 4339, 'acitação': 74, 'logrando': 4907, 'propostas': 6473, 'conciliatórias': 1602, 'formalidades': 3650, 'julgue': 4684, 'escopo': 3111, 'consistente': 1752, 'dib': 2545, 'acrescidos': 125, 'apresentado': 594, 'acondenação': 101, 'setecentos': 7434, 'ncpc': 5352, 'bartolomeu': 949, 'gabriel': 3765, 'esteyvson': 3221, 'acadêmico': 41, 'jucilene': 4655, 'jesus': 4625, 'bom': 1025, 'filomena': 3579, 'cornélio': 1945, 'serra': 7411, 'talhada': 7750, 'cel': 1264, 'correspondências': 1962, 'incpacidade': 4231, 'sucessivo': 7633, 'gerência': 3820, 'executiva': 3322, 'localizada': 4900, 'praça': 6172, 'dumont': 2776, 'petrolina': 6000, 'grosso': 3876, 'prologando': 6444, 'celeridade': 1268, 'dispensa': 2633, 'hugo': 3979, 'analisarmos': 462, 'diagnosticada': 2532, 'poliartrose': 6057, 'especificada': 3140, 'articular': 681, 'artrose': 688, 'joelho': 4633, 'discos': 2621, 'intervertebrais': 4508, 'encaminhada': 2949, 'surpresa': 7702, 'dcb': 2147, 'prorrogação': 6487, 'cornelio': 1944, 'agrícolas': 302, 'caipora': 1111, 'lição': 4895, 'russomano': 7239, 'perspectiva': 5974, 'capaz': 1156, 'outorga': 5698, 'constatar': 1776, 'constate': 1778, 'reunidos': 7152, 'mozart': 5261, 'comentários': 1450, 'consolidação': 1761, 'oda': 5589, 'nomeando': 5446, 'signatário': 7461, 'incapacitação': 4172, 'cuidados': 2045, 'permanentes': 5950, 'impeça': 4075, 'diminuição': 2586, 'novos': 5489, 'ofertada': 5598, 'fazê': 3509, 'acompanhado': 93, 'mandamenta': 4984, 'máximo': 5295, 'registrando': 6845, 'alcança': 329, 'compreendidas': 1524, 'valeriano': 8130, 'pinto': 6012, 'aad': 0, 'dvvo': 2785, 'ciiaa': 1339, 'eli': 2880, 'consultoria': 1810, 'nascido': 5336, 'sebastiana': 7328, 'jacir': 4603, 'mendonça': 5113, 'newton': 5427, 'carneiro': 1198, 'indenização': 4246, 'perdas': 5900, 'financeira': 3586, 'austriclinio': 849, 'surpreendido': 7701, 'sacar': 7257, 'promovida': 6452, 'informado': 4327, 'desconhecidos': 2358, 'utilizaram': 8119, 'boletos': 1022, 'utilizando': 8117, 'promovido': 6453, 'térreo': 8050, 'hotmail': 3978, 'identificada': 4004, 'efetuou': 2842, 'boleto': 1021, 'minuto': 5174, 'entrou': 3045, 'pessoalmente': 5994, 'atendente': 746, 'solucionar': 7549, 'resguardados': 7017, 'inversão': 4525, 'alega': 335, 'gerador': 3805, 'nega': 5373, 'nascer': 5331, 'modificativo': 5197, 'consumidor': 1811, 'representando': 6967, 'procurando': 6398, 'amenizar': 429, 'forças': 3680, 'polos': 6059, 'figura': 3564, 'noutro': 5477, 'fornecedor': 3667, 'detentor': 2482, 'muitas': 5270, 'buscados': 1068, 'adotou': 190, 'justamente': 4728, 'problemática': 6363, 'atinentes': 774, 'letra': 4820, 'consumo': 1812, 'produto': 6402, 'esfera': 3118, 'cdc': 1253, 'verossímil': 8211, 'isonomia': 4584, 'reconhecidamente': 6774, 'fraca': 3685, 'alcançada': 330, 'participes': 5792, 'comentado': 1448, 'amolda': 432, 'desigualmente': 2426, 'desiguais': 2423, 'desigualdade': 2424, 'nelson': 5393, 'nery': 5400, 'arrimo': 673, 'materiais': 5051, 'saque': 7299, 'indevido': 4257, 'praticado': 6165, 'bancária': 932, 'vooc': 8339, 'hum': 3980, 'fevereiro': 3545, 'judicia': 4658, 'boletim': 1020, 'indevidos': 4258, 'silda': 7467, 'mansão': 5002, 'anjos': 491, 'loteamento': 4918, 'edson': 2816, 'regis': 6839, 'ferrer': 3542, 'subscrevem': 7603, 'marechal': 5031, 'dantas': 2129, 'timbaúba': 7866, 'superintendência': 7663, 'capital': 1161, 'gratuíta': 3860, 'arbitrariamente': 640, 'permitido': 5961, 'deixada': 2239, 'conjugue': 1699, 'proprio': 6480, 'conform': 1678, 'confirma': 1669, 'conviveu': 1930, 'renildo': 6940, 'gomes': 3837, 'obito': 5515, 'humilde': 3986, 'viveu': 8319, 'constituiu': 1793, 'poucos': 6155, 'originais': 5674, 'expedido': 3382, 'cnh': 1394, 'bancos': 931, 'plano': 6020, 'estavel': 3210, 'expedidas': 3381, 'hapvida': 3910, 'vinha': 8277, 'acompnhando': 99, 'pasta': 5817, 'muitoooooooooo': 5271, 'apos': 576, 'enrolando': 3011, 'veio': 8170, 'desconhece': 2355, 'existencia': 3366, 'claramente': 1374, 'demostrado': 2294, 'tamanha': 7753, 'injustiça': 4368, 'cometida': 1454, 'coloca': 1433, 'perguntas': 5916, 'insistir': 4397, 'persistir': 5972, 'reza': 7174, 'atenderão': 751, 'obedecido': 5511, 'tambémdependentes': 7754, 'separadamente': 7398, 'pretendeu': 6288, 'restringido': 7096, 'provem': 6519, 'sub': 7586, 'judice': 4657, 'vislumbra': 8293, 'sustenta': 7715, 'posicionamento': 6097, 'oposto': 5648, 'urbana': 8094, 'corrobora': 1971, 'valido': 8135, 'legível': 4806, 'duradoura': 2778, 'contínua': 1912, 'coloque': 1437, 'desejar': 2383, 'acrescido': 124, 'apolinário': 567, 'inocorrência': 4372, 'severino': 7442, 'pilões': 6006, 'surubim': 7704, 'timbre': 7867, 'minuta': 5173, 'ido': 4014, 'informada': 4326, 'demonstrativo': 2287, 'linfangite': 4872, 'erisipela': 3091, 'opção': 5652, 'vascular': 8155, 'negou': 5387, 'aberto': 11, 'intuito': 4520, 'incluída': 4205, 'contemplam': 1833, 'comprove': 1552, 'conceituando': 1587, 'informativo': 4335, 'apresentando': 597, 'doutro': 2764, 'giro': 3828, 'formulário': 3665, 'acompanham': 94, 'chamar': 1310, 'digno': 2578, 'vitais': 8302, 'moradia': 5227, 'vestuário': 8226, 'higiene': 3938, 'itens': 4591, 'água': 8391, 'gás': 3898, 'aumenta': 839, 'custo': 2088, 'inviabilizando': 4531, 'colidir': 1431, 'distinto': 2670, 'pré': 6541, 'flexibilização': 3625, 'permitindo': 5963, 'entendido': 3033, 'dessas': 2447, 'doze': 2766, 'contadas': 1820, 'somando': 7558, 'totalizando': 7918, 'multiplicando': 5281, 'quatorze': 6628, 'citados': 1356, 'sessão': 7431, 'atendendo': 745, 'advertindo': 213, 'sinalizar': 7479, 'conciliar': 1601, 'obrigatoriamente': 5532, 'cópia': 2109, 'denegou': 2299, 'indevida': 4255, 'dip': 2591, 'compreendido': 1525, 'requisição': 7007, 'pequeno': 5883, 'bruto': 1064, 'adriely': 203, 'amália': 449, 'barreiros': 944, 'ivoneide': 4599, 'conceição': 1588, 'segs': 7345, 'juá': 4743, 'trindade': 8019, 'qualificado': 6609, 'desfavor': 2412, 'eng': 2992, 'baltazar': 929, 'farias': 3488, 'acometido': 88, 'hemorragias': 3925, 'intracranianas': 4515, 'traumáticas': 7993, 'hipertensão': 3940, 'essencial': 3179, 'cardíaca': 1185, 'hipertensiva': 3939, 'vasculares': 8156, 'cerebrais': 1285, 'isquêmicos': 4586, 'transitórios': 7967, 'síndromes': 7729, 'correlatas': 1955, 'cida': 1327, 'enxaqueca': 3057, 'complicada': 1506, 'obesidade': 5513, 'mórbida': 5313, 'diagnosticado': 2534, 'passar': 5808, 'evoluiu': 3273, 'perda': 5899, 'esquelético': 3173, 'especialistas': 3134, 'secretária': 7333, 'vindo': 8275, 'registrar': 6846, 'locomover': 4903, 'cotidiana': 1986, 'gerir': 3817, 'educacional': 2819, 'inspeção': 4398, 'sobrevivendo': 7511, 'repasse': 6952, 'exorar': 3376, 'reconhecendo': 6769, 'incidente': 4185, 'subsequentes': 7608, 'incide': 4181, 'débito': 2787, 'resultante': 7109, 'execuções': 3325, 'títulos': 8056, 'dívida': 2792, 'líquida': 4945, 'certa': 1288, 'calculada': 1116, 'far': 3484, 'condenará': 1632, 'vencido': 8180, 'vencedor': 8176, 'antecipou': 518, 'honorária': 3966, 'subsidiária': 7613, 'dentre': 2305, 'confesso': 1661, 'ouvida': 5709, 'cetera': 1304, 'funcionar': 3723, 'zelo': 8382, 'lugar': 4929, 'independerá': 4253, 'taxas': 7773, 'preparo': 6240, 'compreenderá': 1522, 'dispensadas': 2636, 'ressalvada': 7071, 'destinada': 2463, 'homonímia': 3963, 'bons': 1033, 'antecedentes': 507, 'presume': 6280, 'pedrosa': 5861, 'absolon': 28, 'positiva': 6102, 'onibus': 5632, 'gabinete': 3764, 'miriam': 5177, 'doméstica': 2746, 'queiroz': 6639, 'bonito': 1032, 'soldado': 7536, 'adalberto': 135, 'recebem': 6729, 'temporaria': 7802, 'especifico': 3144, 'cessação': 1300, 'interpos': 4493, 'ordinario': 5660, 'acordão': 111, 'proferido': 6413, 'administrativos': 168, 'pag': 5730, 'beneficiaria': 979, 'efetuava': 2839, 'empregada': 2932, 'epoca': 3065, 'beneficios': 982, 'seguindo': 7349, 'regular': 6874, 'desejada': 2379, 'fito': 3611, 'equivocadamente': 3081, 'aclarar': 76, 'resumimos': 7116, 'sinótico': 7487, 'mal': 4980, 'extraídos': 3443, 'carreados': 1200, 'descrição': 2375, 'afetivos': 242, 'bipolares': 1011, 'misto': 5182, 'depressivo': 2322, 'sintomático': 7486, 'psicologico': 6552, 'ansiedade': 503, 'culpa': 2055, 'apreensão': 588, 'concentração': 1590, 'desenvolva': 2401, 'pronto': 6458, 'perdura': 5903, 'resultados': 7106, 'desejados': 2381, 'retorno': 7135, 'dirimem': 2607, 'questionamento': 6649, 'dificultosa': 2564, 'alem': 346, 'subsistências': 7617, 'portando': 6086, 'descabido': 2343, 'inexitosa': 4307, 'solução': 7550, 'extrajudicial': 3433, 'litígio': 4888, 'eficaz': 2843, 'dirimir': 2609, 'juridica': 4706, 'requesitos': 7003, 'filiarao': 3575, 'oulesão': 5693, 'derecuperação': 2327, 'submeter': 7592, 'cessará': 1299, 'recuperável': 6790, 'comprovam': 1543, 'supracitados': 7680, 'afastamento': 230, 'fique': 3594, 'reitera': 6883, 'clinico': 1387, 'pericia': 5919, 'verificou': 8207, 'cessar': 1298, 'agiu': 267, 'reune': 7150, 'saudaveis': 7315, 'reabilitada': 6696, 'corroborando': 1975, 'desconto': 2365, 'indices': 4271, 'deflação': 2234, 'constatado': 1774, 'permaneceu': 5946, 'einf': 2849, 'apelreex': 546, 'relatora': 6906, 'schilling': 7323, 'ferraz': 3540, 'zero': 8383, 'adotada': 185, 'antecipar': 514, 'parcialmente': 5776, 'convença': 1916, 'abuso': 36, 'manifesto': 4997, 'propósitoprotelatório': 6483, 'aparência': 542, 'requesito': 7002, 'formando': 3653, 'probatório': 6359, 'obsevar': 5550, 'preceituado': 6185, 'estabelecendo': 3183, 'dirige': 2603, 'propiciar': 6464, 'atitude': 784, 'cancelar': 1146, 'fere': 3529, 'principio': 6338, 'teleológico': 7793, 'ofundado': 5604, 'decorre': 2184, 'presumir': 6285, 'inadiável': 4149, 'postulada': 6143, 'criada': 2011, 'incapcidade': 4175, 'pondo': 6067, 'salvaguardar': 7279, 'rápida': 7243, 'cabimento': 1087, 'respeitável': 7051, 'acidentário': 69, 'omissão': 5624, 'debilidade': 2153, 'sensitiva': 7387, 'dubio': 2775, 'pro': 6354, 'operario': 5638, 'elidida': 2882, 'manifestou': 4998, 'sensibilidade': 7386, 'dedo': 2197, 'mão': 5298, 'direita': 2596, 'impossibilitar': 4115, 'ergonômicos': 3090, 'carro': 1201, 'forte': 3676, 'dúbio': 2793, 'operário': 5641, 'dobeneficiário': 2718, 'tjdft': 7877, 'desembargadoracarmelita': 2385, 'roga': 7210, 'designe': 2422, 'produzida': 6406, 'prol': 6440, 'consecução': 1713, 'ideal': 3999, 'decidindo': 2160, 'acional': 71, 'médicapor': 5302, 'trato': 7988, 'características': 1178, 'admissível': 173, 'envolvendo': 3056, 'discussão': 2625, 'reexame': 6807, 'destas': 2461, 'amplitude': 446, 'opinar': 5642, 'excepcionada': 3300, 'generalistas': 3794, 'conhecimento': 1695, 'complicado': 1507, 'rara': 6681, 'preservado': 6256, 'anulando': 532, 'reabertura': 6695, 'neurologista': 5413, 'pedilef': 5857, 'juíza': 4744, 'jacqueline': 4604, 'michelsbilhalva': 5150, 'julg': 4672, 'inércia': 4543, 'aceitos': 55, 'afetiva': 240, 'liquidação': 4878, 'adotando': 188, 'utilizado': 8115, 'oportunidade': 5645, 'pronunciar': 6462, 'cominação': 1458, 'multa': 5275, 'exclusão': 3316, 'fizer': 3621, 'apurada': 618, 'tomando': 7895, 'irregularmente': 4561, 'precatórios': 6177, 'honorário': 3967, 'sucumbências': 7638, 'eirton': 2851, 'fernandes': 3537, 'jaquitan': 4618, 'jorge': 4637, 'varas': 8149, 'francisca': 3690, 'incompleto': 4213, 'padre': 5727, 'teofilo': 7821, 'tworz': 8041, 'bongi': 1030, 'rheuell': 7178, 'callebe': 1123, 'neptuno': 5399, 'jacquitan': 4605, 'yeshuwa': 8377, 'nobrega': 5434, 'plataforma': 6023, 'disponibilizada': 2644, 'estaria': 3205, 'enviado': 3051, 'envio': 3053, 'correto': 1965, 'quarta': 6624, 'hábil': 3989, 'corona': 1948, 'vírus': 8357, 'prolongamento': 6446, 'descontrole': 2366, 'prolongar': 6447, 'criam': 2013, 'extensões': 3425, 'processados': 6382, 'automaticamente': 863, 'definidos': 2226, 'exclusiva': 3313, 'relatado': 6895, 'examinar': 3282, 'pormenorizadamente': 6071, 'exigências': 3359, 'específica': 3149, 'transparência': 7970, 'aeresidual': 225, 'empregatício': 2938, 'dividido': 2695, 'mio': 5175, 'figurou': 3566, 'ocorrer': 5578, 'corrigindo': 1970, 'distorção': 2674, 'esbarrar': 3098, 'imposta': 4118, 'datas': 2143, 'ínterim': 8409, 'exclusivo': 3315, 'suprimir': 7690, 'remanescentes': 6920, 'relativas': 6900, 'ultrapassado': 8064, 'faria': 3486, 'quatra': 6629, 'implícito': 4098, 'vereda': 8199, 'notável': 5473, 'equívoco': 3087, 'fragilidade': 3687, 'insere': 4392, 'ocasionada': 5569, 'indiscutível': 4275, 'mostrando': 5240, 'constitutivos': 1797, 'liberação': 4837, 'pendente': 5870, 'dinâmica': 2589, 'apresentados': 595, 'particularidades': 5795, 'excessiva': 3306, 'encargo': 2954, 'eletrônica': 2876, 'nóbrega': 5505, 'defensor': 2204, 'traumatismos': 7992, 'gessileide': 3821, 'rancharia': 6678, 'dispensar': 2640, 'plantio': 6022, 'animais': 490, 'sofrendo': 7530, 'problemas': 6362, 'ferimento': 3534, 'punho': 6580, 'trânsito': 8024, 'acarretando': 42, 'prolonga': 6445, 'laborar': 4761, 'aumentar': 841, 'álgico': 8393, 'posições': 6106, 'encurvadas': 2973, 'agravam': 276, 'acionante': 72, 'constatou': 1779, 'controvérsias': 1906, 'comprobatórios': 1530, 'estatal': 3208, 'requente': 6986, 'detém': 2496, 'condutas': 1644, 'tomadas': 7894, 'afastam': 229, 'contribuem': 1889, 'vão': 8352, 'leguminosas': 4803, 'resultando': 7108, 'fratura': 3694, 'consolidada': 1757, 'metacarpo': 5144, 'esquerdo': 3175, 'incluem': 4196, 'edema': 2806, 'fraturado': 3695, 'significativamente': 7464, 'agravado': 275, 'diário': 2711, 'colheita': 1430, 'cuidar': 2047, 'esquerda': 3174, 'inconsistências': 4217, 'alegue': 344, 'destoa': 2471, 'menção': 5126, 'organização': 5666, 'mundial': 5283, 'oms': 5628, 'disfunção': 2630, 'humano': 3983, 'espectro': 3148, 'analisando': 459, 'viés': 8325, 'deduz': 2198, 'falar': 3464, 'nobre': 5433, 'consiga': 1744, 'passaram': 5809, 'ateste': 770, 'cinthia': 1344, 'cardoso': 1184, 'lócio': 4949, 'compreende': 1519, 'isenções': 4580, 'judiciárias': 4665, 'selos': 7369, 'juízes': 4745, 'serventuários': 7416, 'jornal': 4639, 'encarregado': 2956, 'divulgação': 2704, 'oficiais': 5600, 'indenizações': 4247, 'empregados': 2937, 'ressalvado': 7073, 'regressivo': 6857, 'territórios': 7843, 'edital': 2811, 'elisa': 2887, 'gonlaves': 3839, 'queimadas': 6635, 'cima': 1340, 'processocivil': 6386, 'consedido': 1714, 'casal': 1216, 'paula': 5837, 'dezessete': 2528, 'antonio': 527, 'cosmo': 1981, 'constituir': 1791, 'analia': 453, 'bispo': 1012, 'encontrava': 2970, 'incerto': 4178, 'soube': 7569, 'noticias': 5470, 'ouviu': 5712, 'gerou': 3819, 'junior': 4690, 'juliana': 4686, 'fernanda': 3536, 'adriana': 199, 'adriano': 201, 'edvaldo': 2822, 'fabio': 3452, 'alice': 367, 'katia': 4751, 'semi': 7374, 'viúvo': 8327, 'ficha': 3559, 'cadastral': 1098, 'rosa': 7217, 'master': 5048, 'funerário': 3744, 'componente': 1509, 'adesão': 148, 'tenpo': 7809, 'aceitaram': 52, 'datadas': 2140, 'varias': 8151, 'inconformado': 4215, 'sanada': 7284, 'alex': 350, 'delmondes': 2259, 'eurides': 3249, 'cohab': 1414, 'ipubi': 4550, 'cautelam': 1244, 'concede': 1575, 'pobres': 6043, 'donde': 2750, 'ali': 364, 'afora': 258, 'indicando': 4268, 'aceitar': 51, 'patrocínio': 5832, 'resguardando': 7018, 'agora': 270, 'deflagra': 2233, 'yahoo': 8375, 'princesa': 6335, 'isabel': 4574, 'insta': 4400, 'consignar': 1748, 'ocasionou': 5572, 'ultrassonografia': 8069, 'caracterizam': 1174, 'anexadas': 479, 'constata': 1772, 'prorrogado': 6486, 'rápido': 7244, 'ressalvarmos': 7076, 'analfabeta': 451, 'restrito': 7101, 'trabalhos': 7937, 'braçais': 1052, 'impedido': 4060, 'visem': 8292, 'agravos': 283, 'universal': 8086, 'igualitário': 4029, 'resultantes': 7110, 'declina': 2180, 'décimo': 2790, 'sexto': 7446, 'grifamos': 3871, 'cessa': 1296, 'coerentes': 1410, 'observações': 5545, 'visível': 8301, 'retomar': 7132, 'fortes': 3677, 'trazem': 7996, 'abalo': 6, 'negação': 5384, 'ilegal': 4034, 'arbitrária': 641, 'elaborada': 2854, 'diplomas': 2593, 'enquadrando': 3004, 'desencadeamento': 2399, 'garantam': 3778, 'compelindo': 1485, 'efetuar': 2838, 'pagamentos': 5734, 'compelido': 1484, 'provado': 6512, 'homenageando': 3959, 'iuri': 4594, 'caução': 1246, 'fidejussória': 3562, 'idônea': 4021, 'ressarcir': 7079, 'dispensada': 2635, 'puder': 6571, 'oferecê': 5597, 'justificação': 4735, 'prévia': 6542, 'propósito': 6482, 'protelatório': 6497, 'par': 5758, 'sugerido': 7642, 'responsabilização': 7062, 'prática': 6540, 'crime': 2019, 'desobediência': 2435, 'dali': 2119, 'unicamente': 8076, 'vistorias': 8298, 'fizeram': 3622, 'procedida': 6373, 'esperando': 3156, 'cíveis': 2105, 'sandro': 7287, 'bento': 992, 'anderson': 472, 'representada': 6963, 'tutora': 8038, 'valquíria': 8142, 'toritama': 7902, 'procurada': 6392, 'arquivos': 668, 'delimitada': 2253, 'súmulas': 7739, 'sacrifique': 7261, 'epilepsia': 3060, 'incapacitará': 4171, 'promoveu': 6451, 'contradizendo': 1874, 'elucidar': 2892, 'reconhecia': 6772, 'reafirmará': 6701, 'convulsivo': 1936, 'carbamazepina': 1181, 'levetiracetam': 4831, 'crises': 2024, 'epilépticas': 3061, 'registradas': 6842, 'últimos': 8426, 'déficit': 2791, 'ocasiona': 5568, 'neuropsiquiatra': 5418, 'filipe': 3578, 'livino': 4891, 'comprometimentos': 1536, 'comportamento': 1513, 'acervo': 62, 'esgota': 3121, 'visíveis': 8300, 'razoável': 6690, 'síntese': 7730, 'mazelas': 5070, 'acometem': 85, 'várias': 8348, 'comuns': 1571, 'medições': 5087, 'carbamapezina': 1180, 'difíceis': 2566, 'convulsivas': 1935, 'neurológicas': 5415, 'neuralgia': 5411, 'trigêmeo': 8018, 'humor': 3987, 'bipolar': 1010, 'depressão': 2323, 'adultos': 204, 'usado': 8104, 'compor': 1511, 'dividir': 2697, 'comporto': 1514, 'pai': 5742, 'araujo': 635, 'irmã': 4554, 'karolina': 4750, 'auriane': 843, 'andreza': 474, 'alisson': 375, 'anthony': 523, 'vivem': 8312, 'advém': 223, 'começou': 1457, 'sobrevivido': 7513, 'continuamente': 1860, 'socorrer': 7525, 'enquadrarem': 3006, 'deficientes': 2219, 'deva': 2500, 'descritos': 2374, 'anormalidade': 496, 'psicológica': 6553, 'fisiológica': 3607, 'anatômica': 469, 'padrão': 5728, 'estabilizou': 3194, 'altere': 390, 'acentuada': 56, 'integração': 4449, 'adaptações': 137, 'transmitir': 7969, 'componentes': 1510, 'somam': 7557, 'dividi': 2694, 'receitas': 6744, 'descontadas': 2363, 'compõe': 1560, 'divisão': 2699, 'analogia': 464, 'ctn': 2042, 'institutos': 4415, 'alterá': 398, 'diversa': 2689, 'alterar': 386, 'fundamenta': 3732, 'tributária': 8013, 'conceitos': 1585, 'implicitamente': 4095, 'constituições': 1795, 'orgânicas': 5668, 'definir': 2227, 'competências': 1491, 'tributárias': 8014, 'aceito': 54, 'subjetivos': 7589, 'invés': 4541, 'carece': 1187, 'proposta': 6472, 'declarado': 2170, 'impugna': 4134, 'restrição': 7102, 'reporta': 6959, 'diferenciados': 2552, 'cabendo': 1084, 'computado': 1555, 'refere': 6808, 'tratarem': 7986, 'contando': 1825, 'extensiva': 3423, 'implementa': 4081, 'pnaa': 6041, 'mitigação': 5186, 'implanta': 4077, 'reflexos': 6819, 'primordial': 6333, 'peculiaridade': 5845, 'respondidas': 7059, 'esteira': 3213, 'diligência': 2584, 'averiguar': 910, 'socioeconômicos': 7522, 'pintura': 6013, 'salmão': 7277, 'verde': 8197, 'mofos': 5203, 'janela': 4615, 'porta': 6078, 'ferro': 3543, 'imagens': 4045, 'interior': 4481, 'link': 4876, 'angyadoh': 488, 'usp': 8107, 'sharing': 7449, 'canal': 1141, 'sidrac': 7457, 'beco': 967, 'marcação': 5022, 'retroativamente': 7139, 'perceba': 5888, 'instância': 4429, 'requeridas': 6997, 'luciene': 4926, 'cecília': 1256, 'caqui': 1168, 'assinada': 710, 'cícero': 2103, 'pombo': 6065, 'priscillacampello': 6345, 'comando': 1440, 'embrapa': 2903, 'sedil': 7340, 'locação': 4902, 'brandão': 1042, 'balconista': 928, 'sucovalle': 7635, 'conferente': 1655, 'têxtil': 8053, 'fiação': 3550, 'agrovale': 296, 'interfruta': 4479, 'vigia': 8251, 'delta': 2260, 'sena': 7377, 'twister': 8040, 'guardsecure': 3887, 'servis': 7426, 'tabelas': 7742, 'benéfica': 994, 'computados': 1556, 'carteiras': 1204, 'submissão': 7600, 'demandava': 2272, 'formulários': 3666, 'demandada': 2264, 'empresas': 2943, 'ppps': 6160, 'tolerância': 7892, 'associação': 732, 'prejudicial': 6227, 'fazia': 3507, 'arma': 656, 'fogo': 3634, 'elemento': 2867, 'nociva': 5435, 'contracheques': 1871, 'compreendidos': 1526, 'somar': 7559, 'persista': 5969, 'prestando': 6274, 'situado': 7496, 'batalhão': 963, 'infantaria': 4308, 'motorizado': 5256, 'certificado': 1292, 'reservista': 7013, 'voluntário': 8337, 'naquilo': 5325, 'incompatíveis': 4210, 'regramento': 6854, 'homens': 3960, 'submeteram': 7593, 'diferenciada': 2550, 'definitivamente': 2229, 'extinto': 3430, 'convém': 1937, 'baila': 921, 'desempenharam': 2392, 'trabalharam': 7932, 'óbvio': 8414, 'defender': 2203, 'alheio': 361, 'restringir': 7098, 'insalubridade': 4379, 'infraconstitucionais': 4341, 'correspondência': 1961, 'classificação': 1383, 'ocupações': 5588, 'extinção': 3431, 'bombeiros': 1026, 'investigadores': 4527, 'perigoso': 5934, 'guardas': 3885, 'equiparada': 3071, 'equiparando': 3073, 'regida': 6829, 'presidência': 6262, 'periculosa': 5927, 'contratado': 1881, 'inibindo': 4352, 'criminosa': 2021, 'estabelecimentos': 3192, 'privados': 6350, 'industriais': 4288, 'entidades': 3039, 'lucrativos': 4928, 'contratada': 1880, 'vigilância': 8255, 'relativo': 6902, 'residências': 7031, 'tfr': 7854, 'perigosa': 5932, 'penosa': 5871, 'alterou': 397, 'clt': 1388, 'periculosidade': 5929, 'roubos': 7223, 'espécies': 3171, 'equiparação': 3074, 'precedente': 6178, 'rogério': 7213, 'fialho': 3549, 'frisa': 3708, 'assentou': 706, 'efetivas': 2830, 'trechos': 8004, 'contemplarem': 1835, 'hierarquicamente': 3937, 'exaustivo': 3291, 'periculosas': 5928, 'exemplificativas': 3327, 'taxativas': 7774, 'perfil': 5914, 'profissiográfico': 6420, 'demonstrou': 2292, 'interstícios': 4505, 'aplicam': 558, 'inconstitucionais': 4218, 'conquanto': 1706, 'artur': 690, 'césar': 2101, 'anexou': 487, 'empregadoras': 2936, 'descrevem': 2369, 'equipamento': 3069, 'epi': 3059, 'irrelevante': 4562, 'desconfiguração': 2353, 'epis': 3064, 'afirmando': 250, 'inequivocamente': 4295, 'reduziu': 6804, 'agressivo': 287, 'toleráveis': 7890, 'neutralizou': 5426, 'arnaldo': 663, 'esteves': 3220, 'contratos': 1885, 'mencionar': 5110, 'cancerígenos': 1149, 'eliminados': 2883, 'neutralizados': 5420, 'trabalhados': 7929, 'pairar': 5743, 'ambientes': 427, 'encerraram': 2961, 'prestado': 6270, 'desenvolvidos': 2409, 'tornaram': 7907, 'hipoteticamente': 3945, 'priscilla': 6344, 'corsino': 1977, 'campello': 1136, 'wilson': 8363, 'civilmente': 1367, 'michelly': 5149, 'tavares': 7770, 'ministerio': 5166, 'publico': 6569, 'estudante': 3237, 'célula': 2100, 'ambos': 428, 'arq': 666, 'geraldo': 3809, 'castro': 1221, 'senhora': 7384, 'condenatória': 1633, 'seccional': 7331, 'obtido': 5564, 'esgotar': 3122, 'elenca': 2869, 'fumaça': 3720, 'tardio': 7765, 'implicará': 4094, 'patrona': 5833, 'evidenciados': 3261, 'autencidade': 853, 'causídico': 1242, 'autênticas': 886, 'reprográficas': 6977, 'reproduções': 6976, 'digitalizadas': 2571, 'façam': 3511, 'autenticadas': 854, 'autenticação': 855, 'autista': 858, 'tea': 7778, 'apenso': 548, 'auto': 859, 'terapias': 7827, 'equipe': 3075, 'multidisciplinar': 5276, 'desconsiderado': 2360, 'concluso': 1609, 'vai': 8123, 'encontro': 2972, 'ideais': 3998, 'composição': 1515, 'calamidade': 1115, 'ampliado': 442, 'debates': 2152, 'surgiram': 7697, 'estender': 3215, 'acabou': 39, 'pacificação': 5719, 'excluído': 3318, 'liberando': 4836, 'atinente': 773, 'ente': 3024, 'entendeu': 3031, 'entra': 3040, 'cunho': 2074, 'avaliações': 903, 'monografia': 5218, 'departamento': 2308, 'urca': 8098, 'luciano': 4925, 'macêdo': 4957, 'batista': 965, 'psicológico': 6554, 'interferir': 4478, 'prognóstico': 6428, 'avaliada': 897, 'impacto': 4055, 'desempenhado': 2389, 'muita': 5269, 'dedicação': 2196, 'prejudicando': 6222, 'gerar': 3811, 'acertado': 60, 'retificado': 7124, 'acolhendo': 78, 'savaris': 7317, 'implique': 4097, 'compatíveis': 1478, 'infante': 4309, 'tenra': 7810, 'aprendiz': 589, 'deixe': 2246, 'curial': 2077, 'contratação': 1883, 'xxxiii': 8371, 'aliás': 376, 'proposto': 6474, 'legis': 4794, 'ceará': 1255, 'gustavo': 3897, 'julgou': 4683, 'examinem': 3283, 'observo': 5547, 'atestou': 771, 'limita': 4850, 'determinante': 2488, 'improcedência': 4130, 'socioeconômico': 7521, 'acaba': 37, 'desaguar': 2337, 'extraordinárias': 3435, 'residem': 7021, 'reparos': 6950, 'eletrodomésticos': 2873, 'aparentemente': 539, 'modernos': 5191, 'conservação': 1731, 'verifico': 8206, 'paralisação': 5764, 'prevendo': 6303, 'efetivar': 2829, 'custeio': 2087, 'deslocamento': 2431, 'encerrar': 2960, 'independem': 4249, 'interdição': 4470, 'ganhou': 3775, 'relevo': 6915, 'fundamentava': 3739, 'ficando': 3554, 'incapazes': 4174, 'certos': 1294, 'ébrios': 8398, 'viciados': 8238, 'tóxico': 8058, 'transitória': 7965, 'exprimir': 3416, 'pródigos': 6545, 'indígenas': 4291, 'regulada': 6858, 'colocado': 1434, 'constrangimento': 1803, 'comenta': 1447, 'lógico': 4951, 'sujeitos': 7647, 'alguém': 359, 'substituindo': 7621, 'noção': 5490, 'substituição': 7624, 'distinguir': 2668, 'substitui': 7619, 'coadjuvante': 1400, 'age': 260, 'assistidos': 725, 'difere': 2549, 'representados': 6966, 'obra': 5524, 'proferimento': 6415, 'trâmite': 8023, 'recorra': 6779, 'individualizado': 4282, 'existam': 3363, 'prequestiona': 6244, 'violações': 8282, 'confio': 1668, 'anna': 492, 'tallyta': 7751, 'bione': 1009, 'autônomo': 888, 'alterosa': 396, 'tallytabione': 7752, 'interpôs': 4500, 'equivoco': 3084, 'propoe': 6465, 'defim': 2221, 'construtora': 1804, 'jofra': 4634, 'mes': 5137, 'atalaia': 739, 'servico': 7419, 'comercio': 1453, 'repres': 6961, 'selen': 7367, 'servicos': 7420, 'vigilancia': 8252, 'conservalltda': 1728, 'altronic': 400, 'eletronicos': 2875, 'eireli': 2850, 'procintel': 6390, 'centurioes': 1280, 'enesp': 2977, 'crescinort': 2007, 'parmalat': 5784, 'transportes': 7973, 'mesese': 5140, 'postula': 6142, 'incluiu': 4200, 'ajuíza': 324, 'recolhimento': 6763, 'vendedor': 8182, 'anotação': 500, 'ajuizou': 322, 'rescisórias': 7008, 'integrou': 4452, 'sentenciante': 7391, 'notificação': 5471, 'autorizou': 883, 'guia': 3892, 'gerada': 3803, 'reconhece': 6768, 'entendimentoadministrativo': 3035, 'estendeu': 3218, 'publicou': 6570, 'aprovou': 611, 'atendam': 742, 'prestadoras': 6271, 'integrem': 4450, 'orgânico': 5669, 'autorizadas': 878, 'exercem': 3332, 'instalações': 4403, 'metroviárias': 5146, 'ferroviárias': 3544, 'portuárias': 6093, 'rodoviárias': 7205, 'aeroportuárias': 226, 'contratados': 1882, 'direta': 2599, 'expõem': 3419, 'preservação': 6258, 'incolumidade': 4209, 'espaços': 3126, 'povo': 6157, 'coletivos': 1429, 'emsuas': 2946, 'respectivas': 7042, 'defauna': 2202, 'florestal': 3627, 'flora': 3626, 'reflorestamento': 6820, 'devalores': 2501, 'escolta': 3110, 'armada': 657, 'grupos': 3879, 'supervisão': 7667, 'fiscalizaçãooperacional': 3603, 'vigilantes': 8254, 'sistemas': 7489, 'telemonitoramento': 7792, 'telecontrole': 7790, 'caracterizar': 1176, 'descaracterizar': 2346, 'exigiu': 3357, 'exigiram': 3356, 'repetitivo': 6956, 'ousem': 5695, 'atividadepor': 789, 'aagente': 2, 'tida': 7863, 'portar': 6088, 'eiac': 2848, 'brum': 1060, 'vaz': 8161, 'consectários': 1711, 'embasado': 2900, 'porte': 6090, 'wowk': 8364, 'penteado': 5880, 'vertente': 8217, 'legítima': 4804, 'polo': 6058, 'passivo': 5813, 'reciproca': 6752, 'merecendo': 5133, 'enseja': 3012, 'àquelas': 8387, 'acolhido': 81, 'dirigida': 2604, 'legislador': 4795, 'inexigível': 4303, 'fornecimento': 3672, 'neutralização': 5424, 'apciv': 543, 'stefanini': 7579, 'olvidar': 5621, 'desempenham': 2390, 'preceitua': 6183, 'ementado': 2908, 'supressão': 7687, 'aliado': 365, 'assevera': 708, 'ladenthin': 4770, 'curitiba': 2078, 'juruá': 4718, 'lapsos': 4775, 'participou': 5793, 'formação': 3656, 'armamento': 660, 'tiro': 7872, 'deserviço': 2411, 'compreendendo': 1520, 'contado': 1821, 'inatividade': 4158, 'armadas': 658, 'emitida': 2919, 'páginas': 6585, 'inaplicabilidade': 4155, 'narrado': 5327, 'aprovação': 608, 'cumpridos': 2063, 'desses': 2449, 'proventos': 6522, 'pensões': 5879, 'apurados': 621, 'nela': 5389, 'remota': 6926, 'reafirmada': 6699, 'adquirir': 197, 'aquisição': 629, 'dirben': 2594, 'ddb': 2148, 'validação': 8134, 'grifado': 3870, 'cálculos': 2091, 'prosseguindo': 6491, 'ulteriores': 8061, 'deferidos': 2210, 'certidões': 1291, 'transitada': 7963, 'emjulgado': 2923, 'clarissa': 1376, 'gaudêncio': 3792, 'amanda': 418, 'acadêmica': 40, 'comarca': 1442, 'elaine': 2860, 'temoteo': 7797, 'dona': 2749, 'gameleira': 3772, 'vila': 8264, 'coroa': 1946, 'urgencia': 8100, 'antecipatoria': 515, 'republica': 6978, 'brasilia': 1049, 'palácio': 5750, 'planalto': 6018, 'informaçoes': 4336, 'autarquias': 852, 'blocos': 1014, 'desenvolvendo': 2402, 'possue': 6121, 'residencial': 7024, 'estaleiro': 3200, 'califórnia': 1122, 'ipojuca': 4548, 'enviadas': 3050, 'capa': 1154, 'lucas': 4922, 'felipe': 3525, 'diverso': 2692, 'reclamado': 6755, 'nulo': 5496, 'dec': 2154, 'regulamentar': 6868, 'medidas': 5086, 'adotadas': 186, 'seguiu': 7353, 'checagem': 1311, 'libere': 4839, 'peticionária': 5996, 'possuiria': 6127, 'rais': 6674, 'costumava': 1983, 'desempenhar': 2391, 'recisão': 6753, 'competentes': 1489, 'procederam': 6370, 'servidores': 7422, 'suster': 7721, 'internet': 4489, 'tento': 7819, 'encontrado': 2964, 'youtube': 8380, 'tutorial': 8039, 'visasse': 8291, 'intento': 4461, 'abertura': 12, 'incompetência': 4212, 'territorial': 7841, 'ingressado': 4347, 'tombada': 7897, 'concernetes': 1596, 'crente': 2005, 'cadastros': 1101, 'estariam': 3206, 'regularizadas': 6876, 'almejado': 380, 'manisfestar': 5000, 'tempestivamente': 7798, 'editado': 2810, 'permaneça': 5951, 'inalterada': 4154, 'benéfico': 995, 'beneficiario': 980, 'preventiva': 6304, 'exaustivamente': 3290, 'dilação': 2581, 'probatória': 6357, 'tratou': 7990, 'únicos': 8429, 'ensejaram': 3016, 'respondam': 7056, 'vistas': 8295, 'descumprimento': 2376, 'arbitrados': 639, 'vera': 8188, 'lucia': 4923, 'diego': 2547, 'sedicias': 7339, 'lúcia': 4952, 'terezinha': 7832, 'ipsep': 4549, 'estilo': 3224, 'seguem': 7347, 'formalizado': 3651, 'perdurando': 5904, 'permaneceram': 5945, 'separação': 7401, 'taciana': 7744, 'tatiana': 7768, 'capazes': 1157, 'constituíram': 1802, 'matrimônio': 5061, 'viveram': 8317, 'juntos': 4702, 'prudente': 6538, 'atravessou': 802, 'instaurado': 4406, 'central': 1277, 'solicitado': 7538, 'cianacavalcanti': 1325, 'formuladas': 3660, 'incorreta': 4228, 'inserido': 4394, 'cianacavalcante': 1324, 'extraída': 3442, 'correta': 1963, 'incorreto': 4230, 'fornecido': 3670, 'culminou': 2053, 'seguida': 7348, 'enviados': 3052, 'previsões': 6321, 'procedimentais': 6375, 'disciplinando': 2615, 'complementares': 1495, 'consideram': 1737, 'validamente': 8133, 'emissão': 2917, 'pat': 5819, 'concorda': 1615, 'canais': 1140, 'remotos': 6927, 'presumidos': 6283, 'começa': 1456, 'fluência': 3630, 'inicia': 4354, 'tramitado': 7942, 'antiga': 525, 'previu': 6322, 'normatização': 5462, 'finais': 3583, 'benesse': 990, 'juntar': 4699, 'telas': 7789, 'plenus': 6039, 'prisma': 6347, 'vitalícia': 8304, 'cautela': 1243, 'existirem': 3373, 'desconhecido': 2357, 'compelida': 1482, 'luciana': 4924, 'convivia': 1931, 'paraíso': 5770, 'sediado': 7338, 'rui': 7232, 'divinópolis': 2698, 'marcos': 5030, 'requerereu': 6994, 'preceituada': 6184, 'gerando': 3810, 'fruto': 3715, 'filhas': 3570, 'nascidas': 5335, 'duração': 2783, 'findado': 3591, 'preleciona': 6234, 'uníssono': 8093, 'xxxiv': 8372, 'lxxvii': 4940, 'superintendente': 7662, 'praticar': 6168, 'sanções': 7298, 'criminais': 2020, 'civis': 1368, 'nesses': 5403, 'vanessa': 8146, 'alexandre': 351, 'gabrielly': 3767, 'serrinha': 7412, 'cambucá': 1127, 'signatários': 7462, 'fls': 3629, 'lourenço': 4919, 'porto': 6092, 'campina': 1137, 'vice': 8236, 'prefeito': 6214, 'rafael': 6668, 'mayer': 5068, 'livianovais': 4890, 'rodolfoaguiar': 7204, 'fornecimentos': 3673, 'audiências': 829, 'autores': 874, 'patronos': 5835, 'litisconsortes': 4886, 'registra': 6840, 'deixados': 2241, 'integrar': 4447, 'varisvaldo': 8152, 'advieram': 215, 'promoventes': 6449, 'requereram': 6993, 'básica': 1074, 'omissis': 5623, 'recibo': 6749, 'car': 1169, 'matrícula': 5062, 'escolar': 3107, 'suma': 7650, 'primeiros': 6332, 'banda': 935, 'confirmados': 1671, 'ostentam': 5688, 'sabendo': 7254, 'lograram': 4908, 'demonstrarem': 2286, 'insertas': 4395, 'preâmbulo': 6325, 'venceram': 8177, 'ilmo': 4039, 'intervenha': 4506, 'figuram': 3565, 'alvará': 408, 'protestam': 6499, 'renunciam': 6944, 'requerem': 6988, 'rata': 6682, 'lívia': 4948, 'novais': 5481, 'aguiar': 311, 'rodolfo': 7203, 'pedem': 5852, 'emilly': 2914, 'autônoma': 887, 'bernardo': 996, 'parque': 5785, 'fortaleza': 3675, 'daniele': 2124, 'daniellasouzasilva': 2125, 'cnjp': 1397, 'sig': 7458, 'lote': 4916, 'alberto': 325, 'sbs': 7321, 'presi': 6260, 'gecol': 3793, 'contido': 1853, 'dependem': 2310, 'milita': 5160, 'deduzida': 2199, 'súplica': 7740, 'enfretamento': 2991, 'exigidas': 3351, 'encaixasse': 2948, 'beneficiadas': 976, 'plausível': 6024, 'iniciais': 4356, 'exerça': 3343, 'microempreendedor': 5153, 'contribua': 1888, 'inativo': 4159, 'desempregadas': 2395, 'presumido': 6282, 'imprevisível': 4127, 'parado': 5760, 'milhões': 5159, 'seriamente': 7410, 'comprometida': 1534, 'decretado': 2190, 'proporcionar': 6470, 'públicas': 6596, 'concretização': 1621, 'interligada': 4482, 'felicidade': 3524, 'positivas': 6104, 'familia': 3479, 'tornar': 7906, 'efetuada': 2834, 'arbitrada': 638, 'preenchimeto': 6212, 'bebê': 966, 'preenchendo': 6203, 'equivocou': 3085, 'disponível': 2651, 'cruzamento': 2035, 'disponibilizar': 2647, 'determinantes': 2489, 'explicitar': 3391, 'viabilizar': 8232, 'motivando': 5248, 'impugnada': 4135, 'tomada': 7893, 'relatar': 6896, 'fundamentaram': 3738, 'administrador': 162, 'motivados': 5247, 'neguem': 5388, 'limitem': 4862, 'afetem': 239, 'imponham': 4100, 'agravem': 281, 'decidam': 2156, 'concurso': 1626, 'seleção': 7368, 'declarem': 2178, 'inexigibilidade': 4302, 'licitatório': 4842, 'decorram': 2183, 'deixem': 2247, 'discrepem': 2622, 'importem': 4106, 'anulação': 534, 'revogação': 7173, 'convalidação': 1914, 'explícita': 3399, 'congruente': 1687, 'consistir': 1755, 'integrante': 4445, 'mecânico': 5075, 'reproduza': 6975, 'prejudique': 6230, 'interessados': 4474, 'administrado': 161, 'formular': 3663, 'diferentemente': 2554, 'impugnado': 4136, 'motivado': 5246, 'pudessem': 6575, 'modificar': 5195, 'quebrando': 6634, 'produzido': 6407, 'ilegalidade': 4035, 'afronta': 259, 'implementação': 4086, 'admissíveis': 172, 'nomeadamente': 5443, 'contraprova': 1875, 'reginaldo': 6836, 'madalena': 4958, 'compasso': 1475, 'aguas': 309, 'compridas': 1528, 'porparte': 6072, 'severina': 7441, 'conjugê': 1700, 'informamos': 4332, 'incompatível': 4211, 'reativação': 6726, 'instituidora': 4410, 'falecida': 3468, 'constava': 1780, 'morava': 5232, 'residenciais': 7023, 'divergentes': 2687, 'conjugal': 1698, 'alterado': 385, 'caberá': 1086, 'assegurem': 702, 'orientar': 5671, 'identificado': 4005, 'demonstrativos': 2288, 'habilitação': 3903, 'acometeu': 86, 'ovário': 5713, 'longa': 4912, 'mútua': 5316, 'imcompleto': 4047, 'diabetes': 2531, 'mellitus': 5097, 'insulino': 4434, 'adquirida': 194, 'foto': 3683, 'idosas': 4017, 'penalizadas': 5868, 'incluídas': 4206, 'errônea': 3097, 'existiam': 3370, 'incorretas': 4229, 'cem': 1272, 'daquela': 2133, 'compelir': 1486, 'integralidade': 4442, 'senecessário': 7381, 'roseli': 7218, 'freire': 3699, 'caetano': 1107, 'ivandilson': 4596, 'nascimeto': 5338, 'nasceram': 5332, 'vitor': 8306, 'matheus': 5056, 'domicílio': 2742, 'prontuários': 6460, 'hospital': 3974, 'cachoeirinha': 1092, 'domésticos': 2748, 'caitano': 1113, 'outorgar': 5700, 'urbanos': 8097, 'abriu': 26, 'espaço': 3125, 'deslocado': 2430, 'pudesse': 6574, 'computar': 1558, 'acrescentado': 119, 'protelada': 6496, 'produzirá': 6409, 'ausente': 847, 'exclui': 3311, 'fará': 3490, 'divorciado': 2701, 'separado': 7400, 'concorrerá': 1617, 'pensionista': 5876, 'rateada': 6683, 'respeitados': 7047, 'vertido': 8221, 'iniciados': 4355, 'transcorridos': 7947, 'vertidas': 8220, 'reformada': 6822, 'assente': 705, 'gilberto': 3824, 'jordan': 4636, 'inaplicável': 4156, 'xxix': 8370, 'satisfaze': 7306, 'incluindo': 4198, 'kelseany': 4752, 'menezes': 5114, 'holanda': 3956, 'claudio': 1384, 'lemos': 4815, 'amarela': 421, 'galeria': 3769, 'sas': 7302, 'cais': 1112, 'apolo': 568, 'oliviabarros': 5619, 'cláudio': 1390, 'superando': 7658, 'juridicamente': 4707, 'relevantes': 6914, 'enfrentada': 2986, 'atingiu': 782, 'possuíam': 6130, 'contenção': 1842, 'promulgada': 6455, 'alterava': 387, 'estabelecia': 3187, 'atribuir': 808, 'viram': 8285, 'profissões': 6426, 'inscrições': 4389, 'duraram': 2782, 'preenchesse': 6205, 'sucede': 7630, 'disse': 2665, 'tentados': 7813, 'presencial': 6252, 'adequadamente': 142, 'esclarecido': 3101, 'encaminhou': 2953, 'tutelado': 8035, 'feira': 3520, 'shtml': 7452, 'obrigacional': 5527, 'pacífico': 5724, 'transitório': 7966, 'credor': 2003, 'devedor': 2504, 'credores': 2004, 'devedores': 2505, 'conceituada': 1586, 'compromete': 1531, 'entregar': 3043, 'incerta': 4176, 'abrange': 19, 'acessórios': 65, 'resultar': 7111, 'inadimplemento': 4148, 'acordados': 109, 'substituirá': 7622, 'receberá': 6733, 'encerrou': 2962, 'preenchia': 6207, 'rendimento': 6938, 'cunhada': 2072, 'forçosa': 3681, 'inobservância': 4370, 'revisto': 7169, 'instaurar': 4408, 'neles': 5392, 'contidos': 1854, 'conhecer': 1691, 'proferidas': 6412, 'quebra': 6633, 'afetada': 238, 'indenizatório': 4245, 'falha': 3472, 'possibilitasse': 6115, 'obrigando': 5530, 'aborrecimento': 17, 'oportunidades': 5646, 'desídia': 2477, 'umas': 8070, 'depender': 2314, 'aflição': 256, 'experimentada': 3385, 'negando': 5378, 'jurisprudências': 4716, 'doutrinas': 2763, 'lecionam': 4789, 'portam': 6085, 'ilícito': 4043, 'outrem': 5703, 'obrigado': 5528, 'repará': 6951, 'extrapatrimoniais': 3438, 'enfim': 2982, 'documentados': 2722, 'note': 5469, 'humberto': 3985, 'theodoro': 7859, 'classicamente': 1380, 'cabalmente': 1079, 'frequentemente': 3703, 'litigioso': 4884, 'merecer': 5134, 'revelar': 7157, 'reste': 7092, 'típico': 8054, 'aprofundamento': 604, 'agudez': 310, 'fredie': 3697, 'didier': 2546, 'oferecimento': 5596, 'efetividade': 2832, 'ruim': 7234, 'examinado': 3281, 'cautelar': 1245, 'hipotético': 3946, 'temor': 7796, 'subjetivo': 7588, 'iminência': 4052, 'acontecendo': 105, 'intensidade': 4460, 'fruição': 3713, 'braga': 1038, 'sarno': 7301, 'alexandria': 352, 'salvador': 7278, 'juspodivm': 4725, 'olhos': 5614, 'instruída': 4427, 'devia': 2516, 'afeta': 237, 'tramitar': 7943, 'complementação': 1497, 'submetê': 7599, 'privando': 6351, 'inverso': 4524, 'gravíssimos': 3867, 'incidental': 4183, 'ordenar': 5659, 'procedam': 6365, 'resistência': 7032, 'gestor': 3822, 'acuidade': 130, 'experiência': 3386, 'qualificadas': 6608, 'contestem': 1848, 'ordenando': 5658, 'olívia': 5622, 'filgueira': 3568, 'olivia': 5618, 'marília': 5045, 'freitas': 3700, 'werter': 8361, 'adiel': 157, 'tarso': 7767, 'saihg': 7263, 'tamires': 7755, 'helena': 3922, 'jamerson': 4611, 'renato': 6934, 'impubere': 4133, 'jamily': 4613, 'jadson': 4606, 'anastacio': 467, 'guimaraes': 3895, 'iputinga': 4551, 'proridade': 6485, 'etário': 3248, 'impúberes': 4144, 'eca': 2796, 'ratifica': 6684, 'tramitações': 7945, 'regulados': 6860, 'gerais': 3807, 'diligências': 2585, 'factual': 3458, 'jafer': 4607, 'genitor': 3795, 'infantes': 4310, 'qaulidade': 6599, 'analisada': 455, 'rps': 7225, 'nascituro': 5339, 'protegida': 6494, 'gravídicos': 3866, 'concepcionista': 1591, 'trazidos': 8001, 'universais': 8085, 'onu': 5635, 'pós': 6591, 'alenca': 347, 'jovens': 4650, 'aclara': 75, 'papel': 5757, 'fundamntal': 3743, 'linhas': 4875, 'basta': 958, 'continuam': 1859, 'ultimas': 8062, 'reforça': 6824, 'teses': 7846, 'levantadas': 4827, 'óbitos': 8413, 'ocorridos': 5583, 'denovembro': 2304, 'convertida': 1922, 'emancipação': 2898, 'sobrevivencia': 7510, 'evidências': 3268, 'alencado': 348, 'preenchem': 6202, 'conferido': 1657, 'desate': 2341, 'olvida': 5620, 'denotam': 2303, 'expusemos': 3417, 'latente': 4781, 'dependeram': 2315, 'manterem': 5006, 'antecipa': 509, 'providência': 6529, 'agravada': 274, 'deixava': 2245, 'bastasse': 961, 'atualizada': 815, 'ostentava': 5689, 'presumindo': 6284, 'relacionado': 6890, 'proporcionalmente': 6469, 'severamente': 7440, 'àquele': 8388, 'legitimos': 4801, 'comprobatório': 1529, 'supedâneo': 7655, 'faziam': 3508, 'incorrer': 4227, 'catorze': 1229, 'quareta': 6623, 'meritíssimo': 5135, 'josiais': 4647, 'vidal': 8241, 'morenas': 5234, 'cadastrada': 1095, 'expedida': 3380, 'instrui': 4422, 'suplantarem': 7669, 'ressalvas': 7077, 'facultando': 3461, 'roteiro': 7221, 'siga': 7459, 'tome': 7898, 'saída': 7319, 'direção': 2602, 'continue': 1864, 'vasculopatias': 8157, 'membors': 5100, 'inferiores': 4317, 'úlceras': 8423, 'arterial': 677, 'sistémica': 7491, 'merecem': 5132, 'obstrução': 5556, 'moléstias': 5207, 'premissa': 6238, 'confundir': 1684, 'configuração': 1667, 'denegação': 2298, 'expressivo': 3410, 'segregação': 7344, 'comprometendo': 1532, 'contínuo': 1913, 'outrora': 5705, 'delineadas': 2257, 'obeso': 5514, 'mórbido': 5314, 'atendido': 754, 'realista': 6707, 'rei': 6880, 'investigando': 4528, 'interessa': 4471, 'implicaria': 4093, 'adoção': 191, 'anti': 524, 'isonômico': 4585, 'judicializado': 4661, 'obtém': 5565, 'firme': 3597, 'comunhão': 1563, 'mpf': 5262, 'exarado': 3284, 'cunha': 2071, 'retrocesso': 7143, 'solver': 7551, 'irdr': 4552, 'inaceitável': 4146, 'ferida': 3532, 'relacionada': 6888, 'carecendo': 1188, 'sofrida': 7533, 'elaborado': 2855, 'específicos': 3152, 'psiquiatra': 6560, 'pagando': 5735, 'peixoto': 5863, 'travessa': 7994, 'valério': 8143, 'tuliodemagalhaes': 8029, 'xxiv': 8369, 'line': 4870, 'videoconferência': 8243, 'palavra': 5747, 'iniciou': 4363, 'tulio': 8028, 'hostilho': 3977, 'magalhaes': 4963, 'armado': 659, 'consignadas': 1746, 'transval': 7977, 'vig': 8246, 'emproteg': 2945, 'servi': 7417, 'san': 7283, 'dinamo': 2587, 'vililandia': 8265, 'destacadas': 2452, 'convertidos': 1924, 'guarida': 3888, 'convertendo': 1920, 'prolação': 6443, 'devolutivo': 2522, 'oferecida': 5595, 'totaliza': 7915, 'multiplicadas': 5279, 'calculo': 1119, 'magalhães': 4964, 'raimunda': 6672, 'espindola': 3159, 'jaguaribe': 4608, 'relacionamento': 6892, 'natalia': 5342, 'meados': 5071, 'conjugais': 1697, 'resolveram': 7036, 'divorciar': 2702, 'homologado': 3961, 'amigos': 431, 'dividindo': 2696, 'cama': 1125, 'compartilhando': 1474, 'durantes': 2781, 'próximos': 6550, 'braços': 1053, 'cardíacos': 1186, 'provedor': 6517, 'tirando': 7871, 'divórcio': 2705, 'unido': 8079, 'intuído': 4521, 'discorrer': 2620, 'facilitar': 3456, 'acolhimento': 82, 'quiserem': 6659, 'taveira': 7771, 'ruth': 7240, 'mayara': 5067, 'marinaldo': 5037, 'sousa': 7570, 'allyson': 377, 'aragão': 633, 'vandelucia': 8145, 'colônia': 1439, 'jupi': 4704, 'rita': 7190, 'patricia': 5828, 'justino': 4738, 'povoado': 6158, 'ritapatriciaadv': 7191, 'doravante': 2753, 'garanhuns': 3776, 'dom': 2734, 'agricultores': 293, 'estiagem': 3222, 'precisou': 6192, 'possuiu': 6128, 'obtendo': 5559, 'intercalado': 4467, 'sefip': 7342, 'leiomioma': 4809, 'útero': 8431, 'cirúrgica': 1353, 'esforços': 3120, 'físicos': 3763, 'garantem': 3780, 'agrícola': 301, 'atuou': 825, 'imprecisa': 4121, 'breve': 1056, 'relato': 6904, 'emerge': 2909, 'impossibilito': 4116, 'necessitam': 5362, 'sindical': 7480, 'comodato': 1461, 'proprietária': 6478, 'aração': 636, 'sementes': 7373, 'pecuniárias': 5848, 'descontinua': 2364, 'comparecerá': 1469, 'reger': 6828, 'retroativa': 7138, 'opta': 5650, 'instando': 4404, 'comparecerão': 1470, 'ivanildo': 4597, 'almoxarifado': 381, 'treze': 8006, 'cosme': 1980, 'damião': 2121, 'cons': 1708, 'tituídos': 7876, 'paraíba': 5769, 'tel': 7787, 'loca': 4897, 'lizada': 4894, 'fundamen': 3731, 'nefício': 5372, 'buscado': 1067, 'constitucio': 1782, 'nal': 5321, 'integra': 4438, 'decorreu': 2188, 'joalina': 4630, 'frentista': 3702, 'combustíveis': 1446, 'produtos': 6404, 'inflamáveis': 4319, 'drocarbonetos': 2772, 'tolerado': 7889, 'cobrador': 1405, 'passageiros': 5805, 'folhas': 3636, 'série': 7725, 'con': 1572, 'forme': 3657, 'print': 6341, 'empre': 2929, 'gadora': 3768, 'falência': 3478, 'impos': 4108, 'sível': 7732, 'empregadora': 2935, 'joafra': 4629, 'representar': 6970, 'pata': 5820, 'reportagem': 6960, 'funcionarios': 3724, 'temem': 7795, 'aconteca': 103, 'atua': 812, 'contribui': 1890, 'ção': 8397, 'reção': 7175, 'peri': 5917, 'culoso': 2054, 'ído': 8404, 'substituído': 7627, 'boração': 1034, 'regulamentadora': 6866, 'sentadoria': 7390, 'discipline': 2617, 'desejado': 2380, 'cediço': 1258, 'siderados': 7454, 'dro': 2771, 'classifica': 1381, 'obs': 5537, 'digo': 2579, 'fissionais': 3610, 'comunicações': 1567, 'motorneiros': 5257, 'condutores': 1646, 'bondes': 1028, 'penoso': 5873, 'doviário': 2765, 'motoristas': 5255, 'cobradores': 1407, 'ônibus': 8420, 'ajudantes': 319, 'enquadrados': 3001, 'especi': 3128, 'ais': 315, 'impera': 4068, 'profissi': 6419, 'onal': 5629, 'benzeno': 993, 'veiculada': 8168, 'substâncias': 7628, 'qualitativa': 6615, 'despeito': 2437, 'sideradas': 7453, 'excluam': 3310, 'cesta': 1302, 'quími': 6663, 'cos': 1979, 'compostos': 1518, 'carbono': 1182, 'manipulação': 4999, 'alcatrão': 333, 'breu': 1055, 'betume': 998, 'antraceno': 528, 'óleos': 8417, 'minerais': 5163, 'óleo': 8416, 'queimado': 6636, 'rafina': 6670, 'cancerígenas': 1147, 'petróleo': 6001, 'quantitativa': 6618, 'litativa': 4880, 'hidrocarboneto': 3935, 'linach': 4869, 'cancerígeno': 1148, 'hidrocar': 3933, 'bonetos': 1029, 'afastar': 232, 'representativo': 6971, 'desnecessidade': 2433, 'descaracterização': 2347, 'jul': 4671, 'gamento': 3773, 'agen': 261, 'tes': 7844, 'mte': 5263, 'men': 5103, 'suração': 7694, 'inexigibili': 4301, 'dade': 2116, 'exigível': 3360, 'senvolvem': 7395, 'máxima': 5294, 'causará': 1237, 'rante': 6679, 'mencionadas': 5106, 'acórdao': 133, 'descon': 2352, 'formidade': 3658, 'uniformiza': 8080, 'mensuração': 5121, 'tora': 7901, 'suscetível': 7706, 'carmen': 1197, 'elizangela': 2888, 'resende': 7009, 'tral': 7941, 'sér': 7723, 'gio': 3826, 'abreu': 22, 'aponta': 569, 'pecial': 5844, 'égide': 8399, 'mente': 5124, 'tole': 7888, 'rância': 7245, 'ativi': 787, 'veri': 8200, 'ficação': 3558, 'gente': 3798, 'regulamen': 6861, 'tou': 7920, 'ruídos': 7242, 'físico': 3762, 'reduzido': 6799, 'agressiva': 285, 'hidrocarbo': 3934, 'netos': 5410, 'dispunham': 2659, 'códigos': 2108, 'classificam': 1382, 'objetivamente': 5517, 'decidida': 2157, 'contornos': 1869, 'terposta': 7838, 'simone': 7476, 'schreiber': 7325, 'julga': 4673, 'mento': 5125, 'nestas': 5405, 'aposen': 577, 'tadoria': 7747, 'tado': 7746, 'pre': 6173, 'vidência': 8244, 'benefí': 987, 'cio': 1345, 'dação': 2145, 'conver': 1917, 'supramencionados': 7683, 'vertidos': 8222, 'remunerações': 6931, 'cessão': 1301, 'reque': 6985, 'rimento': 7184, 'tente': 7818, 'exista': 3362, 'concilia': 1600, 'implemento': 4087, 'voluntária': 8336, 'obediência': 5512, 'observân': 5548, 'tantes': 7759, 'lícitos': 4943, 'acom': 83, 'panhado': 5753, 'advocatí': 218, 'cios': 1346, 'inácio': 4542, 'cial': 1323, 'jhonatas': 4626, 'david': 2144, 'fahel': 3462, 'jjf': 4628, 'gercino': 3813, 'jacinto': 4602, 'autonômo': 867, 'honorina': 3965, 'seca': 7330, 'culto': 2056, 'saliento': 7276, 'just': 4726, 'iça': 4600, 'inteiramente': 4454, 'dissociada': 2667, 'vigário': 8260, 'joaquim': 4632, 'limoeiro': 4865, 'britoadvogados': 1059, 'net': 5408, 'whatsapp': 8362, 'subjacente': 7587, 'guias': 3893, 'indubitavelmente': 4286, 'averbado': 907, 'seções': 7448, 'capítulo': 1167, 'extemporaneidade': 3422, 'demissão': 2275, 'contemporâneos': 1840, 'anotados': 498, 'baseada': 953, 'fortuito': 3678, 'acosta': 112, 'comprovasse': 1549, 'vindicados': 8274, 'acompanhadas': 92, 'expôs': 3418, 'baseará': 956, 'tornasse': 7908, 'remansoso': 6921, 'cobrada': 1404, 'regimental': 6833, 'exigia': 3349, 'limitava': 4858, 'restritivo': 7100, 'proibida': 6436, 'sigla': 7460, 'vigorou': 8259, 'ltcat': 4920, 'demonstrações': 2290, 'contemplando': 1834, 'dispensados': 2638, 'desacompanhado': 2335, 'gloria': 3832, 'cooperativa': 1939, 'laticinios': 4782, 'alcalis': 327, 'cáusticos': 2094, 'cito': 1363, 'álcalis': 8392, 'cáustico': 2093, 'disciplinados': 2614, 'admitindo': 179, 'ocupacionais': 5585, 'gerados': 3806, 'consistentes': 1753, 'neutralizava': 5423, 'enquadrar': 3005, 'organismo': 5664, 'luvas': 4936, 'máscaras': 5293, 'protetores': 6503, 'auriculares': 845, 'agressor': 289, 'externo': 3427, 'modulação': 5202, 'distinguiu': 2669, 'inpc': 4376, 'caderneta': 1104, 'taís': 7776, 'diferimento': 2559, 'aceitando': 50, 'frio': 3707, 'substituiu': 7623, 'contendo': 1841, 'responsáveis': 7063, 'habilitados': 3902, 'monitoração': 5216, 'eximindo': 3361, 'concomitantemente': 1613, 'viger': 8250, 'nivel': 5432, 'limte': 4868, 'umidade': 8071, 'aferida': 234, 'ensejo': 3017, 'epc': 3058, 'are': 644, 'neutralizando': 5421, 'descaracterizado': 2345, 'treinamento': 8005, 'respiratórias': 7053, 'óculos': 8415, 'respingos': 7052, 'oriundos': 5681, 'relevante': 6913, 'reclama': 6754, 'exceções': 3309, 'visados': 8289, 'cometido': 1455, 'descontínuo': 2368, 'exponha': 3400, 'prejudicialidade': 6228, 'químicas': 6664, 'associadas': 729, 'degradam': 2237, 'implementada': 4082, 'deliberação': 2251, 'diferida': 2558, 'mandamental': 4985, 'provimentos': 6532, 'fundados': 3730, 'sujeita': 7644, 'efetivada': 2826, 'gabriela': 3766, 'pietsch': 6005, 'serafin': 7406, 'vasto': 8159, 'índice': 8405, 'preclusão': 6193, 'dermeval': 2330, 'bel': 969, 'juntando': 4698, 'oitivas': 5608, 'pires': 6016, 'caic': 1110, 'pinheiro': 6008, 'mails': 4970, 'vasconceloscoutinhoadvocacia': 8154, 'outlook': 5697, 'vca': 8162, 'artrites': 687, 'reumatóides': 7149, 'soro': 7567, 'artrite': 686, 'reumatóide': 7148, 'reumatoides': 7145, 'especificadas': 3141, 'reumatologista': 7147, 'desejam': 2382, 'parentesca': 5781, 'tópico': 8057, 'impedem': 4059, 'limitam': 4855, 'clínica': 1392, 'enquadre': 3007, 'adm': 160, 'bruno': 1061, 'joãozito': 4653, 'marcela': 5023, 'nacioanal': 5317, 'consubstanciada': 1806, 'ubiratan': 8059, 'demandado': 2266, 'equivocados': 3083, 'apuraram': 623, 'exatidão': 3286, 'sacrificados': 7260, 'asseguraria': 700, 'totalidade': 7914, 'acréscimos': 127, 'pastificio': 5818, 'bahia': 920, 'transportadora': 7971, 'atlas': 793, 'aprendizagem': 590, 'comercial': 1452, 'viação': 8235, 'itapamerim': 4588, 'expresso': 3412, 'guanabara': 3881, 'gontijo': 3840, 'atlantico': 792, 'atingiria': 780, 'holding': 3957, 'logistica': 4905, 'itapemerim': 4589, 'turismo': 8031, 'ate': 740, 'resultou': 7113, 'desconformidade': 2354, 'prevalecer': 6301, 'integrado': 4440, 'palavras': 5748, 'doutrinador': 2762, 'limongi': 4866, 'frança': 3692, 'conviesse': 1927, 'regularidade': 6875, 'embasa': 2899, 'vindica': 8273, 'impende': 4067, 'valem': 8128, 'tst': 8026, 'obreiro': 5525, 'falsidade': 3474, 'fraude': 3696, 'masculino': 5046, 'reduzidos': 6800, 'magistério': 4966, 'promulgação': 6456, 'haviam': 3916, 'alcançado': 331, 'instituída': 4417, 'aludida': 401, 'fixou': 3619, 'poderiam': 6052, 'submeterem': 7594, 'mulheres': 5274, 'faltaria': 3476, 'supramencionado': 7682, 'amparado': 436, 'viabiliza': 8231, 'concebível': 1573, 'assegurará': 701, 'condão': 1651, 'alternadamente': 391, 'somada': 7554, 'segundos': 7357, 'equivalência': 3079, 'mistério': 5183, 'especifica': 3139, 'aludidas': 402, 'interregnos': 4501, 'informados': 4328, 'lcat': 4788, 'contatados': 1828, 'apresentam': 596, 'oficiados': 5599, 'aludidos': 404, 'condicionando': 1638, 'oficio': 5603, 'procuram': 6397, 'insatisfatória': 4380, 'anseios': 502, 'imputáveis': 4141, 'diligenciar': 2583, 'frágil': 3716, 'satisfez': 7313, 'evasiva': 3250, 'espontaneamente': 3162, 'coagido': 1402, 'mandar': 4987, 'acompanhe': 98, 'vênia': 8354, 'ilegais': 4033, 'contraditórias': 1872, 'contabilizado': 1815, 'providencias': 6526, 'recolher': 6762, 'suscitados': 7708, 'diligenciado': 2582, 'imprimido': 4128, 'contados': 1822, 'transito': 7964, 'deferidas': 2208, 'exceção': 3308, 'perfeita': 5910, 'paj': 5746, 'sandra': 7286, 'florêncio': 3628, 'amapá': 419, 'indianópolis': 4260, 'nominada': 5449, 'complementar': 1494, 'cjf': 1371, 'necessitada': 5358, 'inscritas': 4385, 'daquelas': 2134, 'concernentes': 1595, 'extratos': 3441, 'bancários': 934, 'gerido': 3816, 'negadas': 5375, 'atenderem': 749, 'dispunha': 2658, 'constasse': 1771, 'acarretar': 43, 'habitado': 3904, 'vânia': 8351, 'cunhado': 2073, 'gualberto': 3880, 'compõem': 1561, 'estâncias': 3243, 'rendas': 6937, 'independentes': 4252, 'recorre': 6780, 'passiva': 5812, 'processa': 6379, 'realizados': 6712, 'avaliando': 900, 'requerentes': 6991, 'enquadrá': 3008, 'inclui': 4197, 'objetivando': 5518, 'orçamento': 5685, 'ordenador': 5656, 'despesa': 2438, 'versam': 8214, 'destinatário': 2468, 'pagador': 5732, 'dizem': 2707, 'pactuado': 5721, 'atendem': 744, 'prescricional': 6250, 'declaratório': 2174, 'mesa': 5138, 'congresso': 1686, 'ressalvadas': 7072, 'constituídas': 1799, 'praticados': 6166, 'conservam': 1729, 'regidas': 6830, 'fases': 3492, 'revoga': 7171, 'tácita': 8042, 'restabelecida': 7084, 'suspensa': 7710, 'encerramento': 2959, 'encontravam': 2971, 'garantidas': 3784, 'desinteresse': 2428, 'submeteria': 7595, 'emendas': 2906, 'modificativas': 5196, 'ampliaram': 444, 'adpf': 192, 'sobreposição': 7506, 'equivalha': 3078, 'ofenderia': 5591, 'cláusula': 1391, 'pétrea': 6590, 'preconiza': 6195, 'relevância': 6916, 'alinhado': 374, 'afirmar': 251, 'cujas': 2049, 'exaurida': 3288, 'imprevisibilidade': 4126, 'formais': 3648, 'extraordinária': 3434, 'modificadoras': 5194, 'preconizado': 6196, 'sólida': 7736, 'cármem': 2092, 'weber': 8360, 'ellen': 2889, 'gracie': 3852, 'adc': 138, 'fux': 3753, 'forçoso': 3682, 'carecer': 1189, 'viabilidade': 8230, 'titulares': 7874, 'enquadram': 3002, 'rigorosamente': 7182, 'missão': 5180, 'conferiu': 1660, 'ramo': 6676, 'décadas': 2788, 'padecendo': 5725, 'estruturar': 3236, 'demandas': 2271, 'justiças': 4740, 'simplesmente': 7478, 'exíguo': 3450, 'normativamente': 5458, 'circulação': 1348, 'aglomeração': 269, 'alvo': 410, 'celular': 1271, 'digitalização': 2572, 'distância': 2681, 'retarda': 7118, 'atermação': 763, 'dotado': 2757, 'postulatória': 6148, 'enorme': 2997, 'acabaria': 38, 'abrir': 25, 'violando': 8279, 'garantida': 3783, 'aprovados': 607, 'rigoroso': 7183, 'concursados': 1625, 'nítida': 5502, 'paridade': 5783, 'armas': 661, 'verdadeiro': 8195, 'corolário': 1947, 'instaurados': 4407, 'erros': 3096, 'enfrentam': 2987, 'números': 5508, 'expressivos': 3411, 'estrutural': 3235, 'inviabiliza': 4530, 'destinatária': 2467, 'concretizar': 1620, 'hipervulnerável': 3941, 'caminhar': 1132, 'aduzir': 208, 'reduzidíssimo': 6801, 'ressarcimento': 7078, 'administrados': 163, 'releva': 6912, 'marcado': 5021, 'milhares': 5157, 'análises': 536, 'ajustes': 323, 'ferramenta': 3539, 'reprocessamentos': 6974, 'cabo': 1088, 'acts': 128, 'cnj': 1396, 'mencionam': 5109, 'grandes': 3856, 'decurso': 2193, 'regentes': 6827, 'ocorreria': 5579, 'inviabilizaria': 4532, 'prejudicados': 6220, 'automatizado': 864, 'objetivavam': 5520, 'aumento': 842, 'ampliava': 445, 'demasiado': 2274, 'deduzir': 2200, 'massiva': 5047, 'emergenciais': 2910, 'incremento': 4232, 'objetivava': 5519, 'demasiadamente': 2273, 'compararmos': 1467, 'relacionados': 6891, 'puderam': 6572, 'sanção': 7297, 'imputar': 4140, 'hipossuficientes': 3943, 'informacionais': 4324, 'tecnológicos': 7785, 'chegou': 1317, 'foge': 3633, 'reclamar': 6757, 'foros': 3674, 'excluídos': 3319, 'digitais': 2569, 'incessante': 4179, 'assistidas': 723, 'processar': 6384, 'irresignações': 4566, 'trazido': 8000, 'originarem': 5676, 'limitador': 4854, 'câmara': 2095, 'reunião': 7154, 'elaborou': 2859, 'sugestivo': 7643, 'aprovada': 605, 'referendum': 6810, 'sei': 7364, 'ccr': 1252, 'ofensa': 5592, 'flagrante': 3624, 'socorro': 7526, 'suportando': 7673, 'estampados': 3202, 'editadas': 2809, 'provisórias': 6534, 'continuidades': 1866, 'gerencial': 3815, 'regulamentos': 6872, 'bloqueado': 1016, 'genérico': 3800, 'vaga': 8122, 'genérica': 3799, 'obsta': 5551, 'retificar': 7125, 'preveem': 6302, 'influir': 4322, 'coletivo': 1428, 'dpgu': 2768, 'dndh': 2716, 'recomendou': 6767, 'providências': 6530, 'exibir': 3345, 'impondo': 4099, 'minudente': 5172, 'demandadas': 2265, 'justificaram': 4733, 'articulado': 679, 'sumariamente': 7651, 'cidadãos': 1332, 'vulneráveis': 8344, 'majoritária': 4979, 'rigor': 7181, 'silêncio': 7471, 'compelidas': 1483, 'esteio': 3212, 'tragam': 7940, 'intimadas': 4511, 'disponham': 2643, 'incidentalmente': 4184, 'concederem': 1578, 'liberadas': 4834, 'poliana': 6056, 'paiva': 5745, 'yallane': 8376, 'estagiária': 3198, 'lucimar': 4927, 'adelson': 139, 'suzana': 7722, 'cavaleiro': 1248, 'subscrita': 7604, 'periodos': 5939, 'prev': 6299, 'idenciária': 4002, 'ativ': 785, 'idades': 3996, 'prejudicia': 6225, 'integr': 4437, 'prov': 6509, 'ado': 181, 'ínimo': 8407, 'exig': 3347, 'ida': 3994, 'benefic': 974, 'procede': 6366, 'arem': 648, 'herval': 3931, 'ajudante': 318, 'mecanico': 5072, 'diesel': 2548, 'odo': 5590, 'perm': 5942, 'anente': 476, 'interm': 4483, 'itente': 4592, 'form': 3645, 'ent': 3022, 'fisicos': 3606, 'cat': 1223, 'bientais': 1002, 'dev': 2499, 'idam': 3997, 'acon': 100, 'tece': 7779, 'exer': 3330, 'cido': 1333, 'especia': 3129, 'audos': 830, 'tecnicos': 7781, 'perici': 5918, 'indústria': 4292, 'santoro': 7295, 'leon': 4817, 'heimer': 3920, 'retifica': 7123, 'montador': 5220, 'norasa': 5450, 'imperial': 4071, 'royal': 7224, 'veiculo': 8169, 'automotores': 865, 'rodrimar': 7209, 'logística': 4910, 'revisor': 7167, 'metropolitana': 5145, 'rodobens': 7202, 'facultado': 3460, 'submetia': 7596, 'ruido': 7233, 'fisico': 3605, 'juridicos': 4709, 'permitia': 5958, 'imposição': 4109, 'oriunda': 5678, 'regit': 6849, 'actum': 129, 'descritivos': 2372, 'supre': 7684, 'justificada': 4730, 'normativas': 5459, 'preposto': 6243, 'paraná': 5768, 'reformou': 6823, 'recorrido': 6785, 'diverge': 2686, 'goiás': 3836, 'dominante': 2744, 'ronivon': 7216, 'inadmitido': 4151, 'paradigma': 5759, 'similitude': 7475, 'versada': 8213, 'atacado': 738, 'posta': 6134, 'republicada': 6979, 'dispôs': 2662, 'alternativamente': 393, 'antigo': 526, 'dises': 2629, 'contemplará': 1836, 'deixarão': 2244, 'autenticidade': 856, 'rege': 6826, 'consagrando': 1710, 'amplia': 441, 'prever': 6306, 'contemple': 1838, 'internos': 4491, 'logrou': 4909, 'esposadas': 3166, 'limitando': 4856, 'pretexto': 6296, 'pretensa': 6292, 'extrapolou': 3439, 'ditame': 2682, 'aclarou': 77, 'explicitou': 3393, 'precisos': 6191, 'eficiência': 2844, 'toar': 7880, 'martins': 5042, 'port': 6077, 'restabelecendo': 7082, 'andré': 475, 'convergência': 1918, 'admitir': 180, 'incongruência': 4216, 'detalhando': 2480, 'retificação': 7126, 'busque': 1072, 'solicitadas': 7537, 'sanear': 7288, 'suscitadas': 7707, 'conter': 1843, 'prejudicá': 6229, 'ingerência': 4345, 'infirmada': 4318, 'ideológica': 4012, 'falsas': 3473, 'decididas': 2158, 'explicitação': 3392, 'declinados': 2182, 'dispensado': 2637, 'fustigado': 3747, 'subsume': 7629, 'acrescento': 120, 'destaco': 2457, 'alegadas': 337, 'irregularidades': 4560, 'orienta': 5670, 'disfunções': 2631, 'conclusivo': 1608, 'julgadas': 4675, 'regularização': 6877, 'aventada': 906, 'circunstância': 1350, 'escrivani': 3117, 'stefaniu': 7580, 'inobstante': 4371, 'isoladamente': 4582, 'rechaçado': 6748, 'similar': 7474, 'protetor': 6502, 'auricular': 844, 'tolerável': 7891, 'normalidade': 5454, 'potência': 6151, 'som': 7552, 'auditivas': 827, 'financiado': 3590, 'alíquotas': 415, 'percentuais': 5895, 'causado': 1232, 'relacionasse': 6893, 'eliminação': 2885, 'influenciam': 4321, 'impassíveis': 4057, 'reputados': 6981, 'invocados': 4537, 'emitidas': 2920, 'elimine': 2886, 'neutralize': 5425, 'respeitado': 7046, 'posicionando': 6099, 'análogos': 537, 'transcrevemos': 7950, 'pretoriano': 6297, 'themas': 7858, 'debandi': 2150, 'unânime': 8091, 'legítimo': 4805, 'catalogada': 1224, 'neutralizar': 5422, 'haverá': 3914, 'nortear': 5465, 'afigurar': 244, 'submete': 7590, 'serviu': 7427, 'eliminar': 2884, 'col': 1416, 'requisitório': 7006, 'manual': 5013, 'marconi': 5029, 'inovação': 4374, 'celetista': 1269, 'aluno': 406, 'apreciada': 583, 'tensão': 7811, 'volts': 8334, 'maquinista': 5017, 'pertence': 5975, 'integravam': 4448, 'prevalecendo': 6300, 'cbtu': 1249, 'acidentes': 68, 'choque': 1320, 'elétrico': 2894, 'adis': 159, 'condenações': 1635, 'referencial': 6809, 'pronunciamento': 6461, 'providas': 6525, 'auspícios': 848, 'civilestão': 1366, 'apelado': 544, 'jusao': 4724, 'improvida': 4131, 'declinado': 2181, 'advertências': 214, 'porporcional': 6073, 'progressiva': 6432, 'chegando': 1315, 'ronaldo': 7215, 'nogaia': 5440, 'alta': 382, 'qualificados': 6612, 'tomé': 7900, 'jornalista': 4640, 'pecuniários': 5849, 'ajg': 316, 'declare': 2177, 'vivian': 8320, 'josete': 4646, 'pantaleão': 5756, 'caminha': 1130, 'consolidando': 1759, 'impugnação': 4138, 'leiria': 4810, 'abrigo': 23, 'decisum': 2163, 'aquém': 631, 'necesidade': 5353, 'esquizoafetivo': 3176, 'prevenção': 6305, 'brutos': 1065, 'auferidos': 834, 'mensalmente': 5120, 'alimentícias': 373, 'comissões': 1460, 'pró': 6544, 'labore': 4768, 'assalariados': 694, 'possibilidades': 6111, 'curricular': 2079, 'indenizatória': 4244, 'sazonal': 7318, 'regulamentadas': 6864, 'combate': 1443, 'fome': 3637, 'polêmicos': 6061, 'tarifação': 7766, 'delimitação': 2256, 'processado': 6381, 'vige': 8247, 'convencimento': 1915, 'beneficiado': 977, 'cercear': 1284, 'lembrar': 4814, 'eleger': 2861, 'comprovassem': 1550, 'contestada': 1844, 'permitiria': 5965, 'declarou': 2179, 'arguido': 649, 'prévio': 6543, 'extraordinários': 3437, 'conheceu': 1692, 'fiscalizar': 3601, 'compatibilidade': 1476, 'atribuída': 811, 'difuso': 2565, 'reapreciação': 6724, 'tende': 7807, 'surgir': 7696, 'naturalidade': 5346, 'reclamações': 6760, 'balançar': 927, 'surgirá': 7698, 'nitidez': 5431, 'reapreciar': 6723, 'contrárias': 1908, 'preestabelecidos': 6213, 'inconstitucionalização': 4221, 'pôs': 6593, 'elaboraram': 2857, 'maneiras': 4990, 'contornar': 1868, 'estipulado': 3227, 'avaliar': 901, 'entes': 3037, 'paralelamente': 5763, 'estabeleceram': 3185, 'elásticos': 2893, 'escola': 3106, 'instituírem': 4419, 'socioeducativas': 7523, 'monocráticas': 5217, 'rever': 7161, 'posicionamentos': 6098, 'intransponibilidade': 4516, 'notórias': 5475, 'mudanças': 5266, 'patamares': 5822, 'reputou': 6983, 'violar': 8280, 'válidos': 8347, 'silveira': 7470, 'perdurar': 5905, 'colabora': 1417, 'ostenta': 5687, 'subsidiar': 7611, 'reiterada': 6884, 'portadoras': 6082, 'profunda': 6427, 'lastimável': 4780, 'miséria': 5184, 'juntam': 4696, 'apreciado': 584, 'geradas': 3804, 'postergada': 6135, 'possivelmente': 6118, 'sofrido': 7534, 'irreparáveis': 4563, 'dignas': 2575, 'miseravelmente': 5179, 'líquido': 4946, 'discutidos': 2628, 'pecuniária': 5847, 'aduzida': 206, 'analogicamente': 465, 'apuradas': 619, 'dispõem': 2664, 'daniel': 2123, 'rubia': 7230, 'danielle': 2126, 'pcd': 5843, 'autismo': 857, 'sindrome': 7482, 'pânico': 6589, 'efraim': 2846, 'incontroversa': 4225, 'maanaim': 4953, 'licila': 4841, 'rúbia': 7251, 'rubynhacostta': 7231, 'vereadores': 8198, 'eyshylla': 3451, 'maynnary': 5069, 'congênito': 1690, 'pessimista': 5990, 'ouvir': 5711, 'barulho': 950, 'tapa': 7763, 'ouvidos': 5710, 'espacial': 3124, 'concentrado': 1589, 'movimentos': 5260, 'estereotipados': 3219, 'pulos': 6579, 'danças': 2130, 'prende': 6239, 'detalhes': 2481, 'cena': 1273, 'utiliza': 8112, 'grafia': 3853, 'traçados': 8002, 'grossos': 3877, 'letras': 4821, 'separadas': 7399, 'imprensa': 4124, 'maiúscula': 4977, 'linguagem': 4873, 'questionado': 6648, 'colegas': 1426, 'pintando': 6010, 'recreio': 6786, 'respondeu': 7058, 'lápis': 4941, 'pintar': 6011, 'resolver': 7035, 'cotidianos': 1988, 'hora': 3969, 'monetário': 5213, 'motora': 5252, 'equilibrar': 3067, 'postura': 6150, 'fina': 3582, 'escrever': 3113, 'cursivas': 2080, 'participa': 5789, 'brincadeiras': 1057, 'interage': 4464, 'expressar': 3409, 'emoções': 2927, 'sentindo': 7394, 'assiste': 717, 'encaminhamento': 2951, 'psicólogo': 6559, 'psicopedagogo': 6556, 'aguardando': 306, 'jones': 4635, 'nogueira': 5441, 'aba': 4, 'diariamente': 2543, 'domiciliar': 2741, 'horária': 3972, 'semanais': 7371, 'fonoaudióloga': 3640, 'terapeuta': 7825, 'ocupacional': 5586, 'psicopedagoga': 6555, 'aquática': 630, 'musicoterapia': 5290, 'rede': 6797, 'sofra': 7527, 'publicados': 6566, 'traumatismo': 7991, 'superficial': 7661, 'cotovelo': 1989, 'antebraço': 506, 'algias': 354, 'cefálicas': 1262, 'cefaleia': 1261, 'nistagmo': 5429, 'irregulares': 4558, 'visão': 8299, 'subnormal': 7601, 'passos': 5815, 'chegue': 1319, 'etapa': 3245, 'compareceu': 1471, 'marcada': 5020, 'comparecido': 1472, 'remarcada': 6922, 'adiantada': 151, 'adiada': 150, 'greve': 3869, 'pretensos': 6294, 'punido': 6582, 'irresponsabilidade': 4567, 'preservando': 6257, 'glecia': 3829, 'separada': 7397, 'matinha': 5058, 'est': 3181, 'nto': 5491, 'ose': 5686, 'cré': 2037, 'ces': 1295, 'significativo': 7465, 'auferida': 831, 'ficará': 3557, 'despreparo': 2440, 'vias': 8234, 'preenchida': 6208, 'controversa': 1902, 'manunteção': 5014, 'surgiu': 7699, 'conservava': 1730, 'justificou': 4736, 'afetivo': 241, 'cabeleira': 1081, 'quea': 6632, 'autoraestá': 870, 'menciona': 5104, 'caminham': 1131, 'desventurada': 2475, 'fonseca': 3641, 'hamilton': 3909, 'carvalhido': 1208, 'interfere': 4477, 'cabeleleira': 1083, 'realocar': 6722, 'evocado': 3272, 'demadante': 2261, 'colegiado': 1427, 'passagem': 5806, 'conjuntamente': 1702, 'identificam': 4006, 'impactos': 4056, 'verificada': 8202, 'acompanhante': 96, 'condene': 1636, 'preços': 6326, 'amplo': 447, 'periciado': 5921, 'chegaram': 1316, 'periciada': 5920, 'valdeci': 8124, 'maurício': 5065, 'nassau': 5340, 'passará': 5810, 'celebrou': 1267, 'nomenclatura': 5448, 'ingressam': 4348, 'lazzari': 4787, 'computando': 1557, 'noutros': 5478, 'regimes': 6834, 'aberturas': 13, 'permitem': 5957, 'substitutivos': 7626, 'contribuíam': 1899, 'permissão': 5953, 'terem': 7831, 'completado': 1500, 'aceitarem': 53, 'aposentar': 581, 'pouco': 6154, 'nele': 5391, 'denegatória': 2296, 'desenvolveram': 2404, 'regulamentando': 6867, 'detalhada': 2479, 'desempenhadas': 2388, 'portempo': 6091, 'laborava': 4767, 'ouso': 5696, 'enquadrável': 3009, 'ampara': 434, 'luís': 4938, 'azevedoaurvalle': 915, 'resguarda': 7014, 'aposentação': 582, 'seuadvento': 7439, 'totalizado': 7916, 'atualizados': 817, 'umperíodo': 8072, 'básico': 1076, 'esteia': 3211, 'service': 7418, 'advent': 211, 'exercicio': 3336, 'acumulados': 132, 'respeitando': 7048, 'aparte': 541, 'pequenas': 5882, 'causas': 1238, 'célio': 2099, 'una': 8073, 'intermédios': 4486, 'inaldo': 4153, 'lins': 4877, 'fila': 3567, 'quilométrica': 6653, 'morto': 5238, 'permanecia': 5947, 'aconselhado': 102, 'funcionário': 3726, 'atendeu': 752, 'auferido': 833, 'tentativas': 7816, 'frustradas': 3714, 'desgaste': 2416, 'vincendos': 8267, 'banco': 930, 'suportado': 7672, 'interrupção': 4503, 'encontraria': 2969, 'inverídico': 4526, 'evidenciar': 3263, 'provou': 6535, 'corre': 1953, 'demonstradas': 2279, 'armazenamento': 662, 'vencida': 8178, 'governamental': 3846, 'atentaram': 759, 'condizem': 1640, 'acarretou': 45, 'auxiliares': 892, 'renovação': 6942, 'vindouras': 8276, 'procederem': 6371, 'passe': 5811, 'vivo': 8321, 'flávio': 3631, 'galvão': 3771, 'púbere': 6594, 'germano': 3818, 'beserra': 997, 'agricultor': 291, 'otaviano': 5690, 'panelas': 5752, 'damiana': 2120, 'rurícolas': 7238, 'explora': 3395, 'lagedo': 4773, 'sacos': 7258, 'ednaldo': 2815, 'indicam': 4267, 'corroborado': 1973, 'discute': 2626, 'rodeadouro': 7201, 'sustentava': 7718, 'abrangida': 21, 'licenciado': 4840, 'graça': 3868, 'tru': 8022, 'uniformizou': 8082, 'guerreado': 3891, 'testemunha': 7847, 'raphaela': 6680, 'diniz': 2588, 'ventura': 8186, 'maeli': 4962, 'raiane': 6671, 'avó': 913, 'materna': 5054, 'srª': 7576, 'domiciliadas': 2737, 'maciel': 4956, 'cleriston': 1386, 'arrolados': 675, 'autoaplicável': 861, 'sedimentado': 7341, 'cria': 2010, 'mantinha': 5011, 'iletrada': 4036, 'vivenda': 8314, 'reunia': 7151, 'ignorados': 4022, 'pleiteante': 6028, 'antecederam': 508, 'residia': 7027, 'str': 7584, 'fala': 3463, 'fulmina': 3719, 'vastos': 8160, 'aceitam': 49, 'delimitadas': 2254, 'uniãoes': 8089, 'tável': 8043, 'lidade': 4843, 'volante': 8329, 'corroborada': 1972, 'probatórias': 6358, 'prescindível': 6249, 'consubstanciado': 1807, 'continuava': 1863, 'oriundo': 5680, 'incidirá': 4190, 'precedida': 6180, 'apl': 551, 'julgará': 4682, 'proferindo': 6416, 'revel': 7155, 'autorizadora': 879, 'dispensável': 2642, 'prudência': 6539, 'extremo': 3446, 'cuidado': 2044, 'naqueles': 5324, 'remanescente': 6919, 'revele': 7158, 'dispensabilidade': 2634, 'inafastável': 4152, 'pensãopor': 5878, 'testilha': 7851, 'colmatação': 1432, 'anular': 533, 'trabalhadorrural': 7928, 'descontínua': 2367, 'aplicados': 557, 'repetitivos': 6957, 'solar': 7535, 'destacando': 2455, 'esperam': 3154, 'resulta': 7104, 'marcelino': 5024, 'brainer': 1039, 'cruzeiro': 2036, 'dii': 2580, 'motiva': 5244, 'reingresso': 6881, 'hiv': 3954, 'motoras': 5253, 'graves': 3864, 'cognitivas': 1412, 'moderadas': 5189, 'toxoplasmose': 7922, 'cadeirante': 1103, 'apontada': 570, 'implicam': 4091, 'propriamente': 6476, 'sustentada': 7716, 'exprime': 3415, 'aporte': 575, 'infundada': 4343, 'descabida': 2342, 'fundamentada': 3733, 'questionável': 6650, 'vestibulares': 8224, 'confeccionado': 1652, 'prohaska': 6435, 'infectologia': 4313, 'sharon': 7450, 'moneysymb': 5214, 'valordacausa': 8138, 'igor': 4024, 'sacramento': 7259, 'cobradora': 1406, 'caiada': 1109, 'ihéus': 4031, 'reumatologia': 7146, 'giovanni': 3827, 'mota': 5243, 'karina': 4749, 'reestabelecer': 6806, 'ibrahim': 3991, 'insuscetível': 4436, 'sombras': 7562, 'curar': 2076, 'fábio': 3754, 'zambitte': 8381, 'impetus': 4074, 'correia': 1954, 'brasileir': 1045, 'cabeleireira': 1082, 'domiciliad': 2735, 'cantora': 1153, 'maisa': 4975, 'matarazzo': 5049, 'barro': 947, 'pâncreas': 6588, 'marido': 5036, 'utilizadas': 8114, 'perdido': 5902, 'descumpriu': 2377, 'categórica': 1227, 'prevêem': 6324, 'complementaçã': 1496, 'agrupamento': 299, 'falecidos': 3470, 'acatasse': 48, 'possibilitaria': 6114, 'agrupar': 300, 'aproveitou': 610, 'instruir': 4423, 'fariam': 3487, 'recuperasse': 6788, 'ncessão': 5351, 'retroagir': 7137, 'contabilz': 1818, 'contabilzação': 1819, 'pos': 6096, 'doo': 2751, 'atentar': 758, 'ccontabilização': 1250, 'ontabilização': 5633, 'estenderia': 3216, 'contribuiç': 1894, 'ões': 8422, 'contabilizadas': 1814, 'afastou': 233, 'contabilização': 1817, 'supe': 7654, 'rior': 7186, 'adicionou': 156, 'ntudo': 5492, 'possibilitou': 6116, 'omplementação': 5627, 'atingisse': 781, 'somatório': 7561, 'auferidas': 832, 'compe': 1480, 'tências': 8052, 'aproveitamento': 609, 'atinjam': 783, 'efetuados': 2836, 'autorizada': 877, 'solicitados': 7539, 'subseqüente': 7609, 'hipóte': 3947, 'subsequente': 7607, 'mecanismos': 5074, 'contabilizaç': 1816, 'agrupadas': 297, 'elevariam': 2879, 'ccontribuição': 1251, 'ontribuição': 5634, 'ilidade': 4038, 'possibilitado': 6112, 'alternativas': 394, 'querente': 6645, 'terminar': 7834, 'contrib': 1887, 'agrupados': 298, 'sidiariamente': 7455, 'efetue': 2840, 'complemen': 1492, 'tar': 7764, 'nceder': 5350, 'nov': 5479, 'joziana': 4651, 'silvana': 7469, 'adriele': 202, 'espirito': 3160, 'capivara': 1163, 'sil': 7466, 'vanal': 8144, 'aadv': 1, 'gmm': 3834, 'ail': 313, 'anexando': 482, 'causídica': 1241, 'subscritora': 7606, 'anexará': 483, 'deplorável': 2318, 'vizinhos': 8323, 'igreja': 4025, 'estudos': 3239, 'submetendo': 7591, 'caprichos': 1164, 'arrastando': 670, 'indo': 4285, 'pericias': 5926, 'mudando': 5264, 'perca': 5886, 'cansada': 1152, 'globais': 3830, 'frequentes': 3704, 'banheiro': 938, 'doção': 2767, 'causam': 1235, 'impulsivo': 4139, 'atrasos': 801, 'maturidade': 5063, 'sono': 7565, 'pouca': 6152, 'impaciência': 4053, 'autoagressão': 860, 'surtos': 7703, 'raiva': 6675, 'angústia': 489, 'educacionais': 2818, 'cad': 1093, 'condução': 1650, 'ênfase': 8402, 'abordagens': 16, 'psicossociais': 6557, 'medicações': 5083, 'encaminhamentos': 2952, 'leva': 4822, 'sensação': 7385, 'fracasso': 3686, 'abandono': 9, 'biológico': 1007, 'abandonada': 7, 'estigmatizada': 3223, 'envolvem': 3055, 'multidisciplinares': 5277, 'sofrem': 7529, 'dobro': 2719, 'assumido': 735, 'amor': 433, 'abandonar': 8, 'mae': 4961, 'lenivaldo': 4816, 'epirito': 3063, 'fragilizada': 3688, 'risperidona': 7189, 'medicamento': 5079, 'determinados': 2486, 'citamos': 1357, 'esquizofrenia': 3177, 'irritabilidade': 4572, 'depakene': 2307, 'ácido': 8390, 'valpróico': 8141, 'valproato': 8140, 'sódio': 7735, 'pacientes': 5716, 'epiléticas': 3062, 'parciais': 5774, 'complexas': 1504, 'ocorrem': 5577, 'isolada': 4581, 'melatonina': 5094, 'gotas': 3843, 'bonadio': 1027, 'hormônio': 3971, 'recomendado': 6765, 'ritmo': 7192, 'circadiano': 1347, 'comportamental': 1512, 'rem': 6918, 'tcsrem': 7777, 'alheia': 360, 'editou': 2813, 'consolidar': 1760, 'modificado': 5193, 'autorizava': 882, 'instituíssem': 4420, 'sócios': 7734, 'educativas': 2820, 'conclua': 1604, 'recorrendo': 6781, 'inexistente': 4305, 'scartezzini': 7322, 'volta': 8330, 'justa': 4727, 'usurpado': 8110, 'definições': 2232, 'contributiva': 1897, 'prove': 6516, 'integrada': 4439, 'setoriais': 7438, 'contingências': 1855, 'universalização': 8087, 'confronta': 1681, 'ampliar': 443, 'paragrafo': 5762, 'oligofrenia': 5615, 'literalidade': 4882, 'vivesse': 8318, 'publicado': 6565, 'incidenter': 4186, 'tantum': 7762, 'dedica': 2194, 'rendada': 6936, 'gastos': 3790, 'estendesse': 3217, 'excluir': 3312, 'protegê': 6495, 'caracteriza': 1170, 'remuneratórios': 6929, 'afirmado': 248, 'meira': 5092, 'confusão': 1685, 'moderadamente': 5188, 'convocada': 1934, 'especilaizada': 3147, 'pub': 6563, 'djfr': 2714, 'desumanidade': 2474, 'designadas': 2418, 'psicossocial': 6558, 'nomeados': 5445, 'comparando': 1466, 'impedirá': 4065, 'couber': 1990, 'alimentícia': 372, 'josemar': 4644, 'aux': 890, 'morada': 5226, 'belo': 970, 'sediada': 7337, 'isentando': 4576, 'ultrapassar': 8066, 'justificar': 4732, 'acumuladores': 131, 'regina': 6835, 'mororó': 5236, 'queirozebarrosadv': 6640, 'etiane': 3247, 'roberta': 7196, 'crea': 2000, 'chumbo': 1321, 'prolatada': 6441, 'consignados': 1747, 'concomitante': 1612, 'juntou': 4703, 'exibição': 3346, 'serviria': 7424, 'entendo': 3036, 'lançamento': 4774, 'obtê': 5566, 'supriria': 7693, 'suscitar': 7709, 'engenheira': 2993, 'contaminação': 1824, 'declaradamente': 2169, 'técnicas': 8046, 'vestibular': 8223, 'kaique': 4748, 'lunar': 4935}\n"
          ]
        }
      ]
    },
    {
      "cell_type": "code",
      "source": [
        "#3. get the predictions for X_test and store it in y_pred\n",
        "y_pred = pipeline_vizinhos_proximos.predict(X_test)"
      ],
      "metadata": {
        "id": "TszznONuQtSB"
      },
      "execution_count": 35,
      "outputs": []
    },
    {
      "cell_type": "code",
      "source": [
        "# imprimir uma matriz de confusão e um relatório de classificação\n",
        "from sklearn.metrics import confusion_matrix\n",
        "print(classification_report(y_test, y_pred))\n",
        "\n",
        "pd.DataFrame(\n",
        "    confusion_matrix(y_test, y_pred),\n",
        "    index = [\n",
        "        ['Amostra', 'Amostra', 'Amostra', 'Amostra', 'Amostra'], \n",
        "        ['aposentadoria_especial', 'auxilio_doenca_previdenciario', 'auxilio_emergencial', 'beneficio_deficiente', 'pensao_morte']\n",
        "             ],\n",
        "    columns = [\n",
        "        ['Previsto', 'Previsto', 'Previsto', 'Previsto', 'Previsto'], \n",
        "        ['aposentadoria_especial', 'auxilio_doenca_previdenciario', 'auxilio_emergencial', 'beneficio_deficiente', 'pensao_morte']\n",
        "              ])"
      ],
      "metadata": {
        "colab": {
          "base_uri": "https://localhost:8080/",
          "height": 614
        },
        "id": "rf1_ef95e6Vp",
        "outputId": "7fa1d80d-df4f-4da9-9b8f-6f8550c603f5"
      },
      "execution_count": 36,
      "outputs": [
        {
          "output_type": "stream",
          "name": "stdout",
          "text": [
            "              precision    recall  f1-score   support\n",
            "\n",
            "           0       0.50      0.33      0.40         3\n",
            "           1       0.22      0.67      0.33         3\n",
            "           2       0.25      0.33      0.29         3\n",
            "           3       0.00      0.00      0.00         3\n",
            "           4       0.00      0.00      0.00         3\n",
            "\n",
            "    accuracy                           0.27        15\n",
            "   macro avg       0.19      0.27      0.20        15\n",
            "weighted avg       0.19      0.27      0.20        15\n",
            "\n"
          ]
        },
        {
          "output_type": "stream",
          "name": "stderr",
          "text": [
            "/usr/local/lib/python3.8/dist-packages/sklearn/metrics/_classification.py:1318: UndefinedMetricWarning: Precision and F-score are ill-defined and being set to 0.0 in labels with no predicted samples. Use `zero_division` parameter to control this behavior.\n",
            "  _warn_prf(average, modifier, msg_start, len(result))\n",
            "/usr/local/lib/python3.8/dist-packages/sklearn/metrics/_classification.py:1318: UndefinedMetricWarning: Precision and F-score are ill-defined and being set to 0.0 in labels with no predicted samples. Use `zero_division` parameter to control this behavior.\n",
            "  _warn_prf(average, modifier, msg_start, len(result))\n",
            "/usr/local/lib/python3.8/dist-packages/sklearn/metrics/_classification.py:1318: UndefinedMetricWarning: Precision and F-score are ill-defined and being set to 0.0 in labels with no predicted samples. Use `zero_division` parameter to control this behavior.\n",
            "  _warn_prf(average, modifier, msg_start, len(result))\n"
          ]
        },
        {
          "output_type": "execute_result",
          "data": {
            "text/plain": [
              "                                                    Previsto  \\\n",
              "                                      aposentadoria_especial   \n",
              "Amostra aposentadoria_especial                             1   \n",
              "        auxilio_doenca_previdenciario                      0   \n",
              "        auxilio_emergencial                                0   \n",
              "        beneficio_deficiente                               0   \n",
              "        pensao_morte                                       1   \n",
              "\n",
              "                                                                     \\\n",
              "                                      auxilio_doenca_previdenciario   \n",
              "Amostra aposentadoria_especial                                    2   \n",
              "        auxilio_doenca_previdenciario                             2   \n",
              "        auxilio_emergencial                                       2   \n",
              "        beneficio_deficiente                                      2   \n",
              "        pensao_morte                                              1   \n",
              "\n",
              "                                                           \\\n",
              "                                      auxilio_emergencial   \n",
              "Amostra aposentadoria_especial                          0   \n",
              "        auxilio_doenca_previdenciario                   1   \n",
              "        auxilio_emergencial                             1   \n",
              "        beneficio_deficiente                            1   \n",
              "        pensao_morte                                    1   \n",
              "\n",
              "                                                                         \n",
              "                                      beneficio_deficiente pensao_morte  \n",
              "Amostra aposentadoria_especial                           0            0  \n",
              "        auxilio_doenca_previdenciario                    0            0  \n",
              "        auxilio_emergencial                              0            0  \n",
              "        beneficio_deficiente                             0            0  \n",
              "        pensao_morte                                     0            0  "
            ],
            "text/html": [
              "\n",
              "  <div id=\"df-c656e4f3-aff0-4560-870d-8fc48ab089b2\">\n",
              "    <div class=\"colab-df-container\">\n",
              "      <div>\n",
              "<style scoped>\n",
              "    .dataframe tbody tr th:only-of-type {\n",
              "        vertical-align: middle;\n",
              "    }\n",
              "\n",
              "    .dataframe tbody tr th {\n",
              "        vertical-align: top;\n",
              "    }\n",
              "\n",
              "    .dataframe thead tr th {\n",
              "        text-align: left;\n",
              "    }\n",
              "</style>\n",
              "<table border=\"1\" class=\"dataframe\">\n",
              "  <thead>\n",
              "    <tr>\n",
              "      <th></th>\n",
              "      <th></th>\n",
              "      <th colspan=\"5\" halign=\"left\">Previsto</th>\n",
              "    </tr>\n",
              "    <tr>\n",
              "      <th></th>\n",
              "      <th></th>\n",
              "      <th>aposentadoria_especial</th>\n",
              "      <th>auxilio_doenca_previdenciario</th>\n",
              "      <th>auxilio_emergencial</th>\n",
              "      <th>beneficio_deficiente</th>\n",
              "      <th>pensao_morte</th>\n",
              "    </tr>\n",
              "  </thead>\n",
              "  <tbody>\n",
              "    <tr>\n",
              "      <th rowspan=\"5\" valign=\"top\">Amostra</th>\n",
              "      <th>aposentadoria_especial</th>\n",
              "      <td>1</td>\n",
              "      <td>2</td>\n",
              "      <td>0</td>\n",
              "      <td>0</td>\n",
              "      <td>0</td>\n",
              "    </tr>\n",
              "    <tr>\n",
              "      <th>auxilio_doenca_previdenciario</th>\n",
              "      <td>0</td>\n",
              "      <td>2</td>\n",
              "      <td>1</td>\n",
              "      <td>0</td>\n",
              "      <td>0</td>\n",
              "    </tr>\n",
              "    <tr>\n",
              "      <th>auxilio_emergencial</th>\n",
              "      <td>0</td>\n",
              "      <td>2</td>\n",
              "      <td>1</td>\n",
              "      <td>0</td>\n",
              "      <td>0</td>\n",
              "    </tr>\n",
              "    <tr>\n",
              "      <th>beneficio_deficiente</th>\n",
              "      <td>0</td>\n",
              "      <td>2</td>\n",
              "      <td>1</td>\n",
              "      <td>0</td>\n",
              "      <td>0</td>\n",
              "    </tr>\n",
              "    <tr>\n",
              "      <th>pensao_morte</th>\n",
              "      <td>1</td>\n",
              "      <td>1</td>\n",
              "      <td>1</td>\n",
              "      <td>0</td>\n",
              "      <td>0</td>\n",
              "    </tr>\n",
              "  </tbody>\n",
              "</table>\n",
              "</div>\n",
              "      <button class=\"colab-df-convert\" onclick=\"convertToInteractive('df-c656e4f3-aff0-4560-870d-8fc48ab089b2')\"\n",
              "              title=\"Convert this dataframe to an interactive table.\"\n",
              "              style=\"display:none;\">\n",
              "        \n",
              "  <svg xmlns=\"http://www.w3.org/2000/svg\" height=\"24px\"viewBox=\"0 0 24 24\"\n",
              "       width=\"24px\">\n",
              "    <path d=\"M0 0h24v24H0V0z\" fill=\"none\"/>\n",
              "    <path d=\"M18.56 5.44l.94 2.06.94-2.06 2.06-.94-2.06-.94-.94-2.06-.94 2.06-2.06.94zm-11 1L8.5 8.5l.94-2.06 2.06-.94-2.06-.94L8.5 2.5l-.94 2.06-2.06.94zm10 10l.94 2.06.94-2.06 2.06-.94-2.06-.94-.94-2.06-.94 2.06-2.06.94z\"/><path d=\"M17.41 7.96l-1.37-1.37c-.4-.4-.92-.59-1.43-.59-.52 0-1.04.2-1.43.59L10.3 9.45l-7.72 7.72c-.78.78-.78 2.05 0 2.83L4 21.41c.39.39.9.59 1.41.59.51 0 1.02-.2 1.41-.59l7.78-7.78 2.81-2.81c.8-.78.8-2.07 0-2.86zM5.41 20L4 18.59l7.72-7.72 1.47 1.35L5.41 20z\"/>\n",
              "  </svg>\n",
              "      </button>\n",
              "      \n",
              "  <style>\n",
              "    .colab-df-container {\n",
              "      display:flex;\n",
              "      flex-wrap:wrap;\n",
              "      gap: 12px;\n",
              "    }\n",
              "\n",
              "    .colab-df-convert {\n",
              "      background-color: #E8F0FE;\n",
              "      border: none;\n",
              "      border-radius: 50%;\n",
              "      cursor: pointer;\n",
              "      display: none;\n",
              "      fill: #1967D2;\n",
              "      height: 32px;\n",
              "      padding: 0 0 0 0;\n",
              "      width: 32px;\n",
              "    }\n",
              "\n",
              "    .colab-df-convert:hover {\n",
              "      background-color: #E2EBFA;\n",
              "      box-shadow: 0px 1px 2px rgba(60, 64, 67, 0.3), 0px 1px 3px 1px rgba(60, 64, 67, 0.15);\n",
              "      fill: #174EA6;\n",
              "    }\n",
              "\n",
              "    [theme=dark] .colab-df-convert {\n",
              "      background-color: #3B4455;\n",
              "      fill: #D2E3FC;\n",
              "    }\n",
              "\n",
              "    [theme=dark] .colab-df-convert:hover {\n",
              "      background-color: #434B5C;\n",
              "      box-shadow: 0px 1px 3px 1px rgba(0, 0, 0, 0.15);\n",
              "      filter: drop-shadow(0px 1px 2px rgba(0, 0, 0, 0.3));\n",
              "      fill: #FFFFFF;\n",
              "    }\n",
              "  </style>\n",
              "\n",
              "      <script>\n",
              "        const buttonEl =\n",
              "          document.querySelector('#df-c656e4f3-aff0-4560-870d-8fc48ab089b2 button.colab-df-convert');\n",
              "        buttonEl.style.display =\n",
              "          google.colab.kernel.accessAllowed ? 'block' : 'none';\n",
              "\n",
              "        async function convertToInteractive(key) {\n",
              "          const element = document.querySelector('#df-c656e4f3-aff0-4560-870d-8fc48ab089b2');\n",
              "          const dataTable =\n",
              "            await google.colab.kernel.invokeFunction('convertToInteractive',\n",
              "                                                     [key], {});\n",
              "          if (!dataTable) return;\n",
              "\n",
              "          const docLinkHtml = 'Like what you see? Visit the ' +\n",
              "            '<a target=\"_blank\" href=https://colab.research.google.com/notebooks/data_table.ipynb>data table notebook</a>'\n",
              "            + ' to learn more about interactive tables.';\n",
              "          element.innerHTML = '';\n",
              "          dataTable['output_type'] = 'display_data';\n",
              "          await google.colab.output.renderOutput(dataTable, element);\n",
              "          const docLink = document.createElement('div');\n",
              "          docLink.innerHTML = docLinkHtml;\n",
              "          element.appendChild(docLink);\n",
              "        }\n",
              "      </script>\n",
              "    </div>\n",
              "  </div>\n",
              "  "
            ]
          },
          "metadata": {},
          "execution_count": 36
        }
      ]
    },
    {
      "cell_type": "code",
      "source": [
        "mat = confusion_matrix(y_test, y_pred)\n",
        "import seaborn as sns\n",
        "import matplotlib.pyplot as plt\n",
        "sns.heatmap(mat.T,square=True,annot=True,fmt='d',cbar=False,\n",
        "            xticklabels=list(classificacao_peticoes_dicionario.keys()),yticklabels=list(classificacao_peticoes_dicionario.keys()))\n",
        "plt.xlabel('True Label')\n",
        "plt.ylabel(\"Predicted Label\")\n",
        "plt.show()"
      ],
      "metadata": {
        "colab": {
          "base_uri": "https://localhost:8080/",
          "height": 420
        },
        "id": "OfS-66KMgCv5",
        "outputId": "63ceef09-38c6-455e-ca16-c7c7b972fb76"
      },
      "execution_count": 37,
      "outputs": [
        {
          "output_type": "display_data",
          "data": {
            "text/plain": [
              "<Figure size 432x288 with 1 Axes>"
            ],
            "image/png": "[encoded data removed]"
          },
          "metadata": {
            "needs_background": "light"
          }
        }
      ]
    },
    {
      "cell_type": "markdown",
      "source": [
        "### **Tentativa 2**:\n",
        "\n",
        "usando o módulo pipeline sklearn crie um pipeline de classificação para classificar as petições. Observação:\n",
        "\n",
        "use TF-IDF para pré-processar o texto.\n",
        "\n",
        "use **Random Forest** como classificador.\n",
        "\n",
        "imprimir o relatório de classificação."
      ],
      "metadata": {
        "id": "cSdhtsh5t18d"
      }
    },
    {
      "cell_type": "code",
      "source": [
        "from sklearn.ensemble import RandomForestClassifier\n",
        "\n",
        "#1. create a pipeline object\n",
        "pipeline_random_forest = Pipeline([\n",
        "     ('vectorizer_tfidf',TfidfVectorizer()),        #using the ngram_range parameter \n",
        "     ('Random Forest', RandomForestClassifier())         \n",
        "])\n",
        "\n",
        "#2. fit with X_train and y_train\n",
        "pipeline_random_forest.fit(X_train, y_train)\n",
        "\n",
        "\n",
        "#3. get the predictions for X_test and store it in y_pred\n",
        "y_pred = pipeline_random_forest.predict(X_test)"
      ],
      "metadata": {
        "id": "to6HTdHot30p"
      },
      "execution_count": 38,
      "outputs": []
    },
    {
      "cell_type": "code",
      "source": [
        "# imprimir uma matriz de confusão e um relatório de classificação\n",
        "print(classification_report(y_test, y_pred))\n",
        "\n",
        "pd.DataFrame(\n",
        "    confusion_matrix(y_test, y_pred),\n",
        "    index = [\n",
        "        ['Amostra', 'Amostra', 'Amostra', 'Amostra', 'Amostra'], \n",
        "        ['aposentadoria_especial', 'auxilio_doenca_previdenciario', 'auxilio_emergencial', 'beneficio_deficiente', 'pensao_morte']\n",
        "             ],\n",
        "    columns = [\n",
        "        ['Previsto', 'Previsto', 'Previsto', 'Previsto', 'Previsto'], \n",
        "        ['aposentadoria_especial', 'auxilio_doenca_previdenciario', 'auxilio_emergencial', 'beneficio_deficiente', 'pensao_morte']\n",
        "              ])"
      ],
      "metadata": {
        "id": "Q-0fK8RfwDfF",
        "outputId": "5ead9220-885c-4cb0-9b6e-ae6ead55235c",
        "colab": {
          "base_uri": "https://localhost:8080/",
          "height": 510
        }
      },
      "execution_count": 39,
      "outputs": [
        {
          "output_type": "stream",
          "name": "stdout",
          "text": [
            "              precision    recall  f1-score   support\n",
            "\n",
            "           0       1.00      1.00      1.00         3\n",
            "           1       1.00      1.00      1.00         3\n",
            "           2       1.00      1.00      1.00         3\n",
            "           3       1.00      1.00      1.00         3\n",
            "           4       1.00      1.00      1.00         3\n",
            "\n",
            "    accuracy                           1.00        15\n",
            "   macro avg       1.00      1.00      1.00        15\n",
            "weighted avg       1.00      1.00      1.00        15\n",
            "\n"
          ]
        },
        {
          "output_type": "execute_result",
          "data": {
            "text/plain": [
              "                                                    Previsto  \\\n",
              "                                      aposentadoria_especial   \n",
              "Amostra aposentadoria_especial                             3   \n",
              "        auxilio_doenca_previdenciario                      0   \n",
              "        auxilio_emergencial                                0   \n",
              "        beneficio_deficiente                               0   \n",
              "        pensao_morte                                       0   \n",
              "\n",
              "                                                                     \\\n",
              "                                      auxilio_doenca_previdenciario   \n",
              "Amostra aposentadoria_especial                                    0   \n",
              "        auxilio_doenca_previdenciario                             3   \n",
              "        auxilio_emergencial                                       0   \n",
              "        beneficio_deficiente                                      0   \n",
              "        pensao_morte                                              0   \n",
              "\n",
              "                                                           \\\n",
              "                                      auxilio_emergencial   \n",
              "Amostra aposentadoria_especial                          0   \n",
              "        auxilio_doenca_previdenciario                   0   \n",
              "        auxilio_emergencial                             3   \n",
              "        beneficio_deficiente                            0   \n",
              "        pensao_morte                                    0   \n",
              "\n",
              "                                                                         \n",
              "                                      beneficio_deficiente pensao_morte  \n",
              "Amostra aposentadoria_especial                           0            0  \n",
              "        auxilio_doenca_previdenciario                    0            0  \n",
              "        auxilio_emergencial                              0            0  \n",
              "        beneficio_deficiente                             3            0  \n",
              "        pensao_morte                                     0            3  "
            ],
            "text/html": [
              "\n",
              "  <div id=\"df-ce33837c-9e41-4cf5-a539-5dacd847df7f\">\n",
              "    <div class=\"colab-df-container\">\n",
              "      <div>\n",
              "<style scoped>\n",
              "    .dataframe tbody tr th:only-of-type {\n",
              "        vertical-align: middle;\n",
              "    }\n",
              "\n",
              "    .dataframe tbody tr th {\n",
              "        vertical-align: top;\n",
              "    }\n",
              "\n",
              "    .dataframe thead tr th {\n",
              "        text-align: left;\n",
              "    }\n",
              "</style>\n",
              "<table border=\"1\" class=\"dataframe\">\n",
              "  <thead>\n",
              "    <tr>\n",
              "      <th></th>\n",
              "      <th></th>\n",
              "      <th colspan=\"5\" halign=\"left\">Previsto</th>\n",
              "    </tr>\n",
              "    <tr>\n",
              "      <th></th>\n",
              "      <th></th>\n",
              "      <th>aposentadoria_especial</th>\n",
              "      <th>auxilio_doenca_previdenciario</th>\n",
              "      <th>auxilio_emergencial</th>\n",
              "      <th>beneficio_deficiente</th>\n",
              "      <th>pensao_morte</th>\n",
              "    </tr>\n",
              "  </thead>\n",
              "  <tbody>\n",
              "    <tr>\n",
              "      <th rowspan=\"5\" valign=\"top\">Amostra</th>\n",
              "      <th>aposentadoria_especial</th>\n",
              "      <td>3</td>\n",
              "      <td>0</td>\n",
              "      <td>0</td>\n",
              "      <td>0</td>\n",
              "      <td>0</td>\n",
              "    </tr>\n",
              "    <tr>\n",
              "      <th>auxilio_doenca_previdenciario</th>\n",
              "      <td>0</td>\n",
              "      <td>3</td>\n",
              "      <td>0</td>\n",
              "      <td>0</td>\n",
              "      <td>0</td>\n",
              "    </tr>\n",
              "    <tr>\n",
              "      <th>auxilio_emergencial</th>\n",
              "      <td>0</td>\n",
              "      <td>0</td>\n",
              "      <td>3</td>\n",
              "      <td>0</td>\n",
              "      <td>0</td>\n",
              "    </tr>\n",
              "    <tr>\n",
              "      <th>beneficio_deficiente</th>\n",
              "      <td>0</td>\n",
              "      <td>0</td>\n",
              "      <td>0</td>\n",
              "      <td>3</td>\n",
              "      <td>0</td>\n",
              "    </tr>\n",
              "    <tr>\n",
              "      <th>pensao_morte</th>\n",
              "      <td>0</td>\n",
              "      <td>0</td>\n",
              "      <td>0</td>\n",
              "      <td>0</td>\n",
              "      <td>3</td>\n",
              "    </tr>\n",
              "  </tbody>\n",
              "</table>\n",
              "</div>\n",
              "      <button class=\"colab-df-convert\" onclick=\"convertToInteractive('df-ce33837c-9e41-4cf5-a539-5dacd847df7f')\"\n",
              "              title=\"Convert this dataframe to an interactive table.\"\n",
              "              style=\"display:none;\">\n",
              "        \n",
              "  <svg xmlns=\"http://www.w3.org/2000/svg\" height=\"24px\"viewBox=\"0 0 24 24\"\n",
              "       width=\"24px\">\n",
              "    <path d=\"M0 0h24v24H0V0z\" fill=\"none\"/>\n",
              "    <path d=\"M18.56 5.44l.94 2.06.94-2.06 2.06-.94-2.06-.94-.94-2.06-.94 2.06-2.06.94zm-11 1L8.5 8.5l.94-2.06 2.06-.94-2.06-.94L8.5 2.5l-.94 2.06-2.06.94zm10 10l.94 2.06.94-2.06 2.06-.94-2.06-.94-.94-2.06-.94 2.06-2.06.94z\"/><path d=\"M17.41 7.96l-1.37-1.37c-.4-.4-.92-.59-1.43-.59-.52 0-1.04.2-1.43.59L10.3 9.45l-7.72 7.72c-.78.78-.78 2.05 0 2.83L4 21.41c.39.39.9.59 1.41.59.51 0 1.02-.2 1.41-.59l7.78-7.78 2.81-2.81c.8-.78.8-2.07 0-2.86zM5.41 20L4 18.59l7.72-7.72 1.47 1.35L5.41 20z\"/>\n",
              "  </svg>\n",
              "      </button>\n",
              "      \n",
              "  <style>\n",
              "    .colab-df-container {\n",
              "      display:flex;\n",
              "      flex-wrap:wrap;\n",
              "      gap: 12px;\n",
              "    }\n",
              "\n",
              "    .colab-df-convert {\n",
              "      background-color: #E8F0FE;\n",
              "      border: none;\n",
              "      border-radius: 50%;\n",
              "      cursor: pointer;\n",
              "      display: none;\n",
              "      fill: #1967D2;\n",
              "      height: 32px;\n",
              "      padding: 0 0 0 0;\n",
              "      width: 32px;\n",
              "    }\n",
              "\n",
              "    .colab-df-convert:hover {\n",
              "      background-color: #E2EBFA;\n",
              "      box-shadow: 0px 1px 2px rgba(60, 64, 67, 0.3), 0px 1px 3px 1px rgba(60, 64, 67, 0.15);\n",
              "      fill: #174EA6;\n",
              "    }\n",
              "\n",
              "    [theme=dark] .colab-df-convert {\n",
              "      background-color: #3B4455;\n",
              "      fill: #D2E3FC;\n",
              "    }\n",
              "\n",
              "    [theme=dark] .colab-df-convert:hover {\n",
              "      background-color: #434B5C;\n",
              "      box-shadow: 0px 1px 3px 1px rgba(0, 0, 0, 0.15);\n",
              "      filter: drop-shadow(0px 1px 2px rgba(0, 0, 0, 0.3));\n",
              "      fill: #FFFFFF;\n",
              "    }\n",
              "  </style>\n",
              "\n",
              "      <script>\n",
              "        const buttonEl =\n",
              "          document.querySelector('#df-ce33837c-9e41-4cf5-a539-5dacd847df7f button.colab-df-convert');\n",
              "        buttonEl.style.display =\n",
              "          google.colab.kernel.accessAllowed ? 'block' : 'none';\n",
              "\n",
              "        async function convertToInteractive(key) {\n",
              "          const element = document.querySelector('#df-ce33837c-9e41-4cf5-a539-5dacd847df7f');\n",
              "          const dataTable =\n",
              "            await google.colab.kernel.invokeFunction('convertToInteractive',\n",
              "                                                     [key], {});\n",
              "          if (!dataTable) return;\n",
              "\n",
              "          const docLinkHtml = 'Like what you see? Visit the ' +\n",
              "            '<a target=\"_blank\" href=https://colab.research.google.com/notebooks/data_table.ipynb>data table notebook</a>'\n",
              "            + ' to learn more about interactive tables.';\n",
              "          element.innerHTML = '';\n",
              "          dataTable['output_type'] = 'display_data';\n",
              "          await google.colab.output.renderOutput(dataTable, element);\n",
              "          const docLink = document.createElement('div');\n",
              "          docLink.innerHTML = docLinkHtml;\n",
              "          element.appendChild(docLink);\n",
              "        }\n",
              "      </script>\n",
              "    </div>\n",
              "  </div>\n",
              "  "
            ]
          },
          "metadata": {},
          "execution_count": 39
        }
      ]
    },
    {
      "cell_type": "code",
      "source": [
        "mat = confusion_matrix(y_test, y_pred)\n",
        "import seaborn as sns\n",
        "import matplotlib.pyplot as plt\n",
        "sns.heatmap(mat.T,square=True,annot=True,fmt='d',cbar=False,\n",
        "            xticklabels=list(classificacao_peticoes_dicionario.keys()),yticklabels=list(classificacao_peticoes_dicionario.keys()))\n",
        "plt.xlabel('True Label')\n",
        "plt.ylabel(\"Predicted Label\")\n",
        "plt.show()"
      ],
      "metadata": {
        "colab": {
          "base_uri": "https://localhost:8080/",
          "height": 420
        },
        "id": "tcLb2pP8hEnh",
        "outputId": "c6cbdb6c-b029-470f-aba1-c657a9a84ead"
      },
      "execution_count": 40,
      "outputs": [
        {
          "output_type": "display_data",
          "data": {
            "text/plain": [
              "<Figure size 432x288 with 1 Axes>"
            ],
            "image/png": "[encoded data removed]"
          },
          "metadata": {
            "needs_background": "light"
          }
        }
      ]
    },
    {
      "cell_type": "markdown",
      "source": [
        "### **Tentativa 3**:\n",
        "\n",
        "usando o módulo pipeline sklearn crie um pipeline de classificação para classificar as petições. Observação:\n",
        "\n",
        "use TF-IDF para pré-processar o texto.\n",
        "\n",
        "use **SVM** como classificador.\n",
        "\n",
        "imprimir o relatório de classificação.\n"
      ],
      "metadata": {
        "id": "Oww0RReQVHFd"
      }
    },
    {
      "cell_type": "code",
      "source": [
        "from sklearn.svm import SVC\n",
        "\n",
        "#1. create a pipeline object\n",
        "pipeline_svc = Pipeline([\n",
        "     ('vectorizer_tfidf',TfidfVectorizer()),        #using the ngram_range parameter \n",
        "     ('SVC', SVC(kernel = 'linear'))         \n",
        "])\n",
        "\n",
        "#2. fit with X_train and y_train\n",
        "pipeline_svc.fit(X_train, y_train)\n",
        "\n",
        "\n",
        "#3. get the predictions for X_test and store it in y_pred\n",
        "y_pred = pipeline_svc.predict(X_test)"
      ],
      "metadata": {
        "id": "k5bW-FvRWBrJ"
      },
      "execution_count": 41,
      "outputs": []
    },
    {
      "cell_type": "code",
      "source": [
        "# imprimir uma matriz de confusão e um relatório de classificação\n",
        "print(classification_report(y_test, y_pred))\n",
        "\n",
        "pd.DataFrame(\n",
        "    confusion_matrix(y_test, y_pred),\n",
        "    index = [\n",
        "        ['Amostra', 'Amostra', 'Amostra', 'Amostra', 'Amostra'], \n",
        "        ['aposentadoria_especial', 'auxilio_doenca_previdenciario', 'auxilio_emergencial', 'beneficio_deficiente', 'pensao_morte']\n",
        "             ],\n",
        "    columns = [\n",
        "        ['Previsto', 'Previsto', 'Previsto', 'Previsto', 'Previsto'], \n",
        "        ['aposentadoria_especial', 'auxilio_doenca_previdenciario', 'auxilio_emergencial', 'beneficio_deficiente', 'pensao_morte']\n",
        "              ])"
      ],
      "metadata": {
        "colab": {
          "base_uri": "https://localhost:8080/",
          "height": 510
        },
        "id": "EFYwNAq5adKX",
        "outputId": "ab504b45-e507-478a-d639-29c2aeb26f09"
      },
      "execution_count": 42,
      "outputs": [
        {
          "output_type": "stream",
          "name": "stdout",
          "text": [
            "              precision    recall  f1-score   support\n",
            "\n",
            "           0       1.00      1.00      1.00         3\n",
            "           1       1.00      1.00      1.00         3\n",
            "           2       1.00      1.00      1.00         3\n",
            "           3       1.00      1.00      1.00         3\n",
            "           4       1.00      1.00      1.00         3\n",
            "\n",
            "    accuracy                           1.00        15\n",
            "   macro avg       1.00      1.00      1.00        15\n",
            "weighted avg       1.00      1.00      1.00        15\n",
            "\n"
          ]
        },
        {
          "output_type": "execute_result",
          "data": {
            "text/plain": [
              "                                                    Previsto  \\\n",
              "                                      aposentadoria_especial   \n",
              "Amostra aposentadoria_especial                             3   \n",
              "        auxilio_doenca_previdenciario                      0   \n",
              "        auxilio_emergencial                                0   \n",
              "        beneficio_deficiente                               0   \n",
              "        pensao_morte                                       0   \n",
              "\n",
              "                                                                     \\\n",
              "                                      auxilio_doenca_previdenciario   \n",
              "Amostra aposentadoria_especial                                    0   \n",
              "        auxilio_doenca_previdenciario                             3   \n",
              "        auxilio_emergencial                                       0   \n",
              "        beneficio_deficiente                                      0   \n",
              "        pensao_morte                                              0   \n",
              "\n",
              "                                                           \\\n",
              "                                      auxilio_emergencial   \n",
              "Amostra aposentadoria_especial                          0   \n",
              "        auxilio_doenca_previdenciario                   0   \n",
              "        auxilio_emergencial                             3   \n",
              "        beneficio_deficiente                            0   \n",
              "        pensao_morte                                    0   \n",
              "\n",
              "                                                                         \n",
              "                                      beneficio_deficiente pensao_morte  \n",
              "Amostra aposentadoria_especial                           0            0  \n",
              "        auxilio_doenca_previdenciario                    0            0  \n",
              "        auxilio_emergencial                              0            0  \n",
              "        beneficio_deficiente                             3            0  \n",
              "        pensao_morte                                     0            3  "
            ],
            "text/html": [
              "\n",
              "  <div id=\"df-ed4b3ab2-d999-46aa-9c6d-4be692fa9b60\">\n",
              "    <div class=\"colab-df-container\">\n",
              "      <div>\n",
              "<style scoped>\n",
              "    .dataframe tbody tr th:only-of-type {\n",
              "        vertical-align: middle;\n",
              "    }\n",
              "\n",
              "    .dataframe tbody tr th {\n",
              "        vertical-align: top;\n",
              "    }\n",
              "\n",
              "    .dataframe thead tr th {\n",
              "        text-align: left;\n",
              "    }\n",
              "</style>\n",
              "<table border=\"1\" class=\"dataframe\">\n",
              "  <thead>\n",
              "    <tr>\n",
              "      <th></th>\n",
              "      <th></th>\n",
              "      <th colspan=\"5\" halign=\"left\">Previsto</th>\n",
              "    </tr>\n",
              "    <tr>\n",
              "      <th></th>\n",
              "      <th></th>\n",
              "      <th>aposentadoria_especial</th>\n",
              "      <th>auxilio_doenca_previdenciario</th>\n",
              "      <th>auxilio_emergencial</th>\n",
              "      <th>beneficio_deficiente</th>\n",
              "      <th>pensao_morte</th>\n",
              "    </tr>\n",
              "  </thead>\n",
              "  <tbody>\n",
              "    <tr>\n",
              "      <th rowspan=\"5\" valign=\"top\">Amostra</th>\n",
              "      <th>aposentadoria_especial</th>\n",
              "      <td>3</td>\n",
              "      <td>0</td>\n",
              "      <td>0</td>\n",
              "      <td>0</td>\n",
              "      <td>0</td>\n",
              "    </tr>\n",
              "    <tr>\n",
              "      <th>auxilio_doenca_previdenciario</th>\n",
              "      <td>0</td>\n",
              "      <td>3</td>\n",
              "      <td>0</td>\n",
              "      <td>0</td>\n",
              "      <td>0</td>\n",
              "    </tr>\n",
              "    <tr>\n",
              "      <th>auxilio_emergencial</th>\n",
              "      <td>0</td>\n",
              "      <td>0</td>\n",
              "      <td>3</td>\n",
              "      <td>0</td>\n",
              "      <td>0</td>\n",
              "    </tr>\n",
              "    <tr>\n",
              "      <th>beneficio_deficiente</th>\n",
              "      <td>0</td>\n",
              "      <td>0</td>\n",
              "      <td>0</td>\n",
              "      <td>3</td>\n",
              "      <td>0</td>\n",
              "    </tr>\n",
              "    <tr>\n",
              "      <th>pensao_morte</th>\n",
              "      <td>0</td>\n",
              "      <td>0</td>\n",
              "      <td>0</td>\n",
              "      <td>0</td>\n",
              "      <td>3</td>\n",
              "    </tr>\n",
              "  </tbody>\n",
              "</table>\n",
              "</div>\n",
              "      <button class=\"colab-df-convert\" onclick=\"convertToInteractive('df-ed4b3ab2-d999-46aa-9c6d-4be692fa9b60')\"\n",
              "              title=\"Convert this dataframe to an interactive table.\"\n",
              "              style=\"display:none;\">\n",
              "        \n",
              "  <svg xmlns=\"http://www.w3.org/2000/svg\" height=\"24px\"viewBox=\"0 0 24 24\"\n",
              "       width=\"24px\">\n",
              "    <path d=\"M0 0h24v24H0V0z\" fill=\"none\"/>\n",
              "    <path d=\"M18.56 5.44l.94 2.06.94-2.06 2.06-.94-2.06-.94-.94-2.06-.94 2.06-2.06.94zm-11 1L8.5 8.5l.94-2.06 2.06-.94-2.06-.94L8.5 2.5l-.94 2.06-2.06.94zm10 10l.94 2.06.94-2.06 2.06-.94-2.06-.94-.94-2.06-.94 2.06-2.06.94z\"/><path d=\"M17.41 7.96l-1.37-1.37c-.4-.4-.92-.59-1.43-.59-.52 0-1.04.2-1.43.59L10.3 9.45l-7.72 7.72c-.78.78-.78 2.05 0 2.83L4 21.41c.39.39.9.59 1.41.59.51 0 1.02-.2 1.41-.59l7.78-7.78 2.81-2.81c.8-.78.8-2.07 0-2.86zM5.41 20L4 18.59l7.72-7.72 1.47 1.35L5.41 20z\"/>\n",
              "  </svg>\n",
              "      </button>\n",
              "      \n",
              "  <style>\n",
              "    .colab-df-container {\n",
              "      display:flex;\n",
              "      flex-wrap:wrap;\n",
              "      gap: 12px;\n",
              "    }\n",
              "\n",
              "    .colab-df-convert {\n",
              "      background-color: #E8F0FE;\n",
              "      border: none;\n",
              "      border-radius: 50%;\n",
              "      cursor: pointer;\n",
              "      display: none;\n",
              "      fill: #1967D2;\n",
              "      height: 32px;\n",
              "      padding: 0 0 0 0;\n",
              "      width: 32px;\n",
              "    }\n",
              "\n",
              "    .colab-df-convert:hover {\n",
              "      background-color: #E2EBFA;\n",
              "      box-shadow: 0px 1px 2px rgba(60, 64, 67, 0.3), 0px 1px 3px 1px rgba(60, 64, 67, 0.15);\n",
              "      fill: #174EA6;\n",
              "    }\n",
              "\n",
              "    [theme=dark] .colab-df-convert {\n",
              "      background-color: #3B4455;\n",
              "      fill: #D2E3FC;\n",
              "    }\n",
              "\n",
              "    [theme=dark] .colab-df-convert:hover {\n",
              "      background-color: #434B5C;\n",
              "      box-shadow: 0px 1px 3px 1px rgba(0, 0, 0, 0.15);\n",
              "      filter: drop-shadow(0px 1px 2px rgba(0, 0, 0, 0.3));\n",
              "      fill: #FFFFFF;\n",
              "    }\n",
              "  </style>\n",
              "\n",
              "      <script>\n",
              "        const buttonEl =\n",
              "          document.querySelector('#df-ed4b3ab2-d999-46aa-9c6d-4be692fa9b60 button.colab-df-convert');\n",
              "        buttonEl.style.display =\n",
              "          google.colab.kernel.accessAllowed ? 'block' : 'none';\n",
              "\n",
              "        async function convertToInteractive(key) {\n",
              "          const element = document.querySelector('#df-ed4b3ab2-d999-46aa-9c6d-4be692fa9b60');\n",
              "          const dataTable =\n",
              "            await google.colab.kernel.invokeFunction('convertToInteractive',\n",
              "                                                     [key], {});\n",
              "          if (!dataTable) return;\n",
              "\n",
              "          const docLinkHtml = 'Like what you see? Visit the ' +\n",
              "            '<a target=\"_blank\" href=https://colab.research.google.com/notebooks/data_table.ipynb>data table notebook</a>'\n",
              "            + ' to learn more about interactive tables.';\n",
              "          element.innerHTML = '';\n",
              "          dataTable['output_type'] = 'display_data';\n",
              "          await google.colab.output.renderOutput(dataTable, element);\n",
              "          const docLink = document.createElement('div');\n",
              "          docLink.innerHTML = docLinkHtml;\n",
              "          element.appendChild(docLink);\n",
              "        }\n",
              "      </script>\n",
              "    </div>\n",
              "  </div>\n",
              "  "
            ]
          },
          "metadata": {},
          "execution_count": 42
        }
      ]
    },
    {
      "cell_type": "code",
      "source": [
        "print(classificacao_peticoes_dicionario)"
      ],
      "metadata": {
        "colab": {
          "base_uri": "https://localhost:8080/"
        },
        "id": "86byX997dt2k",
        "outputId": "978d0fe7-374d-40a7-f003-8f1e8c6d32e5"
      },
      "execution_count": 43,
      "outputs": [
        {
          "output_type": "stream",
          "name": "stdout",
          "text": [
            "{'aposentadoria_especial': 0, 'auxilio_doenca_previdenciario': 1, 'auxilio_emergencial': 2, 'beneficio_deficiente': 3, 'pensao_morte': 4}\n"
          ]
        }
      ]
    },
    {
      "cell_type": "code",
      "source": [
        "mat = confusion_matrix(y_test, y_pred)\n",
        "import seaborn as sns\n",
        "import matplotlib.pyplot as plt\n",
        "sns.heatmap(mat.T,square=True,annot=True,fmt='d',cbar=False,\n",
        "            xticklabels=list(classificacao_peticoes_dicionario.keys()),yticklabels=list(classificacao_peticoes_dicionario.keys()))\n",
        "plt.xlabel('True Label')\n",
        "plt.ylabel(\"Predicted Label\")\n",
        "plt.show()"
      ],
      "metadata": {
        "colab": {
          "base_uri": "https://localhost:8080/",
          "height": 420
        },
        "id": "jfmSSFiPgmYE",
        "outputId": "cc47a3be-5ef2-4439-b58b-609492d63dc1"
      },
      "execution_count": 44,
      "outputs": [
        {
          "output_type": "display_data",
          "data": {
            "text/plain": [
              "<Figure size 432x288 with 1 Axes>"
            ],
            "image/png": "[encoded data removed]"
          },
          "metadata": {
            "needs_background": "light"
          }
        }
      ]
    },
    {
      "cell_type": "markdown",
      "source": [
        "# **Utilizando Cross-Validation**"
      ],
      "metadata": {
        "id": "glOBImhbZBM8"
      }
    },
    {
      "cell_type": "code",
      "source": [
        "from sklearn.model_selection import KFold\n",
        "\n",
        "validacao_cruzada = KFold(n_splits=6, shuffle=True, random_state=2022)\n",
        "validacao_cruzada"
      ],
      "metadata": {
        "colab": {
          "base_uri": "https://localhost:8080/"
        },
        "id": "RLRBZkzbZ5Vx",
        "outputId": "7b5d73e1-733e-4713-8ecc-081f1241a0c0"
      },
      "execution_count": 45,
      "outputs": [
        {
          "output_type": "execute_result",
          "data": {
            "text/plain": [
              "KFold(n_splits=6, random_state=2022, shuffle=True)"
            ]
          },
          "metadata": {},
          "execution_count": 45
        }
      ]
    },
    {
      "cell_type": "code",
      "source": [
        "# Acurácia média para Vizinhos mais próximos\n",
        "from sklearn.model_selection import cross_val_score\n",
        "\n",
        "acuracia_media_vp = cross_val_score(pipeline_vizinhos_proximos, df_peticoes_iniciais['text_clean'], df_peticoes_iniciais['label_num'], cv=validacao_cruzada)\n",
        "acuracia_media_vp"
      ],
      "metadata": {
        "colab": {
          "base_uri": "https://localhost:8080/"
        },
        "id": "-R5fPvnZyy8K",
        "outputId": "84517408-0d5e-46ec-fb0d-574a00adbafe"
      },
      "execution_count": 46,
      "outputs": [
        {
          "output_type": "execute_result",
          "data": {
            "text/plain": [
              "array([0.4       , 0.2       , 0.4       , 0.33333333, 0.26666667,\n",
              "       0.26666667])"
            ]
          },
          "metadata": {},
          "execution_count": 46
        }
      ]
    },
    {
      "cell_type": "code",
      "source": [
        "acuracia_media_vp.mean()"
      ],
      "metadata": {
        "colab": {
          "base_uri": "https://localhost:8080/"
        },
        "id": "JeK9IfgxyzFI",
        "outputId": "accdfc10-24f0-483d-b986-28d363b0d6c9"
      },
      "execution_count": 47,
      "outputs": [
        {
          "output_type": "execute_result",
          "data": {
            "text/plain": [
              "0.31111111111111106"
            ]
          },
          "metadata": {},
          "execution_count": 47
        }
      ]
    },
    {
      "cell_type": "code",
      "source": [
        "# Acurácia média para random forest\n",
        "\n",
        "acuracia_media_rf = cross_val_score(pipeline_random_forest, df_peticoes_iniciais.text_clean, df_peticoes_iniciais.label_num, cv=validacao_cruzada)\n",
        "acuracia_media_rf"
      ],
      "metadata": {
        "colab": {
          "base_uri": "https://localhost:8080/"
        },
        "id": "Z7E7-uZYkSyN",
        "outputId": "4395a2d6-0d0e-4ae5-e19e-151305247aee"
      },
      "execution_count": 48,
      "outputs": [
        {
          "output_type": "execute_result",
          "data": {
            "text/plain": [
              "array([0.93333333, 1.        , 0.86666667, 0.86666667, 0.93333333,\n",
              "       0.93333333])"
            ]
          },
          "metadata": {},
          "execution_count": 48
        }
      ]
    },
    {
      "cell_type": "code",
      "source": [
        "acuracia_media_rf.mean()"
      ],
      "metadata": {
        "colab": {
          "base_uri": "https://localhost:8080/"
        },
        "id": "o1_ieMbU2Szk",
        "outputId": "057aa783-9d6a-4b8c-faa5-a9643dc43ea1"
      },
      "execution_count": 49,
      "outputs": [
        {
          "output_type": "execute_result",
          "data": {
            "text/plain": [
              "0.9222222222222222"
            ]
          },
          "metadata": {},
          "execution_count": 49
        }
      ]
    },
    {
      "cell_type": "code",
      "source": [
        "# Acurácia média para SVM\n",
        "\n",
        "acuracia_media_svm = cross_val_score(pipeline_svc, df_peticoes_iniciais.text_clean, df_peticoes_iniciais.label_num, cv=validacao_cruzada)\n",
        "acuracia_media_svm"
      ],
      "metadata": {
        "colab": {
          "base_uri": "https://localhost:8080/"
        },
        "id": "jZ3B-5Vq2Wpr",
        "outputId": "f56d4375-d67d-433a-c4d2-0aeacbac6521"
      },
      "execution_count": 50,
      "outputs": [
        {
          "output_type": "execute_result",
          "data": {
            "text/plain": [
              "array([0.93333333, 1.        , 0.86666667, 0.93333333, 1.        ,\n",
              "       0.93333333])"
            ]
          },
          "metadata": {},
          "execution_count": 50
        }
      ]
    },
    {
      "cell_type": "code",
      "source": [
        "acuracia_media_svm.mean()"
      ],
      "metadata": {
        "colab": {
          "base_uri": "https://localhost:8080/"
        },
        "id": "UjBr-eIi2lvC",
        "outputId": "6c320244-a9c6-454a-b22e-aff684a62bb8"
      },
      "execution_count": 51,
      "outputs": [
        {
          "output_type": "execute_result",
          "data": {
            "text/plain": [
              "0.9444444444444445"
            ]
          },
          "metadata": {},
          "execution_count": 51
        }
      ]
    },
    {
      "cell_type": "code",
      "source": [
        "y_train"
      ],
      "metadata": {
        "colab": {
          "base_uri": "https://localhost:8080/"
        },
        "id": "9CfWVdj-k6ff",
        "outputId": "35bcd499-4a23-4fc2-adb6-84259529e0a3"
      },
      "execution_count": 52,
      "outputs": [
        {
          "output_type": "execute_result",
          "data": {
            "text/plain": [
              "62    3\n",
              "40    2\n",
              "52    2\n",
              "64    3\n",
              "80    4\n",
              "     ..\n",
              "20    1\n",
              "85    4\n",
              "59    3\n",
              "28    1\n",
              "2     0\n",
              "Name: label_num, Length: 75, dtype: int64"
            ]
          },
          "metadata": {},
          "execution_count": 52
        }
      ]
    },
    {
      "cell_type": "markdown",
      "source": [
        "# **Fazendo Upload de arquivos e realizando predição**"
      ],
      "metadata": {
        "id": "DzVENFoeh1Cb"
      }
    },
    {
      "cell_type": "code",
      "source": [
        "def predict_category(texto, train=y_train,model=pipeline_svc):\n",
        "    pred = model.predict([texto])\n",
        "    return pred"
      ],
      "metadata": {
        "id": "aieiVzJWh3sH"
      },
      "execution_count": 59,
      "outputs": []
    },
    {
      "cell_type": "code",
      "source": [
        "predict_category('EXCELENTÍSSIMO SENHOR JUIZ FEDERAL DO JUIZADO ESPECIAL FEDERALCÍVEL DE PERNAMBUCO')"
      ],
      "metadata": {
        "colab": {
          "base_uri": "https://localhost:8080/"
        },
        "id": "ZqTWCSZZlRnT",
        "outputId": "3dc24f66-020f-4cce-c534-3ec11e83d67f"
      },
      "execution_count": 54,
      "outputs": [
        {
          "output_type": "execute_result",
          "data": {
            "text/plain": [
              "array([1])"
            ]
          },
          "metadata": {},
          "execution_count": 54
        }
      ]
    },
    {
      "cell_type": "code",
      "source": [
        "# Fazer upload de petição\n",
        "from google.colab import files\n",
        "import io, pdftotext\n",
        "upload = files.upload()\n",
        "filename = list(upload.keys())[0]\n",
        "print(filename)\n",
        "\n",
        "with open(filename, \"rb\") as f:\n",
        "    pdf = pdftotext.PDF(f)\n",
        "\n",
        "texto_documento = \"\\n\\n\".join(pdf)\n",
        "\n",
        "\n",
        "texto_documento = texto_documento.lower()\n",
        "\n",
        "texto_documento = clean_text(texto_documento)\n",
        "\n",
        "texto_documento = remove_stopwords(texto_documento)\n",
        "print(texto_documento)\n",
        "prediction_teste=predict_category(texto_documento)\n",
        "print(prediction_teste)\n",
        "print(type(prediction_teste))\n",
        "if prediction_teste == [0]:\n",
        "  print('Aposentadoria especial.')\n",
        "elif prediction_teste == [1]:\n",
        "  print('Auxilio_doenca previdenciario')\n",
        "elif prediction_teste == [2]:\n",
        "  print('Auxilio emergencial')\n",
        "elif prediction_teste == [3]:\n",
        "  print('Beneficio deficiente')\n",
        "else:\n",
        "  print('Pensao morte')\n",
        "     "
      ],
      "metadata": {
        "colab": {
          "base_uri": "https://localhost:8080/",
          "height": 180
        },
        "id": "n2sbmcWGiZTN",
        "outputId": "b466b266-2881-458b-9527-e34739ab69d0"
      },
      "execution_count": 58,
      "outputs": [
        {
          "output_type": "display_data",
          "data": {
            "text/plain": [
              "<IPython.core.display.HTML object>"
            ],
            "text/html": [
              "\n",
              "     <input type=\"file\" id=\"files-e8baf34c-0e70-48d6-90e7-2b6388503e24\" name=\"files[]\" multiple disabled\n",
              "        style=\"border:none\" />\n",
              "     <output id=\"result-e8baf34c-0e70-48d6-90e7-2b6388503e24\">\n",
              "      Upload widget is only available when the cell has been executed in the\n",
              "      current browser session. Please rerun this cell to enable.\n",
              "      </output>\n",
              "      <script>// Copyright 2017 Google LLC\n",
              "//\n",
              "// Licensed under the Apache License, Version 2.0 (the \"License\");\n",
              "// you may not use this file except in compliance with the License.\n",
              "// You may obtain a copy of the License at\n",
              "//\n",
              "//      http://www.apache.org/licenses/LICENSE-2.0\n",
              "//\n",
              "// Unless required by applicable law or agreed to in writing, software\n",
              "// distributed under the License is distributed on an \"AS IS\" BASIS,\n",
              "// WITHOUT WARRANTIES OR CONDITIONS OF ANY KIND, either express or implied.\n",
              "// See the License for the specific language governing permissions and\n",
              "// limitations under the License.\n",
              "\n",
              "/**\n",
              " * @fileoverview Helpers for google.colab Python module.\n",
              " */\n",
              "(function(scope) {\n",
              "function span(text, styleAttributes = {}) {\n",
              "  const element = document.createElement('span');\n",
              "  element.textContent = text;\n",
              "  for (const key of Object.keys(styleAttributes)) {\n",
              "    element.style[key] = styleAttributes[key];\n",
              "  }\n",
              "  return element;\n",
              "}\n",
              "\n",
              "// Max number of bytes which will be uploaded at a time.\n",
              "const MAX_PAYLOAD_SIZE = 100 * 1024;\n",
              "\n",
              "function _uploadFiles(inputId, outputId) {\n",
              "  const steps = uploadFilesStep(inputId, outputId);\n",
              "  const outputElement = document.getElementById(outputId);\n",
              "  // Cache steps on the outputElement to make it available for the next call\n",
              "  // to uploadFilesContinue from Python.\n",
              "  outputElement.steps = steps;\n",
              "\n",
              "  return _uploadFilesContinue(outputId);\n",
              "}\n",
              "\n",
              "// This is roughly an async generator (not supported in the browser yet),\n",
              "// where there are multiple asynchronous steps and the Python side is going\n",
              "// to poll for completion of each step.\n",
              "// This uses a Promise to block the python side on completion of each step,\n",
              "// then passes the result of the previous step as the input to the next step.\n",
              "function _uploadFilesContinue(outputId) {\n",
              "  const outputElement = document.getElementById(outputId);\n",
              "  const steps = outputElement.steps;\n",
              "\n",
              "  const next = steps.next(outputElement.lastPromiseValue);\n",
              "  return Promise.resolve(next.value.promise).then((value) => {\n",
              "    // Cache the last promise value to make it available to the next\n",
              "    // step of the generator.\n",
              "    outputElement.lastPromiseValue = value;\n",
              "    return next.value.response;\n",
              "  });\n",
              "}\n",
              "\n",
              "/**\n",
              " * Generator function which is called between each async step of the upload\n",
              " * process.\n",
              " * @param {string} inputId Element ID of the input file picker element.\n",
              " * @param {string} outputId Element ID of the output display.\n",
              " * @return {!Iterable<!Object>} Iterable of next steps.\n",
              " */\n",
              "function* uploadFilesStep(inputId, outputId) {\n",
              "  const inputElement = document.getElementById(inputId);\n",
              "  inputElement.disabled = false;\n",
              "\n",
              "  const outputElement = document.getElementById(outputId);\n",
              "  outputElement.innerHTML = '';\n",
              "\n",
              "  const pickedPromise = new Promise((resolve) => {\n",
              "    inputElement.addEventListener('change', (e) => {\n",
              "      resolve(e.target.files);\n",
              "    });\n",
              "  });\n",
              "\n",
              "  const cancel = document.createElement('button');\n",
              "  inputElement.parentElement.appendChild(cancel);\n",
              "  cancel.textContent = 'Cancel upload';\n",
              "  const cancelPromise = new Promise((resolve) => {\n",
              "    cancel.onclick = () => {\n",
              "      resolve(null);\n",
              "    };\n",
              "  });\n",
              "\n",
              "  // Wait for the user to pick the files.\n",
              "  const files = yield {\n",
              "    promise: Promise.race([pickedPromise, cancelPromise]),\n",
              "    response: {\n",
              "      action: 'starting',\n",
              "    }\n",
              "  };\n",
              "\n",
              "  cancel.remove();\n",
              "\n",
              "  // Disable the input element since further picks are not allowed.\n",
              "  inputElement.disabled = true;\n",
              "\n",
              "  if (!files) {\n",
              "    return {\n",
              "      response: {\n",
              "        action: 'complete',\n",
              "      }\n",
              "    };\n",
              "  }\n",
              "\n",
              "  for (const file of files) {\n",
              "    const li = document.createElement('li');\n",
              "    li.append(span(file.name, {fontWeight: 'bold'}));\n",
              "    li.append(span(\n",
              "        `(${file.type || 'n/a'}) - ${file.size} bytes, ` +\n",
              "        `last modified: ${\n",
              "            file.lastModifiedDate ? file.lastModifiedDate.toLocaleDateString() :\n",
              "                                    'n/a'} - `));\n",
              "    const percent = span('0% done');\n",
              "    li.appendChild(percent);\n",
              "\n",
              "    outputElement.appendChild(li);\n",
              "\n",
              "    const fileDataPromise = new Promise((resolve) => {\n",
              "      const reader = new FileReader();\n",
              "      reader.onload = (e) => {\n",
              "        resolve(e.target.result);\n",
              "      };\n",
              "      reader.readAsArrayBuffer(file);\n",
              "    });\n",
              "    // Wait for the data to be ready.\n",
              "    let fileData = yield {\n",
              "      promise: fileDataPromise,\n",
              "      response: {\n",
              "        action: 'continue',\n",
              "      }\n",
              "    };\n",
              "\n",
              "    // Use a chunked sending to avoid message size limits. See b/62115660.\n",
              "    let position = 0;\n",
              "    do {\n",
              "      const length = Math.min(fileData.byteLength - position, MAX_PAYLOAD_SIZE);\n",
              "      const chunk = new Uint8Array(fileData, position, length);\n",
              "      position += length;\n",
              "\n",
              "      const base64 = btoa(String.fromCharCode.apply(null, chunk));\n",
              "      yield {\n",
              "        response: {\n",
              "          action: 'append',\n",
              "          file: file.name,\n",
              "          data: base64,\n",
              "        },\n",
              "      };\n",
              "\n",
              "      let percentDone = fileData.byteLength === 0 ?\n",
              "          100 :\n",
              "          Math.round((position / fileData.byteLength) * 100);\n",
              "      percent.textContent = `${percentDone}% done`;\n",
              "\n",
              "    } while (position < fileData.byteLength);\n",
              "  }\n",
              "\n",
              "  // All done.\n",
              "  yield {\n",
              "    response: {\n",
              "      action: 'complete',\n",
              "    }\n",
              "  };\n",
              "}\n",
              "\n",
              "scope.google = scope.google || {};\n",
              "scope.google.colab = scope.google.colab || {};\n",
              "scope.google.colab._files = {\n",
              "  _uploadFiles,\n",
              "  _uploadFilesContinue,\n",
              "};\n",
              "})(self);\n",
              "</script> "
            ]
          },
          "metadata": {}
        },
        {
          "output_type": "stream",
          "name": "stdout",
          "text": [
            "Saving Petição inicial - 0022237-12.2022.4.05.8300.pdf to Petição inicial - 0022237-12.2022.4.05.8300.pdf\n",
            "Petição inicial - 0022237-12.2022.4.05.8300.pdf\n",
            "justiça federal região pje processo judicial eletrônico número classe procedimento juizado especial cível órgão julgador vara federal última distribuição valor causa rmoneysymb assuntos auxílio emergencial lei segredo justiça justiça gratuita sim pedido liminar antecipação tutela sim partes procurador terceiro vinculado jaquitan jorge cruz autor união federal reu documentos data documento tipo assinatura petição inicial petição inicial juízo varas juizados especiais federais seção judiciária pernambuco nome autora jaquitan jorge cruz cpf ssp data nascimento nome mãe francisca maria cruz estado civil solteiro profissão desempregado superior incompleto endereço completo rua padre teofilo tworz cpf bongi telefone contato mail cidade onde mora recife dados sobre nome grau renda grupo familiar parentesco jaquitan jorge autor rmoneysymb cruz rheuell callebe filho rmoneysymb neptuno silva cruz francisca maria esposa rmoneysymb conceição silva jacquitan filho rmoneysymb yeshuwa neptuno silva cruz data pedido abril auxílio emergencial razões complemento pagamento auxílio residual última indeferimento parcela autor propõe presente ação obrigação fazer antecipação efeitos tutela urgência face união federal pessoa jurídica direito público cuja procuradoria endereço conhecido juízo seguintes fatos assinado eletronicamente francisco assis nascimento nobrega webaddress número documento fundamentos gratuidade justiça inicialmente requer benefício gratuidade justiça termos art cpc possuir meios arcar despesas processuais prejuízo sustento próprio família fatos direito autor jaquitan jorge cruz realizou requerimento concessão benefício auxílio emergencial através plataforma disponibilizada governo federal dataprev abril tendo benefício deferido corretamente recebendo assim cinco parcelas correspondentes auxílio emergencial desta feita consequentemente conforme regras benefício atender todos critérios ofício auxílio emergencial residual deferido recebendo assim três parcelas valor rmoneysymb contudo acordo calendário autor ter realizado requerimento abril estaria elegível recebimento quatro parcelas auxílio emergencial residual apenas três pago parte todavia autor faz jus parcela valor rmoneysymb pois requerimento realizado recebido dataprev apenas enviado caixa nesta senda salienta atraso administrativo envio pagamento caixa econômica federal pode prejudicar direito autor recebimento correto quatro parcelas envio feito forma administrativa atraso responsabilidade integral dito fica evidente pagamento quarta última parcela auxílio emergencial residual valor rmoneysymb fere direito adquirido autor vez parte realizado envio pagamento tempo hábil caixa recebido quatro parcelas corretamente logo devido falta contraditório ampla defesa processo administrativo questão restou alternativa senão ajuizamento presente ação requisitos legais sabe auxílio emergencial benefício instituído governo assinado eletronicamente francisco assis nascimento nobrega webaddress número documento federal pago caixa econômica federal criado lei intuito garantir renda mínima brasileiros situação vulnerável durante pandemia covid novo corona vírus pagamento cinco parcelas mensais benefício prolongamento descontrole pandemia país viu necessidade prolongar tal auxílio forma criam dois benefícios extensões primeiro auxílio residual criado previsto pago parcelas rmoneysymb período setembro dezembro assim vez recebidas cinco parcelas auxílio emergencial dados inscrição cidadão processados automaticamente proceder concessão auxílio residual acordo data requerimento autor quatro parcelas direito auxílio emergencial residual nessa toada observada documentação autos autora preenche todos requisitos definidos exceto art diz respeito pagamento somente dezembro culpa exclusiva união decorrente indeferimento indevido primeiro requerimento administrativo conforme relatado examinar pormenorizadamente exigências trazidas legislação específica art considerando período competência pagamento aer parte autora anos reside brasil preso regime fechado recebe benefício previdenciário loas seguro desemprego beneficiário bolsa família segundo indica consulta portal transparência anexa conseguiu emprego formal período competência pagamento aeresidual pois nunca trabalhou sob vínculo empregatício formal vide informações presentes cnis ctps além disso nota ainda renda núcleo familiar maior meio salário mínimo per capita maior três salários mínimos visto conforme declaração anexo parte autora reside esposa possui renda dois filho onde apenas possui emprego forma ativo renda valor rmoneysymb dividido total membros familiares atende teto renda per capita mio salário mínimo pessoa ademais requerente recebeu rendimentos tributáveis acima limite isenção tampouco figurou dependente declarante imposto sobre renda pessoa física destarte data início contagem parcelas dib deve data primeiro requerimento administrativo consequentemente dib parcelas aer deve ocorrer cinco meses corrigindo distorção levou requerente esbarrar limitação temporal imposta levando consideração datas parcelas auxílio emergencial originário deveriam ter sido pagas nesse ínterim adiantado erro exclusivo união atraso processamento original pode suprimir direito parte autora recebimento todas parcelas extensão direito caso ocorrido referido atraso desse modo documentos anexados autos comprova autora preenche todos requisitos percepção quatro parcelas remanescentes auxílio emergencial residual relativas meses setembro outubro novembro dezembro todavia demonstrado nesta exordial fato deu culpa exclusiva união decorrência atraso administrativo exame requerimento autoral assinado eletronicamente francisco assis nascimento nobrega webaddress número documento todo exposto quanto interesse agir resta evidenciado diante ausência continuidade previsão pagamento integral aer vez união entende ultrapassado marco temporal dezembro requerente faria jus quatra parcela auxílio emergencial extensão configurando indeferimento administrativo implícito aer restou alternativa senão ajuizamento presente ação vereda notável caso ocorrido citado equívoco união processamento administrativo inicial solicitação benefício assistencial parte autora recebido além cinco parcelas originário meses abril agosto portanto faria jus quatro parcelas aer extensão relativas meses setembro dezembro nessa senda observando situação fragilidade socioeconômica insere grupo familiar autor meio advento crise ocasionada pandemia covid torna indiscutível deferimento deste pleito iii antecipação tutela logo considerando parte autora preenche todos requisitos legais pugna concessão quarta parcela auxílio emergencial extensão tanto liminarmente sede tutela antecipada termos art cpc quanto mérito obrigação implantar benefício favor quanto requisitos fumus boni iuris pode verificado através documentos anexados comprovam parte autora faz jus auxílio emergencial pois cumpre todos elementos art lei arts decreto quanto urgência trata verba caráter alimentar mostrando presente neste caso periculum mora provar fatos constitutivos direito parte autora requer juntada documentos necessários análise pedido entretanto caso exa considere provados fatos alegados nesta petição inicial pugna produção todas provas direito admitido inclusive produção prova oral audiência instrução julgamento iii pedidos ante exposto requer vossa excelência respeitosamente assinado eletronicamente francisco assis nascimento nobrega webaddress número documento concessão assistência judiciária gratuita vista parte autora pessoa pobre acepção legal termo conformidade disposto art código processo civil liminarmente concessão tutela antecipada termos art cpc oitiva parte contrária ante prova inequívoca fatos existência justo receio danos natureza irreparável difícil reparação imediato pagamento última parcela auxílio emergencial residual faz jus parte autora determinando liberação quarta parcela pendente auxílio emergencial residual art valor rmoneysymb citação união federal meio procurador querendo contestar termos presente demanda final confirmada antecipação tutela sendo julgada procedente ação condenar parte pagamento quarta parcela pendente auxílio emergencial residual art monetariamente corrigidas confirmando sede cognição exauriente eventual tutela urgência deferida medida justiça condenação união federal pagamento custas despesas processuais bem honorários sucumbenciais produção todos meios prova direito admitidos distribuição dinâmica ônus prova termos art cpc diante peculiaridades causa relacionadas maior facilidade obtenção prova fato contrário parte subsidiariamente caso juízo convença fatos constitutivos direito parte autora base documentos ora apresentados requer designação audiência instrução julgamento produção prova testemunhal termos art cpc realização inspeção judicial termos art cpc devido particularidades caso relativas impossibilidade excessiva dificuldade cumprir encargo provar fatos negativos causa valor rmoneysymb trezentos reais termos espera deferimento recife data assinatura eletrônica francisco assis nascimento nóbrega defensor público federal assinado eletronicamente francisco assis nascimento nobrega webaddress número documento assinado eletronicamente francisco assis nascimento nobrega webaddress número documento\n",
            "[2]\n",
            "<class 'numpy.ndarray'>\n",
            "Auxilio emergencial\n"
          ]
        }
      ]
    },
    {
      "cell_type": "code",
      "source": [
        "classificacao_peticoes_dicionario"
      ],
      "metadata": {
        "colab": {
          "base_uri": "https://localhost:8080/"
        },
        "id": "HlPh9W9vmmW-",
        "outputId": "53b8c415-2133-4436-c9d2-5d51e0d127c4"
      },
      "execution_count": 56,
      "outputs": [
        {
          "output_type": "execute_result",
          "data": {
            "text/plain": [
              "{'aposentadoria_especial': 0,\n",
              " 'auxilio_doenca_previdenciario': 1,\n",
              " 'auxilio_emergencial': 2,\n",
              " 'beneficio_deficiente': 3,\n",
              " 'pensao_morte': 4}"
            ]
          },
          "metadata": {},
          "execution_count": 56
        }
      ]
    }
  ]
}