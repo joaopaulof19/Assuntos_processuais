{
  "nbformat": 4,
  "nbformat_minor": 0,
  "metadata": {
    "colab": {
      "provenance": []
    },
    "kernelspec": {
      "name": "python3",
      "display_name": "Python 3"
    },
    "language_info": {
      "name": "python"
    }
  },
  "cells": [
    {
      "cell_type": "markdown",
      "source": [
        "# **Carregamento de documentos**"
      ],
      "metadata": {
        "id": "s1Es-lB3duG5"
      }
    },
    {
      "cell_type": "code",
      "execution_count": 2,
      "metadata": {
        "colab": {
          "base_uri": "https://localhost:8080/"
        },
        "id": "BfMEY-kbdra3",
        "outputId": "60b13903-b35c-47fb-bdc2-afb914a6a1d9"
      },
      "outputs": [
        {
          "output_type": "stream",
          "name": "stdout",
          "text": [
            "Mounted at /content/drive\n"
          ]
        }
      ],
      "source": [
        "from google.colab import drive\n",
        "drive.mount('/content/drive')"
      ]
    },
    {
      "cell_type": "code",
      "source": [
        "!sudo apt install build-essential libpoppler-cpp-dev pkg-config python3-dev -q"
      ],
      "metadata": {
        "colab": {
          "base_uri": "https://localhost:8080/"
        },
        "id": "XxnvOpdHL2H3",
        "outputId": "c38617c4-c480-4e8f-90a7-3e0c54b2f2d6"
      },
      "execution_count": 3,
      "outputs": [
        {
          "output_type": "stream",
          "name": "stdout",
          "text": [
            "Reading package lists...\n",
            "Building dependency tree...\n",
            "Reading state information...\n",
            "build-essential is already the newest version (12.4ubuntu1).\n",
            "pkg-config is already the newest version (0.29.1-0ubuntu2).\n",
            "python3-dev is already the newest version (3.6.7-1~18.04).\n",
            "python3-dev set to manually installed.\n",
            "The following package was automatically installed and is no longer required:\n",
            "  libnvidia-common-460\n",
            "Use 'sudo apt autoremove' to remove it.\n",
            "The following additional packages will be installed:\n",
            "  libpoppler-cpp0v5\n",
            "The following NEW packages will be installed:\n",
            "  libpoppler-cpp-dev libpoppler-cpp0v5\n",
            "0 upgraded, 2 newly installed, 0 to remove and 20 not upgraded.\n",
            "Need to get 36.7 kB of archives.\n",
            "After this operation, 188 kB of additional disk space will be used.\n",
            "Get:1 http://archive.ubuntu.com/ubuntu bionic-updates/main amd64 libpoppler-cpp0v5 amd64 0.62.0-2ubuntu2.14 [28.0 kB]\n",
            "Get:2 http://archive.ubuntu.com/ubuntu bionic-updates/main amd64 libpoppler-cpp-dev amd64 0.62.0-2ubuntu2.14 [8,676 B]\n",
            "Fetched 36.7 kB in 0s (107 kB/s)\n",
            "debconf: unable to initialize frontend: Dialog\n",
            "debconf: (No usable dialog-like program is installed, so the dialog based frontend cannot be used. at /usr/share/perl5/Debconf/FrontEnd/Dialog.pm line 76, <> line 2.)\n",
            "debconf: falling back to frontend: Readline\n",
            "debconf: unable to initialize frontend: Readline\n",
            "debconf: (This frontend requires a controlling tty.)\n",
            "debconf: falling back to frontend: Teletype\n",
            "dpkg-preconfigure: unable to re-open stdin: \n",
            "Selecting previously unselected package libpoppler-cpp0v5:amd64.\n",
            "(Reading database ... 124013 files and directories currently installed.)\n",
            "Preparing to unpack .../libpoppler-cpp0v5_0.62.0-2ubuntu2.14_amd64.deb ...\n",
            "Unpacking libpoppler-cpp0v5:amd64 (0.62.0-2ubuntu2.14) ...\n",
            "Selecting previously unselected package libpoppler-cpp-dev:amd64.\n",
            "Preparing to unpack .../libpoppler-cpp-dev_0.62.0-2ubuntu2.14_amd64.deb ...\n",
            "Unpacking libpoppler-cpp-dev:amd64 (0.62.0-2ubuntu2.14) ...\n",
            "Setting up libpoppler-cpp0v5:amd64 (0.62.0-2ubuntu2.14) ...\n",
            "Setting up libpoppler-cpp-dev:amd64 (0.62.0-2ubuntu2.14) ...\n",
            "Processing triggers for libc-bin (2.27-3ubuntu1.6) ...\n"
          ]
        }
      ]
    },
    {
      "cell_type": "code",
      "source": [
        "!pip install pdftotext -q"
      ],
      "metadata": {
        "id": "zUJq9fNRL7GI",
        "colab": {
          "base_uri": "https://localhost:8080/"
        },
        "outputId": "dd78d891-79e4-4388-ad31-657674dfb543"
      },
      "execution_count": 4,
      "outputs": [
        {
          "output_type": "stream",
          "name": "stdout",
          "text": [
            "\u001b[?25l\r\u001b[K     |██▉                             | 10 kB 21.6 MB/s eta 0:00:01\r\u001b[K     |█████▊                          | 20 kB 25.8 MB/s eta 0:00:01\r\u001b[K     |████████▋                       | 30 kB 32.9 MB/s eta 0:00:01\r\u001b[K     |███████████▌                    | 40 kB 39.0 MB/s eta 0:00:01\r\u001b[K     |██████████████▍                 | 51 kB 44.6 MB/s eta 0:00:01\r\u001b[K     |█████████████████▎              | 61 kB 48.4 MB/s eta 0:00:01\r\u001b[K     |████████████████████▏           | 71 kB 29.2 MB/s eta 0:00:01\r\u001b[K     |███████████████████████         | 81 kB 29.5 MB/s eta 0:00:01\r\u001b[K     |██████████████████████████      | 92 kB 31.3 MB/s eta 0:00:01\r\u001b[K     |████████████████████████████▊   | 102 kB 33.6 MB/s eta 0:00:01\r\u001b[K     |███████████████████████████████▋| 112 kB 33.6 MB/s eta 0:00:01\r\u001b[K     |████████████████████████████████| 113 kB 33.6 MB/s \n",
            "\u001b[?25h  Building wheel for pdftotext (setup.py) ... \u001b[?25l\u001b[?25hdone\n"
          ]
        }
      ]
    },
    {
      "cell_type": "code",
      "source": [
        "import numpy as np\n",
        "import pandas as pd\n",
        "import matplotlib.pyplot as plt\n",
        "import pdftotext\n",
        "import nltk\n",
        "import glob\n",
        "import re"
      ],
      "metadata": {
        "id": "XJygkVw-MHHQ"
      },
      "execution_count": 5,
      "outputs": []
    },
    {
      "cell_type": "code",
      "source": [
        "#Instanciando stopwords e o stemmer\n",
        "# nltk.download('stopwords')\n",
        "nltk.download('all')\n",
        "\n",
        "stopwords = nltk.corpus.stopwords.words('portuguese')\n",
        "\n",
        "stemmer = nltk.stem.RSLPStemmer()"
      ],
      "metadata": {
        "colab": {
          "base_uri": "https://localhost:8080/"
        },
        "id": "aBKEX6HzMWX9",
        "outputId": "a88278d9-0bc7-46c5-dac0-e4840204d910"
      },
      "execution_count": 6,
      "outputs": [
        {
          "output_type": "stream",
          "name": "stderr",
          "text": [
            "[nltk_data] Downloading collection 'all'\n",
            "[nltk_data]    | \n",
            "[nltk_data]    | Downloading package abc to /root/nltk_data...\n",
            "[nltk_data]    |   Unzipping corpora/abc.zip.\n",
            "[nltk_data]    | Downloading package alpino to /root/nltk_data...\n",
            "[nltk_data]    |   Unzipping corpora/alpino.zip.\n",
            "[nltk_data]    | Downloading package averaged_perceptron_tagger to\n",
            "[nltk_data]    |     /root/nltk_data...\n",
            "[nltk_data]    |   Unzipping taggers/averaged_perceptron_tagger.zip.\n",
            "[nltk_data]    | Downloading package averaged_perceptron_tagger_ru to\n",
            "[nltk_data]    |     /root/nltk_data...\n",
            "[nltk_data]    |   Unzipping\n",
            "[nltk_data]    |       taggers/averaged_perceptron_tagger_ru.zip.\n",
            "[nltk_data]    | Downloading package basque_grammars to\n",
            "[nltk_data]    |     /root/nltk_data...\n",
            "[nltk_data]    |   Unzipping grammars/basque_grammars.zip.\n",
            "[nltk_data]    | Downloading package bcp47 to /root/nltk_data...\n",
            "[nltk_data]    | Downloading package biocreative_ppi to\n",
            "[nltk_data]    |     /root/nltk_data...\n",
            "[nltk_data]    |   Unzipping corpora/biocreative_ppi.zip.\n",
            "[nltk_data]    | Downloading package bllip_wsj_no_aux to\n",
            "[nltk_data]    |     /root/nltk_data...\n",
            "[nltk_data]    |   Unzipping models/bllip_wsj_no_aux.zip.\n",
            "[nltk_data]    | Downloading package book_grammars to\n",
            "[nltk_data]    |     /root/nltk_data...\n",
            "[nltk_data]    |   Unzipping grammars/book_grammars.zip.\n",
            "[nltk_data]    | Downloading package brown to /root/nltk_data...\n",
            "[nltk_data]    |   Unzipping corpora/brown.zip.\n",
            "[nltk_data]    | Downloading package brown_tei to /root/nltk_data...\n",
            "[nltk_data]    |   Unzipping corpora/brown_tei.zip.\n",
            "[nltk_data]    | Downloading package cess_cat to /root/nltk_data...\n",
            "[nltk_data]    |   Unzipping corpora/cess_cat.zip.\n",
            "[nltk_data]    | Downloading package cess_esp to /root/nltk_data...\n",
            "[nltk_data]    |   Unzipping corpora/cess_esp.zip.\n",
            "[nltk_data]    | Downloading package chat80 to /root/nltk_data...\n",
            "[nltk_data]    |   Unzipping corpora/chat80.zip.\n",
            "[nltk_data]    | Downloading package city_database to\n",
            "[nltk_data]    |     /root/nltk_data...\n",
            "[nltk_data]    |   Unzipping corpora/city_database.zip.\n",
            "[nltk_data]    | Downloading package cmudict to /root/nltk_data...\n",
            "[nltk_data]    |   Unzipping corpora/cmudict.zip.\n",
            "[nltk_data]    | Downloading package comparative_sentences to\n",
            "[nltk_data]    |     /root/nltk_data...\n",
            "[nltk_data]    |   Unzipping corpora/comparative_sentences.zip.\n",
            "[nltk_data]    | Downloading package comtrans to /root/nltk_data...\n",
            "[nltk_data]    | Downloading package conll2000 to /root/nltk_data...\n",
            "[nltk_data]    |   Unzipping corpora/conll2000.zip.\n",
            "[nltk_data]    | Downloading package conll2002 to /root/nltk_data...\n",
            "[nltk_data]    |   Unzipping corpora/conll2002.zip.\n",
            "[nltk_data]    | Downloading package conll2007 to /root/nltk_data...\n",
            "[nltk_data]    | Downloading package crubadan to /root/nltk_data...\n",
            "[nltk_data]    |   Unzipping corpora/crubadan.zip.\n",
            "[nltk_data]    | Downloading package dependency_treebank to\n",
            "[nltk_data]    |     /root/nltk_data...\n",
            "[nltk_data]    |   Unzipping corpora/dependency_treebank.zip.\n",
            "[nltk_data]    | Downloading package dolch to /root/nltk_data...\n",
            "[nltk_data]    |   Unzipping corpora/dolch.zip.\n",
            "[nltk_data]    | Downloading package europarl_raw to\n",
            "[nltk_data]    |     /root/nltk_data...\n",
            "[nltk_data]    |   Unzipping corpora/europarl_raw.zip.\n",
            "[nltk_data]    | Downloading package extended_omw to\n",
            "[nltk_data]    |     /root/nltk_data...\n",
            "[nltk_data]    | Downloading package floresta to /root/nltk_data...\n",
            "[nltk_data]    |   Unzipping corpora/floresta.zip.\n",
            "[nltk_data]    | Downloading package framenet_v15 to\n",
            "[nltk_data]    |     /root/nltk_data...\n",
            "[nltk_data]    |   Unzipping corpora/framenet_v15.zip.\n",
            "[nltk_data]    | Downloading package framenet_v17 to\n",
            "[nltk_data]    |     /root/nltk_data...\n",
            "[nltk_data]    |   Unzipping corpora/framenet_v17.zip.\n",
            "[nltk_data]    | Downloading package gazetteers to /root/nltk_data...\n",
            "[nltk_data]    |   Unzipping corpora/gazetteers.zip.\n",
            "[nltk_data]    | Downloading package genesis to /root/nltk_data...\n",
            "[nltk_data]    |   Unzipping corpora/genesis.zip.\n",
            "[nltk_data]    | Downloading package gutenberg to /root/nltk_data...\n",
            "[nltk_data]    |   Unzipping corpora/gutenberg.zip.\n",
            "[nltk_data]    | Downloading package ieer to /root/nltk_data...\n",
            "[nltk_data]    |   Unzipping corpora/ieer.zip.\n",
            "[nltk_data]    | Downloading package inaugural to /root/nltk_data...\n",
            "[nltk_data]    |   Unzipping corpora/inaugural.zip.\n",
            "[nltk_data]    | Downloading package indian to /root/nltk_data...\n",
            "[nltk_data]    |   Unzipping corpora/indian.zip.\n",
            "[nltk_data]    | Downloading package jeita to /root/nltk_data...\n",
            "[nltk_data]    | Downloading package kimmo to /root/nltk_data...\n",
            "[nltk_data]    |   Unzipping corpora/kimmo.zip.\n",
            "[nltk_data]    | Downloading package knbc to /root/nltk_data...\n",
            "[nltk_data]    | Downloading package large_grammars to\n",
            "[nltk_data]    |     /root/nltk_data...\n",
            "[nltk_data]    |   Unzipping grammars/large_grammars.zip.\n",
            "[nltk_data]    | Downloading package lin_thesaurus to\n",
            "[nltk_data]    |     /root/nltk_data...\n",
            "[nltk_data]    |   Unzipping corpora/lin_thesaurus.zip.\n",
            "[nltk_data]    | Downloading package mac_morpho to /root/nltk_data...\n",
            "[nltk_data]    |   Unzipping corpora/mac_morpho.zip.\n",
            "[nltk_data]    | Downloading package machado to /root/nltk_data...\n",
            "[nltk_data]    | Downloading package masc_tagged to /root/nltk_data...\n",
            "[nltk_data]    | Downloading package maxent_ne_chunker to\n",
            "[nltk_data]    |     /root/nltk_data...\n",
            "[nltk_data]    |   Unzipping chunkers/maxent_ne_chunker.zip.\n",
            "[nltk_data]    | Downloading package maxent_treebank_pos_tagger to\n",
            "[nltk_data]    |     /root/nltk_data...\n",
            "[nltk_data]    |   Unzipping taggers/maxent_treebank_pos_tagger.zip.\n",
            "[nltk_data]    | Downloading package moses_sample to\n",
            "[nltk_data]    |     /root/nltk_data...\n",
            "[nltk_data]    |   Unzipping models/moses_sample.zip.\n",
            "[nltk_data]    | Downloading package movie_reviews to\n",
            "[nltk_data]    |     /root/nltk_data...\n",
            "[nltk_data]    |   Unzipping corpora/movie_reviews.zip.\n",
            "[nltk_data]    | Downloading package mte_teip5 to /root/nltk_data...\n",
            "[nltk_data]    |   Unzipping corpora/mte_teip5.zip.\n",
            "[nltk_data]    | Downloading package mwa_ppdb to /root/nltk_data...\n",
            "[nltk_data]    |   Unzipping misc/mwa_ppdb.zip.\n",
            "[nltk_data]    | Downloading package names to /root/nltk_data...\n",
            "[nltk_data]    |   Unzipping corpora/names.zip.\n",
            "[nltk_data]    | Downloading package nombank.1.0 to /root/nltk_data...\n",
            "[nltk_data]    | Downloading package nonbreaking_prefixes to\n",
            "[nltk_data]    |     /root/nltk_data...\n",
            "[nltk_data]    |   Unzipping corpora/nonbreaking_prefixes.zip.\n",
            "[nltk_data]    | Downloading package nps_chat to /root/nltk_data...\n",
            "[nltk_data]    |   Unzipping corpora/nps_chat.zip.\n",
            "[nltk_data]    | Downloading package omw to /root/nltk_data...\n",
            "[nltk_data]    | Downloading package omw-1.4 to /root/nltk_data...\n",
            "[nltk_data]    | Downloading package opinion_lexicon to\n",
            "[nltk_data]    |     /root/nltk_data...\n",
            "[nltk_data]    |   Unzipping corpora/opinion_lexicon.zip.\n",
            "[nltk_data]    | Downloading package panlex_swadesh to\n",
            "[nltk_data]    |     /root/nltk_data...\n",
            "[nltk_data]    | Downloading package paradigms to /root/nltk_data...\n",
            "[nltk_data]    |   Unzipping corpora/paradigms.zip.\n",
            "[nltk_data]    | Downloading package pe08 to /root/nltk_data...\n",
            "[nltk_data]    |   Unzipping corpora/pe08.zip.\n",
            "[nltk_data]    | Downloading package perluniprops to\n",
            "[nltk_data]    |     /root/nltk_data...\n",
            "[nltk_data]    |   Unzipping misc/perluniprops.zip.\n",
            "[nltk_data]    | Downloading package pil to /root/nltk_data...\n",
            "[nltk_data]    |   Unzipping corpora/pil.zip.\n",
            "[nltk_data]    | Downloading package pl196x to /root/nltk_data...\n",
            "[nltk_data]    |   Unzipping corpora/pl196x.zip.\n",
            "[nltk_data]    | Downloading package porter_test to /root/nltk_data...\n",
            "[nltk_data]    |   Unzipping stemmers/porter_test.zip.\n",
            "[nltk_data]    | Downloading package ppattach to /root/nltk_data...\n",
            "[nltk_data]    |   Unzipping corpora/ppattach.zip.\n",
            "[nltk_data]    | Downloading package problem_reports to\n",
            "[nltk_data]    |     /root/nltk_data...\n",
            "[nltk_data]    |   Unzipping corpora/problem_reports.zip.\n",
            "[nltk_data]    | Downloading package product_reviews_1 to\n",
            "[nltk_data]    |     /root/nltk_data...\n",
            "[nltk_data]    |   Unzipping corpora/product_reviews_1.zip.\n",
            "[nltk_data]    | Downloading package product_reviews_2 to\n",
            "[nltk_data]    |     /root/nltk_data...\n",
            "[nltk_data]    |   Unzipping corpora/product_reviews_2.zip.\n",
            "[nltk_data]    | Downloading package propbank to /root/nltk_data...\n",
            "[nltk_data]    | Downloading package pros_cons to /root/nltk_data...\n",
            "[nltk_data]    |   Unzipping corpora/pros_cons.zip.\n",
            "[nltk_data]    | Downloading package ptb to /root/nltk_data...\n",
            "[nltk_data]    |   Unzipping corpora/ptb.zip.\n",
            "[nltk_data]    | Downloading package punkt to /root/nltk_data...\n",
            "[nltk_data]    |   Unzipping tokenizers/punkt.zip.\n",
            "[nltk_data]    | Downloading package qc to /root/nltk_data...\n",
            "[nltk_data]    |   Unzipping corpora/qc.zip.\n",
            "[nltk_data]    | Downloading package reuters to /root/nltk_data...\n",
            "[nltk_data]    | Downloading package rslp to /root/nltk_data...\n",
            "[nltk_data]    |   Unzipping stemmers/rslp.zip.\n",
            "[nltk_data]    | Downloading package rte to /root/nltk_data...\n",
            "[nltk_data]    |   Unzipping corpora/rte.zip.\n",
            "[nltk_data]    | Downloading package sample_grammars to\n",
            "[nltk_data]    |     /root/nltk_data...\n",
            "[nltk_data]    |   Unzipping grammars/sample_grammars.zip.\n",
            "[nltk_data]    | Downloading package semcor to /root/nltk_data...\n",
            "[nltk_data]    | Downloading package senseval to /root/nltk_data...\n",
            "[nltk_data]    |   Unzipping corpora/senseval.zip.\n",
            "[nltk_data]    | Downloading package sentence_polarity to\n",
            "[nltk_data]    |     /root/nltk_data...\n",
            "[nltk_data]    |   Unzipping corpora/sentence_polarity.zip.\n",
            "[nltk_data]    | Downloading package sentiwordnet to\n",
            "[nltk_data]    |     /root/nltk_data...\n",
            "[nltk_data]    |   Unzipping corpora/sentiwordnet.zip.\n",
            "[nltk_data]    | Downloading package shakespeare to /root/nltk_data...\n",
            "[nltk_data]    |   Unzipping corpora/shakespeare.zip.\n",
            "[nltk_data]    | Downloading package sinica_treebank to\n",
            "[nltk_data]    |     /root/nltk_data...\n",
            "[nltk_data]    |   Unzipping corpora/sinica_treebank.zip.\n",
            "[nltk_data]    | Downloading package smultron to /root/nltk_data...\n",
            "[nltk_data]    |   Unzipping corpora/smultron.zip.\n",
            "[nltk_data]    | Downloading package snowball_data to\n",
            "[nltk_data]    |     /root/nltk_data...\n",
            "[nltk_data]    | Downloading package spanish_grammars to\n",
            "[nltk_data]    |     /root/nltk_data...\n",
            "[nltk_data]    |   Unzipping grammars/spanish_grammars.zip.\n",
            "[nltk_data]    | Downloading package state_union to /root/nltk_data...\n",
            "[nltk_data]    |   Unzipping corpora/state_union.zip.\n",
            "[nltk_data]    | Downloading package stopwords to /root/nltk_data...\n",
            "[nltk_data]    |   Unzipping corpora/stopwords.zip.\n",
            "[nltk_data]    | Downloading package subjectivity to\n",
            "[nltk_data]    |     /root/nltk_data...\n",
            "[nltk_data]    |   Unzipping corpora/subjectivity.zip.\n",
            "[nltk_data]    | Downloading package swadesh to /root/nltk_data...\n",
            "[nltk_data]    |   Unzipping corpora/swadesh.zip.\n",
            "[nltk_data]    | Downloading package switchboard to /root/nltk_data...\n",
            "[nltk_data]    |   Unzipping corpora/switchboard.zip.\n",
            "[nltk_data]    | Downloading package tagsets to /root/nltk_data...\n",
            "[nltk_data]    |   Unzipping help/tagsets.zip.\n",
            "[nltk_data]    | Downloading package timit to /root/nltk_data...\n",
            "[nltk_data]    |   Unzipping corpora/timit.zip.\n",
            "[nltk_data]    | Downloading package toolbox to /root/nltk_data...\n",
            "[nltk_data]    |   Unzipping corpora/toolbox.zip.\n",
            "[nltk_data]    | Downloading package treebank to /root/nltk_data...\n",
            "[nltk_data]    |   Unzipping corpora/treebank.zip.\n",
            "[nltk_data]    | Downloading package twitter_samples to\n",
            "[nltk_data]    |     /root/nltk_data...\n",
            "[nltk_data]    |   Unzipping corpora/twitter_samples.zip.\n",
            "[nltk_data]    | Downloading package udhr to /root/nltk_data...\n",
            "[nltk_data]    |   Unzipping corpora/udhr.zip.\n",
            "[nltk_data]    | Downloading package udhr2 to /root/nltk_data...\n",
            "[nltk_data]    |   Unzipping corpora/udhr2.zip.\n",
            "[nltk_data]    | Downloading package unicode_samples to\n",
            "[nltk_data]    |     /root/nltk_data...\n",
            "[nltk_data]    |   Unzipping corpora/unicode_samples.zip.\n",
            "[nltk_data]    | Downloading package universal_tagset to\n",
            "[nltk_data]    |     /root/nltk_data...\n",
            "[nltk_data]    |   Unzipping taggers/universal_tagset.zip.\n",
            "[nltk_data]    | Downloading package universal_treebanks_v20 to\n",
            "[nltk_data]    |     /root/nltk_data...\n",
            "[nltk_data]    | Downloading package vader_lexicon to\n",
            "[nltk_data]    |     /root/nltk_data...\n",
            "[nltk_data]    | Downloading package verbnet to /root/nltk_data...\n",
            "[nltk_data]    |   Unzipping corpora/verbnet.zip.\n",
            "[nltk_data]    | Downloading package verbnet3 to /root/nltk_data...\n",
            "[nltk_data]    |   Unzipping corpora/verbnet3.zip.\n",
            "[nltk_data]    | Downloading package webtext to /root/nltk_data...\n",
            "[nltk_data]    |   Unzipping corpora/webtext.zip.\n",
            "[nltk_data]    | Downloading package wmt15_eval to /root/nltk_data...\n",
            "[nltk_data]    |   Unzipping models/wmt15_eval.zip.\n",
            "[nltk_data]    | Downloading package word2vec_sample to\n",
            "[nltk_data]    |     /root/nltk_data...\n",
            "[nltk_data]    |   Unzipping models/word2vec_sample.zip.\n",
            "[nltk_data]    | Downloading package wordnet to /root/nltk_data...\n",
            "[nltk_data]    | Downloading package wordnet2021 to /root/nltk_data...\n",
            "[nltk_data]    | Downloading package wordnet31 to /root/nltk_data...\n",
            "[nltk_data]    | Downloading package wordnet_ic to /root/nltk_data...\n",
            "[nltk_data]    |   Unzipping corpora/wordnet_ic.zip.\n",
            "[nltk_data]    | Downloading package words to /root/nltk_data...\n",
            "[nltk_data]    |   Unzipping corpora/words.zip.\n",
            "[nltk_data]    | Downloading package ycoe to /root/nltk_data...\n",
            "[nltk_data]    |   Unzipping corpora/ycoe.zip.\n",
            "[nltk_data]    | \n",
            "[nltk_data]  Done downloading collection all\n"
          ]
        }
      ]
    },
    {
      "cell_type": "code",
      "source": [
        "# Adicionar mais palavras ao stopwords criado, verificando se já existe\n",
        "new_stopwords = ['br', 'pág', 'listView', 'https', 'http', \n",
        "                 'numbr','numbrª', 'ª', 'nº']\n",
        "print(len(stopwords))\n",
        "for word in new_stopwords:\n",
        "  if word not in stopwords:\n",
        "    stopwords.append(word)\n",
        "print(len(stopwords))"
      ],
      "metadata": {
        "colab": {
          "base_uri": "https://localhost:8080/"
        },
        "id": "5V3wH56lMglw",
        "outputId": "529e4f21-8eff-4d90-828c-dc437419c3d4"
      },
      "execution_count": 7,
      "outputs": [
        {
          "output_type": "stream",
          "name": "stdout",
          "text": [
            "207\n",
            "216\n"
          ]
        }
      ]
    },
    {
      "cell_type": "markdown",
      "source": [
        "# **Importando os documentos de petição**"
      ],
      "metadata": {
        "id": "tVd26u0uL9lO"
      }
    },
    {
      "cell_type": "code",
      "source": [
        "def transforma_dataframe(lista_arquivos, classe):\n",
        "  lista_strings = []\n",
        "  for peticao in lista_arquivos:\n",
        "    with open(peticao, \"rb\") as f:\n",
        "      pdf = pdftotext.PDF(f)\n",
        "    lista_strings.append(\"\\n\\n\".join(pdf))\n",
        "\n",
        "  classificacao = []\n",
        "  for i in range(len(lista_arquivos)):\n",
        "    classificacao.append(classe)\n",
        "\n",
        "  df = cria_dataframe(lista_arquivos, lista_strings, classificacao)\n",
        "  return df\n",
        "\n",
        "def cria_dataframe(lista_arquivos, lista_strings, classificacao):\n",
        "  dicionario_peticao = {\n",
        "    'nome_documento': lista_arquivos,\n",
        "    'conteudo_peticao': lista_strings,\n",
        "    'classificacao': classificacao,\n",
        "  }\n",
        "  \n",
        "  df_peticao_inicial = pd.DataFrame(dicionario_peticao)\n",
        "  return df_peticao_inicial\n",
        "\n",
        "  "
      ],
      "metadata": {
        "id": "QObu0I1XM7Mm"
      },
      "execution_count": 8,
      "outputs": []
    },
    {
      "cell_type": "code",
      "source": [
        "lista_arquivos = []\n",
        "for arquivo in glob.glob(r'/content/drive/MyDrive/trf5.peticoes/25 - APOSENTADORIA POR TEMPO DE CONTRIBUICAO/*pdf'):\n",
        "  if arquivo not in lista_arquivos:\n",
        "    lista_arquivos.append(arquivo)\n",
        "\n",
        "df_aposentadoria_tempo_contribuicao = transforma_dataframe(lista_arquivos, \"aposentadoria_tempo_contribuicao\")"
      ],
      "metadata": {
        "id": "bHujmaeqNy0P"
      },
      "execution_count": 9,
      "outputs": []
    },
    {
      "cell_type": "code",
      "source": [
        "lista_arquivos = []\n",
        "for arquivo in glob.glob(r'/content/drive/MyDrive/trf5.peticoes/28 - APOSENTADORIA URBANA/*pdf'):\n",
        "  if arquivo not in lista_arquivos:\n",
        "    lista_arquivos.append(arquivo)\n",
        "\n",
        "df_aposentadoria_urbana = transforma_dataframe(lista_arquivos, \"aposentadoria_urbana\")"
      ],
      "metadata": {
        "id": "h9v2uGnKPpzH"
      },
      "execution_count": 10,
      "outputs": []
    },
    {
      "cell_type": "code",
      "source": [
        "lista_arquivos = []\n",
        "for arquivo in glob.glob(r'/content/drive/MyDrive/trf5.peticoes/28 - SALARIO MATERNIDADE RURAL/*pdf'):\n",
        "  if arquivo not in lista_arquivos:\n",
        "    lista_arquivos.append(arquivo)\n",
        "\n",
        "df_salario_maternidade_rural = transforma_dataframe(lista_arquivos, \"salario_maternidade_rural\")"
      ],
      "metadata": {
        "id": "y6Rw27MyP-eo"
      },
      "execution_count": 11,
      "outputs": []
    },
    {
      "cell_type": "code",
      "source": [
        "lista_arquivos = []\n",
        "for arquivo in glob.glob(r'/content/drive/MyDrive/trf5.peticoes/29 - REVISIONAL FGTS/*pdf'):\n",
        "  if arquivo not in lista_arquivos:\n",
        "    lista_arquivos.append(arquivo)\n",
        "\n",
        "df_revisional_fgts = transforma_dataframe(lista_arquivos, \"revisional_fgts\")"
      ],
      "metadata": {
        "id": "2CxdSzPdRPR2"
      },
      "execution_count": 12,
      "outputs": []
    },
    {
      "cell_type": "code",
      "source": [
        "lista_arquivos = []\n",
        "for arquivo in glob.glob(r'/content/drive/MyDrive/trf5.peticoes/35 - PENSAO POR MORTE/*pdf'):\n",
        "  if arquivo not in lista_arquivos:\n",
        "    lista_arquivos.append(arquivo)\n",
        "\n",
        "df_pensao_morte = transforma_dataframe(lista_arquivos, \"pensao_morte\")"
      ],
      "metadata": {
        "id": "57ub2gIDRPZO"
      },
      "execution_count": 13,
      "outputs": []
    },
    {
      "cell_type": "code",
      "source": [
        "lista_arquivos = []\n",
        "for arquivo in glob.glob(r'/content/drive/MyDrive/trf5.peticoes/45 - APOSENTADORIA IDADE RURAL/*pdf'):\n",
        "  if arquivo not in lista_arquivos:\n",
        "    lista_arquivos.append(arquivo)\n",
        "\n",
        "df_aposentadoria_idade_rural = transforma_dataframe(lista_arquivos, \"aposentadoria_idade_rural\")"
      ],
      "metadata": {
        "id": "qKZHzWQVdRi9"
      },
      "execution_count": 14,
      "outputs": []
    },
    {
      "cell_type": "code",
      "source": [
        "lista_arquivos = []\n",
        "for arquivo in glob.glob(r'/content/drive/MyDrive/trf5.peticoes/48 - APOSENTADORIA ESPECIAL/*pdf'):\n",
        "  if arquivo not in lista_arquivos:\n",
        "    lista_arquivos.append(arquivo)\n",
        "\n",
        "df_aposentadoria_especial = transforma_dataframe(lista_arquivos, \"aposentadoria_especial\")"
      ],
      "metadata": {
        "id": "3hujlWZhelUB"
      },
      "execution_count": 15,
      "outputs": []
    },
    {
      "cell_type": "code",
      "source": [
        "lista_arquivos = []\n",
        "for arquivo in glob.glob(r'/content/drive/MyDrive/trf5.peticoes/65 - BENEFICIO ASSISTENCIAL - LOAS/*pdf'):\n",
        "  if arquivo not in lista_arquivos:\n",
        "    lista_arquivos.append(arquivo)\n",
        "\n",
        "df_beneficio_assistencial_loas = transforma_dataframe(lista_arquivos, \"beneficio_assistencial_loas\")"
      ],
      "metadata": {
        "id": "5HtU_wFNd0Sx"
      },
      "execution_count": 16,
      "outputs": []
    },
    {
      "cell_type": "code",
      "source": [
        "# Concatenando os dataframes\n",
        "df_peticoes_iniciais = pd.concat(\n",
        "                                  [\n",
        "                                  df_aposentadoria_tempo_contribuicao[:25], \n",
        "                                  df_aposentadoria_urbana[:25], \n",
        "                                  df_salario_maternidade_rural[:25],\n",
        "                                  df_revisional_fgts[:25], df_pensao_morte[:25],\n",
        "                                  df_aposentadoria_idade_rural[:25], \n",
        "                                  df_aposentadoria_especial[:25],\n",
        "                                  df_beneficio_assistencial_loas[:25]\n",
        "                                  ], \n",
        "                                 ignore_index=True\n",
        "                                 )"
      ],
      "metadata": {
        "id": "RKsC6kXwfpNk"
      },
      "execution_count": 17,
      "outputs": []
    },
    {
      "cell_type": "code",
      "source": [
        "# df_peticoes_iniciais['conteudo_peticao'].filter(items=[78], axis=0)"
      ],
      "metadata": {
        "id": "dXslcDUQgk27"
      },
      "execution_count": 18,
      "outputs": []
    },
    {
      "cell_type": "markdown",
      "source": [
        "# **PLN**: Pré-processamento"
      ],
      "metadata": {
        "id": "_uORsMJSxOLp"
      }
    },
    {
      "cell_type": "code",
      "source": [
        "df_peticoes_iniciais.head()"
      ],
      "metadata": {
        "outputId": "7ad34271-3fc1-483b-d1c8-905ea65d7f9c",
        "colab": {
          "base_uri": "https://localhost:8080/",
          "height": 206
        },
        "id": "IxnawSRufkU9"
      },
      "execution_count": 19,
      "outputs": [
        {
          "output_type": "execute_result",
          "data": {
            "text/plain": [
              "                                      nome_documento  \\\n",
              "0  /content/drive/MyDrive/trf5.peticoes/25 - APOS...   \n",
              "1  /content/drive/MyDrive/trf5.peticoes/25 - APOS...   \n",
              "2  /content/drive/MyDrive/trf5.peticoes/25 - APOS...   \n",
              "3  /content/drive/MyDrive/trf5.peticoes/25 - APOS...   \n",
              "4  /content/drive/MyDrive/trf5.peticoes/25 - APOS...   \n",
              "\n",
              "                                    conteudo_peticao  \\\n",
              "0                                                ...   \n",
              "1        EXCELENTÍSSIMO DOUTOR JUIZ FEDERAL DA VA...   \n",
              "2  EXCELSO JUÍZO DA ___ VARA FEDERAL DA SEÇÃO JUD...   \n",
              "3  EXMO (A). SR. JUIZ FEDERAL DO JUIZADO ESPECIAL...   \n",
              "4                    AO JUIZADO ESPECIAL FEDERAL ...   \n",
              "\n",
              "                      classificacao  \n",
              "0  aposentadoria_tempo_contribuicao  \n",
              "1  aposentadoria_tempo_contribuicao  \n",
              "2  aposentadoria_tempo_contribuicao  \n",
              "3  aposentadoria_tempo_contribuicao  \n",
              "4  aposentadoria_tempo_contribuicao  "
            ],
            "text/html": [
              "\n",
              "  <div id=\"df-8e3481e9-d485-454e-9eee-9ae70b605060\">\n",
              "    <div class=\"colab-df-container\">\n",
              "      <div>\n",
              "<style scoped>\n",
              "    .dataframe tbody tr th:only-of-type {\n",
              "        vertical-align: middle;\n",
              "    }\n",
              "\n",
              "    .dataframe tbody tr th {\n",
              "        vertical-align: top;\n",
              "    }\n",
              "\n",
              "    .dataframe thead th {\n",
              "        text-align: right;\n",
              "    }\n",
              "</style>\n",
              "<table border=\"1\" class=\"dataframe\">\n",
              "  <thead>\n",
              "    <tr style=\"text-align: right;\">\n",
              "      <th></th>\n",
              "      <th>nome_documento</th>\n",
              "      <th>conteudo_peticao</th>\n",
              "      <th>classificacao</th>\n",
              "    </tr>\n",
              "  </thead>\n",
              "  <tbody>\n",
              "    <tr>\n",
              "      <th>0</th>\n",
              "      <td>/content/drive/MyDrive/trf5.peticoes/25 - APOS...</td>\n",
              "      <td>...</td>\n",
              "      <td>aposentadoria_tempo_contribuicao</td>\n",
              "    </tr>\n",
              "    <tr>\n",
              "      <th>1</th>\n",
              "      <td>/content/drive/MyDrive/trf5.peticoes/25 - APOS...</td>\n",
              "      <td>EXCELENTÍSSIMO DOUTOR JUIZ FEDERAL DA VA...</td>\n",
              "      <td>aposentadoria_tempo_contribuicao</td>\n",
              "    </tr>\n",
              "    <tr>\n",
              "      <th>2</th>\n",
              "      <td>/content/drive/MyDrive/trf5.peticoes/25 - APOS...</td>\n",
              "      <td>EXCELSO JUÍZO DA ___ VARA FEDERAL DA SEÇÃO JUD...</td>\n",
              "      <td>aposentadoria_tempo_contribuicao</td>\n",
              "    </tr>\n",
              "    <tr>\n",
              "      <th>3</th>\n",
              "      <td>/content/drive/MyDrive/trf5.peticoes/25 - APOS...</td>\n",
              "      <td>EXMO (A). SR. JUIZ FEDERAL DO JUIZADO ESPECIAL...</td>\n",
              "      <td>aposentadoria_tempo_contribuicao</td>\n",
              "    </tr>\n",
              "    <tr>\n",
              "      <th>4</th>\n",
              "      <td>/content/drive/MyDrive/trf5.peticoes/25 - APOS...</td>\n",
              "      <td>AO JUIZADO ESPECIAL FEDERAL ...</td>\n",
              "      <td>aposentadoria_tempo_contribuicao</td>\n",
              "    </tr>\n",
              "  </tbody>\n",
              "</table>\n",
              "</div>\n",
              "      <button class=\"colab-df-convert\" onclick=\"convertToInteractive('df-8e3481e9-d485-454e-9eee-9ae70b605060')\"\n",
              "              title=\"Convert this dataframe to an interactive table.\"\n",
              "              style=\"display:none;\">\n",
              "        \n",
              "  <svg xmlns=\"http://www.w3.org/2000/svg\" height=\"24px\"viewBox=\"0 0 24 24\"\n",
              "       width=\"24px\">\n",
              "    <path d=\"M0 0h24v24H0V0z\" fill=\"none\"/>\n",
              "    <path d=\"M18.56 5.44l.94 2.06.94-2.06 2.06-.94-2.06-.94-.94-2.06-.94 2.06-2.06.94zm-11 1L8.5 8.5l.94-2.06 2.06-.94-2.06-.94L8.5 2.5l-.94 2.06-2.06.94zm10 10l.94 2.06.94-2.06 2.06-.94-2.06-.94-.94-2.06-.94 2.06-2.06.94z\"/><path d=\"M17.41 7.96l-1.37-1.37c-.4-.4-.92-.59-1.43-.59-.52 0-1.04.2-1.43.59L10.3 9.45l-7.72 7.72c-.78.78-.78 2.05 0 2.83L4 21.41c.39.39.9.59 1.41.59.51 0 1.02-.2 1.41-.59l7.78-7.78 2.81-2.81c.8-.78.8-2.07 0-2.86zM5.41 20L4 18.59l7.72-7.72 1.47 1.35L5.41 20z\"/>\n",
              "  </svg>\n",
              "      </button>\n",
              "      \n",
              "  <style>\n",
              "    .colab-df-container {\n",
              "      display:flex;\n",
              "      flex-wrap:wrap;\n",
              "      gap: 12px;\n",
              "    }\n",
              "\n",
              "    .colab-df-convert {\n",
              "      background-color: #E8F0FE;\n",
              "      border: none;\n",
              "      border-radius: 50%;\n",
              "      cursor: pointer;\n",
              "      display: none;\n",
              "      fill: #1967D2;\n",
              "      height: 32px;\n",
              "      padding: 0 0 0 0;\n",
              "      width: 32px;\n",
              "    }\n",
              "\n",
              "    .colab-df-convert:hover {\n",
              "      background-color: #E2EBFA;\n",
              "      box-shadow: 0px 1px 2px rgba(60, 64, 67, 0.3), 0px 1px 3px 1px rgba(60, 64, 67, 0.15);\n",
              "      fill: #174EA6;\n",
              "    }\n",
              "\n",
              "    [theme=dark] .colab-df-convert {\n",
              "      background-color: #3B4455;\n",
              "      fill: #D2E3FC;\n",
              "    }\n",
              "\n",
              "    [theme=dark] .colab-df-convert:hover {\n",
              "      background-color: #434B5C;\n",
              "      box-shadow: 0px 1px 3px 1px rgba(0, 0, 0, 0.15);\n",
              "      filter: drop-shadow(0px 1px 2px rgba(0, 0, 0, 0.3));\n",
              "      fill: #FFFFFF;\n",
              "    }\n",
              "  </style>\n",
              "\n",
              "      <script>\n",
              "        const buttonEl =\n",
              "          document.querySelector('#df-8e3481e9-d485-454e-9eee-9ae70b605060 button.colab-df-convert');\n",
              "        buttonEl.style.display =\n",
              "          google.colab.kernel.accessAllowed ? 'block' : 'none';\n",
              "\n",
              "        async function convertToInteractive(key) {\n",
              "          const element = document.querySelector('#df-8e3481e9-d485-454e-9eee-9ae70b605060');\n",
              "          const dataTable =\n",
              "            await google.colab.kernel.invokeFunction('convertToInteractive',\n",
              "                                                     [key], {});\n",
              "          if (!dataTable) return;\n",
              "\n",
              "          const docLinkHtml = 'Like what you see? Visit the ' +\n",
              "            '<a target=\"_blank\" href=https://colab.research.google.com/notebooks/data_table.ipynb>data table notebook</a>'\n",
              "            + ' to learn more about interactive tables.';\n",
              "          element.innerHTML = '';\n",
              "          dataTable['output_type'] = 'display_data';\n",
              "          await google.colab.output.renderOutput(dataTable, element);\n",
              "          const docLink = document.createElement('div');\n",
              "          docLink.innerHTML = docLinkHtml;\n",
              "          element.appendChild(docLink);\n",
              "        }\n",
              "      </script>\n",
              "    </div>\n",
              "  </div>\n",
              "  "
            ]
          },
          "metadata": {},
          "execution_count": 19
        }
      ]
    },
    {
      "cell_type": "code",
      "source": [
        "# Verificando a distribuição de classe\n",
        "\n",
        "print(df_peticoes_iniciais['classificacao'].value_counts())"
      ],
      "metadata": {
        "colab": {
          "base_uri": "https://localhost:8080/"
        },
        "id": "KZmvBR_U71-c",
        "outputId": "8ab2147c-472a-44bc-c39d-8e2fccd75d68"
      },
      "execution_count": 20,
      "outputs": [
        {
          "output_type": "stream",
          "name": "stdout",
          "text": [
            "aposentadoria_tempo_contribuicao    25\n",
            "aposentadoria_urbana                25\n",
            "salario_maternidade_rural           25\n",
            "revisional_fgts                     25\n",
            "pensao_morte                        25\n",
            "aposentadoria_idade_rural           25\n",
            "aposentadoria_especial              25\n",
            "beneficio_assistencial_loas         25\n",
            "Name: classificacao, dtype: int64\n"
          ]
        }
      ]
    },
    {
      "cell_type": "code",
      "source": [
        "classificacao_peticoes = df_peticoes_iniciais['classificacao'].unique()\n",
        "\n",
        "classificacao_peticoes_dicionario = {}\n",
        "var = 0\n",
        "for tipo_peticao in classificacao_peticoes:\n",
        "  classificacao_peticoes_dicionario[tipo_peticao] = var\n",
        "  var +=1\n",
        "\n",
        "\n",
        "df_peticoes_iniciais['label_num'] = df_peticoes_iniciais['classificacao'].map(\n",
        "    classificacao_peticoes_dicionario\n",
        ")\n",
        "\n",
        "label_ordinal_encoding = df_peticoes_iniciais[['classificacao','label_num']]\n",
        "label_ordinal_encoding\n"
      ],
      "metadata": {
        "colab": {
          "base_uri": "https://localhost:8080/",
          "height": 424
        },
        "id": "5sU0EbE4gfaW",
        "outputId": "2be3d338-e6a0-42f9-a31d-bfe521c37c87"
      },
      "execution_count": 21,
      "outputs": [
        {
          "output_type": "execute_result",
          "data": {
            "text/plain": [
              "                        classificacao  label_num\n",
              "0    aposentadoria_tempo_contribuicao          0\n",
              "1    aposentadoria_tempo_contribuicao          0\n",
              "2    aposentadoria_tempo_contribuicao          0\n",
              "3    aposentadoria_tempo_contribuicao          0\n",
              "4    aposentadoria_tempo_contribuicao          0\n",
              "..                                ...        ...\n",
              "195       beneficio_assistencial_loas          7\n",
              "196       beneficio_assistencial_loas          7\n",
              "197       beneficio_assistencial_loas          7\n",
              "198       beneficio_assistencial_loas          7\n",
              "199       beneficio_assistencial_loas          7\n",
              "\n",
              "[200 rows x 2 columns]"
            ],
            "text/html": [
              "\n",
              "  <div id=\"df-808d768e-a734-4c6a-99a8-51721d530e2c\">\n",
              "    <div class=\"colab-df-container\">\n",
              "      <div>\n",
              "<style scoped>\n",
              "    .dataframe tbody tr th:only-of-type {\n",
              "        vertical-align: middle;\n",
              "    }\n",
              "\n",
              "    .dataframe tbody tr th {\n",
              "        vertical-align: top;\n",
              "    }\n",
              "\n",
              "    .dataframe thead th {\n",
              "        text-align: right;\n",
              "    }\n",
              "</style>\n",
              "<table border=\"1\" class=\"dataframe\">\n",
              "  <thead>\n",
              "    <tr style=\"text-align: right;\">\n",
              "      <th></th>\n",
              "      <th>classificacao</th>\n",
              "      <th>label_num</th>\n",
              "    </tr>\n",
              "  </thead>\n",
              "  <tbody>\n",
              "    <tr>\n",
              "      <th>0</th>\n",
              "      <td>aposentadoria_tempo_contribuicao</td>\n",
              "      <td>0</td>\n",
              "    </tr>\n",
              "    <tr>\n",
              "      <th>1</th>\n",
              "      <td>aposentadoria_tempo_contribuicao</td>\n",
              "      <td>0</td>\n",
              "    </tr>\n",
              "    <tr>\n",
              "      <th>2</th>\n",
              "      <td>aposentadoria_tempo_contribuicao</td>\n",
              "      <td>0</td>\n",
              "    </tr>\n",
              "    <tr>\n",
              "      <th>3</th>\n",
              "      <td>aposentadoria_tempo_contribuicao</td>\n",
              "      <td>0</td>\n",
              "    </tr>\n",
              "    <tr>\n",
              "      <th>4</th>\n",
              "      <td>aposentadoria_tempo_contribuicao</td>\n",
              "      <td>0</td>\n",
              "    </tr>\n",
              "    <tr>\n",
              "      <th>...</th>\n",
              "      <td>...</td>\n",
              "      <td>...</td>\n",
              "    </tr>\n",
              "    <tr>\n",
              "      <th>195</th>\n",
              "      <td>beneficio_assistencial_loas</td>\n",
              "      <td>7</td>\n",
              "    </tr>\n",
              "    <tr>\n",
              "      <th>196</th>\n",
              "      <td>beneficio_assistencial_loas</td>\n",
              "      <td>7</td>\n",
              "    </tr>\n",
              "    <tr>\n",
              "      <th>197</th>\n",
              "      <td>beneficio_assistencial_loas</td>\n",
              "      <td>7</td>\n",
              "    </tr>\n",
              "    <tr>\n",
              "      <th>198</th>\n",
              "      <td>beneficio_assistencial_loas</td>\n",
              "      <td>7</td>\n",
              "    </tr>\n",
              "    <tr>\n",
              "      <th>199</th>\n",
              "      <td>beneficio_assistencial_loas</td>\n",
              "      <td>7</td>\n",
              "    </tr>\n",
              "  </tbody>\n",
              "</table>\n",
              "<p>200 rows × 2 columns</p>\n",
              "</div>\n",
              "      <button class=\"colab-df-convert\" onclick=\"convertToInteractive('df-808d768e-a734-4c6a-99a8-51721d530e2c')\"\n",
              "              title=\"Convert this dataframe to an interactive table.\"\n",
              "              style=\"display:none;\">\n",
              "        \n",
              "  <svg xmlns=\"http://www.w3.org/2000/svg\" height=\"24px\"viewBox=\"0 0 24 24\"\n",
              "       width=\"24px\">\n",
              "    <path d=\"M0 0h24v24H0V0z\" fill=\"none\"/>\n",
              "    <path d=\"M18.56 5.44l.94 2.06.94-2.06 2.06-.94-2.06-.94-.94-2.06-.94 2.06-2.06.94zm-11 1L8.5 8.5l.94-2.06 2.06-.94-2.06-.94L8.5 2.5l-.94 2.06-2.06.94zm10 10l.94 2.06.94-2.06 2.06-.94-2.06-.94-.94-2.06-.94 2.06-2.06.94z\"/><path d=\"M17.41 7.96l-1.37-1.37c-.4-.4-.92-.59-1.43-.59-.52 0-1.04.2-1.43.59L10.3 9.45l-7.72 7.72c-.78.78-.78 2.05 0 2.83L4 21.41c.39.39.9.59 1.41.59.51 0 1.02-.2 1.41-.59l7.78-7.78 2.81-2.81c.8-.78.8-2.07 0-2.86zM5.41 20L4 18.59l7.72-7.72 1.47 1.35L5.41 20z\"/>\n",
              "  </svg>\n",
              "      </button>\n",
              "      \n",
              "  <style>\n",
              "    .colab-df-container {\n",
              "      display:flex;\n",
              "      flex-wrap:wrap;\n",
              "      gap: 12px;\n",
              "    }\n",
              "\n",
              "    .colab-df-convert {\n",
              "      background-color: #E8F0FE;\n",
              "      border: none;\n",
              "      border-radius: 50%;\n",
              "      cursor: pointer;\n",
              "      display: none;\n",
              "      fill: #1967D2;\n",
              "      height: 32px;\n",
              "      padding: 0 0 0 0;\n",
              "      width: 32px;\n",
              "    }\n",
              "\n",
              "    .colab-df-convert:hover {\n",
              "      background-color: #E2EBFA;\n",
              "      box-shadow: 0px 1px 2px rgba(60, 64, 67, 0.3), 0px 1px 3px 1px rgba(60, 64, 67, 0.15);\n",
              "      fill: #174EA6;\n",
              "    }\n",
              "\n",
              "    [theme=dark] .colab-df-convert {\n",
              "      background-color: #3B4455;\n",
              "      fill: #D2E3FC;\n",
              "    }\n",
              "\n",
              "    [theme=dark] .colab-df-convert:hover {\n",
              "      background-color: #434B5C;\n",
              "      box-shadow: 0px 1px 3px 1px rgba(0, 0, 0, 0.15);\n",
              "      filter: drop-shadow(0px 1px 2px rgba(0, 0, 0, 0.3));\n",
              "      fill: #FFFFFF;\n",
              "    }\n",
              "  </style>\n",
              "\n",
              "      <script>\n",
              "        const buttonEl =\n",
              "          document.querySelector('#df-808d768e-a734-4c6a-99a8-51721d530e2c button.colab-df-convert');\n",
              "        buttonEl.style.display =\n",
              "          google.colab.kernel.accessAllowed ? 'block' : 'none';\n",
              "\n",
              "        async function convertToInteractive(key) {\n",
              "          const element = document.querySelector('#df-808d768e-a734-4c6a-99a8-51721d530e2c');\n",
              "          const dataTable =\n",
              "            await google.colab.kernel.invokeFunction('convertToInteractive',\n",
              "                                                     [key], {});\n",
              "          if (!dataTable) return;\n",
              "\n",
              "          const docLinkHtml = 'Like what you see? Visit the ' +\n",
              "            '<a target=\"_blank\" href=https://colab.research.google.com/notebooks/data_table.ipynb>data table notebook</a>'\n",
              "            + ' to learn more about interactive tables.';\n",
              "          element.innerHTML = '';\n",
              "          dataTable['output_type'] = 'display_data';\n",
              "          await google.colab.output.renderOutput(dataTable, element);\n",
              "          const docLink = document.createElement('div');\n",
              "          docLink.innerHTML = docLinkHtml;\n",
              "          element.appendChild(docLink);\n",
              "        }\n",
              "      </script>\n",
              "    </div>\n",
              "  </div>\n",
              "  "
            ]
          },
          "metadata": {},
          "execution_count": 21
        }
      ]
    },
    {
      "cell_type": "code",
      "source": [
        "classificacao_peticoes_dicionario"
      ],
      "metadata": {
        "colab": {
          "base_uri": "https://localhost:8080/"
        },
        "id": "ehcNfy1RdG5g",
        "outputId": "0e6cc2f7-a09d-4661-a139-df279828ca64"
      },
      "execution_count": 22,
      "outputs": [
        {
          "output_type": "execute_result",
          "data": {
            "text/plain": [
              "{'aposentadoria_tempo_contribuicao': 0,\n",
              " 'aposentadoria_urbana': 1,\n",
              " 'salario_maternidade_rural': 2,\n",
              " 'revisional_fgts': 3,\n",
              " 'pensao_morte': 4,\n",
              " 'aposentadoria_idade_rural': 5,\n",
              " 'aposentadoria_especial': 6,\n",
              " 'beneficio_assistencial_loas': 7}"
            ]
          },
          "metadata": {},
          "execution_count": 22
        }
      ]
    },
    {
      "cell_type": "code",
      "source": [
        "def clean_text(text):\n",
        "  text = str(text).lower()\n",
        "  text = re.sub('https?://\\S+|www\\.\\S+', 'webaddress', text) # Substitui URLs por 'webdress'\n",
        "  text = re.sub('^.+@[^\\.].*\\.[a-z]{2,}$', 'emailaddress', text) # Substitui os endereços de e-mail por 'emailaddress'\n",
        "  text = re.sub('£|\\$|R\\$', 'moneysymb', text) # Substitui os símbolos de dinheiro por 'moneysymb' \n",
        "  text = re.sub('^\\(?[\\d]{2}\\)?[\\s-]?[\\d]{3}[\\s-]?[\\d]{4}$', 'phonenumbr', text) # Substitui números de telefone de 10 dígitos (os formatos incluem parênteses, espaços, sem espaços, traços) por 'phonenumber'\n",
        "  text = re.sub('\\d+(\\.\\d+)?', '', text) # Substitua os números por 'numbr'\n",
        "  text = re.sub('_{1,}', ' ', text) #Substitua os '_' por ' '\n",
        "  text = re.sub('[^\\w\\d\\s]', ' ', text) # Remover pontuação\n",
        "  text = re.sub('\\s+', ' ', text) # Substitui o espaço em branco entre os termos por um único espaço\n",
        "  text = re.sub('^\\s+|\\s+?$', '', text) # Remova os espaços em branco iniciais e finais\n",
        "  return text\n",
        "\n",
        "def remove_stopwords(text):\n",
        "  text = ' '.join(word for word in text.split(' ') if ((word not in stopwords) and (len(word) > 2 )))  # retira stopwords e palavras com menos de 3 letras\n",
        "  return text\n",
        "\n",
        "def stemming(text):\n",
        "    palavras=[]\n",
        "    for w in text.split():\n",
        "        palavras.append(stemmer.stem(w))\n",
        "    return (\" \".join(palavras))\n",
        "\n",
        "# def tokenizar(text):\n",
        "#   tokenized_words = nltk.word_tokenize(text)\n",
        "#   return tokenized_words "
      ],
      "metadata": {
        "id": "a32vXAOh0IMb"
      },
      "execution_count": 23,
      "outputs": []
    },
    {
      "cell_type": "code",
      "source": [
        "df_peticoes_iniciais['text_clean'] = df_peticoes_iniciais['conteudo_peticao'].apply(clean_text)\n",
        "\n",
        "df_peticoes_iniciais['text_clean'] = df_peticoes_iniciais['text_clean'].apply(remove_stopwords)\n"
      ],
      "metadata": {
        "id": "y087_BXE15a7"
      },
      "execution_count": 24,
      "outputs": []
    },
    {
      "cell_type": "code",
      "source": [
        "df_peticoes_iniciais['text_clean'] = df_peticoes_iniciais['text_clean'].apply(stemming)"
      ],
      "metadata": {
        "id": "TM7M3G9osZeZ"
      },
      "execution_count": 25,
      "outputs": []
    },
    {
      "cell_type": "code",
      "source": [
        "# df_peticoes_iniciais['text_tokens'] = df_peticoes_iniciais['text_clean'].apply(tokenizar)\n",
        "\n",
        "# df_peticoes_iniciais['text_tokens']\n"
      ],
      "metadata": {
        "id": "FHymKeWzV8Xz"
      },
      "execution_count": 26,
      "outputs": []
    },
    {
      "cell_type": "code",
      "source": [
        "df_peticoes_iniciais[['conteudo_peticao', 'text_clean']] "
      ],
      "metadata": {
        "colab": {
          "base_uri": "https://localhost:8080/",
          "height": 424
        },
        "id": "ID9L3Nq023yE",
        "outputId": "6c907049-1a22-46aa-eb93-f619ecf7829e"
      },
      "execution_count": 27,
      "outputs": [
        {
          "output_type": "execute_result",
          "data": {
            "text/plain": [
              "                                      conteudo_peticao  \\\n",
              "0                                                  ...   \n",
              "1          EXCELENTÍSSIMO DOUTOR JUIZ FEDERAL DA VA...   \n",
              "2    EXCELSO JUÍZO DA ___ VARA FEDERAL DA SEÇÃO JUD...   \n",
              "3    EXMO (A). SR. JUIZ FEDERAL DO JUIZADO ESPECIAL...   \n",
              "4                      AO JUIZADO ESPECIAL FEDERAL ...   \n",
              "..                                                 ...   \n",
              "195  AO JUIZO DA 27ª VARA FEDERAL – JUIZADO ESPECIA...   \n",
              "196        AO JUIZADO ESPECIAL FEDERAL – 27ª VARA –...   \n",
              "197                Justiça Federal da 5ª Região\\n  ...   \n",
              "198  EXCELENTÍSSIMO(A) SENHOR(A) DOUTOR(A) JUIZ(A) ...   \n",
              "199               Adérito Aquino\\n             Advo...   \n",
              "\n",
              "                                            text_clean  \n",
              "0    centr empresar parthenon rua pedr oliv roch sa...  \n",
              "1    excelent dou juiz feder var feder ouricur trib...  \n",
              "2    excels juíz var feder seç judiciár caruaru açã...  \n",
              "3    exm juiz feder juiz espec feder subseç ouricur...  \n",
              "4    juiz espec feder caruaru trf erinald cavalc sa...  \n",
              "..                                                 ...  \n",
              "195  juiz var feder juiz espec cível seç jud ciár p...  \n",
              "196  juiz espec feder var subseç judiciár ouricur s...  \n",
              "197  justiç feder reg pje process judic eletrôn núm...  \n",
              "198  excelent senh dou juiz juiz espec feder ouricu...  \n",
              "199  adérit aquin advocac excelent senh dou juiz fe...  \n",
              "\n",
              "[200 rows x 2 columns]"
            ],
            "text/html": [
              "\n",
              "  <div id=\"df-6e2e4304-4d72-4967-8008-d849e0e8271d\">\n",
              "    <div class=\"colab-df-container\">\n",
              "      <div>\n",
              "<style scoped>\n",
              "    .dataframe tbody tr th:only-of-type {\n",
              "        vertical-align: middle;\n",
              "    }\n",
              "\n",
              "    .dataframe tbody tr th {\n",
              "        vertical-align: top;\n",
              "    }\n",
              "\n",
              "    .dataframe thead th {\n",
              "        text-align: right;\n",
              "    }\n",
              "</style>\n",
              "<table border=\"1\" class=\"dataframe\">\n",
              "  <thead>\n",
              "    <tr style=\"text-align: right;\">\n",
              "      <th></th>\n",
              "      <th>conteudo_peticao</th>\n",
              "      <th>text_clean</th>\n",
              "    </tr>\n",
              "  </thead>\n",
              "  <tbody>\n",
              "    <tr>\n",
              "      <th>0</th>\n",
              "      <td>...</td>\n",
              "      <td>centr empresar parthenon rua pedr oliv roch sa...</td>\n",
              "    </tr>\n",
              "    <tr>\n",
              "      <th>1</th>\n",
              "      <td>EXCELENTÍSSIMO DOUTOR JUIZ FEDERAL DA VA...</td>\n",
              "      <td>excelent dou juiz feder var feder ouricur trib...</td>\n",
              "    </tr>\n",
              "    <tr>\n",
              "      <th>2</th>\n",
              "      <td>EXCELSO JUÍZO DA ___ VARA FEDERAL DA SEÇÃO JUD...</td>\n",
              "      <td>excels juíz var feder seç judiciár caruaru açã...</td>\n",
              "    </tr>\n",
              "    <tr>\n",
              "      <th>3</th>\n",
              "      <td>EXMO (A). SR. JUIZ FEDERAL DO JUIZADO ESPECIAL...</td>\n",
              "      <td>exm juiz feder juiz espec feder subseç ouricur...</td>\n",
              "    </tr>\n",
              "    <tr>\n",
              "      <th>4</th>\n",
              "      <td>AO JUIZADO ESPECIAL FEDERAL ...</td>\n",
              "      <td>juiz espec feder caruaru trf erinald cavalc sa...</td>\n",
              "    </tr>\n",
              "    <tr>\n",
              "      <th>...</th>\n",
              "      <td>...</td>\n",
              "      <td>...</td>\n",
              "    </tr>\n",
              "    <tr>\n",
              "      <th>195</th>\n",
              "      <td>AO JUIZO DA 27ª VARA FEDERAL – JUIZADO ESPECIA...</td>\n",
              "      <td>juiz var feder juiz espec cível seç jud ciár p...</td>\n",
              "    </tr>\n",
              "    <tr>\n",
              "      <th>196</th>\n",
              "      <td>AO JUIZADO ESPECIAL FEDERAL – 27ª VARA –...</td>\n",
              "      <td>juiz espec feder var subseç judiciár ouricur s...</td>\n",
              "    </tr>\n",
              "    <tr>\n",
              "      <th>197</th>\n",
              "      <td>Justiça Federal da 5ª Região\\n  ...</td>\n",
              "      <td>justiç feder reg pje process judic eletrôn núm...</td>\n",
              "    </tr>\n",
              "    <tr>\n",
              "      <th>198</th>\n",
              "      <td>EXCELENTÍSSIMO(A) SENHOR(A) DOUTOR(A) JUIZ(A) ...</td>\n",
              "      <td>excelent senh dou juiz juiz espec feder ouricu...</td>\n",
              "    </tr>\n",
              "    <tr>\n",
              "      <th>199</th>\n",
              "      <td>Adérito Aquino\\n             Advo...</td>\n",
              "      <td>adérit aquin advocac excelent senh dou juiz fe...</td>\n",
              "    </tr>\n",
              "  </tbody>\n",
              "</table>\n",
              "<p>200 rows × 2 columns</p>\n",
              "</div>\n",
              "      <button class=\"colab-df-convert\" onclick=\"convertToInteractive('df-6e2e4304-4d72-4967-8008-d849e0e8271d')\"\n",
              "              title=\"Convert this dataframe to an interactive table.\"\n",
              "              style=\"display:none;\">\n",
              "        \n",
              "  <svg xmlns=\"http://www.w3.org/2000/svg\" height=\"24px\"viewBox=\"0 0 24 24\"\n",
              "       width=\"24px\">\n",
              "    <path d=\"M0 0h24v24H0V0z\" fill=\"none\"/>\n",
              "    <path d=\"M18.56 5.44l.94 2.06.94-2.06 2.06-.94-2.06-.94-.94-2.06-.94 2.06-2.06.94zm-11 1L8.5 8.5l.94-2.06 2.06-.94-2.06-.94L8.5 2.5l-.94 2.06-2.06.94zm10 10l.94 2.06.94-2.06 2.06-.94-2.06-.94-.94-2.06-.94 2.06-2.06.94z\"/><path d=\"M17.41 7.96l-1.37-1.37c-.4-.4-.92-.59-1.43-.59-.52 0-1.04.2-1.43.59L10.3 9.45l-7.72 7.72c-.78.78-.78 2.05 0 2.83L4 21.41c.39.39.9.59 1.41.59.51 0 1.02-.2 1.41-.59l7.78-7.78 2.81-2.81c.8-.78.8-2.07 0-2.86zM5.41 20L4 18.59l7.72-7.72 1.47 1.35L5.41 20z\"/>\n",
              "  </svg>\n",
              "      </button>\n",
              "      \n",
              "  <style>\n",
              "    .colab-df-container {\n",
              "      display:flex;\n",
              "      flex-wrap:wrap;\n",
              "      gap: 12px;\n",
              "    }\n",
              "\n",
              "    .colab-df-convert {\n",
              "      background-color: #E8F0FE;\n",
              "      border: none;\n",
              "      border-radius: 50%;\n",
              "      cursor: pointer;\n",
              "      display: none;\n",
              "      fill: #1967D2;\n",
              "      height: 32px;\n",
              "      padding: 0 0 0 0;\n",
              "      width: 32px;\n",
              "    }\n",
              "\n",
              "    .colab-df-convert:hover {\n",
              "      background-color: #E2EBFA;\n",
              "      box-shadow: 0px 1px 2px rgba(60, 64, 67, 0.3), 0px 1px 3px 1px rgba(60, 64, 67, 0.15);\n",
              "      fill: #174EA6;\n",
              "    }\n",
              "\n",
              "    [theme=dark] .colab-df-convert {\n",
              "      background-color: #3B4455;\n",
              "      fill: #D2E3FC;\n",
              "    }\n",
              "\n",
              "    [theme=dark] .colab-df-convert:hover {\n",
              "      background-color: #434B5C;\n",
              "      box-shadow: 0px 1px 3px 1px rgba(0, 0, 0, 0.15);\n",
              "      filter: drop-shadow(0px 1px 2px rgba(0, 0, 0, 0.3));\n",
              "      fill: #FFFFFF;\n",
              "    }\n",
              "  </style>\n",
              "\n",
              "      <script>\n",
              "        const buttonEl =\n",
              "          document.querySelector('#df-6e2e4304-4d72-4967-8008-d849e0e8271d button.colab-df-convert');\n",
              "        buttonEl.style.display =\n",
              "          google.colab.kernel.accessAllowed ? 'block' : 'none';\n",
              "\n",
              "        async function convertToInteractive(key) {\n",
              "          const element = document.querySelector('#df-6e2e4304-4d72-4967-8008-d849e0e8271d');\n",
              "          const dataTable =\n",
              "            await google.colab.kernel.invokeFunction('convertToInteractive',\n",
              "                                                     [key], {});\n",
              "          if (!dataTable) return;\n",
              "\n",
              "          const docLinkHtml = 'Like what you see? Visit the ' +\n",
              "            '<a target=\"_blank\" href=https://colab.research.google.com/notebooks/data_table.ipynb>data table notebook</a>'\n",
              "            + ' to learn more about interactive tables.';\n",
              "          element.innerHTML = '';\n",
              "          dataTable['output_type'] = 'display_data';\n",
              "          await google.colab.output.renderOutput(dataTable, element);\n",
              "          const docLink = document.createElement('div');\n",
              "          docLink.innerHTML = docLinkHtml;\n",
              "          element.appendChild(docLink);\n",
              "        }\n",
              "      </script>\n",
              "    </div>\n",
              "  </div>\n",
              "  "
            ]
          },
          "metadata": {},
          "execution_count": 27
        }
      ]
    },
    {
      "cell_type": "markdown",
      "source": [
        "# **Train test split**"
      ],
      "metadata": {
        "id": "3-5w864Lr_MM"
      }
    },
    {
      "cell_type": "code",
      "source": [
        "from sklearn.model_selection import train_test_split\n",
        "\n",
        "X_train, X_test, y_train, y_test = train_test_split(\n",
        "    df_peticoes_iniciais.text_clean, \n",
        "    df_peticoes_iniciais.label_num, \n",
        "    test_size=0.20, # % de dados de teste\n",
        "    random_state=2022,\n",
        "    stratify=df_peticoes_iniciais.label_num\n",
        ")"
      ],
      "metadata": {
        "id": "uaRlG-07sJ4m"
      },
      "execution_count": 28,
      "outputs": []
    },
    {
      "cell_type": "code",
      "source": [
        "print(\"Shape of X_train: \", X_train.shape)\n",
        "print(\"Shape of X_test: \", X_test.shape)"
      ],
      "metadata": {
        "colab": {
          "base_uri": "https://localhost:8080/"
        },
        "id": "3hKPQUKMsdiv",
        "outputId": "8c894e83-9da5-466d-ea6e-2b0585d4732d"
      },
      "execution_count": 29,
      "outputs": [
        {
          "output_type": "stream",
          "name": "stdout",
          "text": [
            "Shape of X_train:  (160,)\n",
            "Shape of X_test:  (40,)\n"
          ]
        }
      ]
    },
    {
      "cell_type": "code",
      "source": [
        "X_train.head()"
      ],
      "metadata": {
        "colab": {
          "base_uri": "https://localhost:8080/"
        },
        "id": "mUfNYW7ushq5",
        "outputId": "60e91609-a18d-4362-eaeb-ae9930e23775"
      },
      "execution_count": 30,
      "outputs": [
        {
          "output_type": "execute_result",
          "data": {
            "text/plain": [
              "173                                                icial\n",
              "47     excelent senh dou juiz feder var juiz espec fe...\n",
              "198    excelent senh dou juiz juiz espec feder ouricu...\n",
              "63     meritiss juiz var juiz espec feder ouricur est...\n",
              "114    excelent senh dou juiz feder var juiz espec cí...\n",
              "Name: text_clean, dtype: object"
            ]
          },
          "metadata": {},
          "execution_count": 30
        }
      ]
    },
    {
      "cell_type": "code",
      "source": [
        "y_train.value_counts()"
      ],
      "metadata": {
        "colab": {
          "base_uri": "https://localhost:8080/"
        },
        "id": "kGjB7kSpslbs",
        "outputId": "b4ba89d6-7fb0-4495-85d1-bcb756388de0"
      },
      "execution_count": 31,
      "outputs": [
        {
          "output_type": "execute_result",
          "data": {
            "text/plain": [
              "6    20\n",
              "1    20\n",
              "7    20\n",
              "2    20\n",
              "4    20\n",
              "3    20\n",
              "0    20\n",
              "5    20\n",
              "Name: label_num, dtype: int64"
            ]
          },
          "metadata": {},
          "execution_count": 31
        }
      ]
    },
    {
      "cell_type": "code",
      "source": [
        "y_test.value_counts()"
      ],
      "metadata": {
        "colab": {
          "base_uri": "https://localhost:8080/"
        },
        "id": "gPiUv6uZsrvP",
        "outputId": "93e73109-91f9-44e0-9545-d5cec1616ab3"
      },
      "execution_count": 32,
      "outputs": [
        {
          "output_type": "execute_result",
          "data": {
            "text/plain": [
              "6    5\n",
              "0    5\n",
              "3    5\n",
              "2    5\n",
              "7    5\n",
              "5    5\n",
              "4    5\n",
              "1    5\n",
              "Name: label_num, dtype: int64"
            ]
          },
          "metadata": {},
          "execution_count": 32
        }
      ]
    },
    {
      "cell_type": "markdown",
      "source": [
        "# **Treinamento e Predição**"
      ],
      "metadata": {
        "id": "OQrTSa2Hu3Yf"
      }
    },
    {
      "cell_type": "markdown",
      "source": [
        "### **Tentativa 1**:\n",
        "\n",
        "usando o módulo pipeline sklearn crie um pipeline de classificação para classificar as Petições. Observação:\n",
        "\n",
        "use TF-IDF para pré-processar o texto.\n",
        "\n",
        "usar **KNN** como o classificador\n",
        "\n",
        "imprimir o relatório de classificação."
      ],
      "metadata": {
        "id": "BuStG8vhs3Gr"
      }
    },
    {
      "cell_type": "code",
      "source": [
        "from sklearn.neighbors import KNeighborsClassifier\n",
        "from sklearn.pipeline import Pipeline\n",
        "from sklearn.metrics import classification_report\n",
        "\n",
        "from sklearn.feature_extraction.text import TfidfVectorizer\n",
        "\n",
        "\n",
        "#1. Criar um objeto de pipeline\n",
        "pipeline_vizinhos_proximos = Pipeline([\n",
        "     ('vectorizer_tfidf',TfidfVectorizer()),    \n",
        "     ('KNN', KNeighborsClassifier())         \n",
        "])\n",
        "\n",
        "#2. Ajuste(fit) com X_train e y_train\n",
        "pipeline_vizinhos_proximos.fit(X_train, y_train)\n",
        "print(pipeline_vizinhos_proximos['vectorizer_tfidf'].transform(X_train).toarray())\n",
        "\n",
        "print('---------------')\n",
        "\n",
        "print(pipeline_vizinhos_proximos['vectorizer_tfidf'].vocabulary_)"
      ],
      "metadata": {
        "colab": {
          "base_uri": "https://localhost:8080/"
        },
        "id": "Fj5eDRgPs3aN",
        "outputId": "94d98af5-58fc-442e-88f8-04a84804c5a1"
      },
      "execution_count": 33,
      "outputs": [
        {
          "output_type": "stream",
          "name": "stdout",
          "text": [
            "[[0.         0.         0.         ... 0.         0.         0.        ]\n",
            " [0.         0.         0.         ... 0.         0.         0.        ]\n",
            " [0.         0.         0.03218344 ... 0.         0.         0.        ]\n",
            " ...\n",
            " [0.         0.         0.         ... 0.         0.         0.        ]\n",
            " [0.         0.         0.01399639 ... 0.         0.         0.        ]\n",
            " [0.         0.         0.         ... 0.03094196 0.         0.        ]]\n",
            "---------------\n",
            "{'icial': 2982, 'excelent': 2390, 'senh': 5705, 'dou': 1994, 'juiz': 3558, 'feder': 2538, 'var': 6387, 'espec': 2277, 'reg': 5301, 'seç': 5755, 'judiciár': 3555, 'pernambuc': 4689, 'subseç': 5920, 'caruaru': 928, 'amar': 305, 'manoel': 3881, 'silv': 5778, 'brasil': 784, 'conviv': 1406, 'serv': 5740, 'port': 4809, 'cédul': 1551, 'ident': 2991, 'sd': 5661, 'inscrit': 3282, 'cpf': 1465, 'sob': 5823, 'resid': 5417, 'domicili': 1975, 'rua': 5570, 'antôni': 384, 'delfin': 1656, 'souz': 5870, 'bairr': 672, 'nov': 4312, 'gravat': 2837, 'cep': 991, 'endereç': 2167, 'eletrôn': 2097, 'vem': 6411, 'per': 4647, 'voss': 6522, 'excel': 2389, 'supedâne': 5961, 'art': 518, 'lei': 3668, 'mei': 3984, 'procur': 4992, 'devid': 1828, 'constitu': 1322, 'ajuiz': 214, 'pres': 4904, 'açã': 663, 'concess': 1227, 'aposentad': 425, 'idad': 2986, 'averb': 648, 'temp': 6082, 'serviç': 5742, 'fac': 2497, 'institut': 3305, 'nacion': 4183, 'segur': 5686, 'soc': 5837, 'ins': 3272, 'autarqu': 618, 'sed': 5674, 'nest': 4249, 'cidad': 1030, 'cnpj': 1100, 'motiv': 4118, 'fat': 2527, 'direit': 1886, 'segu': 5683, 'expost': 2456, 'prelimin': 4890, 'prior': 4966, 'tramit': 6187, 'autor': 626, 'pesso': 4715, 'idos': 2996, 'possu': 4825, 'atual': 595, 'sessent': 5746, 'seil': 5688, 'ano': 359, 'mes': 4018, 'ra': 5176, 'request': 5401, 'demand': 1666, 'term': 6100, 'justiç': 3592, 'gratuit': 2833, 'form': 2635, 'imperi': 3050, 'ressalt': 5438, 'atend': 569, 'princípi': 4964, 'constituc': 1323, 'inafast': 3102, 'jurisd': 3578, 'ampl': 329, 'livr': 3746, 'acess': 43, 'judici': 3554, 'artig': 526, 'incis': 3124, 'xxxv': 6591, 'ness': 4248, 'sent': 5712, 'consider': 1308, 'natur': 4204, 'emin': 2129, 'aliment': 255, 'verb': 6424, 'pleite': 4762, 'presum': 4920, 'cond': 1242, 'hipossufici': 2918, 'recolh': 5245, 'cust': 1534, 'process': 4988, 'conden': 1243, 'honor': 2943, 'advocatíci': 141, 'import': 3066, 'intoler': 3366, 'priv': 4971, 'mater': 3947, 'põe': 5117, 'risc': 5505, 'própr': 5082, 'subsist': 5923, 'di': 1839, 'diss': 1918, 'requ': 5398, 'declar': 1617, 'seguint': 5684, 'brev': 793, 'síntes': 6005, 'dia': 1840, 'fever': 2559, 'der': 1695, 'nit': 4278, 'requer': 5399, 'junt': 3568, 'protocol': 5058, 'atribu': 592, 'anex': 351, 'tod': 6159, 'document': 1965, 'necessár': 4223, 'demonstr': 1673, 'relat': 5332, 'preench': 4874, 'requisit': 5403, 'legal': 3661, 'pleit': 4761, 'inclusiv': 3127, 'toc': 6158, 'anot': 361, 'págin': 5108, 'ctp': 1510, 'ato': 585, 'contínu': 1394, 'abril': 17, 'indefer': 3158, 'aleg': 234, 'relacion': 5331, 'aus': 614, 'regr': 5314, 'trans': 6189, 'emend': 2126, 'falt': 2516, 'adquir': 123, 'apen': 405, 'doz': 2000, 'mê': 4171, 'vint': 6487, 'oit': 4411, 'contribu': 1372, 'ínterim': 6641, 'sequ': 5722, 'preocup': 4895, 'analis': 336, 'respond': 5433, 'realiz': 5220, 'contabil': 1336, 'víncul': 6541, 'empregatíci': 2142, 'const': 1319, 'cnil': 1098, 'todav': 6160, 'folh': 2627, 'labor': 3613, 'cas': 932, 'imóvel': 3095, 'carl': 912, 'albert': 220, 'far': 2521, 'vaz': 6399, 'inic': 3250, 'receb': 5229, 'salári': 5617, 'correspond': 1436, 'crmoneysymb': 1497, 'trê': 6250, 'mil': 4043, 'seiscent': 5689, 'setent': 5750, 'quatr': 5141, 'cruz': 1504, 'cinc': 1042, 'centav': 987, 'dat': 1589, 'admiss': 113, 'mai': 3851, 'demiss': 1670, 'dezembr': 1834, 'adem': 91, 'possível': 4828, 'vislumbr': 6497, 'além': 297, 'descrit': 1734, 'contrat': 1369, 'trabalh': 6180, 'divers': 1937, 'inform': 3234, 'alter': 279, 'salar': 5604, 'férias': 2711, 'geral': 2756, 'post': 4829, 'esperanç': 2289, 'obt': 4378, 'valid': 6372, 'períod': 4709, 'entretant': 2200, 'consequ': 1304, 'dist': 1921, 'som': 5856, 'demal': 1665, 'alcanç': 226, 'fundament': 2693, 'juríd': 3585, 'complet': 1184, 'naquel': 4191, 'époc': 6629, 'acim': 51, 'elenc': 2092, 'hav': 2883, 'quantit': 5134, 'superi': 5965, 'cent': 986, 'oitent': 4412, 'car': 893, 'obtenç': 4380, 'urban': 6329, 'administrativ': 111, 'benefíci': 720, 'faz': 2533, 'ju': 3547, 'cab': 815, 'busc': 807, 'reconhec': 5252, 'trat': 6211, 'desempenh': 1744, 'objet': 4358, 'lid': 3703, 'cart': 924, 'assin': 549, 'empreg': 2139, 'cit': 1060, 'segund': 5685, 'previdenciár': 4945, 'pass': 4586, 'própri': 5083, 'pag': 4532, 'através': 590, 'gui': 2858, 'vej': 6407, 'conform': 1276, 'evidenc': 2369, 'comprov': 1200, 'ret': 5453, 'qualqu': 5131, 'tip': 6145, 'respons': 5434, 'reca': 5227, 'acredit': 68, 'tud': 6254, 'est': 2304, 'outr': 4504, 'nort': 4300, 'constat': 1321, 'obedec': 4353, 'ord': 4460, 'cronológ': 1501, 'refer': 5287, 'long': 3770, 'send': 5703, 'atest': 574, 'verac': 6423, 'aut': 617, 'dess': 1790, 'mod': 4077, 'dispõ': 1917, 'sumul': 5957, 'tnu': 6155, 'previd': 4941, 'relaç': 5337, 'apont': 420, 'defeit': 1636, 'formal': 2636, 'compromet': 1198, 'fidedign': 2570, 'goz': 2819, 'presunç': 4923, 'prov': 5061, 'sufici': 5947, 'fim': 2583, 'previdenci': 4943, 'aind': 210, 'cadastr': 823, 'context': 1351, 'entend': 2195, 'pacific': 4522, 'tribun': 6230, 'vot': 6523, 'venc': 6414, 'ement': 2127, 'incid': 3121, 'uniform': 6313, 'jurisprud': 3582, 'nulidad': 4330, 'insufici': 3312, 'instruç': 3309, 'afast': 150, 'ped': 4625, 'audi': 599, 'quest': 5157, 'súmul': 6016, 'registr': 5312, 'acórd': 78, 'combat': 1151, 'conhec': 1282, 'insurg': 3315, 'quant': 5132, 'sistem': 5807, 'respeit': 5428, 'observ': 4370, 'âmbit': 6619, 'dest': 1793, 'encontr': 2163, 'express': 2457, 'apreç': 436, 'turm': 6260, 'recurs': 5263, 'orig': 4471, 'assim': 548, 'decid': 1611, 'prosp': 5049, 'argument': 485, 'sustent': 5995, 'dev': 1827, 'compuls': 1202, 'cumpr': 1521, 'efeit': 2066, 'emit': 2132, 'municípi': 4149, 'maurit': 3961, 'cheg': 1013, 'somatóri': 5857, 'administr': 110, 'planilh': 4753, 'sentenç': 5716, 'vez': 6447, 'emb': 2121, 'part': 4575, 'afer': 151, 'legitim': 3665, 'pod': 4779, 'refut': 5300, 'la': 3611, 'mesm': 4020, 'fals': 2515, 'decorr': 1621, 'fraud': 2663, 'feit': 2543, 'colegi': 1131, 'merec': 4014, 'ant': 363, 'pedilef': 4627, 'rela': 5330, 'freder': 2666, 'august': 604, 'leopoldin': 3677, 'koehl': 3609, 'julg': 3560, 'public': 5092, 'acert': 40, 'aplic': 412, 'cert': 997, 'ônu': 6658, 'proband': 4977, 'agor': 178, 'inexist': 3211, 'irregular': 3427, 'porqu': 4807, 'lev': 3683, 'cont': 1335, 'obrigatóri': 4366, 'log': 3762, 'fiscal': 2595, 'prest': 4919, 'inst': 3294, 'salient': 5610, 'repass': 5375, 'tipific': 6147, 'crim': 1484, 'soneg': 5861, 'apropri': 441, 'indébit': 3192, 'depend': 1686, 'concret': 1240, 'compet': 1179, 'investig': 3385, 'poi': 4783, 'bem': 712, 'após': 454, 'super': 5962, 'anális': 391, 'previst': 4949, 'ond': 4430, 'fili': 2580, 'rgp': 5488, 'mudanç': 4133, 'text': 6116, 'iner': 3202, 'vig': 6468, 'cham': 1008, 'tang': 6042, 'ora': 4458, 'perceb': 4650, 'te': 6063, 'regim': 5306, 'entr': 2197, 'aposent': 424, 'cumulativ': 1525, 'mulh': 4138, 'hom': 2936, 'quinz': 5166, 'ambos': 312, 'sex': 5753, 'ativ': 581, 'dezessel': 1836, 'set': 5747, 'to': 6156, 'verific': 6433, 'tal': 6026, 'cen': 985, 'simul': 5789, 'plataform': 4756, 'folg': 2626, 'necess': 4221, 'portant': 4810, 'evid': 2368, 'tend': 6089, 'vist': 6498, 'defer': 1639, 'assist': 552, 'desempreg': 1745, 'funç': 2702, 'rest': 5441, 'prejudic': 4883, 'famíl': 2519, 'fund': 2690, 'represent': 5386, 'praz': 4853, 'pen': 4638, 'revel': 5472, 'confiss': 1272, 'fict': 2568, 'preceitu': 4862, 'cpc': 1463, 'total': 6173, 'proced': 4985, 'favor': 2529, 'probatóri': 4982, 'produz': 4999, 'oitiv': 4413, 'testemunh': 6111, 'desd': 1737, 'parcel': 4568, 'vincend': 6481, 'abon': 11, 'natalin': 4203, 'corrig': 1441, 'monet': 4096, 'acresc': 69, 'jur': 3570, 'mor': 4104, 'patron': 4603, 'percent': 4651, 'val': 6364, 'iii': 3011, 'códig': 1565, 'civil': 1064, 'vigent': 6469, 'intenç': 3327, 'admit': 115, 'produç': 5001, 'oral': 4459, 'inser': 3284, 'resoluç': 5422, 'renunc': 5367, 'exced': 2388, 'mín': 4172, 'moment': 4092, 'caus': 950, 'rmoneysymb': 5513, 'real': 5219, 'corde': 1422, 'saud': 5647, 'esper': 2288, 'novembr': 4317, 'anderson': 344, 'lúci': 3827, 'ferr': 2553, 'oab': 4351, 'josé': 3542, 'ricard': 5498, 'fernand': 2552, 'cost': 1452, 'correç': 1439, 'març': 3938, 'junh': 3566, 'julh': 3561, 'agost': 179, 'setembr': 5749, 'outubr': 4506, 'ouricur': 4501, 'eva': 2357, 'mar': 3898, 'moral': 4107, 'don': 1981, 'ssp': 5886, 'físic': 2713, 'lídi': 3818, 'mirand': 4066, 'parent': 4572, 'wilson': 6564, 'sara': 5638, 'exu': 2488, 'advog': 143, 'infr': 3237, 'suzyann': 5997, 'gom': 2809, 'adv': 129, 'gmail': 2799, 'respeitos': 5429, 'presenç': 4912, 'alicerç': 253, 'posteri': 4832, 'prop': 5031, 'ampar': 328, 'cobranç': 1107, 'retro': 5463, 'respec': 5426, 'petrolin': 4724, 'tob': 6157, 'barret': 689, 'centr': 989, 'hospital': 2954, 'quer': 5152, 'exp': 2433, 'conced': 1219, 'porquant': 4808, 'pobr': 4777, 'acepç': 38, 'conseguint': 1300, 'financ': 2587, 'arc': 474, 'desp': 1774, 'trâmit': 6247, 'bas': 692, 'estatut': 2319, 'assegur': 538, 'execuç': 2410, 'dit': 1933, 'doi': 1971, 'prioritár': 4968, 'tutel': 6263, 'urg': 6330, 'antecip': 365, 'sobr': 5825, 'tem': 6081, 'fumu': 2685, 'bon': 766, 'iuril': 3467, 'fumaç': 2684, 'bom': 764, 'periculum': 4673, 'perig': 4674, 'dem': 1664, 'probabil': 4976, 'acost': 67, 'mostr': 4116, 'quadr': 5124, 'miser': 4068, 'vulner': 6527, 'econôm': 2042, 'necessit': 4222, 'carát': 931, 'jurisdic': 3579, 'tardi': 6049, 'implic': 3061, 'prejuíz': 4887, 'sofr': 5843, 'barre': 688, 'enferm': 2175, 'situ': 5812, 'destart': 1797, 'evidenci': 2370, 'autoriz': 629, 'imediat': 3035, 'implant': 3059, 'loa': 3753, 'intuit': 3374, 'ver': 6422, 'ocorr': 4387, 'entant': 2192, 'errone': 2241, 'garant': 2732, 'viv': 6507, 'dign': 1868, 'mobil': 4075, 'reduz': 5277, 'dificuldad': 1860, 'locomoç': 3759, 'precis': 4865, 'cade': 824, 'rod': 5518, 'locomov': 3758, 'cirurg': 1057, 'ortopéd': 4482, 'cid': 1029, 'laud': 3641, 'médic': 4168, 'bast': 697, 'patolog': 4596, 'epígraf': 2219, 'acarret': 33, 'séri': 6003, 'transtorn': 6209, 'tant': 6044, 'vid': 6460, 'esp': 2274, 'únic': 6663, 'divid': 1939, 'francisc': 2658, 'alv': 288, 'dispens': 1905, 'monitor': 4100, 'supervis': 5971, 'integr': 3320, 'auxili': 636, 'triv': 6241, 'tom': 6166, 'banh': 682, 'complex': 1185, 'us': 6336, 'fisiológ': 2600, 'básic': 813, 'uso': 6341, 'troc': 6242, 'frald': 2654, 'geriátr': 2762, 'gast': 2737, 'alt': 278, 'not': 4302, 'cuid': 1511, 'avanç': 642, 'limit': 3711, 'forç': 2645, 'acab': 28, 'coloc': 1140, 'instant': 3297, 'infeliz': 3219, 'escass': 2251, 'casal': 933, 'auxíli': 637, 'profiss': 5006, 'títul': 6273, 'duzent': 2020, 'mal': 3860, 'águ': 6613, 'luz': 3808, 'medic': 3977, 'manutenç': 3895, 'supr': 5979, 'narr': 4195, 'patent': 4594, 'sobrecarg': 5826, 'incorr': 3149, 'acid': 49, 'agrav': 182, 'difícil': 1863, 'fic': 2566, 'satisf': 5639, 'fácil': 2707, 'grup': 2848, 'famili': 2518, 'compost': 1190, 'sombr': 5858, 'dúv': 2029, 'abaix': 2, 'linh': 3724, 'salut': 5615, 'reforç': 5298, 'pretend': 4927, 'vis': 6495, 'plan': 4750, 'saúd': 5651, 'consult': 1332, 'exam': 2379, 'acord': 66, 'satisfeit': 5642, 'orç': 4483, 'públic': 5119, 'su': 5900, 'sempr': 5701, 'conseg': 1298, 'popul': 4800, 'merc': 4011, 'dad': 1573, 'delic': 1659, 'comunic': 1211, 'decis': 1613, 'usou': 6342, 'justific': 3589, 'rend': 5361, 'capit': 884, 'ultrapass': 6300, 'apresent': 435, 'recib': 5238, 'farmác': 2523, 'visit': 6496, 'discern': 1894, 'confecç': 1261, 'config': 1267, 'flagr': 2608, 'desrespeit': 1789, 'esclarec': 2252, 'filh': 2579, 'joã': 3545, 'pal': 4541, 'titul': 6152, 'defici': 1641, 'pai': 4534, 'trint': 6237, 'contud': 1388, 'técn': 6267, 'err': 2239, 'dua': 2008, 'enfim': 2176, 'mud': 4132, 'vei': 6404, 'óbit': 6646, 'deix': 1653, 'grand': 2826, 'trist': 6240, 'caiu': 837, 'metad': 4023, 'nunc': 4334, 'pretens': 4928, 'guar': 2852, 'magn': 3848, 'preconiz': 4869, 'obje': 4357, 'independ': 3166, 'benefici': 716, 'mens': 4005, 'dispus': 1915, 'legisl': 3663, 'infraconstituc': 3238, 'amp': 327, 'cristalin': 1489, 'transcrit': 6196, 'continu': 1355, 'gratu': 2832, 'determin': 1819, 'med': 3975, 'limin': 3710, 'inaudit': 3110, 'par': 4556, 'design': 1758, 'perit': 4679, 'especi': 2278, 'ortoped': 4481, 'extrem': 2487, 'monetár': 4097, 'comin': 1160, 'protest': 5056, 'qual': 5126, 'comparec': 1172, 'intim': 3360, 'períc': 4707, 'quarent': 5136, 'quatrocent': 5142, 'novent': 4318, 'mer': 4010, 'oportun': 4450, 'event': 2363, 'tet': 6112, 'meritiss': 4017, 'ana': 333, 'raquel': 5196, 'batist': 702, 'solt': 5852, 'agricul': 190, 'siti': 5811, 'lago': 3620, 'maravilh': 3901, 'zon': 6605, 'rural': 5573, 'araripin': 467, 'escritóri': 2261, 'local': 3755, 'xavi': 6570, 'sampai': 5619, 'estil': 2328, 'exa': 2378, 'fulcr': 2680, 'pertin': 4704, 'matern': 3950, 'brasíl': 786, 'ger': 2755, 'execu': 2408, 'estad': 2310, 'aven': 646, 'perimetr': 4675, 'fátic': 2709, 'isenç': 3448, 'judic': 3553, 'lxxiv': 3813, 'combin': 1152, 'parágraf': 4583, 'apreci': 429, 'acolh': 57, 'isent': 3447, 'adiant': 99, 'peric': 4669, 'exist': 2426, 'baix': 673, 'muit': 4135, 'medi': 3976, 'concili': 1233, 'polít': 4794, 'zer': 6602, 'adot': 121, 'manifest': 3878, 'vii': 6473, 'inter': 3329, 'imin': 3039, 'ineficác': 3197, 'vic': 6457, 'hotmail': 2958, 'ambas': 309, 'agênc': 206, 'acobert': 56, 'regulament': 5317, 'decret': 1624, 'injust': 3259, 'propos': 5036, 'eiv': 2084, 'inverdad': 3380, 'ei': 2079, 'element': 2091, 'princip': 4963, 'exig': 2423, 'agricult': 191, 'infânc': 3244, 'ajud': 213, 'planti': 4755, 'colheit': 1135, 'ter': 6098, 'apes': 409, 'inequívoc': 3201, 'autárqu': 631, 'neg': 4228, 'arquiv': 499, 'peç': 4729, 'esgot': 2267, 'recorr': 5258, 'esf': 2265, 'ensej': 2188, 'pátr': 5111, 'domin': 1978, 'arr': 500, 'dur': 2015, 'iníci': 3396, 'prev': 4933, 'concern': 1226, 'proteç': 5057, 'diret': 1887, 'poss': 4820, 'nasc': 4198, 'colacion': 1127, 'suport': 5977, 'dispost': 1913, 'nome': 4289, 'signat': 5772, 'contest': 1350, 'prát': 5075, 'consolid': 1315, 'final': 2585, 'decl': 1616, 'cient': 1034, 'postul': 4833, 'renunci': 5368, 'oitocent': 4414, 'mot': 4117, 'alenc': 236, 'cível': 1562, 'goian': 2805, 'josef': 3532, 'elis': 2104, 'gonlav': 2811, 'uni': 6308, 'queim': 5148, 'cim': 1040, 'timbaúb': 6139, 'subscrev': 5914, 'inclus': 3126, 'instrument': 3308, 'mandat': 3874, 'doc': 1961, 'marech': 3911, 'dant': 1583, 'processocivil': 4989, 'espéci': 2295, 'pens': 4642, 'mort': 4114, 'superintend': 5966, 'gratuít': 2834, 'renúnc': 5370, 'fix': 2605, 'arbitr': 470, 'companh': 1167, 'consed': 1297, 'men': 3997, 'paul': 4606, 'gonçalv': 2813, 'sant': 5629, 'dezesset': 1837, 'confirm': 1270, 'marit': 3925, 'cuju': 1514, 'antoni': 377, 'cosm': 1451, 'onz': 4441, 'destac': 1794, 'humild': 2964, 'sab': 5589, 'nom': 4288, 'estavel': 2321, 'anal': 334, 'bisp': 752, 'incert': 3120, 'soub': 5868, 'notic': 4305, 'ouv': 4507, 'diz': 1947, 'falec': 2513, 'porém': 4814, 'contat': 1343, 'nenhum': 4241, 'desconhec': 1724, 'juni': 3567, 'juli': 3562, 'adri': 124, 'edvald': 2063, 'fabi': 2493, 'alic': 252, 'kat': 3605, 'fern': 2551, 'sem': 5695, 'analfabet': 335, 'consid': 1307, 'viúv': 6511, 'pouc': 4837, 'fich': 2567, 'ros': 5547, 'mast': 3943, 'funer': 2698, 'compon': 1186, 'ades': 97, 'tenp': 6091, 'aceit': 36, 'prontu': 5027, 'fot': 2648, 'cl': 1070, 'demostr': 1675, 'maior': 3854, 'tamanh': 6033, 'injustiç': 3262, 'comet': 1158, 'dispos': 1911, 'pergunt': 4668, 'nad': 4184, 'verdad': 6427, 'insist': 3290, 'persist': 4698, 'inconform': 3136, 'senã': 5718, 'resguard': 5416, 'san': 5621, 'respald': 5425, 'conjunt': 1287, 'anteri': 371, 'rez': 5485, 'cônjug': 1569, 'tambémdepend': 6037, 'constituint': 1326, 'mencion': 4000, 'separad': 5720, 'confer': 1263, 'absolut': 19, 'percepç': 4652, 'soment': 5859, 'restring': 5448, 'quaisqu': 5125, 'sub': 5903, 'posicion': 4817, 'opost': 4453, 'exercíci': 2418, 'corrob': 1445, 'leg': 3660, 'entidad': 2196, 'durado': 2016, 'estabelec': 2305, 'dentr': 1683, 'enquadr': 2183, 'coloqu': 1141, 'desej': 1740, 'ser': 5725, 'verd': 6426, 'atras': 587, 'cuj': 1513, 'permit': 4687, 'depo': 1687, 'pessoal': 4716, 'luiz': 3798, 'mour': 4122, 'apolin': 419, 'pje': 4749, 'númer': 4350, 'órg': 6654, 'últ': 6662, 'distribu': 1931, 'assunt': 560, 'segred': 5681, 'sim': 5781, 'terc': 6099, 'vincul': 6482, 'lucien': 3790, 'thiag': 6130, 'cantarell': 877, 'andrad': 346, 'lim': 3709, 'albuquerqu': 222, 'reu': 5469, 'ceabdj': 968, 'assinat': 551, 'pet': 4717, 'juíz': 3597, 'bel': 708, 'jagu': 3490, 'recif': 5239, 'procuratóri': 4994, 'rodapé': 5519, 'mui': 4134, 'contr': 1357, 'prof': 5002, 'mári': 4160, 'mel': 3987, 'priorit': 4967, 'igual': 3008, 'eletronic': 2096, 'webaddres': 6550, 'initi': 3258, 'indic': 3172, 'petitóri': 4723, 'encarg': 2160, 'conso': 1314, 'convers': 1401, 'presumid': 4921, 'tabel': 6019, 'seg': 5678, 'extra': 2478, 'exped': 2436, 'rpp': 5564, 'desist': 1764, 'desaverb': 1712, 'outrossim': 4505, 'exerc': 2415, 'insert': 3285, 'indevid': 3169, 'nobr': 4284, 'deslis': 1767, 'ent': 2190, 'detalh': 1814, 'tópic': 6274, 'retific': 5457, 'clín': 1094, 'repous': 5385, 'fát': 2708, 'ltd': 3784, 'obst': 4373, 'ctc': 1508, 'cálcul': 1541, 'extrat': 2483, 'fgt': 2561, 'inclu': 3125, 'marg': 3912, 'question': 5158, 'impact': 3044, 'negativ': 4230, 'melhor': 3990, 'diminu': 1874, 'subst': 5924, 'solicit': 5848, 'equívoc': 2229, 'facult': 2503, 'aliquot': 259, 'comput': 1204, 'pré': 5076, 'reform': 5295, 'desági': 1811, 'rmi': 5512, 'inscr': 3280, 'contribuint': 1375, 'individ': 3183, 'validad': 6373, 'tel': 6073, 'ostent': 4492, 'fraç': 2664, 'datad': 1590, 'jan': 3500, 'caput': 891, 'cad': 822, 'ating': 578, 'apur': 451, 'ratific': 5204, 'exclu': 2403, 'possibilit': 4823, 'exclus': 2405, 'impliqu': 3063, 'reduç': 5278, 'méd': 4166, 'result': 5450, 'mant': 3883, 'ved': 6401, 'utiliz': 6354, 'acrésc': 71, 'ref': 5283, 'provent': 5066, 'inativ': 3109, 'novecent': 4315, 'coefici': 1109, 'calcul': 843, 'major': 3858, 'especial': 2279, 'disciplin': 1895, 'patrimôni': 4600, 'advent': 131, 'desnecessár': 1771, 'pertenc': 4703, 'categor': 945, 'legít': 3667, 'nociv': 4285, 'clin': 1084, 'circul': 1051, 'sao': 5636, 'camil': 859, 'hospit': 2953, 'bernard': 732, 'assunca': 559, 'associ': 555, 'pernambucoltd': 4690, 'nelson': 4238, 'chav': 1011, 'pugn': 5098, 'insalubr': 3274, 'pó': 5116, 'positiv': 4819, 'reajust': 5218, 'ágil': 6612, 'reafirm': 5216, 'remot': 5351, 'eventual': 2364, 'aqu': 455, 'alternativ': 282, 'aquis': 457, 'satisfaz': 5640, 'implement': 3060, 'interess': 3333, 'possibil': 4822, 'efetiv': 2068, 'concord': 1238, 'escrit': 2259, 'vantaj': 6384, 'dec': 1604, 'satisfiz': 5643, 'lo': 3752, 'vontad': 6521, 'cômput': 1568, 'máx': 4162, 'preâmbul': 4951, 'oferec': 4399, 'retir': 5458, 'crít': 1507, 'imped': 3046, 'migr': 4038, 'corret': 1438, 'prism': 4970, 'obrig': 4362, 'inferi': 3222, 'almej': 270, 'prim': 4954, 'formul': 2637, 'sid': 5763, 'subsidi': 5921, 'precon': 4868, 'controvert': 1385, 'jfp': 3516, 'instabil': 3295, 'stj': 5896, 'devoluç': 1831, 'revog': 5481, 'venh': 6418, 'prol': 5018, 'dip': 1879, 'ddb': 1598, 'despach': 1775, 'fracion': 2651, 'fazend': 2534, 'atenç': 573, 'retenç': 5455, 'it': 3459, 'sociedad': 5839, 'advocac': 136, 'eirel': 2082, 'cinquent': 1045, 'ncpc': 4215, 'raphael': 5194, 'campel': 864, 'nett': 4251, 'patrici': 4598, 'regilani': 5305, 'oliv': 4418, 'estoqu': 2333, 'vil': 6474, 'bringel': 794, 'intermédi': 3342, 'habilit': 2871, 'revis': 5478, 'caix': 838, 'cret': 1480, 'clt': 1091, 'pi': 4731, 'pasep': 4585, 'efetu': 2069, 'depósit': 1693, 'net': 4250, 'rodrig': 5526, 'milhã': 4045, 'cediç': 973, 'cri': 1482, 'déc': 2023, 'proteg': 5054, 'sucedâne': 5939, 'antig': 375, 'estabil': 2307, 'decen': 1608, 'miguel': 4039, 'adriananogu': 126, 'deposit': 1689, 'empr': 2137, 'síti': 6007, 'hoj': 2932, 'program': 5011, 'habit': 2872, 'sane': 5624, 'infraestrut': 3239, 'norm': 4296, 'diretriz': 1888, 'conselh': 1301, 'cur': 1527, 'extraím': 2486, 'obrigatoriedad': 4364, 'remuner': 5354, 'sald': 5606, 'incorpor': 3147, 'cobert': 1105, 'parâmetr': 4584, 'poupanç': 4839, 'grif': 2845, 'tax': 6055, 'prescrev': 4908, 'red': 5268, 'dicç': 1849, 'acumul': 74, 'trd': 6218, 'transcorr': 6193, 'crédit': 1505, 'exclusiv': 2406, 'adic': 100, 'enquant': 2184, 'met': 4022, 'selic': 5694, 'defin': 1643, 'banc': 678, 'aniversári': 357, 'instal': 3296, 'sobress': 5830, 'divulg': 1944, 'líqu': 3821, 'impost': 3073, 'capt': 889, 'comerc': 1156, 'invest': 3384, 'múltipl': 4178, 'municip': 4147, 'metodolog': 4028, 'aprov': 443, 'envi': 2205, 'sen': 5702, 'institu': 3300, 'dez': 1833, 'país': 4614, 'classific': 1075, 'volum': 6518, 'fornec': 2639, 'sujeit': 5951, 'deduz': 1632, 'compar': 1171, 'inpc': 3268, 'ipc': 3404, 'perd': 4654, 'compr': 1191, 'notad': 4303, 'dan': 1579, 'aduz': 128, 'exord': 2432, 'hialin': 2902, 'suje': 5950, 'réu': 5586, 'rigor': 5501, 'rebat': 5224, 'pont': 4797, 'pretérit': 4931, 'irrisóri': 3437, 'prova': 5062, 'subtra': 5936, 'ilícit': 3027, 'perpetr': 4691, 'operacionaliz': 4446, 'les': 3678, 'frut': 2674, 'acúmul': 80, 'disp': 1904, 'vilipendi': 6478, 'devolv': 1832, 'inden': 3162, 'choqu': 1018, 'psicológ': 5087, 'analí': 339, 'abord': 12, 'virtud': 6494, 'impossibil': 3071, 'despend': 1778, 'mantenç': 3885, 'mérit': 4169, 'trezent': 6227, 'diferenç': 1859, 'infl': 3227, 'elabor': 2085, 'inadimpl': 3100, 'sucumb': 5944, 'contável': 1392, 'fiz': 2606, 'perfeit': 4661, 'nogu': 4287, 'diniz': 1877, 'henriqu': 2889, 'avelin': 645, 'acadêm': 30, 'elenild': 2093, 'maced': 3831, 'marmel': 3927, 'bodocó': 759, 'via': 6450, 'pedr': 4628, 'mail': 3853, 'intimaçoesvirt': 3364, 'marcosinaci': 3910, 'mari': 3915, 'and': 343, 'menos': 4004, 'propriet': 5042, 'lun': 3801, 'espóli': 2297, 'vicent': 6458, 'gest': 2765, 'gael': 2719, 'licenci': 3700, 'daquel': 1585, 'acontec': 65, 'comprobatóri': 1197, 'estend': 2324, 'regul': 5315, 'términ': 6268, 'prorrog': 5047, 'descontínu': 1729, 'se': 5663, 'respost': 5436, 'acompanh': 61, 'mandament': 3873, 'marc': 3902, 'ináci': 3394, 'tão': 6266, 'alç': 296, 'compreend': 1192, 'futur': 2704, 'trez': 6226, 'wesdresney': 6555, 'bezerr': 738, 'sc': 5654, 'zoé': 6607, 'autôn': 634, 'cicer': 1028, 'trindad': 6236, 'vêm': 6537, 'procurad': 4993, 'vere': 6429, 'sal': 5603, 'romulolimaadv': 5539, 'prossegu': 5051, 'jef': 3508, 'agir': 175, 'cóp': 1567, 'desenvolv': 1748, 'previs': 4948, 'autu': 630, 'prefer': 4878, 'vent': 6419, 'rpv': 5565, 'ofert': 4400, 'apres': 434, 'compel': 1176, 'traz': 6216, 'antecipatór': 368, 'mult': 4139, 'diár': 1948, 'reput': 5395, 'afirm': 157, 'quantum': 5135, 'setecent': 5748, 'dezenov': 1835, 'rômul': 5588, 'digit': 1867, 'fin': 2584, 'qualific': 5128, 'desfav': 1750, 'eng': 2179, 'baltaz': 677, 'cavalcant': 956, 'emolument': 2134, 'curs': 1532, 'louriv': 3781, 'celul': 983, 'ricaom': 5497, 'msn': 4129, 'deu': 1825, 'gustav': 2867, 'tenr': 6092, 'amold': 322, 'dirig': 1890, 'estatal': 2317, 'recém': 5266, 'cientific': 1035, 'mãe': 4164, 'insubstitu': 3310, 'inf': 3214, 'reedit': 5280, 'vervel': 6443, 'arrol': 511, 'sobej': 5824, 'expend': 2440, 'exor': 2430, 'retr': 5460, 'dilig': 1870, 'citatór': 1061, 'intimatór': 3363, 'efet': 2067, 'rit': 5507, 'sum': 5955, 'litig': 3738, 'sindic': 5794, 'salari': 5605, 'condiz': 1249, 'terç': 6107, 'vie': 6466, 'so': 5821, 'peixot': 4633, 'travess': 6215, 'valéri': 6379, 'tuliodemagalha': 6256, 'xxiv': 6585, 'praç': 4854, 'dumont': 2012, 'man': 3871, 'lin': 3717, 'videoconfer': 6463, 'palavr': 4542, 'inici': 3251, 'vigil': 6470, 'boa': 757, 'tuli': 6255, 'hostilh': 2956, 'nun': 4333, 'magalha': 3845, 'possuí': 4826, 'depreend': 1691, 'arm': 492, 'transport': 6208, 'consign': 1311, 'transv': 6210, 'seguranç': 5687, 'emproteg': 2149, 'vigilanc': 6471, 'din': 1875, 'vililand': 6477, 'ppp': 4844, 'gir': 2786, 'convert': 1402, 'excet': 2401, 'naquil': 4192, 'incompat': 3131, 'permanent': 4684, 'torn': 6169, 'verif': 6432, 'simpl': 5787, 'comum': 1207, 'supracit': 5980, 'matér': 3957, 'retroativ': 5466, 'inomin': 3266, 'devolu': 1830, 'honorár': 2946, 'totaliz': 6174, 'multiplic': 4142, 'magalh': 3844, 'camp': 862, 'carvalh': 930, 'luzinet': 3810, 'liberat': 3695, 'brit': 795, 'lar': 3632, 'mat': 3944, 'gross': 2847, 'dor': 1984, 'hercul': 2894, 'bande': 681, 'pin': 4740, 'asseg': 537, 'estrang': 2335, 'deodor': 1684, 'apt': 448, 'maj': 3857, 'coelh': 1110, 'camposecarvalh': 868, 'ingress': 3246, 'particul': 4578, 'diapas': 1844, 'destin': 1799, 'firm': 2592, 'ips': 3406, 'litteril': 3741, 'homoním': 2941, 'anteced': 364, 'disposi': 1912, 'coment': 1155, 'identific': 2992, 'mont': 4102, 'jesu': 3515, 'ramp': 5190, 'carr': 921, 'lad': 3618, 'pad': 4526, 'centen': 988, 'sinops': 5799, 'estud': 2343, 'consegu': 1299, 'constru': 1328, 'juventud': 3594, 'tampouc': 6038, 'doent': 1969, 'psiquiátr': 5090, 'medicament': 3978, 'acomet': 59, 'doenç': 1970, 'neurológ': 4254, 'neozin': 4243, 'glifag': 2795, 'maleat': 3862, 'enalapril': 2154, 'hidroclorotiaz': 2906, 'algum': 245, 'entreg': 2198, 'custe': 1535, 'wellington': 6551, 'dedic': 1629, 'desloc': 1768, 'higien': 2908, 'etc': 2348, 'sra': 5875, 'diagnostic': 1843, 'osteoporos': 4493, 'hipertens': 2916, 'receitu': 5232, 'fort': 2640, 'corp': 1426, 'execut': 2409, 'impossibilit': 3072, 'agil': 171, 'dar': 1587, 'vagar': 6362, 'mago': 3850, 'dolor': 1972, 'remédi': 5357, 'denomin': 1679, 'font': 2631, 'colecalciferol': 1130, 'paratr': 4564, 'vit': 6501, 'one': 4431, 'núcle': 4349, 'potável': 4836, 'gás': 2868, 'co': 1101, 'encan': 2157, 'internet': 3345, 'igrej': 3007, 'relativ': 5334, 'critéri': 1494, 'bpc': 779, 'comun': 1208, 'sobreviv': 5834, 'servir': 5741, 'supramencion': 5981, 'gar': 2730, 'orgân': 4468, 'vál': 6529, 'bols': 763, 'desafortun': 1706, 'morad': 4106, 'pequen': 4646, 'alven': 290, 'telh': 6080, 'gess': 2764, 'pint': 4742, 'quart': 5138, 'quint': 5165, 'esforç': 2266, 'marid': 3916, 'econom': 2040, 'menç': 4009, 'recort': 5259, 'impend': 3048, 'notór': 4309, 'taref': 6050, 'essenc': 2302, 'imprescindibil': 3076, 'trf': 6228, 'joa': 3521, 'cabrelon': 821, 'djf': 1955, 'apel': 403, 'restr': 5446, 'etári': 2352, 'concomit': 1237, 'resum': 5451, 'analog': 337, 'desconsider': 1725, 'conceit': 1221, 'despeit': 1777, 'compõ': 1205, 'apciv': 401, 'desembarg': 1742, 'ine': 3195, 'virgin': 6491, 'pr': 4846, 'arest': 482, 'assent': 541, 'prevalec': 4935, 'perfaz': 4660, 'membr': 3994, 'regiment': 5307, 'faç': 2535, 'resp': 5424, 'repeti': 5378, 'agrg': 188, 'aresp': 481, 'rel': 5329, 'ministr': 4056, 'benedit': 714, 'dje': 1953, 'sobrest': 5831, 'inaplic': 3105, 'caracter': 894, 'preced': 4860, 'improv': 3082, 'descab': 1713, 'cort': 1448, 'suspens': 5993, 'ordinár': 4463, 'compos': 1189, 'analogic': 338, 'compartilh': 1173, 'magistr': 3847, 'conclu': 1235, 'napol': 4190, 'assuset': 562, 'parc': 4567, 'convenç': 1399, 'verossimilhanç': 6439, 'recei': 5230, 'irrepar': 3430, 'repar': 5373, 'fiqu': 2591, 'abus': 24, 'defês': 1650, 'propósit': 5043, 'protelatóri': 5055, 'aliás': 263, 'óbic': 6645, 'pressupõ': 4918, 'incapac': 3115, 'ment': 4008, 'intelect': 3322, 'sensor': 5710, 'obstru': 4375, 'particip': 4577, 'plen': 4763, 'igualdad': 3009, 'promov': 5022, 'desampar': 1707, 'elian': 2100, 'paggiarin': 4533, 'region': 5310, 'suplement': 5974, 'reit': 5324, 'liquid': 3728, 'ultrap': 6299, 'aguard': 202, 'robert': 5515, 'rayanny': 5206, 'adjunt': 108, 'valm': 6375, 'filomen': 2582, 'viabil': 6451, 'nilton': 4271, 'leal': 3658, 'caminh': 860, 'sol': 5845, 'laurobarb': 3644, 'restabelec': 5442, 'rurícol': 5576, 'vind': 6483, 'interi': 3336, 'piauí': 4733, 'enfrent': 2178, 'jov': 3543, 'propriedad': 5041, 'pajeú': 4540, 'colabor': 1125, 'geni': 2746, 'regular': 5318, 'fundiár': 2697, 'armazen': 494, 'autodeclar': 621, 'itr': 3464, 'viaj': 6454, 'permanec': 4683, 'desencant': 1746, 'retorn': 5459, 'lab': 3612, 'roç': 5561, 'áre': 6617, 'abandon': 5, 'metal': 4024, 'aco': 55, 'jos': 3531, 'coir': 1121, 'irma': 3419, 'agr': 180, 'industr': 3189, 'reil': 5321, 'seriem': 5732, 'descaracteriz': 1717, 'inevita': 3206, 'plant': 4754, 'animal': 355, 'tes': 6108, 'campesin': 866, 'junç': 3569, 'adolesc': 118, 'unind': 6315, 'soluç': 5854, 'organiz': 4466, 'obrigatór': 4365, 'preserv': 4913, 'equilíbri': 2222, 'atuar': 597, 'satisfaç': 5641, 'exempl': 2412, 'intern': 3343, 'indispens': 3180, 'crianç': 1483, 'excepc': 2395, 'preval': 4934, 'fact': 2500, 'proibi': 5015, 'alinh': 257, 'orient': 4470, 'produt': 4998, 'pesc': 4712, 'artesan': 521, 'assemelh': 540, 'exerç': 2419, 'corrobor': 1446, 'fart': 2525, 'emprest': 2147, 'convinc': 1405, 'hábel': 2966, 'base': 693, 'idône': 3000, 'razoá': 5208, 'raciocíni': 5178, 'enunci': 2204, 'agrícol': 199, 'flexibil': 2612, 'probatór': 4981, 'sól': 6012, 'expos': 2455, 'cunh': 1526, 'conditi': 1248, 'sin': 5791, 'qua': 5123, 'non': 4291, 'proveni': 5065, 'human': 2962, 'defini': 1644, 'moratóri': 4108, 'sucessiv': 5942, 'hipótes': 2924, 'descumpr': 1735, 'descortin': 1730, 'uenderson': 6288, 'queci': 5145, 'martim': 3934, 'laur': 3642, 'barb': 685, 'exm': 2428, 'forum': 2644, 'ner': 4245, 'conce': 1217, 'paissandu': 4537, 'virtual': 6493, 'eadj': 2031, 'equip': 2223, 'goe': 2802, 'coronel': 1425, 'cícer': 1559, 'cckkelly': 961, 'pcesoaresadv': 4616, 'prime': 4957, 'exª': 2490, 'dout': 1996, 'examin': 2380, 'secret': 5668, 'esport': 2293, 'insatisfeit': 3279, 'impetr': 3053, 'cois': 1122, 'previdenciáru': 4946, 'extint': 2474, 'egrég': 2076, 'desincumb': 1760, 'quo': 5170, 'extinç': 2475, 'interpost': 3348, 'prescr': 4907, 'quinquen': 5164, 'propr': 5039, 'find': 2590, 'impugn': 3085, 'educ': 2058, 'extemporâne': 2468, 'mantev': 3886, 'irm': 3418, 'emancip': 2117, 'invál': 3392, 'incapaz': 3117, 'usqu': 6344, 'ress': 5437, 'basic': 694, 'contém': 1393, 'cess': 1002, 'minist': 4053, 'graç': 2843, 'pext': 4728, 'troux': 6243, 'pend': 4640, 'submet': 5910, 'profer': 5003, 'orden': 4461, 'complement': 1182, 'ofíci': 4408, 'intent': 3326, 'assum': 558, 'provid': 5067, 'posterg': 4831, 'mutatil': 4155, 'mutandil': 4154, 'conteúd': 1353, 'eficaz': 2070, 'instru': 3307, 'impl': 3057, 'pressupost': 4917, 'imp': 3043, 'lastr': 3635, 'extingu': 2473, 'discut': 1902, 'ausent': 615, 'figur': 2577, 'fláv': 2621, 'tav': 6054, 'unanim': 6306, 'moviment': 4124, 'acerc': 39, 'trech': 6220, 'fez': 2560, 'anul': 388, 'prolat': 5020, 'providenci': 5069, 'deca': 1605, 'mih': 4040, 'factum': 2501, 'dab': 1570, 'tib': 6135, 'elm': 2108, 'basili': 696, 'supost': 5978, 'indev': 3168, 'samuel': 5620, 'basíli': 698, 'este': 2322, 'sens': 5707, 'contund': 1390, 'band': 680, 'duradour': 2017, 'dot': 1993, 'conjug': 1286, 'nutr': 4335, 'ocas': 4384, 'giz': 2792, 'juril': 3577, 'tantum': 6045, 'resist': 5419, 'plenitud': 4764, 'liç': 3749, 'dabu': 1571, 'maluf': 3868, 'condic': 1245, 'sali': 5609, 'clar': 1073, 'automatic': 623, 'sort': 5867, 'penal': 4639, 'desíd': 1812, 'domést': 1980, 'clp': 1090, 'lbp': 3654, 'simultâne': 5790, 'egrégi': 2077, 'afons': 159, 'brum': 798, 'reclus': 5244, 'mist': 4070, 'pension': 4643, 'rate': 5201, 'vert': 6442, 'dezoit': 1838, 'vitalíc': 6503, 'substitu': 5928, 'intelig': 3324, 'grau': 2835, 'ciênc': 1068, 'celer': 978, 'cristian': 1490, 'kelly': 3606, 'edval': 2062, 'fonsec': 2630, 'lourenç': 3780, 'universit': 6321, 'damia': 1578, 'daniel': 1581, 'azeved': 658, 'sipaúb': 5804, 'ararip': 466, 'integral': 3321, 'estei': 2323, 'ressalv': 5439, 'altern': 280, 'resolv': 5423, 'vir': 6490, 'resgu': 5415, 'age': 165, 'afront': 161, 'contrari': 1368, 'robust': 5516, 'just': 3587, 'acaci': 29, 'deslig': 1765, 'brad': 780, 'fl': 2607, 'instaur': 3298, 'aproxim': 446, 'lig': 3707, 'incontrovers': 3146, 'baliz': 676, 'alíne': 298, 'capítul': 892, 'consistir': 1313, 'cem': 984, 'dam': 1576, 'neydjan': 4262, 'distrit': 1932, 'barr': 687, 'cadun': 826, 'justif': 3588, 'gabriel': 2716, 'damascen': 1577, 'jayr': 3506, 'hil': 2910, 'júni': 3599, 'hilarioefernandesadvog': 2911, 'outlook': 4502, 'gergelim': 2761, 'curr': 1531, 'acrescent': 70, 'omissil': 4423, 'pecuniár': 4622, 'equival': 2225, 'discuss': 1901, 'estipul': 2331, 'salv': 5616, 'inc': 3113, 'casu': 940, 'rhav': 5489, 'meeir': 3982, 'arrendat': 508, 'garimp': 2734, 'quatorz': 5140, 'equipar': 2224, 'comprovad': 1201, 'próx': 5084, 'mútu': 4179, 'laps': 3631, 'usufru': 6347, 'gaúch': 2740, 'de': 1599, 'fed': 2537, 'rog': 5529, 'raupp': 5205, 'rio': 5504, 'sext': 5754, 'origin': 4472, 'ben': 713, 'wert': 6554, 'adiel': 102, 'roch': 5517, 'lop': 3772, 'tars': 6051, 'saihg': 5599, 'tam': 6031, 'helen': 2886, 'ministeri': 4055, 'publ': 5091, 'jamerson': 3497, 'renat': 5360, 'impub': 3083, 'jamily': 3499, 'cristin': 1491, 'jadson': 3488, 'anastaci': 340, 'guimara': 2862, 'iputing': 3412, 'secc': 5667, 'pror': 5045, 'impúb': 3090, 'reserv': 5413, 'laz': 3650, 'profission': 5009, 'cult': 1518, 'liberdad': 3696, 'comunitár': 1214, 'neglig': 4232, 'discrimin': 1900, 'explor': 2451, 'viol': 6489, 'crueldad': 1503, 'opress': 4454, 'eca': 2034, 'ratif': 5203, 'jaf': 3489, 'qaul': 5121, 'epoc': 2217, 'rp': 5563, 'nascitur': 4200, 'fal': 2511, 'concepç': 1225, 'gravíd': 2840, 'teor': 6096, 'concep': 1224, 'grav': 2836, 'têm': 6270, 'univers': 6319, 'onu': 4440, 'guerr': 2856, 'preceit': 4861, 'acl': 53, 'comunidad': 1212, 'papel': 4555, 'fundamnt': 2694, 'ult': 6297, 'levant': 3684, 'reabilit': 5214, 'provisór': 5071, 'denovembr': 1681, 'diplom': 1880, 'sobrevivenc': 5835, 'antecipad': 366, 'desat': 1710, 'olv': 4419, 'útil': 6665, 'denot': 1680, 'expus': 2463, 'convicç': 1404, 'latent': 3637, 'cautel': 952, 'irreversibil': 3435, 'indíci': 3193, 'pol': 4784, 'opt': 4455, 'proporc': 5033, 'sev': 5751, 'àquel': 6610, 'carec': 905, 'legit': 3664, 'crfb': 1481, 'amplitud': 331, 'envolv': 2206, 'alud': 283, 'catorz': 948, 'quinhent': 5163, 'quaret': 5137, 'civel': 1063, 'clotild': 1088, 'assunç': 561, 'batalh': 700, 'guararap': 2853, 'capibarib': 882, 'telefon': 6074, 'stf': 5894, 'dju': 1956, 'proposit': 5037, 'longínqu': 3771, 'ced': 972, 'numer': 4331, 'prosper': 5050, 'indubita': 3188, 'esmiuç': 2272, 'pacíf': 4525, 'report': 5382, 'presuç': 4924, 'valdiad': 6369, 'ignor': 3004, 'arbítri': 473, 'viess': 6467, 'ordin': 4462, 'pos': 4815, 'elid': 2101, 'reclam': 5242, 'carg': 908, 'direç': 1889, 'trt': 6244, 'claudi': 1077, 'pires': 4744, 'tst': 6252, 'apost': 427, 'opos': 4452, 'víci': 6539, 'descri': 1733, 'logr': 3764, 'êxit': 6633, 'propost': 5038, 'conciliatór': 1234, 'escop': 2257, 'consist': 1312, 'dib': 1847, 'outorg': 4503, 'ewerton': 2376, 'araúj': 469, 'arilson': 488, 'mecân': 3974, 'rodov': 5524, 'paissandú': 4538, 'celebr': 977, 'agent': 168, 'sicavel': 5762, 'siqu': 5805, 'veicul': 6405, 'me': 3970, 'avel': 644, 'agrup': 196, 'coop': 1412, 'tiv': 6154, 'diferenci': 1858, 'submiss': 5911, 'ds': 2007, 'introduz': 3368, 'padr': 4529, 'embas': 2124, 'ruíd': 5581, 'cal': 840, 'aspect': 534, 'nel': 4237, 'evoluç': 2374, 'quím': 5173, 'encerr': 2161, 'receit': 5231, 'googl': 2814, 'map': 3896, 'hidrocarbonet': 2905, 'tóxic': 6275, 'substanc': 5926, 'grax': 2841, 'óle': 6650, 'miner': 4049, 'combust': 1153, 'deriv': 1697, 'catarin': 943, 'sess': 5745, 'manusei': 3894, 'sold': 5846, 'elétr': 2114, 'oxigêni': 4514, 'esmeril': 2270, 'insalutífer': 3275, 'min': 4048, 'edson': 2056, 'vidig': 6464, 'nylson': 4336, 'paim': 4535, 'abr': 13, 'imposs': 3070, 'olvid': 4420, 'ram': 5188, 'oficin': 4406, 'ali': 251, 'atu': 594, 'similar': 5784, 'ferreir': 2556, 'refrimec': 5299, 'ciment': 1041, 'epil': 2213, 'simil': 5783, 'gisel': 2789, 'lemk': 3673, 'pair': 4536, 'cerce': 995, 'nul': 4329, 'essencial': 2303, 'relev': 5340, 'hável': 2967, 'fog': 2625, 'tempu': 6088, 'regit': 5313, 'actum': 73, 'desafi': 1705, 'indiret': 3177, 'fri': 2670, 'excess': 2399, 'umidad': 6305, 'tfr': 6119, 'similitud': 5785, 'estrut': 2341, 'semelh': 5696, 'einf': 2081, 'cels': 982, 'kipp': 3608, 'artur': 527, 'cés': 1555, 'tru': 6245, 'semelhanç': 5697, 'confeccion': 1260, 'difer': 1856, 'contemporâne': 1347, 'chef': 1012, 'nível': 4345, 'subsequ': 5918, 'poe': 4781, 'quim': 5161, 'benzen': 726, 'etilbenzen': 2350, 'toluen': 6164, 'xilen': 6576, 'indústr': 3194, 'metalúrg': 4026, 'fas': 2526, 'prévi': 5079, 'vers': 6441, 'jubil': 3549, 'produ': 4996, 'intermit': 3341, 'deliber': 1658, 'índic': 6636, 'racional': 5180, 'precatóri': 4859, 'ézi': 6632, 'teix': 6072, 'famil': 2517, 'radi': 5181, 'ioniz': 3401, 'metál': 4030, 'exemplific': 2413, 'epi': 2212, 'toler': 6162, 'caracteriz': 895, 'neutr': 4256, 'descaracter': 1716, 'particular': 4579, 'list': 3733, 'imprescind': 3075, 'invé': 3393, 'consect': 1295, 'luil': 3797, 'luvizett': 3807, 'terr': 6103, 'remess': 5347, 'offici': 4402, 'ativid': 582, 'ade': 88, 'irdr': 3415, 'configur': 1268, 'ltcat': 3783, 'eficác': 2072, 'ofici': 4405, 'biológ': 747, 'cancerígen': 874, 'asbest': 531, 'pericul': 4671, 'eletric': 2095, 'hiperbár': 2914, 'comprim': 1195, 'esmerilh': 2271, 'chap': 1010, 'oxiacetilen': 4513, 'específ': 2284, 'paran': 4561, 'relatóri': 5336, 'perman': 4682, 'avuls': 654, 'cooper': 1413, 'indissoci': 3181, 'signif': 5774, 'escolh': 2256, 'intrinsec': 3367, 'peg': 4631, 'agulh': 205, 'sang': 5626, 'cura': 1528, 'auxil': 635, 'vacin': 6361, 'inov': 3267, 'tecnológ': 6069, 'medicin': 3979, 'advi': 134, 'agress': 186, 'atenu': 572, 'salis': 5612, 'period': 4677, 'certific': 998, 'ambi': 310, 'prejudiqu': 4885, 'oper': 4444, 'invalid': 3378, 'volunt': 6519, 'cancel': 873, 'capac': 879, 'precoc': 4867, 'retribu': 5462, 'coib': 1120, 'xii': 6575, 'distinç': 1926, 'inviol': 3389, 'prote': 5052, 'puni': 5101, 'esculp': 2263, 'inviabil': 3387, 'auf': 601, 'readequ': 5215, 'invi': 3386, 'signific': 5775, 'int': 3318, 'aug': 603, 'capacit': 880, 'carent': 907, 'mão': 4165, 'obr': 4361, 'retrocess': 5467, 'inconstituc': 3139, 'argu': 484, 'inconstitucional': 3140, 'inconstucional': 3141, 'obtém': 4382, 'permaneç': 4685, 'agu': 201, 'cumul': 1524, 'mantenh': 3884, 'interpret': 3349, 'conduz': 1255, 'vall': 6374, 'qualit': 5129, 'carbon': 903, 'destil': 1798, 'alcatr': 227, 'hulh': 2960, 'petróle': 4726, 'manipul': 3879, 'breu': 792, 'betum': 736, 'antracen': 380, 'parafin': 4558, 'afim': 155, 'negr': 4234, 'fum': 2683, 'dnsst': 1959, 'fabric': 2495, 'fenol': 2547, 'cresol': 1479, 'naftol': 4185, 'nitroderiv': 4281, 'aminoderiv': 321, 'halogen': 2877, 'cícl': 1560, 'pistol': 4747, 'esmalt': 2269, 'tint': 6143, 'verniz': 6438, 'solv': 5855, 'aromá': 497, 'incoer': 3128, 'queimad': 5149, 'cânc': 1547, 'irrit': 3438, 'pel': 4635, 'olh': 4416, 'aparelh': 398, 'respiratóri': 5432, 'diges': 1866, 'afet': 152, 'nerv': 4246, 'fíg': 2712, 'álcool': 6616, 'isopropíl': 3456, 'chumb': 1019, 'jorn': 3530, 'herm': 2897, 'siedl': 5768, 'isopropil': 3455, 'polipropilen': 4790, 'decibel': 1610, 'apelreex': 404, 'osn': 4490, 'card': 904, 'pigment': 4737, 'cor': 1419, 'reat': 5222, 'vap': 6386, 'amôn': 332, 'inequivoc': 3199, 'neutraliz': 4258, 'arnald': 496, 'estev': 2327, 'imper': 3049, 'jorg': 3529, 'mauriqu': 3960, 'assever': 545, 'reconhecid': 5253, 'periculos': 4672, 'indiqu': 3176, 'adoç': 122, 'control': 1383, 'ambient': 311, 'elimin': 2103, 'mte': 4130, 'repercuss': 5376, 'are': 479, 'edit': 2052, 'memor': 3995, 'dirsat': 1892, 'dirben': 1883, 'amiant': 316, 'cogit': 1116, 'inat': 3108, 'reclamatór': 5243, 'inadequ': 3099, 'avali': 640, 'suscit': 5991, 'inocorr': 3265, 'ezi': 2491, 'conson': 1317, 'condicion': 1246, 'pbc': 4615, 'destaqu': 1796, 'rbp': 5209, 'remiss': 5349, 'prejulg': 4886, 'opç': 4457, 'enfoqu': 2177, 'convi': 1403, 'potenc': 4835, 'nomenclat': 4290, 'transform': 6199, 'adequ': 93, 'vari': 6390, 'igp': 3006, 'cadernet': 825, 'territóri': 6106, 'impedi': 3047, 'march': 3907, 'conclus': 1236, 'sul': 5952, 'apl': 411, 'retroag': 5464, 'prév': 5078, 'pedági': 4630, 'alun': 287, 'aprendiz': 433, 'tipógraf': 6148, 'escol': 2254, 'tcu': 6062, 'promulg': 5024, 'qüinqüen': 5174, 'aport': 421, 'comprobatór': 1196, 'pud': 5095, 'inaug': 3111, 'veícul': 6448, 'hipotetic': 2921, 'credit': 1477, 'porvent': 4813, 'profes': 5004, 'simon': 5786, 'estr': 2334, 'jardim': 3504, 'infantil': 3215, 'ensin': 2189, 'começ': 1159, 'aul': 605, 'poleg': 4785, 'colégi': 1144, 'destak': 1795, 'vár': 6530, 'demit': 1671, 'tia': 6134, 'ﬁch': 6667, 'por': 4801, 'culp': 1517, 'infund': 3243, 'magist': 3846, 'médi': 4167, 'controvers': 1384, 'contrachequ': 1359, 'interstíci': 3354, 'agamenon': 163, 'gfip': 2768, 'ces': 1000, 'cél': 1552, 'lulu': 3799, 'dra': 2002, 'jamill': 3498, 'vald': 6365, 'crat': 1470, 'milit': 4046, 'jeron': 3513, 'eli': 2099, 'proc': 4984, 'fris': 2671, 'estamp': 2314, 'volt': 6517, 'boi': 760, 'márci': 4159, 'aglomer': 176, 'usufrutu': 6349, 'comodat': 1164, 'agropecuár': 194, 'módul': 4174, 'sindicat': 5795, 'darf': 1588, 'colac': 1126, 'tempor': 6086, 'matrimon': 3952, 'thain': 6120, 'vitor': 6504, 'perer': 4658, 'evân': 2375, 'rafaelly': 5183, 'franciel': 2656, 'otil': 4496, 'paulin': 4609, 'riach': 5493, 'fon': 2629, 'fsant': 2676, 'advocaciafranciscosant': 137, 'vitór': 6506, 'anual': 386, 'estiv': 2332, 'milh': 4044, 'cafundó': 829, 'feij': 2541, 'batat': 701, 'gal': 2720, 'nega': 4229, 'carater': 900, 'doutrin': 1997, 'lógic': 3824, 'desfech': 1753, 'modific': 4085, 'extin': 2471, 'incub': 3153, 'benefic': 715, 'marinon': 3922, 'guilherm': 2859, 'util': 6353, 'exat': 2382, 'desprov': 1785, 'contrár': 1387, 'perec': 4656, 'invoc': 3390, 'cogn': 1117, 'sumár': 5958, 'evit': 2372, 'parcimôn': 4569, 'verifiqu': 6434, 'leit': 3669, 'incapacit': 3116, 'rogeri': 5532, 'disponibil': 1908, 'sit': 5810, 'ente': 2193, 'perímetr': 4708, 'reun': 5470, 'arrepi': 509, 'deslind': 1766, 'escorreit': 2258, 'garanhum': 2731, 'edn': 2055, 'orl': 4475, 'lucen': 3788, 'can': 870, 'quipap': 5167, 'rafael': 5182, 'dom': 1973, 'carenc': 906, 'gleb': 2793, 'engenh': 2180, 'velh': 6410, 'ivo': 3473, 'maurici': 3959, 'querel': 5153, 'requis': 5402, 'front': 2672, 'dossi': 1991, 'cinqüent': 1046, 'respectiv': 5427, 'atent': 570, 'distingu': 1924, 'introduç': 3369, 'pratic': 4851, 'xxix': 6586, 'repúbl': 5397, 'erradic': 2240, 'margin': 3914, 'desigualdad': 1759, 'autora': 627, 'arcov': 478, 'motor': 4120, 'joventin': 3544, 'padilh': 4528, 'cristóv': 1493, 'subscrit': 5916, 'concessa': 1228, 'indenizatór': 3163, 'capitã': 886, 'arl': 491, 'pachec': 4518, 'agres': 184, 'sistemá': 5808, 'adicion': 101, 'polic': 4787, 'hering': 2896, 'nordest': 4295, 'fibrasil': 2565, 'tex': 6115, 'ceval': 1005, 'adalbert': 84, 'borborem': 773, 'ônibu': 6657, 'felix': 2545, 'cirol': 1055, 'royal': 5560, 'word': 6567, 'transp': 6206, 'tur': 6258, 'asf': 532, 'herman': 2898, 'compat': 1175, 'cons': 1291, 'licenç': 3701, 'prepost': 4900, 'espontane': 2292, 'coag': 1104, 'que': 5143, 'pecuni': 4621, 'retard': 5454, 'mensal': 4006, 'ulteri': 6298, 'osm': 4488, 'severin': 5752, 'airton': 211, 'dougl': 1995, 'comarc': 1148, 'azul': 659, 'articul': 523, 'cap': 878, 'enumer': 2202, 'xiv': 6577, 'objetiv': 4359, 'lamenta': 3626, 'surpreend': 5988, 'xxxx': 6592, 'autonôm': 625, 'transfer': 6198, 'apos': 422, 'confom': 1275, 'gp': 2820, 'persegu': 4697, 'ponder': 4796, 'com': 1147, 'transcurs': 6197, 'especific': 2281, 'opu': 4456, 'leon': 3674, 'paviment': 4612, 'rodomin': 5523, 'encol': 2162, 'comerci': 1157, 'viaç': 6455, 'conquist': 1290, 'estrel': 2338, 'dalv': 1575, 'rondon': 5541, 'serm': 5734, 'fratell': 2662, 'imobili': 3040, 'estacon': 2309, 'tut': 6262, 'cooperlid': 1414, 'lideranç': 3705, 'ibi': 2976, 'cam': 855, 'ilegal': 3015, 'contempl': 1345, 'equivoc': 2227, 'dand': 1580, 'confess': 1264, 'patrã': 4604, 'ivanild': 3471, 'vilel': 6476, 'patrimon': 4599, 'santin': 5631, 'rib': 5495, 'cohab': 1119, 'mora': 4105, 'estrutur': 2342, 'espírit': 2296, 'tent': 6094, 'amiga': 318, 'notific': 4307, 'causíd': 951, 'jacquelin': 3486, 'lois': 3766, 'obstaculiz': 4374, 'padec': 4527, 'razoabil': 5207, 'desvincul': 1809, 'evangél': 2360, 'comérci': 1215, 'alimentíci': 256, 'hodiern': 2931, 'noturn': 4308, 'guard': 2854, 'gratific': 2831, 'circunst': 1053, 'rescis': 5408, 'café': 830, 'our': 4500, 'avilt': 651, 'distint': 1925, 'ocup': 4390, 'literal': 3737, 'vigor': 6472, 'mul': 4137, 'her': 2891, 'contextu': 1352, 'prud': 5074, 'tid': 6137, 'ilustr': 3025, 'rol': 5533, 'ediç': 2054, 'vener': 6417, 'abob': 10, 'irá': 3439, 'ileg': 3014, 'inaceit': 3097, 'seriedad': 5731, 'remont': 5350, 'pátri': 5112, 'involunt': 3391, 'pris': 4969, 'economic': 2041, 'indivídu': 3185, 'conting': 1354, 'impeç': 3055, 'açõ': 664, 'promoç': 5023, 'verbet': 6425, 'agresp': 185, 'decad': 1606, 'pur': 5102, 'sensibil': 5709, 'infring': 3242, 'honr': 2947, 'alm': 267, 'felip': 2544, 'zarz': 6599, 'doming': 1979, 'farmac': 2522, 'bioquím': 750, 'dativ': 1591, 'subscri': 5915, 'conquant': 1289, 'inex': 3207, 'reiter': 5325, 'escóli': 2264, 'desiderat': 1757, 'mespec': 4021, 'sesau': 5743, 'víru': 6543, 'smê': 5819, 'camarg': 856, 'hosp': 2952, 'bactér': 669, 'pref': 4875, 'mun': 4145, 'imifarm': 3038, 'smes': 5817, 'cdi': 965, 'segov': 5680, 'ftb': 2678, 'bárb': 812, 'carm': 914, 'nâo': 4340, 'pretext': 4929, 'subs': 5913, 'microorgan': 4036, 'parasit': 4563, 'infect': 3217, 'contagi': 1341, 'toxin': 6177, 'infecci': 3216, 'paci': 4520, 'contamin': 1342, 'prepar': 4896, 'sor': 5863, 'laboratóri': 3615, 'autóps': 633, 'anatom': 341, 'anát': 393, 'histolog': 2926, 'exum': 2489, 'resídu': 5452, 'deterior': 1818, 'foss': 2647, 'tanqu': 6043, 'esvaz': 2346, 'biodiges': 746, 'colet': 1132, 'industri': 3190, 'lix': 3747, 'capaz': 881, 'dii': 1869, 'extens': 2469, 'impos': 3069, 'andré': 348, 'vidal': 6461, 'dayan': 1594, 'venceslau': 6415, 'ubu': 6282, 'yonnah': 6596, 'raphaell': 5195, 'carre': 922, 'rancisc': 5192, 'perdur': 4655, 'itapissum': 3460, 'sogr': 5844, 'gilvandr': 2781, 'projet': 5016, 'agrár': 198, 'cultiv': 1519, 'liber': 3694, 'incr': 3151, 'exprim': 2459, 'aufer': 602, 'am': 300, 'debat': 1601, 'indigit': 3175, 'sanchoten': 5622, 'consab': 1292, 'statu': 5890, 'mach': 3833, 'esgr': 2268, 'absorv': 20, 'progress': 5012, 'locuç': 3761, 'omit': 4424, 'daí': 1596, 'ganh': 2729, 'dão': 2021, 'silvi': 5779, 'rev': 5471, 'atl': 583, 'íza': 6644, 'assuer': 557, 'mend': 4001, 'comunit': 1213, 'calv': 851, 'importaca': 3067, 'peralt': 4649, 'nissin': 4276, 'food': 2632, 'municipi': 4148, 'vermelh': 6437, 'saíd': 5650, 'prefeit': 4877, 'diári': 1949, 'ofic': 4404, 'selecion': 5693, 'doe': 1967, 'vestibul': 6444, 'íntegr': 6640, 'pre': 4855, 'resend': 5411, 'carapuc': 898, 'viag': 6453, 'subsecç': 5917, 'separ': 5719, 'corpu': 1428, 'alcebíad': 228, 'keney': 3607, 'pae': 4531, 'arrud': 512, 'vinic': 6486, 'desatend': 1711, 'cíc': 1558, 'alcin': 230, 'vári': 6531, 'punh': 5100, 'acarre': 32, 'unipesso': 6316, 'curatel': 1529, 'sanoel': 5628, 'singel': 5796, 'energ': 2170, 'mand': 3872, 'penúr': 4645, 'josenit': 3539, 'iag': 2971, 'alme': 269, 'merit': 4016, 'gasta': 2738, 'várze': 6532, 'encaix': 2155, 'retroat': 5465, 'plenár': 4766, 'ellen': 2107, 'graci': 2823, 'dig': 1865, 'preg': 4880, 'benéf': 727, 'reproduz': 5389, 'isonom': 3453, 'crp': 1502, 'elucid': 2110, 'extraordin': 2481, 'estabeleç': 2306, 'imponh': 3065, 'confund': 1278, 'métod': 4170, 'conf': 1259, 'vantag': 6383, 'favret': 2531, 'exauri': 2384, 'traduz': 6184, 'pront': 5026, 'intui': 3373, 'sentenc': 5714, 'exequ': 2414, 'jaboat': 3483, 'marilen': 3917, 'joaquim': 3524, 'pauloalencaradvocac': 4610, 'igorgoncalvesadvocac': 3005, 'cel': 976, 'armaz': 493, 'ilz': 3026, 'castr': 939, 'educac': 2059, 'líd': 3817, 'vast': 6398, 'model': 4080, 'desnecess': 1770, 'indef': 3157, 'tributár': 6233, 'ig': 3002, 'socorr': 5842, 'vend': 6416, 'florentin': 2614, 'sb': 5652, 'lot': 3776, 'matriz': 3955, 'demosten': 1674, 'modest': 4083, 'glend': 2794, 'ouglendoandrad': 4499, 'whatsapp': 6559, 'material': 3948, 'asa': 530, 'branc': 783, 'gipsoc': 2785, 'sous': 5869, 'lem': 3670, 'depos': 1688, 'adi': 98, 'reflet': 5292, 'remuneratóri': 5356, 'progressiv': 5013, 'inflacion': 3228, 'defas': 1635, 'aquisi': 458, 'moed': 4087, 'reflit': 5294, 'passiv': 4588, 'irrefut': 3425, 'rescisór': 5409, 'expurg': 2462, 'controvérs': 1386, 'prequestion': 4902, 'ges': 2763, 'maur': 3958, 'campbell': 863, 'marqu': 3929, 'prescric': 4909, 'trintenár': 6239, 'tribut': 6231, 'turn': 6261, 'ré': 5585, 'opon': 4448, 'eleitor': 2090, 'transpass': 6207, 'defen': 1637, 'arcabouç': 475, 'arbitrár': 472, 'adct': 87, 'subordin': 5912, 'abrupt': 18, 'indubit': 3187, 'histór': 2928, 'nômad': 4348, 'roman': 5535, 'fru': 2673, 'xxi': 6583, 'modal': 4079, 'pereç': 4659, 'decurs': 1626, 'excepcional': 2397, 'ayr': 657, 'britt': 797, 'débit': 2022, 'defend': 1638, 'tracej': 6181, 'peculi': 4619, 'dinh': 1876, 'sobrepag': 5828, 'fit': 2604, 'favorec': 2530, 'desfavorec': 1752, 'ninguém': 4274, 'enriquec': 2185, 'empobrec': 2136, 'dív': 2026, 'impõ': 3089, 'compreens': 1193, 'infer': 3221, 'redut': 5276, 'pecún': 4624, 'intelecç': 3323, 'operac': 4445, 'aptidã': 449, 'simples': 5788, 'primitiv': 4959, 'redund': 5275, 'cred': 1473, 'correlat': 1435, 'ric': 5496, 'qualitativ': 5130, 'obrigac': 4363, 'parec': 4570, 'subje': 5907, 'superpost': 5969, 'originár': 4473, 'dond': 1982, 'corrigid': 1442, 'mutil': 4156, 'convém': 1410, 'dif': 1855, 'desvalor': 1805, 'qu': 5122, 'depreci': 1690, 'vai': 6363, 'cláusul': 1093, 'matemá': 3946, 'corol': 1424, 'corro': 1444, 'repet': 5377, 'orçamentár': 4484, 'explicit': 2449, 'implícit': 3064, 'melh': 3989, 'desped': 1776, 'compensatór': 1178, 'titular': 6153, 'periodic': 4678, 'intitul': 3365, 'encapsul': 2158, 'cão': 1550, 'mord': 4109, 'aristótel': 489, 'cmn': 1096, 'at': 563, 'concorr': 1239, 'desnatur': 1769, 'corre': 1431, 'fulmin': 2682, 'sup': 5959, 'nuanc': 4326, 'recompos': 5250, 'agasalh': 164, 'pervers': 4705, 'compulsór': 1203, 'mediev': 3980, 'fenômen': 2548, 'tipic': 6146, 'insuscet': 3316, 'apriorís': 437, 'inidône': 3253, 'adin': 105, 'contrapont': 1364, 'porcent': 4803, 'ilicit': 3020, 'contumaz': 1389, 'atualiz': 596, 'foc': 2624, 'descalabr': 1714, 'combal': 1150, 'expeç': 2444, 'declaratór': 1618, 'descol': 1720, 'pseud': 5085, 'imping': 3056, 'recomp': 5247, 'duvid': 2018, 'incompatibil': 3132, 'valdecy': 6367, 'estagi': 2311, 'vaness': 6382, 'mans': 3882, 'alfred': 242, 'eliet': 2102, 'rosanacristovaoadv': 5549, 'ap': 396, 'surubim': 5989, 'margar': 3913, 'extratemporâne': 2484, 'lug': 3796, 'grit': 2846, 'cartóri': 927, 'diverg': 1936, 'graf': 2824, 'emiss': 2131, 'acus': 76, 'frágil': 2675, 'adminstr': 112, 'waness': 6547, 'bat': 699, 'perspicaz': 4701, 'conveni': 1398, 'incoerenc': 3129, 'acerv': 42, 'prob': 4975, 'saiu': 5602, 'mee': 3981, 'herd': 2895, 'tort': 6171, 'aprend': 432, 'fav': 2528, 'consum': 1333, 'ago': 177, 'jul': 3559, 'unidad': 6311, 'natal': 4202, 'fev': 2558, 'jun': 3564, 'perinat': 4676, 'puerper': 5097, 'odontológ': 4395, 'xvii': 6582, 'descontinu': 1728, 'termin': 6101, 'admissibil': 114, 'parág': 4581, 'típic': 6272, 'apert': 408, 'harmoni': 2880, 'eman': 2116, 'col': 1123, 'erhardt': 2233, 'pallom': 4544, 'anj': 358, 'rosan': 5548, 'cristov': 1492, 'sebast': 5664, 'máquin': 4158, 'geniv': 2747, 'aquin': 456, 'adm': 109, 'contrib': 1371, 'bonit': 771, 'minr': 4058, 'laidet': 3621, 'condiço': 1250, 'perfil': 4663, 'profissiográf': 5008, 'agint': 174, 'regin': 5308, 'proporç': 5035, 'amapr': 304, 'prescind': 4906, 'superveni': 5970, 'interf': 3334, 'contenh': 1348, 'liam': 3692, 'primaz': 4956, 'gu': 2850, 'figueired': 2575, 'vindic': 6484, 'rodolf': 5521, 'alburquerqu': 223, 'ama': 301, 'sucup': 5945, 'cop': 1416, 'montemed': 4103, 'alcid': 229, 'aritmé': 490, 'cotidian': 1457, 'limp': 3714, 'desinfecç': 1762, 'bacil': 668, 'ergonôm': 2232, 'perfur': 4667, 'uníss': 6324, 'premiss': 4891, 'afigur': 154, 'bernadet': 731, 'nar': 4193, 'luc': 3787, 'trevisan': 6225, 'gandolf': 2728, 'marcon': 3908, 'gurgel': 2866, 'prola': 5019, 'luí': 3811, 'granj': 2830, 'embarg': 2123, 'omiss': 4422, 'obscur': 4369, 'contrad': 1360, 'pronunci': 5029, 'interregn': 3351, 'infectocontagi': 3218, 'microrgan': 4037, 'patogên': 4595, 'fung': 2699, 'éter': 6630, 'etíl': 2353, 'polvidin': 4791, 'ácid': 6611, 'clorexidin': 1086, 'nugel': 4328, 'papaín': 4554, 'boj': 761, 'monocrá': 4101, 'neutral': 4257, 'explan': 2447, 'atac': 565, 'incab': 3114, 'ota': 4495, 'protozo': 5060, 'príom': 5080, 'contribuç': 1381, 'refe': 5285, 'improced': 3081, 'recinociv': 5240, 'hutzl': 2965, 'djen': 1954, 'reexam': 5282, 'rigamont': 5500, 'câm': 1545, 'funcion': 2688, 'diet': 1854, 'refeitóri': 5286, 'vasilham': 6397, 'pis': 4745, 'pared': 4571, 'carn': 916, 'legum': 3666, 'apart': 400, 'uti': 6352, 'hotel': 2957, 'restaurant': 5444, 'lavand': 3646, 'utensíli': 6351, 'manuse': 3893, 'esteril': 2325, 'imprest': 3079, 'apreenec': 430, 'convoc': 1407, 'codevil': 1108, 'pinh': 4741, 'chiarell': 1015, 'cirúrg': 1058, 'bail': 671, 'epc': 2211, 'tec': 6064, 'interpos': 3347, 'concederlh': 1220, 'sej': 5690, 'hor': 2948, 'valdem': 6368, 'divorci': 1943, 'poc': 4778, 'lavo': 3647, 'homolog': 2940, 'terren': 6104, 'frent': 2668, 'dap': 1584, 'matricul': 3951, 'psf': 5086, 'ac': 27, 'manej': 3875, 'acti': 72, 'idênt': 2999, 'averigu': 649, 'disponh': 1907, 'homen': 2938, 'compens': 1177, 'intercal': 3330, 'ininterrupt': 3256, 'interval': 3355, 'extrapol': 2482, 'mold': 4090, 'mikael': 4041, 'madalen': 3840, 'chiq': 1017, 'serrolând': 5737, 'ipub': 3410, 'detr': 1822, 'obtev': 4381, 'enf': 2172, 'esteriliz': 2326, 'intervenç': 3359, 'pontu': 4798, 'expõ': 2465, 'argumentandum': 486, 'diuturn': 1935, 'reed': 5279, 'muss': 4153, 'ótic': 6656, 'descont': 1727, 'rep': 5372, 'facil': 2498, 'recíproc': 5267, 'finance': 2588, 'renumer': 5366, 'ipubiprev': 3411, 'laí': 3653, 'jurem': 3573, 'obit': 4356, 'cartori': 926, 'solidific': 5850, 'lidian': 3706, 'regilan': 5304, 'eleti': 2094, 'girassol': 2787, 'imag': 3031, 'corr': 1430, 'aproximad': 447, 'sécul': 6000, 'salgu': 5608, 'impúrb': 3091, 'marcelin': 3905, 'granit': 2829, 'vivian': 6508, 'calvacant': 852, 'custei': 1536, 'epileps': 2214, 'esboç': 2247, 'segment': 5679, 'anormal': 360, 'recuper': 5262, 'redobr': 5272, 'apoi': 416, 'socioeconôm': 5841, 'quas': 5139, 'rmc': 5510, 'narendr': 4194, 'borg': 774, 'induz': 3191, 'sug': 5948, 'cabal': 816, 'vi': 6449, 'exceç': 2402, 'maicon': 3852, 'martini': 3936, 'departament': 1685, 'calmin': 849, 'cia': 1023, 'calcinaca': 842, 'mineraca': 4050, 'supergess': 5964, 'sercon': 5728, 'assess': 543, 'contavel': 1344, 'trein': 6222, 'assierly': 546, 'fortal': 2641, 'carir': 911, 'mirim': 4067, 'moreilând': 4110, 'declaratóri': 1619, 'safr': 5597, 'assil': 547, 'seringu': 5733, 'extrativ': 2485, 'veget': 6403, 'otávi': 4498, 'estranh': 2336, 'arrend': 507, 'comod': 1163, 'michel': 4033, 'bilhalv': 744, 'ricarl': 5499, 'almagr': 268, 'ivor': 3474, 'scheff': 5655, 'multicit': 4140, 'emerg': 2128, 'jair': 3494, 'alz': 294, 'gilbertin': 2775, 'nabuc': 4181, 'arauj': 468, 'colin': 1138, 'cef': 974, 'fundi': 2695, 'sucess': 5941, 'renov': 5363, 'prescrit': 4910, 'vân': 6533, 'hack': 2875, 'contratual': 1370, 'suces': 5940, 'extr': 2477, 'teoric': 6097, 'expect': 2435, 'desindex': 1761, 'teór': 6118, 'fisc': 2594, 'otn': 4497, 'btn': 802, 'ufir': 6290, 'brut': 801, 'bacen': 666, 'estim': 2329, 'amostr': 326, 'tbf': 6060, 'fórmul': 2714, 'paulatin': 4607, 'index': 3170, 'cair': 834, 'mass': 3941, 'provoc': 5073, 'caí': 958, 're': 5213, 'discricion': 1898, 'mov': 4123, 'primórdi': 4961, 'nº': 4338, 'ign': 3003, 'surg': 5986, 'malefíci': 3863, 'recent': 5233, 'vinh': 6485, 'inequivocad': 3200, 'repit': 5380, 'apropr': 440, 'desvencilh': 1807, 'píf': 5115, 'impus': 3087, 'desenh': 1747, 'erg': 2231, 'omn': 4425, 'tunc': 6257, 'proveit': 5064, 'trânsit': 6248, 'conseqü': 1305, 'reponh': 5381, 'inflacionár': 3229, 'jaian': 3492, 'macac': 3829, 'chã': 1021, 'lamartin': 3625, 'nbº': 4209, 'manuell': 3891, 'ideal': 2988, 'caracterís': 896, 'avo': 653, 'juz': 3595, 'clóvil': 1095, 'menez': 4003, 'feir': 2542, 'clovil': 1089, 'cai': 831, 'palm': 4545, 'laerci': 3619, 'jaqu': 3503, 'paranh': 4562, 'usin': 6339, 'fre': 2665, 'canec': 875, 'cozinh': 1462, 'protocoliz': 5059, 'irresign': 3432, 'descas': 1718, 'exercit': 2417, 'suprim': 5984, 'alhur': 250, 'inúm': 3398, 'adrian': 125, 'bram': 782, 'ineg': 3198, 'súbit': 6014, 'ocasion': 4385, 'precár': 4870, 'clementel': 1080, 'denegatóri': 1677, 'motivad': 4119, 'catend': 947, 'timbr': 6140, 'minut': 4062, 'deline': 1661, 'limo': 3712, 'vasconceloscoutinhoadvocac': 6395, 'vcajurid': 6400, 'transit': 6202, 'surpr': 5987, 'transcr': 6194, 'madrast': 3842, 'padrast': 4530, 'dispunh': 1914, 'vital': 6502, 'vestu': 6446, 'aument': 606, 'inviabiliz': 3388, 'colid': 1136, 'indetermin': 3167, 'advert': 133, 'sinal': 5792, 'deneg': 1676, 'vasconcel': 6394, 'cout': 1460, 'subescrev': 5905, 'brun': 799, 'paraíb': 4565, 'sairé': 5601, 'pádu': 5106, 'wenderson': 6552, 'golbert': 2808, 'arcanj': 476, 'thayron': 6125, 'interp': 3346, 'sebastia': 5665, 'bot': 777, 'ind': 3156, 'textil': 6117, 'quimin': 5162, 'gabinet': 2715, 'invert': 3382, 'cobr': 1106, 'karolin': 3604, 'cáss': 1543, 'letíc': 3682, 'nilz': 4272, 'cipó': 1050, 'munícipi': 4151, 'araipin': 463, 'temporár': 6087, 'menc': 3999, 'solic': 5847, 'pes': 4711, 'arararipin': 465, 'regustr': 5319, 'gercin': 2759, 'jacint': 3484, 'honorin': 2945, 'serr': 5735, 'sec': 5666, 'iça': 3478, 'inte': 3319, 'dissoci': 1919, 'britoadvog': 796, 'subjac': 5906, 'recus': 5264, 'extemporane': 2467, 'produzir': 5000, 'fortuit': 2643, 'dispon': 1906, 'expô': 2464, 'remans': 5346, 'restri': 5447, 'proib': 5014, 'sigl': 5770, 'enunc': 2203, 'desacompanh': 1701, 'glor': 2797, 'laticini': 3639, 'alcalil': 224, 'cáus': 1544, 'álcalil': 6614, 'concentr': 1223, 'ocupac': 4391, 'intens': 3325, 'organ': 4465, 'luv': 3806, 'másc': 4161, 'auricul': 610, 'extern': 2470, 'modul': 4086, 'taí': 6059, 'schilling': 5657, 'ferraz': 2555, 'habitual': 2874, 'exim': 2425, 'nivel': 4282, 'limt': 3715, 'respiratór': 5431, 'ócul': 6648, 'resping': 5430, 'oriund': 4474, 'contraprov': 1367, 'exponh': 2454, 'prejudicial': 4884, 'degrad': 1652, 'pietsch': 4736, 'serafin': 5727, 'preclus': 4866, 'dermev': 1698, 'reginald': 5309, 'compass': 1174, 'olind': 4417, 'gued': 2855, 'cpnj': 1467, 'cabr': 820, 'cord': 1421, 'santanaegued': 5630, 'porpart': 4804, 'neoplas': 4242, 'malign': 3866, 'reativ': 5223, 'definitiv': 1645, 'ovári': 4511, 'imcomplet': 3033, 'diabet': 1841, 'mellitu': 3992, 'insulin': 3313, 'errône': 2242, 'cadún': 827, 'cra': 1468, 'incorret': 3150, 'tecnic': 6067, 'senecess': 5704, 'bartolom': 690, 'erinald': 2236, 'cavalc': 955, 'timóte': 6142, 'panel': 4550, 'urgenc': 6331, 'gerent': 2760, 'guilhermin': 2860, 'hipossufic': 2917, 'dixi': 1946, 'lalekl': 3624, 'localfri': 3756, 'perfix': 4664, 'nho': 4266, 'grac': 2822, 'sóc': 6010, 'pra': 4847, 'jucesp': 3551, 'prelec': 4889, 'iur': 3466, 'important': 3068, 'numeru': 4332, 'clausu': 1079, 'transitór': 6203, 'alternad': 281, 'defes': 1640, 'infraleg': 3241, 'parágaf': 4582, 'dis': 1893, 'tolh': 6163, 'autentic': 619, 'elev': 2098, 'visualiz': 6500, 'predit': 4872, 'apens': 406, 'límp': 3819, 'cauç': 953, 'fidejussór': 2571, 'ressarc': 5440, 'desinter': 1763, 'consens': 1302, 'sorocab': 5866, 'emanuel': 2120, 'arra': 501, 'expedit': 2439, 'venanci': 6413, 'alex': 238, 'delmond': 1662, 'neid': 4236, 'sandr': 5623, 'bent': 725, 'yaho': 6593, 'princes': 4962, 'isabel': 3440, 'suplic': 5975, 'afor': 160, 'patrocíni': 4602, 'deflagr': 1649, 'cumprí': 1523, 'agric': 189, 'amazon': 308, 'enxov': 2209, 'mag': 3843, 'iril': 3417, 'lib': 3693, 'conserv': 1306, 'educaçõ': 2061, 'negatór': 4231, 'notóri': 4310, 'iter': 3463, 'wladim': 6565, 'nova': 4313, 'martin': 3935, 'usual': 6346, 'isol': 3451, 'ltr': 3785, 'assev': 544, 'paut': 4611, 'comung': 1209, 'dirim': 1891, 'web': 6549, 'consagr': 1293, 'previdenciari': 4944, 'contribuica': 1374, 'revisa': 5479, 'irrelev': 3428, 'adequad': 94, 'dal': 1574, 'atin': 577, 'contraditóri': 1362, 'ofens': 4398, 'reflex': 5293, 'fux': 2705, 'pellegrin': 4636, 'millan': 4047, 'lut': 3805, 'abast': 7, 'conqu': 1288, 'assecuratór': 536, 'júril': 3600, 'nucle': 4327, 'ameaç': 315, 'valor': 6376, 'especul': 2283, 'ilaç': 3012, 'pro': 4973, 'rat': 5200, 'preç': 4952, 'geograf': 2752, 'estatís': 2320, 'ibg': 2975, 'guerre': 2857, 'nec': 4220, 'reci': 5237, 'obedi': 4354, 'paz': 4613, 'jaguarib': 3491, 'esc': 2249, 'cpj': 1466, 'bloc': 756, 'gecol': 2741, 'sinaliz': 5793, 'rentabil': 5365, 'plausibil': 4758, 'defir': 1647, 'abrang': 15, 'gilm': 2778, 'said': 5598, 'barã': 691, 'suassun': 5902, 'jaim': 3493, 'vasc': 6393, 'beltr': 710, 'ipojuc': 3405, 'noem': 4286, 'açuarcar': 661, 'queiroz': 5151, 'galv': 2723, 'las': 3633, 'agroindustr': 192, 'copetr': 1417, 'tra': 6179, 'energer': 2171, 'serranopolil': 5736, 'idé': 2998, 'discrep': 1897, 'referenc': 5288, 'arrast': 503, 'hojé': 2933, 'uma': 6303, 'lea': 3657, 'pixing': 4748, 'spazi': 5871, 'nazaré': 4208, 'carolinetanan': 920, 'dorav': 1985, 'empres': 2145, 'carolin': 919, 'denis': 1678, 'tanan': 6040, 'alhei': 249, 'pró': 5081, 'calend': 847, 'leã': 3687, 'ferrament': 2554, 'abert': 9, 'ques': 5155, 'preve': 4936, 'dic': 1848, 'empresár': 2148, 'coub': 1459, 'cei': 975, 'irpf': 3421, 'noutr': 4311, 'coadun': 1103, 'condut': 1254, 'mell': 3991, 'increment': 3152, 'alguém': 246, 'suped': 5960, 'juridic': 3575, 'proscr': 5048, 'justifiqu': 3591, 'obtenh': 4379, 'lícit': 3816, 'serafim': 5726, 'flav': 2609, 'muniz': 4150, 'izabel': 3476, 'previdenc': 4942, 'patamar': 4593, 'francicleid': 2655, 'almel': 271, 'fsp': 2677, 'metalurg': 4025, 'construç': 1329, 'itaporang': 3461, 'possidi': 4824, 'guim': 2861, 'varej': 6388, 'desacord': 1702, 'corpor': 1427, 'cumprir': 1522, 'biopsicossoc': 749, 'multiprofiss': 4143, 'interdisciplin': 3331, 'instituir': 3304, 'alíquot': 299, 'informal': 3235, 'dediqu': 1631, 'fictíci': 2569, 'consórci': 1334, 'subsidiár': 5922, 'voluntár': 6520, 'postal': 4830, 'avis': 652, 'telegram': 6077, 'declin': 1620, 'ineficaz': 3196, 'telefôn': 6075, 'fax': 2532, 'correi': 1432, 'útel': 6664, 'expedi': 2437, 'desfavor': 1751, 'alvitr': 292, 'alert': 237, 'mantém': 3888, 'reipersecutóri': 5323, 'custodi': 1537, 'oponh': 4449, 'confl': 1273, 'irrepet': 3431, 'strict': 5899, 'sensu': 5711, 'intervall': 3356, 'bilater': 743, 'institutonac': 3306, 'acertad': 41, 'debruç': 1603, 'desarrazo': 1708, 'va': 6359, 'atitud': 580, 'cern': 996, 'minucios': 4061, 'planic': 4752, 'antecipatóri': 369, 'lanç': 3629, 'leandr': 3659, 'oziel': 4515, 'lucivân': 3792, 'encruzilh': 2165, 'func': 2687, 'ozielbenedit': 4516, 'cut': 1540, 'avó': 655, 'beatriz': 704, 'adult': 127, 'enderenç': 2166, 'portu': 4811, 'sement': 5698, 'pert': 4702, 'colôn': 1146, 'facultativ': 2505, 'apliqu': 413, 'toru': 6172, 'yamamot': 6594, 'sobretud': 5832, 'consubstanc': 1330, 'maquin': 3897, 'permitir': 4688, 'vão': 6535, 'unânim': 6323, 'oneros': 4433, 'betan': 734, 'werick': 6553, 'will': 6563, 'aruj': 528, 'clet': 1082, 'wmadvog': 6566, 'inúmer': 3399, 'vítim': 6544, 'usf': 6338, 'matrícul': 3956, 'rurícul': 5577, 'trfª': 6229, 'desemb': 1741, 'jira': 3519, 'ar': 461, 'meguerian': 3983, 'lavr': 3648, 'amilc': 319, 'elei': 2088, 'convenc': 1397, 'verossímil': 6440, 'taxa': 6056, 'talh': 6027, 'vandileid': 6381, 'açud': 662, 'custód': 1538, 'prést': 5077, 'consent': 1303, 'beneplácit': 722, 'hect': 2884, 'jerimum': 3510, 'exaustiv': 2386, 'pronaf': 5025, 'quilombol': 5160, 'ata': 564, 'fetap': 2557, 'decisóri': 1615, 'curt': 1533, 'revest': 5475, 'intrínsec': 3371, 'equidad': 2221, 'predomin': 4873, 'extirp': 2476, 'forens': 2634, 'lembr': 3671, 'crav': 1471, 'índol': 6637, 'sobreman': 5827, 'chuv': 1020, 'braç': 789, 'facilit': 2499, 'incentiv': 3119, 'minim': 4052, 'descr': 1731, 'reboc': 5225, 'salm': 5613, 'later': 3638, 'vac': 6360, 'pret': 4925, 'serrot': 5738, 'bod': 758, 'rydan': 5582, 'barbalh': 686, 'amand': 302, 'kamill': 3601, 'zel': 6601, 'pradicó': 4848, 'costum': 1453, 'carv': 929, 'mocidad': 4076, 'inerc': 3203, 'xequ': 6573, 'positil': 4818, 'ingrid': 3247, 'sord': 5864, 'auren': 608, 'aderb': 95, 'representada': 5387, 'órdin': 6653, 'email': 2115, 'lucr': 3793, 'trimestr': 6235, 'distanci': 1923, 'tributar': 6232, 'bulh': 804, 'explic': 2448, 'secund': 5671, 'cind': 1043, 'letáci': 3681, 'jansen': 3502, 'institucional': 3302, 'ortn': 4480, 'tesour': 6109, 'plêiad': 4773, 'suced': 5938, 'govern': 2817, 'coll': 1139, 'tradic': 6182, 'perplex': 4693, 'inconsist': 3138, 'disponibiliz': 1909, 'comp': 1166, 'auréli': 613, 'ilm': 3022, 'sfh': 5756, 'transcrev': 6195, 'interfer': 3335, 'ofend': 4397, 'pe': 4617, 'vol': 6516, 'rtj': 5569, 'influenci': 3233, 'influ': 3231, 'determinaça': 1820, 'correça': 1440, 'dedeflaça': 1628, 'irredutibil': 3424, 'nao': 4189, 'preservaça': 4914, 'obrigaça': 4367, 'mecan': 3972, 'plu': 4770, 'minu': 4059, 'oscil': 4485, 'posi': 4816, 'aobrig': 394, 'distorc': 1927, 'primi': 4958, 'defl': 1648, 'albin': 221, 'zavasck': 6600, 'eresp': 2230, 'sérgi': 6002, 'kukin': 3610, 'sediment': 5677, 'finaliz': 2586, 'artificial': 525, 'ontologic': 4438, 'revé': 5483, 'deficitár': 1642, 'invaria': 3379, 'excert': 2398, 'pei': 4632, 'esquec': 2298, 'arraig': 502, 'retrospect': 5468, 'pudéss': 5096, 'recup': 5261, 'historic': 2927, 'experiment': 2442, 'hiperinfl': 2915, 'distanc': 1922, 'expressiv': 2458, 'iníqu': 3397, 'financi': 2589, 'rent': 5364, 'desproporc': 1782, 'confisc': 1271, 'inger': 3245, 'democrá': 1672, 'pun': 5099, 'sobrevém': 5836, 'universal': 6320, 'singul': 5797, 'corpóre': 1429, 'heterogêne': 2900, 'incorpóre': 3148, 'heranç': 2892, 'unific': 6312, 'acessóri': 45, 'circunstanc': 1054, 'vam': 6380, 'convol': 1408, 'expedir': 2438, 'ampli': 330, 'reinvent': 5322, 'reviravolt': 5477, 'redu': 5274, 'cdb': 964, 'rdb': 5212, 'prefix': 4879, 'max': 3963, 'gênes': 2870, 'flex': 2611, 'buzin': 810, 'sacrament': 5593, 'pactu': 4524, 'decim': 1612, 'comit': 1162, 'copom': 1418, 'decresc': 1623, 'máxim': 4163, 'confi': 1265, 'predatór': 4871, 'confianç': 1266, 'quebr': 5144, 'nít': 4343, 'expropri': 2460, 'gigantesc': 2772, 'destru': 1803, 'negóci': 4235, 'op': 4442, 'esbulh': 2248, 'culmin': 1516, 'std': 5891, 'gigant': 2771, 'subtr': 5935, 'buzim': 809, 'comport': 1187, 'apuratór': 452, 'repõ': 5396, 'considera': 1309, 'poup': 4838, 'resoluca': 5421, 'visu': 6499, 'discricionariedad': 1899, 'recalcul': 5228, 'subjet': 5908, 'verdade': 6428, 'corrij': 1443, 'indiscut': 3178, 'sirv': 5806, 'repos': 5383, 'substituí': 5930, 'cresc': 1478, 'pib': 4734, 'aperfeiço': 407, 'fmi': 2623, 'infinitiv': 3225, 'aniquil': 356, 'diees': 1851, 'sensi': 5708, 'profund': 5010, 'inidone': 3252, 'nitid': 4280, 'desprend': 1781, 'espoli': 2291, 'contraprest': 1366, 'perspec': 4700, 'sac': 5591, 'tiran': 6150, 'rechaç': 5236, 'internac': 3344, 'fug': 2679, 'tsunam': 6253, 'marol': 3928, 'recomponh': 5249, 'cármen': 1542, 'lúc': 3826, 'céz': 1557, 'pelus': 4637, 'iptu': 3409, 'pacif': 4521, 'noronh': 4299, 'incont': 3142, 'espelh': 2286, 'reda': 5269, 'mensur': 4007, 'empiric': 2135, 'afinal': 156, 'jamal': 3496, 'getúli': 2766, 'varg': 6389, 'fgv': 2562, 'flutu': 2619, 'usurp': 6350, 'transcend': 6192, 'instituc': 3301, 'idone': 2995, 'captur': 890, 'quantific': 5133, 'empír': 2151, 'autoevid': 622, 'periód': 4680, 'rmoneysymbmil': 5514, 'fech': 2536, 'ide': 2987, 'genuín': 2749, 'pronúnc': 5030, 'abstrat': 21, 'meir': 3985, 'absurd': 22, 'expens': 2441, 'unic': 6309, 'pous': 4840, 'alegr': 235, 'agui': 204, 'procedenc': 4986, 'sesent': 5744, 'sto': 5897, 'maiz': 3856, 'colômb': 1145, 'brej': 790, 'madr': 3841, 'cerc': 994, 'residenc': 5418, 'líri': 3822, 'paniculit': 4552, 'pescoç': 4713, 'dors': 1989, 'lomb': 3768, 'gonartros': 2810, 'sequel': 5723, 'indefinid': 3160, 'fisioteráp': 2601, 'distorç': 1928, 'conflit': 1274, 'vulnerável': 6528, 'estági': 2344, 'sociocult': 5840, 'rcl': 5211, 'momentâne': 4094, 'marcell': 3906, 'gran': 2825, 'pandem': 4549, 'direcion': 1885, 'covid': 1461, 'cidadan': 1031, 'beneficiár': 717, 'relation': 5333, 'poly': 4792, 'falcã': 2512, 'ventil': 6420, 'quesit': 5156, 'perici': 4670, 'proat': 4974, 'emoc': 2133, 'distr': 1929, 'colater': 1128, 'molést': 4091, 'chegou': 1014, 'patológ': 4597, 'escolar': 2255, 'científ': 1036, 'perfeitoest': 4662, 'expliqu': 2450, 'cfm': 1007, 'porq': 4806, 'sild': 5777, 'lote': 3777, 'regil': 5303, 'propri': 5040, 'renild': 5362, 'cnh': 1097, 'hapv': 2878, 'acompnh': 62, 'past': 4590, 'muitooooooooo': 4136, 'apo': 414, 'enrol': 2186, 'existenc': 2427, 'lal': 3623, 'carnaub': 917, 'caet': 828, 'navi': 4207, 'betân': 737, 'cornéli': 1423, 'comodatár': 1165, 'melanc': 3988, 'abób': 26, 'jhonât': 3518, 'rhavy': 5490, 'clam': 1072, 'lapid': 3630, 'saind': 5600, 'beir': 707, 'wilian': 6561, 'gasolin': 2736, 'policlín': 4788, 'bar': 684, 'lurd': 3802, 'hug': 2959, 'valeri': 6371, 'luci': 3789, 'cait': 836, 'impress': 3078, 'resenh': 5412, 'josewillamsadv': 3540, 'humbert': 2963, 'esoc': 2273, 'cronogram': 1500, 'arrecad': 504, 'rui': 5571, 'gemini': 2742, 'maciel': 3835, 'loj': 3767, 'antoniopedroadvog': 379, 'gamil': 2727, 'alvar': 289, 'gall': 2722, 'instituica': 3303, 'nord': 4294, 'educaca': 2060, 'assistenc': 553, 'responsabil': 5435, 'karin': 3602, 'estagiár': 2312, 'exceletissm': 2392, 'subces': 5904, 'verleid': 6435, 'call': 848, 'jocir': 3526, 'freit': 2667, 'equivocad': 2228, 'variedad': 6391, 'alvim': 291, 'conceitu': 1222, 'desg': 1756, 'recep': 5234, 'cris': 1486, 'hipoté': 2922, 'destinat': 1800, 'fragil': 2652, 'debilit': 1602, 'infortúni': 3236, 'secundum': 5672, 'eventum': 2365, 'probation': 4979, 'escritór': 2260, 'honorari': 2944, 'sucubenc': 5943, 'flori': 2616, 'alexandr': 239, 'deum': 1826, 'presenc': 4911, 'acion': 52, 'conind': 1285, 'catástrof': 949, 'desastr': 1709, 'verm': 6436, 'cabeç': 818, 'auspíci': 616, 'ajuíz': 216, 'nas': 4196, 'duart': 2010, 'dulcine': 2011, 'emis': 2130, 'antôn': 383, 'osvald': 4494, 'petrópolil': 4727, 'mauríci': 3962, 'nassau': 4201, 'irretroat': 3433, 'aleatóri': 233, 'ral': 5187, 'crimin': 1485, 'interim': 3337, 'exigibil': 2424, 'sergi': 5729, 'planej': 4751, 'abrand': 14, 'provis': 5070, 'aval': 639, 'logic': 3763, 'incumb': 3154, 'garantir': 2733, 'reversibil': 5473, 'cibel': 1027, 'inaj': 3103, 'critóri': 1495, 'correspondên': 1437, 'loc': 3754, 'liz': 3748, 'edad': 2044, 'eco': 2038, 'res': 5405, 'dênc': 2025, 'carte': 925, 'docu': 1964, 'rament': 5189, 'sign': 5771, 'tári': 6265, 'acas': 34, 'ria': 5492, 'obs': 4368, 'vânc': 6534, 'rec': 5226, 'nheç': 4265, 'cumbenc': 1520, 'ore': 4464, 'taliz': 6028, 'thainã': 6121, 'rosin': 5556, 'anál': 390, 'nasariobent': 4197, 'perfunct': 4665, 'aond': 395, 'raimund': 5186, 'nonat': 4292, 'tabul': 6020, 'gonçal': 2812, 'petit': 4722, 'clementin': 1081, 'retrat': 5461, 'fedr': 2539, 'camb': 857, 'revist': 5480, 'rejeit': 5328, 'licitud': 3702, 'eleit': 2089, 'pact': 4523, 'inadmit': 3101, 'atrel': 591, 'sálvi': 5998, 'ristj': 5506, 'mutu': 4157, 'equaç': 2220, 'peçanh': 4730, 'ilegitim': 3016, 'traç': 6217, 'releit': 5338, 'constitucional': 1325, 'habitac': 2873, 'prevej': 4937, 'ageresp': 169, 'laurit': 3643, 'deresp': 1696, 'ald': 231, 'desfeit': 1754, 'inexecuç': 3208, 'sinistr': 5798, 'restitu': 5445, 'abranj': 16, 'quê': 5172, 'selc': 5692, 'infinit': 3224, 'subl': 5909, 'compromiss': 1199, 'exaç': 2387, 'norte': 4301, 'ven': 6412, 'fer': 2549, 'desobedec': 1772, 'desdobr': 1739, 'prequest': 4901, 'record': 5257, 'agreg': 183, 'proclam': 4991, 'sobreprincípi': 5829, 'aprofund': 439, 'coletiv': 1133, 'sonh': 5862, 'correl': 1433, 'emprést': 2150, 'sordid': 5865, 'reprov': 5392, 'bancár': 679, 'imens': 3036, 'negoci': 4233, 'pior': 4743, 'suponh': 5976, 'mantiv': 3887, 'pov': 4841, 'exorbit': 2431, 'irrac': 3422, 'content': 1349, 'antepass': 370, 'aconcheg': 64, 'privac': 4972, 'estimul': 2330, 'atra': 586, 'recompens': 5248, 'penh': 4641, 'cole': 1129, 'massific': 3942, 'diversific': 1938, 'mistéri': 4071, 'projeç': 5017, 'personal': 4699, 'impuls': 3086, 'instin': 3299, 'apetit': 410, 'fom': 2628, 'inimig': 3255, 'renard': 5359, 'églis': 6627, 'social': 5838, 'seq': 5721, 'incontest': 3143, 'sft': 5757, 'extraleg': 2480, 'manif': 3877, 'explícit': 2453, 'lewandowsk': 3686, 'cez': 1006, 'substitut': 5929, 'litígi': 3742, 'celly': 981, 'sabrin': 5590, 'francilen': 2657, 'nágyl': 4339, 'púb': 5118, 'reynald': 5484, 'timor': 6141, 'sbn': 5653, 'térre': 6269, 'leonard': 3675, 'balbin': 674, 'entrev': 2201, 'trust': 6246, 'work': 6568, 'fortalec': 2642, 'laç': 3652, 'credenci': 1475, 'religi': 5342, 'testamentár': 6110, 'domicíli': 1977, 'comunh': 1210, 'fianç': 2563, 'reciproc': 5241, 'apól': 453, 'xvi': 6581, 'colh': 1134, 'ângel': 6620, 'valdec': 6366, 'adentr': 92, 'arregiment': 505, 'sia': 5761, 'edifici': 2048, 'tay': 6058, 'skyp': 5815, 'advocaciagmf': 138, 'mfleck': 4032, 'possuı': 4827, 'benefı': 721, 'cio': 1047, 'det': 1813, 'holerit': 2935, 'injustificad': 3261, 'célebr': 1553, 'macul': 3838, 'proporcional': 5034, 'purg': 5103, 'sulc': 5953, 'peculiar': 4620, 'antecipat': 367, 'pri': 4953, 'aça': 660, 'nci': 4214, 'substituı': 5931, 'difı': 1864, 'cil': 1038, 'auxı': 638, 'lio': 3726, 'perı': 4710, 'hip': 2913, 'cie': 1033, 'irrep': 3429, 'vel': 6408, 'consubstanci': 1331, 'prejuı': 4888, 'mol': 4089, 'sti': 5895, 'indefir': 3161, 'nio': 4275, 'bonat': 767, 'zo': 6604, 'veil': 6406, 'exib': 2421, 'blic': 755, 'faculdad': 2502, 'publicum': 5093, 'produc': 4997, 'videnc': 6462, 'tan': 6039, 'gendiqu': 2744, 'hominil': 2939, 'facultat': 2504, 'praeb': 4849, 'tir': 6149, 'secretum': 5669, 'ber': 728, 'definiç': 1646, 'theodor': 6128, 'ni': 4267, 'exibiç': 2422, 'nóvel': 4346, 'admitir': 116, 'ilegít': 3017, 'indu': 3186, 'coerci': 1113, 'rogatór': 5531, 'advers': 132, 'juı': 3598, 'coact': 1102, 'atrav': 588, 'incident': 3122, 'probat': 4978, 'vered': 6430, 'raciocı': 5179, 'ovı': 4512, 'dio': 1878, 'bapt': 683, 'prod': 4995, 'preparat': 4897, 'marim': 3918, 'bonfim': 770, 'coorden': 1415, 'fotoc': 2649, 'pia': 4732, 'coer': 1112, 'repart': 5374, 'lis': 3730, 'client': 1083, 'agend': 167, 'canal': 872, 'feminin': 2546, 'masculin': 3940, 'sanitár': 5627, 'capitan': 885, 'distrat': 1930, 'assemblé': 539, 'norma': 4297, 'rotin': 5558, 'agiliz': 172, 'carimb': 909, 'remet': 5348, 'detém': 1824, 'gam': 2725, 'contabiliz': 1337, 'algébr': 247, 'tacanh': 6021, 'silênci': 5780, 'trag': 6185, 'descobr': 1719, 'remov': 5352, 'presumı': 4922, 'tamb': 6035, 'ncul': 4216, 'remun': 5353, 'lcul': 3656, 'fil': 2578, 'contribuiç': 1376, 'invers': 3381, 'press': 4916, 'fiscaliz': 2596, 'aparent': 399, 'empregatı': 2143, 'basil': 695, 'inveríd': 3383, 'inserv': 3286, 'lembranç': 3672, 'inoc': 3264, 'liv': 3743, 'estreit': 2337, 'desproporcional': 1783, 'divin': 1940, 'encorp': 2164, 'desvi': 1808, 'hely': 2888, 'meirell': 3986, 'malh': 3865, 'comiss': 1161, 'ele': 2087, 'comportament': 1188, 'congru': 1280, 'ilóg': 3029, 'incongru': 3137, 'irrazo': 3423, 'ditam': 1934, 'romp': 5537, 'demas': 1668, 'providenc': 5068, 'insculp': 3283, 'inval': 3377, 'transbord': 6191, 'dupl': 2013, 'novel': 4316, 'processu': 4990, 'famı': 2520, 'lia': 3691, 'reconsider': 5255, 'citaç': 1062, 'perscrut': 4696, 'substanci': 5927, 'hon': 2942, 'advocatı': 142, 'nic': 4268, 'resol': 5420, 'cjf': 1069, 'abdic': 8, 'derr': 1699, 'michelott': 4034, 'fleck': 2610, 'juventin': 3593, 'evangel': 2359, 'jerlany': 3511, 'pat': 4592, 'hortifrutigranj': 2951, 'inexit': 3212, 'vog': 6515, 'vestiment': 6445, 'encar': 2159, 'assol': 556, 'nair': 4187, 'alug': 284, 'consom': 1316, 'doaç': 1960, 'problem': 4983, 'fiaç': 2564, 'infiltr': 3223, 'móvel': 4176, 'prec': 4857, 'stefanin': 5893, 'ajust': 215, 'aproveit': 445, 'ivan': 3470, 'athié': 575, 'indefin': 3159, 'reún': 5487, 'patrocin': 4601, 'sobrevenh': 5833, 'adil': 103, 'expans': 2434, 'att': 593, 'jerlâny': 3512, 'amasi': 307, 'josidant': 3541, 'ruralmes': 5574, 'afa': 149, 'hídr': 2968, 'secretár': 5670, 'joselang': 3535, 'claudivan': 1078, 'nilson': 4270, 'nacioan': 4182, 'ubiratan': 6280, 'sacrific': 5594, 'urubupung': 6335, 'beb': 705, 'adon': 120, 'meced': 3973, 'sucat': 5937, 'sanepav': 5625, 'alamed': 217, 'cant': 876, 'desconform': 1723, 'limong': 3713, 'franç': 2659, 'viabiliz': 6452, 'conceb': 1218, 'especif': 2280, 'lcat': 3655, 'insatisfatór': 3277, 'ansei': 362, 'imput': 3088, 'diligenci': 1871, 'evas': 2361, 'vên': 6538, 'contraditór': 1361, 'imprim': 3080, 'argemir': 483, 'geyson': 2767, 'caiobarr': 832, 'glór': 2798, 'goit': 2806, 'legil': 3662, 'preambul': 4856, 'lumb': 3800, 'brasile': 785, 'cabeleir': 817, 'domiciliad': 1976, 'mais': 3855, 'matarazz': 3945, 'olav': 4415, 'bilac': 742, 'atlân': 584, 'encaminh': 2156, 'ronald': 5540, 'pâncre': 5113, 'thiagoblumb': 6131, 'categór': 946, 'prevê': 4950, 'complementaçã': 1183, 'acat': 35, 'ncess': 4213, 'contabilz': 1338, 'po': 4776, 'doo': 1983, 'ccontabil': 962, 'ontabil': 4437, 'õe': 6659, 'ri': 5491, 'ntud': 4325, 'omplement': 4426, 'tou': 6176, 'tênc': 6271, 'atinj': 579, 'subseqü': 5919, 'hipót': 2923, 'ob': 4352, 'ccontribu': 963, 'ontribu': 4439, 'ilidad': 3021, 'sidi': 5766, 'complemen': 1181, 'tar': 6047, 'nced': 4211, 'marin': 3919, 'cajaz': 839, 'riachuel': 5494, 'éban': 6625, 'divis': 1942, 'buíqu': 811, 'félix': 2710, 'prate': 4850, 'calej': 846, 'idenfic': 2990, 'condômin': 1257, 'acamp': 31, 'pastoril': 4591, 'imuniz': 3092, 'governament': 2818, 'peticion': 4721, 'intermedi': 3340, 'lilian': 3708, 'roriz': 5546, 'sumar': 5956, 'ipsil': 3408, 'marisc': 3924, 'caranguej': 897, 'eviscer': 2371, 'prepond': 4898, 'palumb': 4547, 'territor': 6105, 'descur': 1736, 'indici': 3173, 'incontrast': 3145, 'sentenci': 5715, 'prejud': 4882, 'dúbi': 2028, 'híg': 2969, 'qualif': 5127, 'infens': 3220, 'advocatíc': 140, 'magnu': 3849, 'delg': 1657, 'parquet': 4574, 'pauliann': 4608, 'tenóri': 6095, 'veridi': 6431, 'valenç': 6370, 'geovand': 2754, 'ceab': 967, 'erick': 2235, 'torr': 6170, 'porc': 4802, 'provisóri': 5072, 'aud': 598, 'romul': 5538, 'estanislau': 2316, 'divinópolil': 1941, 'cesarbarb': 1001, 'funap': 2686, 'cass': 935, 'arv': 529, 'erári': 2244, 'cofr': 1115, 'tempes': 6084, 'repis': 5379, 'romer': 5536, 'sayon': 5649, 'eduard': 2057, 'ailton': 208, 'jacó': 3487, 'mtp': 4131, 'sau': 5646, 'gipsit': 2784, 'esclareç': 2253, 'ranch': 5191, 'deten': 1816, 'diar': 1845, 'lazzar': 3651, 'relembr': 5339, 'descrev': 1732, 'ângul': 6621, 'martelet': 3933, 'nen': 4240, 'gaz': 2739, 'deton': 1821, 'diesel': 1853, 'lubrific': 3786, 'ilumin': 3024, 'céu': 1556, 'ínsit': 6639, 'assinal': 550, 'regent': 5302, 'dosímetr': 1992, 'pic': 4735, 'carat': 899, 'anuidad': 387, 'precios': 4863, 'afig': 153, 'frequ': 2669, 'suprem': 5982, 'insp': 3291, 'gilson': 2780, 'dipp': 1881, 'inaci': 3098, 'chic': 1016, 'intimaco': 3361, 'mund': 4146, 'supervision': 5972, 'elás': 2113, 'companhe': 1168, 'joselm': 3537, 'guabirab': 2851, 'brazil': 788, 'ilh': 3018, 'santosadvocac': 5634, 'veem': 6402, 'círcul': 1561, 'íntim': 6642, 'fiel': 2574, 'partilh': 4580, 'obv': 4383, 'obstácul': 4377, 'companheir': 1169, 'expl': 2446, 'fábi': 2706, 'zambitt': 6598, 'ibrahim': 2977, 'impetu': 3054, 'niteró': 4279, 'discorr': 1896, 'ºdo': 6609, 'perpetu': 4692, 'cotej': 1456, 'precipu': 4864, 'vocacion': 6514, 'alg': 244, 'ess': 2301, 'irrevers': 3434, 'acentu': 37, 'perempt': 4657, 'imensur': 3037, 'adimple': 104, 'autênt': 632, 'reproduç': 5390, 'givald': 2791, 'cândid': 1548, 'gillian': 2777, 'excelentiss': 2391, 'circunscr': 1052, 'sivonald': 5814, 'ceram': 992, 'beren': 729, 'jackson': 3485, 'pand': 4548, 'moda': 4078, 'fungibil': 2700, 'confront': 1277, 'autoridad': 628, 'imut': 3093, 'vié': 6510, 'oportuniz': 4451, 'jurisdicion': 3580, 'superit': 5967, 'probationil': 4980, 'imutabil': 3094, 'indiscutibil': 3179, 'rescind': 5407, 'trípl': 6251, 'ogê': 4409, 'ínclit': 6635, 'reapreci': 5221, 'cerâm': 999, 'inert': 3204, 'coloss': 1143, 'atecp': 568, 'tecnolog': 6068, 'pár': 5110, 'rái': 5583, 'inérc': 3395, 'infirm': 3226, 'pág': 5107, 'pronunc': 5028, 'requisitóri': 5404, 'gilrat': 2779, 'fae': 2507, 'decisum': 1614, 'hipossuficiênt': 2920, 'modif': 4084, 'emquadr': 2152, 'pers': 4695, 'sílic': 6004, 'crist': 1488, 'dificult': 1861, 'exting': 2472, 'incomensur': 3130, 'hipossuficienc': 2919, 'tácit': 6264, 'renúc': 5369, 'excend': 2394, 'relidad': 5341, 'individu': 3184, 'falh': 2514, 'fundacentr': 2691, 'pontual': 4799, 'normal': 4298, 'pot': 4834, 'moderl': 4082, 'luzart': 3809, 'ruid': 5572, 'recomend': 5246, 'transgress': 6200, 'referênc': 5290, 'reconh': 5251, 'rqu': 5566, 'ecid': 2037, 'preten': 4926, 'contag': 1340, 'categ': 944, 'ori': 4469, 'profic': 5005, 'ida': 2985, 'esa': 2246, 'conv': 1395, 'ndid': 4218, 'nte': 4322, 'empregad': 2140, 'ceramist': 993, 'modelad': 4081, 'exar': 2381, 'celeum': 980, 'minuci': 4060, 'bomb': 765, 'excepcion': 2396, 'convalid': 1396, 'cortum': 1449, 'dent': 1682, 'podolog': 4780, 'forn': 2638, 'cald': 844, 'aeron': 147, 'aerovi': 148, 'telegraf': 6076, 'trator': 6212, 'rai': 5185, 'arrest': 510, 'sequestr': 5724, 'alien': 254, 'fras': 2660, 'jog': 3527, 'abarc': 6, 'destitu': 1801, 'grandi': 2828, 'aparat': 397, 'logís': 3765, 'prerrog': 4903, 'savaril': 5648, 'carreg': 923, 'ach': 47, 'daquil': 1586, 'sidev': 5765, 'joselen': 3536, 'capim': 883, 'salusti': 5614, 'delimit': 1660, 'ruricul': 5575, 'matrimoni': 3953, 'joseild': 3533, 'contra': 1358, 'macax': 3830, 'estrit': 2339, 'litil': 3739, 'aurellyn': 607, 'pomp': 4795, 'lust': 3803, 'marroquim': 3931, 'burity': 806, 'crocc': 1498, 'exmº': 2429, 'gild': 2776, 'tamarin': 6034, 'afog': 158, 'embarc': 2122, 'marít': 3939, 'acác': 77, 'miram': 4065, 'impud': 3084, 'lidb': 3704, 'lindb': 3720, 'ultrat': 6301, 'nery': 4247, 'ebook': 2033, 'linb': 3719, 'benjamin': 724, 'fisch': 2597, 'anulatór': 389, 'presid': 4915, 'maris': 3923, 'majorit': 3859, 'repugn': 5394, 'fiduciár': 2572, 'gener': 2745, 'mankiw': 3880, 'macroeconom': 3836, 'ltc': 3782, 'dornbush': 1988, 'startz': 5889, 'mcgraw': 3968, 'hill': 2912, 'blanchard': 754, 'prent': 4894, 'hall': 2876, 'conex': 1258, 'eluc': 2109, 'nex': 4261, 'nefast': 4225, 'incen': 3118, 'quit': 5169, 'estímul': 2345, 'credibil': 1476, 'consci': 1294, 'iniqu': 3257, 'schwaitz': 5659, 'suspend': 5992, 'gilbert': 2774, 'mac': 3828, 'cracken': 1469, 'desfalc': 1749, 'gislen': 2790, 'ronicleid': 5543, 'marinh': 3921, 'regist': 5311, 'casam': 934, 'ural': 6328, 'congên': 1281, 'elastic': 2086, 'contemporane': 1346, 'espaç': 2276, 'pervert': 4706, 'constrang': 1327, 'iran': 3413, 'velasc': 6409, 'desqualific': 1788, 'assalari': 535, 'dimens': 1873, 'concurs': 1241, 'neuz': 4259, 'bett': 735, 'eiac': 2080, 'minister': 4054, 'exaur': 2383, 'moren': 4111, 'bion': 748, 'suplant': 5973, 'rot': 5557, 'sig': 5769, 'obes': 4355, 'mórb': 4175, 'vasculopat': 6396, 'memb': 3993, 'úlc': 6661, 'arter': 520, 'sistém': 5809, 'obstruç': 4376, 'segreg': 5682, 'rei': 5320, 'isonôm': 3454, 'mpf': 4127, 'insatisfatóri': 3278, 'psiquiatr': 5089, 'merend': 4015, 'whatsaap': 6558, 'dorivals': 1987, 'publiqu': 5094, 'vinvul': 6488, 'deleg': 1654, 'dispô': 1916, 'autocompos': 620, 'inquir': 3270, 'doriv': 1986, 'xmo': 6579, 'ile': 3013, 'scr': 5660, 'ist': 3458, 'jab': 3482, 'uar': 6277, 'eit': 2083, 'ssin': 5884, 'ção': 6623, 'nst': 4320, 'iss': 3457, 'cif': 1037, 'ece': 2035, 'ona': 4427, 'ssim': 5883, 'lém': 3815, 'uci': 6283, 'usa': 6337, 'iai': 2972, 'sse': 5879, 'gur': 2865, 'dir': 1882, 'ssi': 5880, 'gum': 2864, 'ai': 207, 'qui': 5159, 'ciá': 1066, 'con': 1216, 'ini': 3249, 'ada': 82, 'ssa': 5878, 'iva': 3468, 'ssã': 5887, 'ime': 3034, 'spe': 5872, 'nçã': 4342, 'alh': 248, 'cion': 1048, 'nif': 4269, 'sso': 5885, 'ope': 4443, 'uár': 6357, 'usiv': 6340, 'ura': 6327, 'oin': 4410, 'ci': 1022, 'ivi': 3472, 'eci': 2036, 'uiz': 6293, 'ubr': 6281, 'jor': 3528, 'lha': 3689, 'gri': 2844, 'nça': 4341, 'ica': 2979, 'clat': 1076, 'asi': 533, 'ínim': 6638, 'cla': 1071, 'ssif': 5882, 'xem': 6572, 'plif': 4768, 'iço': 3479, 'uto': 6355, 'ust': 6345, 'onf': 4434, 'xpo': 6580, 'ísi': 6643, 'bit': 753, 'mit': 4073, 'çam': 6622, 'lme': 3750, 'siv': 5813, 'ula': 6295, 'erá': 2243, 'onc': 4429, 'nqü': 4319, 'ntr': 4324, 'nfo': 4263, 'ofi': 4403, 'rem': 5344, 'eri': 2234, 'go': 2800, 'sur': 5985, 'fei': 2540, 'nces': 4212, 'om': 4421, 'orr': 4478, 'sio': 5803, 'ecr': 2043, 'ire': 3416, 'uer': 6289, 'içã': 3480, 'uxil': 6356, 'iar': 2974, 'udo': 6286, 'teg': 6070, 'rof': 5528, 'rti': 5568, 'xcl': 6571, 'efí': 2073, 'gul': 2863, 'ete': 2349, 'enef': 2169, 'ndi': 4217, 'aci': 48, 'cat': 941, 'let': 3679, 'vin': 6480, 'cul': 1515, 'ane': 349, 'im': 3030, 'ove': 4510, 'nefí': 4226, 'ova': 4509, 'et': 2347, 'gen': 2743, 'evi': 2367, 'exi': 2420, 'ne': 4219, 'nze': 4337, 'nal': 4188, 'prej': 4881, 'uem': 6287, 'tegr': 6071, 'sta': 5888, 'ina': 3096, 'úde': 6660, 'eto': 2351, 'pecí': 4623, 'ido': 2994, 'iza': 3475, 'sla': 5816, 'udi': 6284, 'eve': 2362, 'egi': 2074, 'gor': 2815, 'cre': 1472, 'ial': 2973, 'nce': 4210, 'nto': 4323, 'gi': 2769, 'isc': 3446, 'pa': 4517, 'uint': 6292, 'daç': 1595, 'pec': 4618, 'orm': 4476, 'ce': 966, 'nta': 4321, 'egu': 2078, 'oci': 4386, 'egr': 2075, 'ógi': 6649, 'rej': 5327, 'es': 2245, 'lho': 3690, 'xer': 6574, 'diçã': 1950, 'sór': 6013, 'spr': 5873, 'osi': 4487, 'sív': 6008, 'plom': 4769, 'ain': 209, 'ico': 2983, 'içõ': 3481, 'lic': 3698, 'bor': 772, 'uai': 6276, 'cip': 1049, 'uíz': 6358, 'viç': 6509, 'gra': 2821, 'ili': 3019, 'duz': 2019, 'rsã': 5567, 'çõe': 6624, 'ici': 2981, 'upr': 6326, 'mpo': 4128, 'ópr': 6651, 'rim': 5502, 'ost': 4491, 'dim': 1872, 'ic': 2978, 'gim': 2782, 'iso': 3449, 'nôm': 4347, 'ior': 3402, 'iár': 3477, 'biliz': 745, 'udic': 6285, 'nist': 4277, 'ati': 576, 'tad': 6024, 'mum': 4144, 'eçã': 2492, 'ort': 4479, 'bun': 805, 'uli': 6296, 'rci': 5210, 'urm': 6334, 'jui': 3557, 'pli': 4767, 'diçõ': 1951, 'gia': 2770, 'ont': 4436, 'uiç': 6294, 'uia': 6291, 'smo': 5818, 'onh': 4435, 'dmi': 1957, 'ub': 6278, 'ple': 4760, 'suf': 5946, 'opo': 4447, 'nai': 4186, 'ssib': 5881, 'aliz': 262, 'alo': 275, 'nim': 4273, 'lor': 3773, 'moneysymb': 4098, 'nny': 4283, 'lve': 3812, 'sil': 5776, 'tacarun': 6022, 'anthonyagu': 374, 'lourd': 3779, 'didi': 1850, 'shopping': 5760, 'box': 778, 'condenatór': 1244, 'buiqu': 803, 'intrument': 3370, 'alcanc': 225, 'escal': 2250, 'evolu': 2373, 'ate': 567, 'arqu': 498, 'xxvii': 6589, 'exercici': 2416, 'mamograf': 3870, 'inevit': 3205, 'lingu': 3723, 'implac': 3058, 'semiár': 5700, 'unh': 6307, 'machuc': 3834, 'vocabul': 6513, 'abund': 23, 'enorm': 2181, 'expir': 2445, 'agind': 173, 'mercad': 4012, 'entrepost': 2199, 'permiss': 4686, 'cânon': 1549, 'agrur': 197, 'labut': 3616, 'ríg': 5587, 'sóci': 6011, 'gerald': 2757, 'apoli': 418, 'ccir': 960, 'diat': 1846, 'diac': 1842, 'nav': 4206, 'qüinqüêni': 5175, 'borrachud': 776, 'minifúndi': 4051, 'mcjf': 3969, 'agrac': 181, 'cuidados': 1512, 'mir': 4064, 'harmôn': 2881, 'precariedad': 4858, 'cest': 1003, 'canab': 871, 'éli': 6628, 'wanderley': 6546, 'jurac': 3571, 'salin': 5611, 'walm': 6545, 'isacksson': 3442, 'juc': 3550, 'ageu': 170, 'parnamirim': 4573, 'detalhad': 1815, 'enfatiz': 2174, 'calmon': 850, 'iianov': 3010, 'inquestion': 3269, 'desproporç': 1784, 'pretóri': 4932, 'excels': 2393, 'petend': 4718, 'equivalenc': 2226, 'liquet': 3727, 'metropolit': 4029, 'belém': 711, 'horizont': 2949, 'curitib': 1530, 'goiân': 2807, 'snipc': 5820, 'concessionár': 1229, 'aluguel': 285, 'condomíni': 1252, 'hum': 2961, 'geográf': 2753, 'pesquis': 4714, 'pof': 4782, 'desvirtu': 1810, 'faix': 2509, 'cnj': 1099, 'saqu': 5637, 'isaksson': 3444, 'jud': 3552, 'ciár': 1067, 'evald': 2358, 'esquin': 2300, 'capot': 888, 'amorim': 325, 'antô': 382, 'intimacoesvirt': 3362, 'maç': 3966, 'jurí': 3584, 'miserabil': 4069, 'tr': 6178, 'indepen': 3165, 'benefí': 718, 'confil': 1269, 'acomp': 60, 'nh': 4264, 'wesdresnéy': 6556, 'wb': 6548, 'rosim': 5555, 'holand': 2934, 'universitár': 6322, 'orocó': 4477, 'vilân': 6479, 'macêd': 3839, 'jerusalém': 3514, 'eulál': 2354, 'vilaniamaced': 6475, 'súm': 6015, 'estatu': 2318, 'god': 2801, 'multidimens': 4141, 'glob': 2796, 'indiferenci': 3174, 'imperios': 3051, 'remanesc': 5345, 'consecu': 1296, 'decrésc': 1625, 'qued': 5146, 'cotist': 1458, 'macroeconôm': 3837, 'câmbi': 1546, 'gráf': 2849, 'intersindic': 3353, 'espant': 2275, 'comu': 1206, 'fidúc': 2573, 'inspir': 3293, 'rescisóri': 5410, 'páli': 5109, 'prefac': 4876, 'injustific': 3260, 'atentatóri': 571, 'étic': 6631, 'sanç': 5635, 'tate': 6052, 'ebl': 2032, 'tenent': 6090, 'everald': 2366, 'xxxiv': 6590, 'xxv': 6587, 'lxxvi': 3814, 'judicí': 3556, 'extrajudic': 2479, 'xxvi': 6588, 'notar': 4304, 'ruy': 5579, 'rm': 5509, 'campell': 865, 'def': 1634, 'central': 990, 'aloc': 276, 'cot': 1455, 'anu': 385, 'âmag': 6618, 'trinten': 6238, 'doutrinár': 1998, 'redor': 5273, 'ritm': 5508, 'desaceler': 1700, 'estagn': 2313, 'costume': 1454, 'conglomer': 1279, 'cosif': 1450, 'semestr': 5699, 'abusiv': 25, 'endivid': 2168, 'lucy': 3795, 'lacerd': 3617, 'múci': 4177, 'elv': 2112, 'incomplet': 3133, 'alp': 277, 'suic': 5949, 'srº': 5876, 'saturnin': 5645, 'dissoluç': 1920, 'matrimôni': 3954, 'renal': 5358, 'agud': 203, 'bicitopem': 740, 'jefferson': 3509, 'benfíci': 723, 'taman': 6032, 'str': 5898, 'cebol': 969, 'amaraj': 306, 'salg': 5607, 'coentr': 1111, 'saturmin': 5644, 'inham': 3248, 'julian': 3563, 'bagag': 670, 'cassimir': 938, 'cais': 835, 'apol': 417, 'desemboc': 1743, 'liter': 3736, 'aquém': 460, 'restrit': 5449, 'desvaloriz': 1806, 'corros': 1447, 'impessoal': 3052, 'efici': 2071, 'passu': 4589, 'dedilh': 1630, 'espos': 2294, 'empregatíc': 2141, 'revert': 5474, 'intepret': 3328, 'teleológ': 6079, 'calam': 841, 'imotiv': 3041, 'vici': 6459, 'análog': 392, 'exaus': 2385, 'malquist': 3867, 'arremat': 506, 'adc': 86, 'conspícu': 1318, 'referend': 5289, 'vírgul': 6542, 'revolt': 5482, 'rmcorrecaoval': 5511, 'aba': 1, 'resgat': 5414, 'assoalh': 554, 'quis': 5168, 'flávi': 2622, 'prax': 4852, 'marcel': 3904, 'gil': 2773, 'powered': 4842, 'tcpdf': 6061, 'berlim': 730, 'belmir': 709, 'excluir': 2404, 'inapt': 3106, 'republic': 5393, 'solidár': 5851, 'incontin': 3144, 'urinár': 6333, 'cogni': 1118, 'óbvi': 6647, 'insignific': 3289, 'entabul': 2191, 'redig': 5271, 'óptic': 6652, 'desprovej': 1786, 'reformul': 5297, 'iujef': 3465, 'schenkel': 5656, 'lustoz': 3804, 'reden': 5270, 'palh': 4543, 'signatár': 5773, 'dual': 2009, 'funding': 2696, 'hmin': 2929, 'inarred': 3107, 'quã': 5171, 'fajut': 2510, 'locuplet': 3760, 'ubi': 6279, 'ead': 2030, 'rati': 5202, 'apod': 415, 'poli': 4786, 'refaz': 5284, 'reiterad': 5326, 'tim': 6138, 'cariol': 910, 'hortenci': 2950, 'nascid': 4199, 'superfic': 5963, 'indissolú': 3182, 'prevenç': 4940, 'chanc': 1009, 'mantêm': 3889, 'aaresp': 0, 'sr': 5874, 'harold': 2882, 'ther': 6129, 'aga': 162, 'justificad': 3590, 'lanc': 3628, 'adolf': 119, 'rosanarauj': 5550, 'lment': 3751, 'um': 6302, 'influenc': 3232, 'espedit': 2285, 'avan': 641, 'mon': 4095, 'oct': 4388, 'amor': 324, 'cassettar': 936, 'flu': 2617, 'docpc': 1962, 'genér': 2751, 'docpcfo': 1963, 'remuneratór': 5355, 'interrupç': 3352, 'daconstitu': 1572, 'docódig': 1966, 'flux': 2620, 'graziel': 2842, 'rabel': 5177, 'thayn': 6123, 'thaynaramelomont': 6124, 'contribuí': 1382, 'euzeb': 2355, 'marusck': 3937, 'bren': 791, 'galdin': 2721, 'euzéb': 2356, 'duplic': 2014, 'apeg': 402, 'ediv': 2053, 'púcar': 5120, 'tally': 6029, 'rogaci': 5530, 'arag': 462, 'tallysma': 6030, 'amanhec': 303, 'desfrut': 1755, 'descans': 1715, 'aprove': 444, 'tranquil': 6188, 'intérpret': 3375, 'fisn': 2602, 'agtr': 200, 'petruci': 4725, 'imagin': 3032, 'urgent': 6332, 'zonal': 6606, 'dav': 1592, 'paragraf': 4560, 'lindolf': 3721, 'menandr': 3998, 'sínteses': 6006, 'célul': 1554, 'poç': 4843, 'angelim': 352, 'lajed': 3622, 'icadvocac': 2980, 'gravid': 2838, 'preven': 4938, 'credenc': 1474, 'isad': 3443, 'thal': 6122, 'antun': 381, 'josenild': 3538, 'andre': 347, 'tecic': 6065, 'herv': 2899, 'rar': 5197, 'edifíci': 2049, 'almir': 273, 'víncu': 6540, 'supermerc': 5968, 'comprem': 1194, 'reposi': 5384, 'balcon': 675, 'alvor': 293, 'combusti': 1154, 'pist': 4746, 'hex': 2901, 'votór': 6524, 'epp': 2218, 'almoxarif': 274, 'contribuiçãd': 1378, 'aja': 212, 'aprision': 438, 'rom': 5534, 'reo': 5371, 'letr': 3680, 'frac': 2650, 'restaur': 5443, 'arbitrariedad': 471, 'titu': 6151, 'fundamen': 2692, 'nefíci': 4227, 'constituci': 1324, 'joalin': 3523, 'inflam': 3230, 'drocarbonet': 2004, 'passag': 4587, 'print': 4965, 'gad': 2718, 'sível': 6009, 'joafr': 3522, 'link': 3725, 'funcionari': 2689, 'juaz': 3548, 'reç': 5486, 'ído': 6634, 'sentad': 5713, 'sider': 5764, 'dro': 2003, 'classif': 1074, 'fiss': 2603, 'motorn': 4121, 'condu': 1253, 'bond': 768, 'dovi': 1999, 'onal': 4428, 'inspeç': 3292, 'rafin': 5184, 'lita': 3734, 'linach': 3718, 'hidroc': 2903, 'bonet': 769, 'gament': 2726, 'agen': 166, 'inexigibil': 3210, 'senvolv': 5717, 'rant': 5193, 'acórda': 79, 'descon': 1721, 'uniformiz': 6314, 'tor': 6167, 'suscet': 5990, 'carmen': 915, 'elizangel': 2106, 'tral': 6186, 'sér': 6001, 'gio': 2783, 'égid': 6626, 'tol': 6161, 'rânc': 5584, 'gent': 2748, 'regulamen': 5316, 'hidrocarb': 2904, 'contorn': 1356, 'terpost': 6102, 'schreib': 5658, 'aposen': 423, 'tador': 6025, 'riment': 5503, 'concil': 1232, 'observân': 4372, 'acom': 58, 'panh': 4551, 'advocatí': 139, 'cial': 1024, 'jhonat': 3517, 'david': 1593, 'fahel': 2508, 'jjf': 3520, 'edilson': 2050, 'alinn': 258, 'lisbo': 3731, 'primav': 4955, 'adje': 107, 'alfândeg': 243, 'espequ': 2287, 'advcoutinhoecarvalh': 130, 'especificad': 2282, 'sinton': 5801, 'contrapos': 1365, 'fragment': 2653, 'panoram': 4553, 'elucubr': 2111, 'exsurg': 2466, 'desconstituí': 1726, 'grandedesrespeit': 2827, 'ataqu': 566, 'morm': 4112, 'materializ': 3949, 'destró': 1804, 'insíp': 3317, 'recálcul': 5265, 'contábel': 1391, 'lisbô': 3732, 'gabrielly': 2717, 'cambuc': 858, 'campin': 867, 'may': 3964, 'livianov': 3744, 'rodolfoagui': 5522, 'litisconsort': 3740, 'varisvald': 6392, 'intervenh': 3357, 'lív': 3823, 'noval': 4314, 'correlacion': 1434, 'all': 264, 'agronôm': 193, 'florest': 2615, 'aquá': 459, 'organofosfor': 4467, 'fosfor': 2646, 'clor': 1085, 'trepid': 6223, 'calder': 845, 'pneumá': 4775, 'turbin': 6259, 'observaçõ': 4371, 'refin': 5291, 'trefil': 6221, 'lamin': 3627, 'insalub': 3273, 'artefat': 519, 'rasp': 5198, 'tetraetil': 6113, 'dessold': 1792, 'vulcan': 6526, 'borrach': 775, 'tintur': 6144, 'cabin': 819, 'avi': 650, 'cód': 1564, 'tetrametil': 6114, 'pilh': 4739, 'zinc': 6603, 'lat': 3636, 'litargíri': 3735, 'ruìd': 5580, 'minéri': 4063, 'vidr': 6465, 'críst': 1506, 'vitrific': 6505, 'pérol': 5114, 'artific': 524, 'fabricaçl': 2496, 'adit': 106, 'plás': 4772, 'ipa': 3403, 'helmint': 2887, 'herbic': 2893, 'insetic': 3288, 'fungic': 2701, 'dispor': 1910, 'acident': 50, 'enfa': 2173, 'marret': 3930, 'ded': 1627, 'esquerd': 2299, 'frat': 2661, 'supress': 5983, 'allin': 265, 'brunn': 800, 'galvaoadvog': 2724, 'detran': 1823, 'indianópolil': 3171, 'alden': 232, 'expung': 2461, 'london': 3769, 'cis': 1059, 'entel': 2194, 'soluco': 5853, 'empresar': 2146, 'aluizi': 286, '鋏e': 6666, 'ia': 2970, 'previd麩c': 4947, 'm匤im': 4180, 'contribui鈬': 1379, 'contribui鋏': 1380, 'condi鈬': 1251, 'transi鈬': 6204, 'inscrev': 3281, 'aprouv': 442, 'concessór': 1230, 'lucim': 3791, 'adelson': 90, 'lir': 3729, 'suzan': 5996, 'caval': 954, 'idenciár': 2989, 'ado': 117, 'odo': 4394, 'perm': 4681, 'anent': 350, 'interm': 3339, 'itent': 3462, 'fisic': 2598, 'bient': 741, 'id': 2984, 'acon': 63, 'ex': 2377, 'tecn': 6066, 'santor': 5633, 'heim': 2885, 'retif': 5456, 'noras': 4293, 'delt': 1663, 'automo': 624, 'rodrim': 5527, 'revi': 5476, 'rodob': 5520, 'jurid': 3574, 'interpô': 3350, 'goi': 2803, 'ronivon': 5544, 'paradigm': 4557, 'aclar': 54, 'converg': 1400, 'busqu': 808, 'ideológ': 2993, 'sergip': 5730, 'fustig': 2703, 'subsum': 5933, 'disfunç': 1903, 'avent': 647, 'escrivan': 2262, 'stefan': 5892, 'inobst': 3263, 'isolad': 3452, 'impass': 3045, 'pretori': 4930, 'them': 6127, 'deband': 1600, 'catalog': 942, 'celet': 979, 'tens': 6093, 'cbtu': 959, 'civilest': 1065, 'jusa': 3586, 'porporc': 4805, 'nedson': 4224, 'lay': 3649, 'amilton': 320, 'lav': 3645, 'inaut': 3112, 'mart': 3932, 'thin': 6132, 'propõ': 5044, 'cidadã': 1032, 'inalter': 3104, 'vésp': 6536, 'profissiograf': 5007, 'laborator': 3614, 'dessart': 1791, 'clorídr': 1087, 'fluorídr': 2618, 'sulfídr': 5954, 'nítr': 4344, 'álcooil': 6615, 'metíl': 4031, 'arsên': 516, 'crom': 1499, 'mercúri': 4013, 'aceton': 46, 'metil': 4027, 'isobutil': 3450, 'cet': 1004, 'hept': 2890, 'percloroetilen': 4653, 'dióx': 1952, 'enxofr': 2208, 'polimér': 4789, 'exeges': 2411, 'inutil': 3376, 'decess': 1609, 'voz': 6525, 'abaliz': 4, 'moros': 4113, 'ouvir': 4508, 'pil': 4738, 'licc': 3699, 'tard': 6048, 'carnelutt': 918, 'trav': 6214, 'trégu': 6249, 'palom': 4546, 'pachêc': 4519, 'josel': 3534, 'fabianallun': 2494, 'hidrosond': 2907, 'ilíqu': 3028, 'lorac': 3774, 'mam': 3869, 'cirug': 1056, 'expert': 2443, 'incidir': 3123, 'danil': 1582, 'adéqu': 145, 'conceç': 1231, 'angél': 354, 'bia': 739, 'zac': 6597, 'ivald': 3469, 'explorad': 2452, 'caxit': 957, 'camocim': 861, 'ambulatóri': 314, 'andr': 345, 'calç': 854, 'parag': 4559, 'jurispred': 3581, 'bói': 814, 'temper': 6083, 'pedern': 4626, 'alfabet': 240, 'arealv': 480, 'promot': 5021, 'bauru': 703, 'decap': 1607, 'coes': 1114, 'ss': 5877, 'trev': 6224, 'jataúb': 3505, 'cped': 1464, 'osdocu': 4486, 'interveni': 3358, 'localvis': 3757, 'jundi': 3565, 'univenc': 6318, 'empreend': 2138, 'thr': 6133, 'empreit': 2144, 'desconfig': 1722, 'emanex': 2118, 'emérit': 2153, 'sintraf': 5802, 'proriedad': 5046, 'higin': 2909, 'agrest': 187, 'homem': 2937, 'aposentadoriap': 426, 'compld': 1180, 'puxinanã': 5104, 'maracajú': 3899, 'fad': 2506, 'insucess': 3311, 'acessibil': 44, 'protec': 5053, 'atravess': 589, 'minor': 4057, 'deduç': 1633, 'desde': 1738, 'taxad': 6057, 'hnor': 2930, 'natál': 4205, 'adérit': 146, 'braz': 787, 'maís': 3967, 'virgíni': 6492, 'aderitoaquin': 96, 'solid': 5849, 'simetr': 5782, 'alzheim': 295, 'incur': 3155, 'degener': 1651, 'roup': 5559, 'interdit': 3332, 'geraldin': 2758, 'malaguet': 3861, 'rosilen': 5554, 'joaquin': 3525, 'rosel': 5552, 'rosiel': 5553, 'leonild': 3676, 'alfac': 241, 'abal': 3, 'imprescrit': 3077, 'detenh': 1817, 'amonto': 323, 'usufrut': 6348, 'meaç': 3971, 'interin': 3338, 'alist': 261, 'boletim': 762, 'confeder': 1262, 'inquérit': 3271, 'insum': 3314, 'xix': 6578, 'imprens': 3074, 'xxii': 6584, 'crism': 1487, 'sacr': 5592, 'recre': 5260, 'despor': 1780, 'mp': 4125, 'sdw': 5662, 'cecíli': 971, 'enx': 2207, 'libr': 3697, 'roçad': 5562, 'estroveng': 2340, 'colig': 1137, 'vmb': 6512, 'wildson': 6560, 'subsunç': 5934, 'relut': 5343, 'tibiraj': 6136, 'firmin': 2593, 'petica': 4720, 'ense': 2187, 'coral': 1420, 'arsen': 513, 'caiofirminomach': 833, 'diferanç': 1857, 'sedi': 5675, 'mínin': 4173, 'suspenç': 5994, 'presc': 4905, 'dequ': 1694, 'déficit': 2024, 'indenizatóri': 3164, 'wilk': 6562, 'secç': 5673, 'valquír': 6378, 'toritam': 6168, 'sacrifiqu': 5595, 'contradiz': 1363, 'convuls': 1409, 'carbamazepin': 902, 'levetiracet': 3685, 'epilép': 2215, 'neuropsiquiatr': 4255, 'filip': 2581, 'livin': 3745, 'crm': 1496, 'mazel': 3965, 'carbamapezin': 901, 'difícel': 1862, 'neuralg': 4252, 'trigême': 6234, 'bipol': 751, 'depress': 1692, 'irmã': 3420, 'aurian': 609, 'alisson': 260, 'anthony': 373, 'arthur': 522, 'advém': 144, 'anatôm': 342, 'estabiliz': 2308, 'adapt': 85, 'transmit': 6205, 'ctn': 1509, 'implicit': 3062, 'pna': 4774, 'mitig': 4074, 'primord': 4960, 'mof': 4088, 'janel': 3501, 'angyadoh': 353, 'usp': 6343, 'sharing': 5759, 'sidrac': 5767, 'bec': 706, 'neurolog': 4253, 'cecíl': 970, 'valqu': 6377, 'cileid': 1039, 'bernardin': 733, 'lineuz': 3722, 'manuelvieiraadvocac': 3892, 'leônci': 3688, 'juá': 3596, 'taquariting': 6046, 'avô': 656, 'enz': 2210, 'oda': 4392, 'cóg': 1566, 'apraz': 428, 'manuel': 3890, 'espindol': 2290, 'harmon': 2879, 'amig': 317, 'divórci': 1945, 'unid': 6310, 'intu': 3372, 'ruth': 5578, 'brag': 781, 'marinald': 3920, 'allyson': 266, 'adelin': 89, 'inimagin': 3254, 'decorreç': 1622, 'cláudi': 1092, 'calábr': 853, 'figueirêd': 2576, 'plaus': 4757, 'demandat': 1667, 'possi': 4821, 'acumulad': 75, 'arapirac': 464, 'vanuz': 6385, 'anton': 376, 'lorrany': 3775, 'erm': 2238, 'tabaram': 6018, 'tabac': 6017, 'ambulator': 313, 'maceió': 3832, 'enovembr': 2182, 'rosedson': 5551, 'lôb': 3825, 'premium': 4892, 'offic': 4401, 'gov': 2816, 'osman': 4489, 'lour': 3778, 'mangab': 3876, 'carlit': 913, 'drumont': 2006, 'arcosadvocac': 477, 'momentane': 4093, 'reafirmaço': 5217, 'malfad': 3864, 'tolêr': 6165, 'asser': 542, 'querosen': 5154, 'desaf': 1704, 'gas': 2735, 'hostil': 2955, 'ºcpc': 6608, 'inconceb': 3135, 'contribuic': 1373, 'parthenon': 4576, 'soaresassoci': 5822, 'irci': 3414, 'tancred': 6041, 'nev': 4260, 'infrafirm': 3240, 'farol': 2524, 'ede': 2046, 'ecolimp': 2039, 'embrap': 2125, 'doenc': 1968, 'tempestiv': 6085, 'conheç': 1284, 'monik': 4099, 'dór': 2027, 'ppr': 4845, 'vibr': 6456, 'propag': 5032, 'son': 5860, 'demasiad': 1669, 'inexig': 3209, 'notici': 4306, 'reformati': 5296, 'peju': 4634, 'lau': 3640, 'girf': 2788, 'traum': 6213, 'acús': 81, 'fisiolog': 2599, 'cócle': 1563, 'conduç': 1256, 'ósse': 6655, 'aére': 665, 'despiciend': 1779, 'objeç': 4360, 'karl': 3603, 'dieg': 1852, 'sedic': 5676, 'ipsep': 3407, 'taci': 6023, 'tati': 6053, 'cassi': 937, 'dcb': 1597, 'cianacavalcant': 1026, 'cianacavalc': 1025, 'reconheç': 5254, 'procediment': 4987, 'plenu': 4765, 'jurisprudenc': 3583, 'petic': 4719, 'aprego': 431, 'senil': 5706, 'resalt': 5406, 'benefíc': 719, 'irrisór': 3436, 'colab': 1124, 'inserç': 3287, 'idosoqu': 2997, 'suafamíl': 5901, 'lastim': 3634, 'misér': 4072, 'audienc': 600, 'mikaelly': 4042, 'aptº': 450, 'excª': 2407, 'devidasn': 1829, 'ode': 4393, 'estanc': 2315, 'quedesd': 5147, 'alb': 218, 'domes': 1974, 'maranguap': 3900, 'inútel': 3400, 'for': 2633, 'edênc': 2065, 'transig': 6201, 'prenom': 4893, 'excessiv': 2400, 'oner': 4432, 'edf': 2047, 'plaz': 4759, 'juridicoandrecarvalh': 3576, 'armazém': 495, 'sel': 5691, 'gené': 2750, 'dna': 1958, 'tradu': 6183, 'portugu': 4812, 'língu': 3820, 'memór': 3996, 'episódi': 2216, 'sintom': 5800, 'psicó': 5088, 'preponder': 4899, 'marcad': 3903, 'relativiz': 5335, 'wowk': 6569, 'pente': 4644, 'prevent': 4939, 'substrat': 5932, 'feri': 2550, 'ocult': 4389, 'substabelec': 5925, 'plural': 4771, 'irregul': 3426, 'edcl': 2045, 'ofiss': 4407, 'transac': 6190, 'reprográf': 5391, 'reconvenç': 5256, 'microempreend': 4035, 'the': 6126, 'western': 6557, 'telegraph': 6078, 'company': 1170, 'limted': 3716, 'mesbl': 4019, 'veplan': 6421, 'lucsim': 3794, 'coo': 1411, 'pera': 4648, 'umanizz': 6304, 'jurand': 3572, 'menes': 4002, 'isaqu': 3445, 'rodovalh': 5525, 'constant': 1320, 'aurisleneadv': 612, 'edvan': 2064, 'paiv': 4539, 'tamboril': 6036, 'anthonny': 372, 'recepcion': 5235, 'muril': 4152, 'queirog': 5150, 'contad': 1339, 'aurislen': 611, 'elizabet': 2105, 'capoe': 887, 'marlen': 3926, 'alberg': 219, 'inexplica': 3213, 'cing': 1044, 'insan': 3276, 'mpa': 4126, 'contribuiço': 1377, 'flexibiliz': 2613, 'rasur': 5199, 'argü': 487, 'roosywelt': 5545, 'ilson': 3023, 'arsenoelealadvocac': 514, 'arsenole': 515, 'nep': 4244, 'sert': 5739, 'sáud': 5999, 'imovel': 3042, 'adagr': 83, 'santinár': 5632, 'emanoel': 2119, 'pau': 4605, 'edinet': 2051, 'almin': 272, 'mossoró': 4115, 'pedroemanoeladv': 4629, 'isac': 3441, 'desacredit': 1703, 'puérp': 5105, 'saláriomatern': 5618, 'antonin': 378, 'tre': 6219, 'yohann': 6595, 'bacharel': 667, 'paraís': 4566, 'requerer': 5400, 'unísson': 6325, 'desobedi': 1773, 'nemézi': 4239, 'erivald': 2237, 'jeann': 3507, 'comatu': 1149, 'avari': 643, 'doínd': 2001, 'consig': 1310, 'jam': 3495, 'destroç': 1802, 'dos': 1990, 'unitár': 6317, 'gêner': 2869, 'advind': 135, 'perquir': 4694, 'histogram': 2925, 'desqualif': 1787, 'reex': 5281, 'arsêni': 517, 'campu': 869, 'sh': 5758, 'marcosgustav': 3909, 'saedrumond': 5596, 'agrotécn': 195, 'color': 1142, 'oest': 4396, 'rondôn': 5542, 'dire': 1884, 'ifmg': 3001, 'drumond': 2005, 'custódi': 1539, 'fulcron': 2681, 'incompreens': 3134, 'graviol': 2839, 'goiab': 2804, 'delegac': 1655, 'políci': 4793, 'perfunctór': 4666, 'repris': 5388, 'provamater': 5063, 'condicti': 1247, 'conhecido³': 1283, 'totum': 6175, 'joéllit': 3546}\n"
          ]
        }
      ]
    },
    {
      "cell_type": "code",
      "source": [
        "#3. Obter previsões para X_test e armazenar em y_pred\n",
        "y_pred_vizinhosproximos = pipeline_vizinhos_proximos.predict(X_test)"
      ],
      "metadata": {
        "id": "TszznONuQtSB"
      },
      "execution_count": 34,
      "outputs": []
    },
    {
      "cell_type": "code",
      "source": [
        "# imprimir uma matriz de confusão e um relatório de classificação\n",
        "from sklearn.metrics import confusion_matrix\n",
        "print(classification_report(y_test, y_pred_vizinhosproximos))\n",
        "\n",
        "pd.DataFrame(\n",
        "    confusion_matrix(y_test, y_pred_vizinhosproximos),\n",
        "    index = [\n",
        "        ['Amostra', 'Amostra', 'Amostra', 'Amostra', 'Amostra', 'Amostra', 'Amostra', 'Amostra'], \n",
        "        ['aposentadoria_tempo_contribuicao', 'aposentadoria_urbana', 'salario_maternidade_rural', 'revisional_fgts', 'pensao_morte', 'aposentadoria_idade_rural', 'aposentadoria_especial', 'beneficio_assistencial_loas']\n",
        "             ],\n",
        "    columns = [\n",
        "        ['Previsto', 'Previsto', 'Previsto', 'Previsto', 'Previsto', 'Previsto', 'Previsto', 'Previsto'], \n",
        "        ['aposentadoria_tempo_contribuicao', 'aposentadoria_urbana', 'salario_maternidade_rural', 'revisional_fgts', 'pensao_morte', 'aposentadoria_idade_rural', 'aposentadoria_especial', 'beneficio_assistencial_loas']\n",
        "             ])"
      ],
      "metadata": {
        "colab": {
          "base_uri": "https://localhost:8080/",
          "height": 656
        },
        "id": "rf1_ef95e6Vp",
        "outputId": "d814bcf9-73ac-4fbe-f813-49aae8e041ca"
      },
      "execution_count": 35,
      "outputs": [
        {
          "output_type": "stream",
          "name": "stdout",
          "text": [
            "              precision    recall  f1-score   support\n",
            "\n",
            "           0       1.00      0.40      0.57         5\n",
            "           1       0.00      0.00      0.00         5\n",
            "           2       0.75      0.60      0.67         5\n",
            "           3       0.83      1.00      0.91         5\n",
            "           4       1.00      0.60      0.75         5\n",
            "           5       0.40      0.80      0.53         5\n",
            "           6       1.00      0.80      0.89         5\n",
            "           7       0.40      0.80      0.53         5\n",
            "\n",
            "    accuracy                           0.62        40\n",
            "   macro avg       0.67      0.62      0.61        40\n",
            "weighted avg       0.67      0.62      0.61        40\n",
            "\n"
          ]
        },
        {
          "output_type": "execute_result",
          "data": {
            "text/plain": [
              "                                                                 Previsto  \\\n",
              "                                         aposentadoria_tempo_contribuicao   \n",
              "Amostra aposentadoria_tempo_contribuicao                                2   \n",
              "        aposentadoria_urbana                                            0   \n",
              "        salario_maternidade_rural                                       0   \n",
              "        revisional_fgts                                                 0   \n",
              "        pensao_morte                                                    0   \n",
              "        aposentadoria_idade_rural                                       0   \n",
              "        aposentadoria_especial                                          0   \n",
              "        beneficio_assistencial_loas                                     0   \n",
              "\n",
              "                                                               \\\n",
              "                                         aposentadoria_urbana   \n",
              "Amostra aposentadoria_tempo_contribuicao                    0   \n",
              "        aposentadoria_urbana                                0   \n",
              "        salario_maternidade_rural                           0   \n",
              "        revisional_fgts                                     0   \n",
              "        pensao_morte                                        0   \n",
              "        aposentadoria_idade_rural                           0   \n",
              "        aposentadoria_especial                              1   \n",
              "        beneficio_assistencial_loas                         0   \n",
              "\n",
              "                                                                    \\\n",
              "                                         salario_maternidade_rural   \n",
              "Amostra aposentadoria_tempo_contribuicao                         1   \n",
              "        aposentadoria_urbana                                     0   \n",
              "        salario_maternidade_rural                                3   \n",
              "        revisional_fgts                                          0   \n",
              "        pensao_morte                                             0   \n",
              "        aposentadoria_idade_rural                                0   \n",
              "        aposentadoria_especial                                   0   \n",
              "        beneficio_assistencial_loas                              0   \n",
              "\n",
              "                                                                       \\\n",
              "                                         revisional_fgts pensao_morte   \n",
              "Amostra aposentadoria_tempo_contribuicao               0            0   \n",
              "        aposentadoria_urbana                           1            0   \n",
              "        salario_maternidade_rural                      0            0   \n",
              "        revisional_fgts                                5            0   \n",
              "        pensao_morte                                   0            3   \n",
              "        aposentadoria_idade_rural                      0            0   \n",
              "        aposentadoria_especial                         0            0   \n",
              "        beneficio_assistencial_loas                    0            0   \n",
              "\n",
              "                                                                    \\\n",
              "                                         aposentadoria_idade_rural   \n",
              "Amostra aposentadoria_tempo_contribuicao                         1   \n",
              "        aposentadoria_urbana                                     1   \n",
              "        salario_maternidade_rural                                1   \n",
              "        revisional_fgts                                          0   \n",
              "        pensao_morte                                             2   \n",
              "        aposentadoria_idade_rural                                4   \n",
              "        aposentadoria_especial                                   0   \n",
              "        beneficio_assistencial_loas                              1   \n",
              "\n",
              "                                                                 \\\n",
              "                                         aposentadoria_especial   \n",
              "Amostra aposentadoria_tempo_contribuicao                      0   \n",
              "        aposentadoria_urbana                                  0   \n",
              "        salario_maternidade_rural                             0   \n",
              "        revisional_fgts                                       0   \n",
              "        pensao_morte                                          0   \n",
              "        aposentadoria_idade_rural                             0   \n",
              "        aposentadoria_especial                                4   \n",
              "        beneficio_assistencial_loas                           0   \n",
              "\n",
              "                                                                      \n",
              "                                         beneficio_assistencial_loas  \n",
              "Amostra aposentadoria_tempo_contribuicao                           1  \n",
              "        aposentadoria_urbana                                       3  \n",
              "        salario_maternidade_rural                                  1  \n",
              "        revisional_fgts                                            0  \n",
              "        pensao_morte                                               0  \n",
              "        aposentadoria_idade_rural                                  1  \n",
              "        aposentadoria_especial                                     0  \n",
              "        beneficio_assistencial_loas                                4  "
            ],
            "text/html": [
              "\n",
              "  <div id=\"df-a964a04e-bbaa-449f-9e5b-f5fd28c49713\">\n",
              "    <div class=\"colab-df-container\">\n",
              "      <div>\n",
              "<style scoped>\n",
              "    .dataframe tbody tr th:only-of-type {\n",
              "        vertical-align: middle;\n",
              "    }\n",
              "\n",
              "    .dataframe tbody tr th {\n",
              "        vertical-align: top;\n",
              "    }\n",
              "\n",
              "    .dataframe thead tr th {\n",
              "        text-align: left;\n",
              "    }\n",
              "</style>\n",
              "<table border=\"1\" class=\"dataframe\">\n",
              "  <thead>\n",
              "    <tr>\n",
              "      <th></th>\n",
              "      <th></th>\n",
              "      <th colspan=\"8\" halign=\"left\">Previsto</th>\n",
              "    </tr>\n",
              "    <tr>\n",
              "      <th></th>\n",
              "      <th></th>\n",
              "      <th>aposentadoria_tempo_contribuicao</th>\n",
              "      <th>aposentadoria_urbana</th>\n",
              "      <th>salario_maternidade_rural</th>\n",
              "      <th>revisional_fgts</th>\n",
              "      <th>pensao_morte</th>\n",
              "      <th>aposentadoria_idade_rural</th>\n",
              "      <th>aposentadoria_especial</th>\n",
              "      <th>beneficio_assistencial_loas</th>\n",
              "    </tr>\n",
              "  </thead>\n",
              "  <tbody>\n",
              "    <tr>\n",
              "      <th rowspan=\"8\" valign=\"top\">Amostra</th>\n",
              "      <th>aposentadoria_tempo_contribuicao</th>\n",
              "      <td>2</td>\n",
              "      <td>0</td>\n",
              "      <td>1</td>\n",
              "      <td>0</td>\n",
              "      <td>0</td>\n",
              "      <td>1</td>\n",
              "      <td>0</td>\n",
              "      <td>1</td>\n",
              "    </tr>\n",
              "    <tr>\n",
              "      <th>aposentadoria_urbana</th>\n",
              "      <td>0</td>\n",
              "      <td>0</td>\n",
              "      <td>0</td>\n",
              "      <td>1</td>\n",
              "      <td>0</td>\n",
              "      <td>1</td>\n",
              "      <td>0</td>\n",
              "      <td>3</td>\n",
              "    </tr>\n",
              "    <tr>\n",
              "      <th>salario_maternidade_rural</th>\n",
              "      <td>0</td>\n",
              "      <td>0</td>\n",
              "      <td>3</td>\n",
              "      <td>0</td>\n",
              "      <td>0</td>\n",
              "      <td>1</td>\n",
              "      <td>0</td>\n",
              "      <td>1</td>\n",
              "    </tr>\n",
              "    <tr>\n",
              "      <th>revisional_fgts</th>\n",
              "      <td>0</td>\n",
              "      <td>0</td>\n",
              "      <td>0</td>\n",
              "      <td>5</td>\n",
              "      <td>0</td>\n",
              "      <td>0</td>\n",
              "      <td>0</td>\n",
              "      <td>0</td>\n",
              "    </tr>\n",
              "    <tr>\n",
              "      <th>pensao_morte</th>\n",
              "      <td>0</td>\n",
              "      <td>0</td>\n",
              "      <td>0</td>\n",
              "      <td>0</td>\n",
              "      <td>3</td>\n",
              "      <td>2</td>\n",
              "      <td>0</td>\n",
              "      <td>0</td>\n",
              "    </tr>\n",
              "    <tr>\n",
              "      <th>aposentadoria_idade_rural</th>\n",
              "      <td>0</td>\n",
              "      <td>0</td>\n",
              "      <td>0</td>\n",
              "      <td>0</td>\n",
              "      <td>0</td>\n",
              "      <td>4</td>\n",
              "      <td>0</td>\n",
              "      <td>1</td>\n",
              "    </tr>\n",
              "    <tr>\n",
              "      <th>aposentadoria_especial</th>\n",
              "      <td>0</td>\n",
              "      <td>1</td>\n",
              "      <td>0</td>\n",
              "      <td>0</td>\n",
              "      <td>0</td>\n",
              "      <td>0</td>\n",
              "      <td>4</td>\n",
              "      <td>0</td>\n",
              "    </tr>\n",
              "    <tr>\n",
              "      <th>beneficio_assistencial_loas</th>\n",
              "      <td>0</td>\n",
              "      <td>0</td>\n",
              "      <td>0</td>\n",
              "      <td>0</td>\n",
              "      <td>0</td>\n",
              "      <td>1</td>\n",
              "      <td>0</td>\n",
              "      <td>4</td>\n",
              "    </tr>\n",
              "  </tbody>\n",
              "</table>\n",
              "</div>\n",
              "      <button class=\"colab-df-convert\" onclick=\"convertToInteractive('df-a964a04e-bbaa-449f-9e5b-f5fd28c49713')\"\n",
              "              title=\"Convert this dataframe to an interactive table.\"\n",
              "              style=\"display:none;\">\n",
              "        \n",
              "  <svg xmlns=\"http://www.w3.org/2000/svg\" height=\"24px\"viewBox=\"0 0 24 24\"\n",
              "       width=\"24px\">\n",
              "    <path d=\"M0 0h24v24H0V0z\" fill=\"none\"/>\n",
              "    <path d=\"M18.56 5.44l.94 2.06.94-2.06 2.06-.94-2.06-.94-.94-2.06-.94 2.06-2.06.94zm-11 1L8.5 8.5l.94-2.06 2.06-.94-2.06-.94L8.5 2.5l-.94 2.06-2.06.94zm10 10l.94 2.06.94-2.06 2.06-.94-2.06-.94-.94-2.06-.94 2.06-2.06.94z\"/><path d=\"M17.41 7.96l-1.37-1.37c-.4-.4-.92-.59-1.43-.59-.52 0-1.04.2-1.43.59L10.3 9.45l-7.72 7.72c-.78.78-.78 2.05 0 2.83L4 21.41c.39.39.9.59 1.41.59.51 0 1.02-.2 1.41-.59l7.78-7.78 2.81-2.81c.8-.78.8-2.07 0-2.86zM5.41 20L4 18.59l7.72-7.72 1.47 1.35L5.41 20z\"/>\n",
              "  </svg>\n",
              "      </button>\n",
              "      \n",
              "  <style>\n",
              "    .colab-df-container {\n",
              "      display:flex;\n",
              "      flex-wrap:wrap;\n",
              "      gap: 12px;\n",
              "    }\n",
              "\n",
              "    .colab-df-convert {\n",
              "      background-color: #E8F0FE;\n",
              "      border: none;\n",
              "      border-radius: 50%;\n",
              "      cursor: pointer;\n",
              "      display: none;\n",
              "      fill: #1967D2;\n",
              "      height: 32px;\n",
              "      padding: 0 0 0 0;\n",
              "      width: 32px;\n",
              "    }\n",
              "\n",
              "    .colab-df-convert:hover {\n",
              "      background-color: #E2EBFA;\n",
              "      box-shadow: 0px 1px 2px rgba(60, 64, 67, 0.3), 0px 1px 3px 1px rgba(60, 64, 67, 0.15);\n",
              "      fill: #174EA6;\n",
              "    }\n",
              "\n",
              "    [theme=dark] .colab-df-convert {\n",
              "      background-color: #3B4455;\n",
              "      fill: #D2E3FC;\n",
              "    }\n",
              "\n",
              "    [theme=dark] .colab-df-convert:hover {\n",
              "      background-color: #434B5C;\n",
              "      box-shadow: 0px 1px 3px 1px rgba(0, 0, 0, 0.15);\n",
              "      filter: drop-shadow(0px 1px 2px rgba(0, 0, 0, 0.3));\n",
              "      fill: #FFFFFF;\n",
              "    }\n",
              "  </style>\n",
              "\n",
              "      <script>\n",
              "        const buttonEl =\n",
              "          document.querySelector('#df-a964a04e-bbaa-449f-9e5b-f5fd28c49713 button.colab-df-convert');\n",
              "        buttonEl.style.display =\n",
              "          google.colab.kernel.accessAllowed ? 'block' : 'none';\n",
              "\n",
              "        async function convertToInteractive(key) {\n",
              "          const element = document.querySelector('#df-a964a04e-bbaa-449f-9e5b-f5fd28c49713');\n",
              "          const dataTable =\n",
              "            await google.colab.kernel.invokeFunction('convertToInteractive',\n",
              "                                                     [key], {});\n",
              "          if (!dataTable) return;\n",
              "\n",
              "          const docLinkHtml = 'Like what you see? Visit the ' +\n",
              "            '<a target=\"_blank\" href=https://colab.research.google.com/notebooks/data_table.ipynb>data table notebook</a>'\n",
              "            + ' to learn more about interactive tables.';\n",
              "          element.innerHTML = '';\n",
              "          dataTable['output_type'] = 'display_data';\n",
              "          await google.colab.output.renderOutput(dataTable, element);\n",
              "          const docLink = document.createElement('div');\n",
              "          docLink.innerHTML = docLinkHtml;\n",
              "          element.appendChild(docLink);\n",
              "        }\n",
              "      </script>\n",
              "    </div>\n",
              "  </div>\n",
              "  "
            ]
          },
          "metadata": {},
          "execution_count": 35
        }
      ]
    },
    {
      "cell_type": "code",
      "source": [
        "mat = confusion_matrix(y_test, y_pred_vizinhosproximos)\n",
        "import seaborn as sns\n",
        "import matplotlib.pyplot as plt\n",
        "sns.heatmap(mat.T,square=True,annot=True,fmt='d',cbar=False,\n",
        "            xticklabels=list(classificacao_peticoes_dicionario.keys()),yticklabels=list(classificacao_peticoes_dicionario.keys()))\n",
        "plt.xlabel('True Label')\n",
        "plt.ylabel(\"Predicted Label\")\n",
        "plt.show()"
      ],
      "metadata": {
        "colab": {
          "base_uri": "https://localhost:8080/",
          "height": 445
        },
        "id": "OfS-66KMgCv5",
        "outputId": "8b29e276-4f60-4c72-c09d-d366fcedd1f6"
      },
      "execution_count": 36,
      "outputs": [
        {
          "output_type": "display_data",
          "data": {
            "text/plain": [
              "<Figure size 432x288 with 1 Axes>"
            ],
            "image/png": "[encoded data removed]"
          },
          "metadata": {
            "needs_background": "light"
          }
        }
      ]
    },
    {
      "cell_type": "markdown",
      "source": [
        "### **Tentativa 2**:\n",
        "\n",
        "usando o módulo pipeline sklearn crie um pipeline de classificação para classificar as petições. Observação:\n",
        "\n",
        "use TF-IDF para pré-processar o texto.\n",
        "\n",
        "use **Random Forest** como classificador.\n",
        "\n",
        "imprimir o relatório de classificação."
      ],
      "metadata": {
        "id": "cSdhtsh5t18d"
      }
    },
    {
      "cell_type": "code",
      "source": [
        "from sklearn.ensemble import RandomForestClassifier\n",
        "\n",
        "#1. Criar um objeto de pipeline\n",
        "pipeline_random_forest = Pipeline([\n",
        "     ('vectorizer_tfidf',TfidfVectorizer()),       \n",
        "     ('Random Forest', RandomForestClassifier())         \n",
        "])\n",
        "\n",
        "#2. Ajuste(fit) com X_train e y_train\n",
        "pipeline_random_forest.fit(X_train, y_train)\n",
        "\n",
        "\n",
        "#3. Obter previsões para X_test e armazenar em y_pred\n",
        "y_pred_rf = pipeline_random_forest.predict(X_test)"
      ],
      "metadata": {
        "id": "to6HTdHot30p"
      },
      "execution_count": 37,
      "outputs": []
    },
    {
      "cell_type": "code",
      "source": [
        "# imprimir uma matriz de confusão e um relatório de classificação\n",
        "print(classification_report(y_test, y_pred_rf))\n",
        "\n",
        "pd.DataFrame(\n",
        "    confusion_matrix(y_test, y_pred_rf),\n",
        "    index = [\n",
        "        ['Amostra', 'Amostra', 'Amostra', 'Amostra', 'Amostra', 'Amostra', 'Amostra', 'Amostra'], \n",
        "        ['aposentadoria_tempo_contribuicao', 'aposentadoria_urbana', 'salario_maternidade_rural', 'revisional_fgts', 'pensao_morte', 'aposentadoria_idade_rural', 'aposentadoria_especial', 'beneficio_assistencial_loas']\n",
        "             ],\n",
        "    columns = [\n",
        "        ['Previsto', 'Previsto', 'Previsto', 'Previsto', 'Previsto', 'Previsto', 'Previsto', 'Previsto'], \n",
        "        ['aposentadoria_tempo_contribuicao', 'aposentadoria_urbana', 'salario_maternidade_rural', 'revisional_fgts', 'pensao_morte', 'aposentadoria_idade_rural', 'aposentadoria_especial', 'beneficio_assistencial_loas']\n",
        "             ])"
      ],
      "metadata": {
        "id": "Q-0fK8RfwDfF",
        "outputId": "a8d401f9-5a6f-4adc-891a-8750291529b8",
        "colab": {
          "base_uri": "https://localhost:8080/",
          "height": 656
        }
      },
      "execution_count": 38,
      "outputs": [
        {
          "output_type": "stream",
          "name": "stdout",
          "text": [
            "              precision    recall  f1-score   support\n",
            "\n",
            "           0       0.80      0.80      0.80         5\n",
            "           1       1.00      0.80      0.89         5\n",
            "           2       1.00      1.00      1.00         5\n",
            "           3       1.00      1.00      1.00         5\n",
            "           4       1.00      0.80      0.89         5\n",
            "           5       1.00      1.00      1.00         5\n",
            "           6       0.83      1.00      0.91         5\n",
            "           7       0.83      1.00      0.91         5\n",
            "\n",
            "    accuracy                           0.93        40\n",
            "   macro avg       0.93      0.93      0.92        40\n",
            "weighted avg       0.93      0.93      0.92        40\n",
            "\n"
          ]
        },
        {
          "output_type": "execute_result",
          "data": {
            "text/plain": [
              "                                                                 Previsto  \\\n",
              "                                         aposentadoria_tempo_contribuicao   \n",
              "Amostra aposentadoria_tempo_contribuicao                                4   \n",
              "        aposentadoria_urbana                                            1   \n",
              "        salario_maternidade_rural                                       0   \n",
              "        revisional_fgts                                                 0   \n",
              "        pensao_morte                                                    0   \n",
              "        aposentadoria_idade_rural                                       0   \n",
              "        aposentadoria_especial                                          0   \n",
              "        beneficio_assistencial_loas                                     0   \n",
              "\n",
              "                                                               \\\n",
              "                                         aposentadoria_urbana   \n",
              "Amostra aposentadoria_tempo_contribuicao                    0   \n",
              "        aposentadoria_urbana                                4   \n",
              "        salario_maternidade_rural                           0   \n",
              "        revisional_fgts                                     0   \n",
              "        pensao_morte                                        0   \n",
              "        aposentadoria_idade_rural                           0   \n",
              "        aposentadoria_especial                              0   \n",
              "        beneficio_assistencial_loas                         0   \n",
              "\n",
              "                                                                    \\\n",
              "                                         salario_maternidade_rural   \n",
              "Amostra aposentadoria_tempo_contribuicao                         0   \n",
              "        aposentadoria_urbana                                     0   \n",
              "        salario_maternidade_rural                                5   \n",
              "        revisional_fgts                                          0   \n",
              "        pensao_morte                                             0   \n",
              "        aposentadoria_idade_rural                                0   \n",
              "        aposentadoria_especial                                   0   \n",
              "        beneficio_assistencial_loas                              0   \n",
              "\n",
              "                                                                       \\\n",
              "                                         revisional_fgts pensao_morte   \n",
              "Amostra aposentadoria_tempo_contribuicao               0            0   \n",
              "        aposentadoria_urbana                           0            0   \n",
              "        salario_maternidade_rural                      0            0   \n",
              "        revisional_fgts                                5            0   \n",
              "        pensao_morte                                   0            4   \n",
              "        aposentadoria_idade_rural                      0            0   \n",
              "        aposentadoria_especial                         0            0   \n",
              "        beneficio_assistencial_loas                    0            0   \n",
              "\n",
              "                                                                    \\\n",
              "                                         aposentadoria_idade_rural   \n",
              "Amostra aposentadoria_tempo_contribuicao                         0   \n",
              "        aposentadoria_urbana                                     0   \n",
              "        salario_maternidade_rural                                0   \n",
              "        revisional_fgts                                          0   \n",
              "        pensao_morte                                             0   \n",
              "        aposentadoria_idade_rural                                5   \n",
              "        aposentadoria_especial                                   0   \n",
              "        beneficio_assistencial_loas                              0   \n",
              "\n",
              "                                                                 \\\n",
              "                                         aposentadoria_especial   \n",
              "Amostra aposentadoria_tempo_contribuicao                      1   \n",
              "        aposentadoria_urbana                                  0   \n",
              "        salario_maternidade_rural                             0   \n",
              "        revisional_fgts                                       0   \n",
              "        pensao_morte                                          0   \n",
              "        aposentadoria_idade_rural                             0   \n",
              "        aposentadoria_especial                                5   \n",
              "        beneficio_assistencial_loas                           0   \n",
              "\n",
              "                                                                      \n",
              "                                         beneficio_assistencial_loas  \n",
              "Amostra aposentadoria_tempo_contribuicao                           0  \n",
              "        aposentadoria_urbana                                       0  \n",
              "        salario_maternidade_rural                                  0  \n",
              "        revisional_fgts                                            0  \n",
              "        pensao_morte                                               1  \n",
              "        aposentadoria_idade_rural                                  0  \n",
              "        aposentadoria_especial                                     0  \n",
              "        beneficio_assistencial_loas                                5  "
            ],
            "text/html": [
              "\n",
              "  <div id=\"df-40c0defb-4131-4adf-b51e-54a9126702c1\">\n",
              "    <div class=\"colab-df-container\">\n",
              "      <div>\n",
              "<style scoped>\n",
              "    .dataframe tbody tr th:only-of-type {\n",
              "        vertical-align: middle;\n",
              "    }\n",
              "\n",
              "    .dataframe tbody tr th {\n",
              "        vertical-align: top;\n",
              "    }\n",
              "\n",
              "    .dataframe thead tr th {\n",
              "        text-align: left;\n",
              "    }\n",
              "</style>\n",
              "<table border=\"1\" class=\"dataframe\">\n",
              "  <thead>\n",
              "    <tr>\n",
              "      <th></th>\n",
              "      <th></th>\n",
              "      <th colspan=\"8\" halign=\"left\">Previsto</th>\n",
              "    </tr>\n",
              "    <tr>\n",
              "      <th></th>\n",
              "      <th></th>\n",
              "      <th>aposentadoria_tempo_contribuicao</th>\n",
              "      <th>aposentadoria_urbana</th>\n",
              "      <th>salario_maternidade_rural</th>\n",
              "      <th>revisional_fgts</th>\n",
              "      <th>pensao_morte</th>\n",
              "      <th>aposentadoria_idade_rural</th>\n",
              "      <th>aposentadoria_especial</th>\n",
              "      <th>beneficio_assistencial_loas</th>\n",
              "    </tr>\n",
              "  </thead>\n",
              "  <tbody>\n",
              "    <tr>\n",
              "      <th rowspan=\"8\" valign=\"top\">Amostra</th>\n",
              "      <th>aposentadoria_tempo_contribuicao</th>\n",
              "      <td>4</td>\n",
              "      <td>0</td>\n",
              "      <td>0</td>\n",
              "      <td>0</td>\n",
              "      <td>0</td>\n",
              "      <td>0</td>\n",
              "      <td>1</td>\n",
              "      <td>0</td>\n",
              "    </tr>\n",
              "    <tr>\n",
              "      <th>aposentadoria_urbana</th>\n",
              "      <td>1</td>\n",
              "      <td>4</td>\n",
              "      <td>0</td>\n",
              "      <td>0</td>\n",
              "      <td>0</td>\n",
              "      <td>0</td>\n",
              "      <td>0</td>\n",
              "      <td>0</td>\n",
              "    </tr>\n",
              "    <tr>\n",
              "      <th>salario_maternidade_rural</th>\n",
              "      <td>0</td>\n",
              "      <td>0</td>\n",
              "      <td>5</td>\n",
              "      <td>0</td>\n",
              "      <td>0</td>\n",
              "      <td>0</td>\n",
              "      <td>0</td>\n",
              "      <td>0</td>\n",
              "    </tr>\n",
              "    <tr>\n",
              "      <th>revisional_fgts</th>\n",
              "      <td>0</td>\n",
              "      <td>0</td>\n",
              "      <td>0</td>\n",
              "      <td>5</td>\n",
              "      <td>0</td>\n",
              "      <td>0</td>\n",
              "      <td>0</td>\n",
              "      <td>0</td>\n",
              "    </tr>\n",
              "    <tr>\n",
              "      <th>pensao_morte</th>\n",
              "      <td>0</td>\n",
              "      <td>0</td>\n",
              "      <td>0</td>\n",
              "      <td>0</td>\n",
              "      <td>4</td>\n",
              "      <td>0</td>\n",
              "      <td>0</td>\n",
              "      <td>1</td>\n",
              "    </tr>\n",
              "    <tr>\n",
              "      <th>aposentadoria_idade_rural</th>\n",
              "      <td>0</td>\n",
              "      <td>0</td>\n",
              "      <td>0</td>\n",
              "      <td>0</td>\n",
              "      <td>0</td>\n",
              "      <td>5</td>\n",
              "      <td>0</td>\n",
              "      <td>0</td>\n",
              "    </tr>\n",
              "    <tr>\n",
              "      <th>aposentadoria_especial</th>\n",
              "      <td>0</td>\n",
              "      <td>0</td>\n",
              "      <td>0</td>\n",
              "      <td>0</td>\n",
              "      <td>0</td>\n",
              "      <td>0</td>\n",
              "      <td>5</td>\n",
              "      <td>0</td>\n",
              "    </tr>\n",
              "    <tr>\n",
              "      <th>beneficio_assistencial_loas</th>\n",
              "      <td>0</td>\n",
              "      <td>0</td>\n",
              "      <td>0</td>\n",
              "      <td>0</td>\n",
              "      <td>0</td>\n",
              "      <td>0</td>\n",
              "      <td>0</td>\n",
              "      <td>5</td>\n",
              "    </tr>\n",
              "  </tbody>\n",
              "</table>\n",
              "</div>\n",
              "      <button class=\"colab-df-convert\" onclick=\"convertToInteractive('df-40c0defb-4131-4adf-b51e-54a9126702c1')\"\n",
              "              title=\"Convert this dataframe to an interactive table.\"\n",
              "              style=\"display:none;\">\n",
              "        \n",
              "  <svg xmlns=\"http://www.w3.org/2000/svg\" height=\"24px\"viewBox=\"0 0 24 24\"\n",
              "       width=\"24px\">\n",
              "    <path d=\"M0 0h24v24H0V0z\" fill=\"none\"/>\n",
              "    <path d=\"M18.56 5.44l.94 2.06.94-2.06 2.06-.94-2.06-.94-.94-2.06-.94 2.06-2.06.94zm-11 1L8.5 8.5l.94-2.06 2.06-.94-2.06-.94L8.5 2.5l-.94 2.06-2.06.94zm10 10l.94 2.06.94-2.06 2.06-.94-2.06-.94-.94-2.06-.94 2.06-2.06.94z\"/><path d=\"M17.41 7.96l-1.37-1.37c-.4-.4-.92-.59-1.43-.59-.52 0-1.04.2-1.43.59L10.3 9.45l-7.72 7.72c-.78.78-.78 2.05 0 2.83L4 21.41c.39.39.9.59 1.41.59.51 0 1.02-.2 1.41-.59l7.78-7.78 2.81-2.81c.8-.78.8-2.07 0-2.86zM5.41 20L4 18.59l7.72-7.72 1.47 1.35L5.41 20z\"/>\n",
              "  </svg>\n",
              "      </button>\n",
              "      \n",
              "  <style>\n",
              "    .colab-df-container {\n",
              "      display:flex;\n",
              "      flex-wrap:wrap;\n",
              "      gap: 12px;\n",
              "    }\n",
              "\n",
              "    .colab-df-convert {\n",
              "      background-color: #E8F0FE;\n",
              "      border: none;\n",
              "      border-radius: 50%;\n",
              "      cursor: pointer;\n",
              "      display: none;\n",
              "      fill: #1967D2;\n",
              "      height: 32px;\n",
              "      padding: 0 0 0 0;\n",
              "      width: 32px;\n",
              "    }\n",
              "\n",
              "    .colab-df-convert:hover {\n",
              "      background-color: #E2EBFA;\n",
              "      box-shadow: 0px 1px 2px rgba(60, 64, 67, 0.3), 0px 1px 3px 1px rgba(60, 64, 67, 0.15);\n",
              "      fill: #174EA6;\n",
              "    }\n",
              "\n",
              "    [theme=dark] .colab-df-convert {\n",
              "      background-color: #3B4455;\n",
              "      fill: #D2E3FC;\n",
              "    }\n",
              "\n",
              "    [theme=dark] .colab-df-convert:hover {\n",
              "      background-color: #434B5C;\n",
              "      box-shadow: 0px 1px 3px 1px rgba(0, 0, 0, 0.15);\n",
              "      filter: drop-shadow(0px 1px 2px rgba(0, 0, 0, 0.3));\n",
              "      fill: #FFFFFF;\n",
              "    }\n",
              "  </style>\n",
              "\n",
              "      <script>\n",
              "        const buttonEl =\n",
              "          document.querySelector('#df-40c0defb-4131-4adf-b51e-54a9126702c1 button.colab-df-convert');\n",
              "        buttonEl.style.display =\n",
              "          google.colab.kernel.accessAllowed ? 'block' : 'none';\n",
              "\n",
              "        async function convertToInteractive(key) {\n",
              "          const element = document.querySelector('#df-40c0defb-4131-4adf-b51e-54a9126702c1');\n",
              "          const dataTable =\n",
              "            await google.colab.kernel.invokeFunction('convertToInteractive',\n",
              "                                                     [key], {});\n",
              "          if (!dataTable) return;\n",
              "\n",
              "          const docLinkHtml = 'Like what you see? Visit the ' +\n",
              "            '<a target=\"_blank\" href=https://colab.research.google.com/notebooks/data_table.ipynb>data table notebook</a>'\n",
              "            + ' to learn more about interactive tables.';\n",
              "          element.innerHTML = '';\n",
              "          dataTable['output_type'] = 'display_data';\n",
              "          await google.colab.output.renderOutput(dataTable, element);\n",
              "          const docLink = document.createElement('div');\n",
              "          docLink.innerHTML = docLinkHtml;\n",
              "          element.appendChild(docLink);\n",
              "        }\n",
              "      </script>\n",
              "    </div>\n",
              "  </div>\n",
              "  "
            ]
          },
          "metadata": {},
          "execution_count": 38
        }
      ]
    },
    {
      "cell_type": "code",
      "source": [
        "mat = confusion_matrix(y_test, y_pred_rf)\n",
        "import seaborn as sns\n",
        "import matplotlib.pyplot as plt\n",
        "sns.heatmap(mat.T,square=True,annot=True,fmt='d',cbar=False,\n",
        "            xticklabels=list(classificacao_peticoes_dicionario.keys()),yticklabels=list(classificacao_peticoes_dicionario.keys()))\n",
        "plt.xlabel('True Label')\n",
        "plt.ylabel(\"Predicted Label\")\n",
        "plt.show()"
      ],
      "metadata": {
        "colab": {
          "base_uri": "https://localhost:8080/",
          "height": 445
        },
        "id": "tcLb2pP8hEnh",
        "outputId": "33c7c084-67b4-405f-bb3c-b35d935b31e6"
      },
      "execution_count": 39,
      "outputs": [
        {
          "output_type": "display_data",
          "data": {
            "text/plain": [
              "<Figure size 432x288 with 1 Axes>"
            ],
            "image/png": "[encoded data removed]"
          },
          "metadata": {
            "needs_background": "light"
          }
        }
      ]
    },
    {
      "cell_type": "markdown",
      "source": [
        "### **Tentativa 3**:\n",
        "\n",
        "usando o módulo pipeline sklearn crie um pipeline de classificação para classificar as petições. Observação:\n",
        "\n",
        "use TF-IDF para pré-processar o texto.\n",
        "\n",
        "use **SVM** como classificador.\n",
        "\n",
        "imprimir o relatório de classificação.\n"
      ],
      "metadata": {
        "id": "Oww0RReQVHFd"
      }
    },
    {
      "cell_type": "code",
      "source": [
        "from sklearn.svm import SVC\n",
        "\n",
        "#1. Criar um objeto de pipeline\n",
        "pipeline_svc = Pipeline([\n",
        "     ('vectorizer_tfidf',TfidfVectorizer()),        \n",
        "     ('SVC', SVC(kernel = 'linear'))         \n",
        "])\n",
        "\n",
        "#2. Ajuste(fit) com X_train e y_train\n",
        "pipeline_svc.fit(X_train, y_train)\n",
        "\n",
        "\n",
        "#3. Obter previsões para X_test e armazenar em y_pred\n",
        "y_pred_svm = pipeline_svc.predict(X_test)"
      ],
      "metadata": {
        "id": "k5bW-FvRWBrJ"
      },
      "execution_count": 40,
      "outputs": []
    },
    {
      "cell_type": "code",
      "source": [
        "# imprimir uma matriz de confusão e um relatório de classificação\n",
        "print(classification_report(y_test, y_pred_svm))\n",
        "\n",
        "pd.DataFrame(\n",
        "    confusion_matrix(y_test, y_pred_svm),\n",
        "    index = [\n",
        "        ['Amostra', 'Amostra', 'Amostra', 'Amostra', 'Amostra', 'Amostra', 'Amostra', 'Amostra'], \n",
        "        ['aposentadoria_tempo_contribuicao', 'aposentadoria_urbana', 'salario_maternidade_rural', 'revisional_fgts', 'pensao_morte', 'aposentadoria_idade_rural', 'aposentadoria_especial', 'beneficio_assistencial_loas']\n",
        "             ],\n",
        "    columns = [\n",
        "        ['Previsto', 'Previsto', 'Previsto', 'Previsto', 'Previsto', 'Previsto', 'Previsto', 'Previsto'], \n",
        "        ['aposentadoria_tempo_contribuicao', 'aposentadoria_urbana', 'salario_maternidade_rural', 'revisional_fgts', 'pensao_morte', 'aposentadoria_idade_rural', 'aposentadoria_especial', 'beneficio_assistencial_loas']\n",
        "             ])"
      ],
      "metadata": {
        "colab": {
          "base_uri": "https://localhost:8080/",
          "height": 656
        },
        "id": "EFYwNAq5adKX",
        "outputId": "0e552bef-4e11-4004-8ced-ed7341ddd148"
      },
      "execution_count": 41,
      "outputs": [
        {
          "output_type": "stream",
          "name": "stdout",
          "text": [
            "              precision    recall  f1-score   support\n",
            "\n",
            "           0       0.80      0.80      0.80         5\n",
            "           1       1.00      0.80      0.89         5\n",
            "           2       1.00      1.00      1.00         5\n",
            "           3       1.00      1.00      1.00         5\n",
            "           4       1.00      0.80      0.89         5\n",
            "           5       1.00      1.00      1.00         5\n",
            "           6       0.83      1.00      0.91         5\n",
            "           7       0.83      1.00      0.91         5\n",
            "\n",
            "    accuracy                           0.93        40\n",
            "   macro avg       0.93      0.93      0.92        40\n",
            "weighted avg       0.93      0.93      0.92        40\n",
            "\n"
          ]
        },
        {
          "output_type": "execute_result",
          "data": {
            "text/plain": [
              "                                                                 Previsto  \\\n",
              "                                         aposentadoria_tempo_contribuicao   \n",
              "Amostra aposentadoria_tempo_contribuicao                                4   \n",
              "        aposentadoria_urbana                                            1   \n",
              "        salario_maternidade_rural                                       0   \n",
              "        revisional_fgts                                                 0   \n",
              "        pensao_morte                                                    0   \n",
              "        aposentadoria_idade_rural                                       0   \n",
              "        aposentadoria_especial                                          0   \n",
              "        beneficio_assistencial_loas                                     0   \n",
              "\n",
              "                                                               \\\n",
              "                                         aposentadoria_urbana   \n",
              "Amostra aposentadoria_tempo_contribuicao                    0   \n",
              "        aposentadoria_urbana                                4   \n",
              "        salario_maternidade_rural                           0   \n",
              "        revisional_fgts                                     0   \n",
              "        pensao_morte                                        0   \n",
              "        aposentadoria_idade_rural                           0   \n",
              "        aposentadoria_especial                              0   \n",
              "        beneficio_assistencial_loas                         0   \n",
              "\n",
              "                                                                    \\\n",
              "                                         salario_maternidade_rural   \n",
              "Amostra aposentadoria_tempo_contribuicao                         0   \n",
              "        aposentadoria_urbana                                     0   \n",
              "        salario_maternidade_rural                                5   \n",
              "        revisional_fgts                                          0   \n",
              "        pensao_morte                                             0   \n",
              "        aposentadoria_idade_rural                                0   \n",
              "        aposentadoria_especial                                   0   \n",
              "        beneficio_assistencial_loas                              0   \n",
              "\n",
              "                                                                       \\\n",
              "                                         revisional_fgts pensao_morte   \n",
              "Amostra aposentadoria_tempo_contribuicao               0            0   \n",
              "        aposentadoria_urbana                           0            0   \n",
              "        salario_maternidade_rural                      0            0   \n",
              "        revisional_fgts                                5            0   \n",
              "        pensao_morte                                   0            4   \n",
              "        aposentadoria_idade_rural                      0            0   \n",
              "        aposentadoria_especial                         0            0   \n",
              "        beneficio_assistencial_loas                    0            0   \n",
              "\n",
              "                                                                    \\\n",
              "                                         aposentadoria_idade_rural   \n",
              "Amostra aposentadoria_tempo_contribuicao                         0   \n",
              "        aposentadoria_urbana                                     0   \n",
              "        salario_maternidade_rural                                0   \n",
              "        revisional_fgts                                          0   \n",
              "        pensao_morte                                             0   \n",
              "        aposentadoria_idade_rural                                5   \n",
              "        aposentadoria_especial                                   0   \n",
              "        beneficio_assistencial_loas                              0   \n",
              "\n",
              "                                                                 \\\n",
              "                                         aposentadoria_especial   \n",
              "Amostra aposentadoria_tempo_contribuicao                      1   \n",
              "        aposentadoria_urbana                                  0   \n",
              "        salario_maternidade_rural                             0   \n",
              "        revisional_fgts                                       0   \n",
              "        pensao_morte                                          0   \n",
              "        aposentadoria_idade_rural                             0   \n",
              "        aposentadoria_especial                                5   \n",
              "        beneficio_assistencial_loas                           0   \n",
              "\n",
              "                                                                      \n",
              "                                         beneficio_assistencial_loas  \n",
              "Amostra aposentadoria_tempo_contribuicao                           0  \n",
              "        aposentadoria_urbana                                       0  \n",
              "        salario_maternidade_rural                                  0  \n",
              "        revisional_fgts                                            0  \n",
              "        pensao_morte                                               1  \n",
              "        aposentadoria_idade_rural                                  0  \n",
              "        aposentadoria_especial                                     0  \n",
              "        beneficio_assistencial_loas                                5  "
            ],
            "text/html": [
              "\n",
              "  <div id=\"df-2332deb6-84e0-41c7-a80e-186fde215307\">\n",
              "    <div class=\"colab-df-container\">\n",
              "      <div>\n",
              "<style scoped>\n",
              "    .dataframe tbody tr th:only-of-type {\n",
              "        vertical-align: middle;\n",
              "    }\n",
              "\n",
              "    .dataframe tbody tr th {\n",
              "        vertical-align: top;\n",
              "    }\n",
              "\n",
              "    .dataframe thead tr th {\n",
              "        text-align: left;\n",
              "    }\n",
              "</style>\n",
              "<table border=\"1\" class=\"dataframe\">\n",
              "  <thead>\n",
              "    <tr>\n",
              "      <th></th>\n",
              "      <th></th>\n",
              "      <th colspan=\"8\" halign=\"left\">Previsto</th>\n",
              "    </tr>\n",
              "    <tr>\n",
              "      <th></th>\n",
              "      <th></th>\n",
              "      <th>aposentadoria_tempo_contribuicao</th>\n",
              "      <th>aposentadoria_urbana</th>\n",
              "      <th>salario_maternidade_rural</th>\n",
              "      <th>revisional_fgts</th>\n",
              "      <th>pensao_morte</th>\n",
              "      <th>aposentadoria_idade_rural</th>\n",
              "      <th>aposentadoria_especial</th>\n",
              "      <th>beneficio_assistencial_loas</th>\n",
              "    </tr>\n",
              "  </thead>\n",
              "  <tbody>\n",
              "    <tr>\n",
              "      <th rowspan=\"8\" valign=\"top\">Amostra</th>\n",
              "      <th>aposentadoria_tempo_contribuicao</th>\n",
              "      <td>4</td>\n",
              "      <td>0</td>\n",
              "      <td>0</td>\n",
              "      <td>0</td>\n",
              "      <td>0</td>\n",
              "      <td>0</td>\n",
              "      <td>1</td>\n",
              "      <td>0</td>\n",
              "    </tr>\n",
              "    <tr>\n",
              "      <th>aposentadoria_urbana</th>\n",
              "      <td>1</td>\n",
              "      <td>4</td>\n",
              "      <td>0</td>\n",
              "      <td>0</td>\n",
              "      <td>0</td>\n",
              "      <td>0</td>\n",
              "      <td>0</td>\n",
              "      <td>0</td>\n",
              "    </tr>\n",
              "    <tr>\n",
              "      <th>salario_maternidade_rural</th>\n",
              "      <td>0</td>\n",
              "      <td>0</td>\n",
              "      <td>5</td>\n",
              "      <td>0</td>\n",
              "      <td>0</td>\n",
              "      <td>0</td>\n",
              "      <td>0</td>\n",
              "      <td>0</td>\n",
              "    </tr>\n",
              "    <tr>\n",
              "      <th>revisional_fgts</th>\n",
              "      <td>0</td>\n",
              "      <td>0</td>\n",
              "      <td>0</td>\n",
              "      <td>5</td>\n",
              "      <td>0</td>\n",
              "      <td>0</td>\n",
              "      <td>0</td>\n",
              "      <td>0</td>\n",
              "    </tr>\n",
              "    <tr>\n",
              "      <th>pensao_morte</th>\n",
              "      <td>0</td>\n",
              "      <td>0</td>\n",
              "      <td>0</td>\n",
              "      <td>0</td>\n",
              "      <td>4</td>\n",
              "      <td>0</td>\n",
              "      <td>0</td>\n",
              "      <td>1</td>\n",
              "    </tr>\n",
              "    <tr>\n",
              "      <th>aposentadoria_idade_rural</th>\n",
              "      <td>0</td>\n",
              "      <td>0</td>\n",
              "      <td>0</td>\n",
              "      <td>0</td>\n",
              "      <td>0</td>\n",
              "      <td>5</td>\n",
              "      <td>0</td>\n",
              "      <td>0</td>\n",
              "    </tr>\n",
              "    <tr>\n",
              "      <th>aposentadoria_especial</th>\n",
              "      <td>0</td>\n",
              "      <td>0</td>\n",
              "      <td>0</td>\n",
              "      <td>0</td>\n",
              "      <td>0</td>\n",
              "      <td>0</td>\n",
              "      <td>5</td>\n",
              "      <td>0</td>\n",
              "    </tr>\n",
              "    <tr>\n",
              "      <th>beneficio_assistencial_loas</th>\n",
              "      <td>0</td>\n",
              "      <td>0</td>\n",
              "      <td>0</td>\n",
              "      <td>0</td>\n",
              "      <td>0</td>\n",
              "      <td>0</td>\n",
              "      <td>0</td>\n",
              "      <td>5</td>\n",
              "    </tr>\n",
              "  </tbody>\n",
              "</table>\n",
              "</div>\n",
              "      <button class=\"colab-df-convert\" onclick=\"convertToInteractive('df-2332deb6-84e0-41c7-a80e-186fde215307')\"\n",
              "              title=\"Convert this dataframe to an interactive table.\"\n",
              "              style=\"display:none;\">\n",
              "        \n",
              "  <svg xmlns=\"http://www.w3.org/2000/svg\" height=\"24px\"viewBox=\"0 0 24 24\"\n",
              "       width=\"24px\">\n",
              "    <path d=\"M0 0h24v24H0V0z\" fill=\"none\"/>\n",
              "    <path d=\"M18.56 5.44l.94 2.06.94-2.06 2.06-.94-2.06-.94-.94-2.06-.94 2.06-2.06.94zm-11 1L8.5 8.5l.94-2.06 2.06-.94-2.06-.94L8.5 2.5l-.94 2.06-2.06.94zm10 10l.94 2.06.94-2.06 2.06-.94-2.06-.94-.94-2.06-.94 2.06-2.06.94z\"/><path d=\"M17.41 7.96l-1.37-1.37c-.4-.4-.92-.59-1.43-.59-.52 0-1.04.2-1.43.59L10.3 9.45l-7.72 7.72c-.78.78-.78 2.05 0 2.83L4 21.41c.39.39.9.59 1.41.59.51 0 1.02-.2 1.41-.59l7.78-7.78 2.81-2.81c.8-.78.8-2.07 0-2.86zM5.41 20L4 18.59l7.72-7.72 1.47 1.35L5.41 20z\"/>\n",
              "  </svg>\n",
              "      </button>\n",
              "      \n",
              "  <style>\n",
              "    .colab-df-container {\n",
              "      display:flex;\n",
              "      flex-wrap:wrap;\n",
              "      gap: 12px;\n",
              "    }\n",
              "\n",
              "    .colab-df-convert {\n",
              "      background-color: #E8F0FE;\n",
              "      border: none;\n",
              "      border-radius: 50%;\n",
              "      cursor: pointer;\n",
              "      display: none;\n",
              "      fill: #1967D2;\n",
              "      height: 32px;\n",
              "      padding: 0 0 0 0;\n",
              "      width: 32px;\n",
              "    }\n",
              "\n",
              "    .colab-df-convert:hover {\n",
              "      background-color: #E2EBFA;\n",
              "      box-shadow: 0px 1px 2px rgba(60, 64, 67, 0.3), 0px 1px 3px 1px rgba(60, 64, 67, 0.15);\n",
              "      fill: #174EA6;\n",
              "    }\n",
              "\n",
              "    [theme=dark] .colab-df-convert {\n",
              "      background-color: #3B4455;\n",
              "      fill: #D2E3FC;\n",
              "    }\n",
              "\n",
              "    [theme=dark] .colab-df-convert:hover {\n",
              "      background-color: #434B5C;\n",
              "      box-shadow: 0px 1px 3px 1px rgba(0, 0, 0, 0.15);\n",
              "      filter: drop-shadow(0px 1px 2px rgba(0, 0, 0, 0.3));\n",
              "      fill: #FFFFFF;\n",
              "    }\n",
              "  </style>\n",
              "\n",
              "      <script>\n",
              "        const buttonEl =\n",
              "          document.querySelector('#df-2332deb6-84e0-41c7-a80e-186fde215307 button.colab-df-convert');\n",
              "        buttonEl.style.display =\n",
              "          google.colab.kernel.accessAllowed ? 'block' : 'none';\n",
              "\n",
              "        async function convertToInteractive(key) {\n",
              "          const element = document.querySelector('#df-2332deb6-84e0-41c7-a80e-186fde215307');\n",
              "          const dataTable =\n",
              "            await google.colab.kernel.invokeFunction('convertToInteractive',\n",
              "                                                     [key], {});\n",
              "          if (!dataTable) return;\n",
              "\n",
              "          const docLinkHtml = 'Like what you see? Visit the ' +\n",
              "            '<a target=\"_blank\" href=https://colab.research.google.com/notebooks/data_table.ipynb>data table notebook</a>'\n",
              "            + ' to learn more about interactive tables.';\n",
              "          element.innerHTML = '';\n",
              "          dataTable['output_type'] = 'display_data';\n",
              "          await google.colab.output.renderOutput(dataTable, element);\n",
              "          const docLink = document.createElement('div');\n",
              "          docLink.innerHTML = docLinkHtml;\n",
              "          element.appendChild(docLink);\n",
              "        }\n",
              "      </script>\n",
              "    </div>\n",
              "  </div>\n",
              "  "
            ]
          },
          "metadata": {},
          "execution_count": 41
        }
      ]
    },
    {
      "cell_type": "code",
      "source": [
        "print(classificacao_peticoes_dicionario)"
      ],
      "metadata": {
        "colab": {
          "base_uri": "https://localhost:8080/"
        },
        "id": "86byX997dt2k",
        "outputId": "3de58ba4-2ee1-4952-9c62-ca9da5ddbbf5"
      },
      "execution_count": 44,
      "outputs": [
        {
          "output_type": "stream",
          "name": "stdout",
          "text": [
            "{'aposentadoria_tempo_contribuicao': 0, 'aposentadoria_urbana': 1, 'salario_maternidade_rural': 2, 'revisional_fgts': 3, 'pensao_morte': 4, 'aposentadoria_idade_rural': 5, 'aposentadoria_especial': 6, 'beneficio_assistencial_loas': 7}\n"
          ]
        }
      ]
    },
    {
      "cell_type": "code",
      "source": [
        "mat = confusion_matrix(y_test, y_pred_svm)\n",
        "import seaborn as sns\n",
        "import matplotlib.pyplot as plt\n",
        "sns.heatmap(mat.T,square=True,annot=True,fmt='d',cbar=False,\n",
        "            xticklabels=list(classificacao_peticoes_dicionario.keys()),yticklabels=list(classificacao_peticoes_dicionario.keys()))\n",
        "plt.xlabel('True Label')\n",
        "plt.ylabel(\"Predicted Label\")\n",
        "plt.show()"
      ],
      "metadata": {
        "colab": {
          "base_uri": "https://localhost:8080/",
          "height": 445
        },
        "id": "jfmSSFiPgmYE",
        "outputId": "1d7adb02-6045-4af8-8ec4-124964c6fc06"
      },
      "execution_count": 45,
      "outputs": [
        {
          "output_type": "display_data",
          "data": {
            "text/plain": [
              "<Figure size 432x288 with 1 Axes>"
            ],
            "image/png": "[encoded data removed]"
          },
          "metadata": {
            "needs_background": "light"
          }
        }
      ]
    },
    {
      "cell_type": "code",
      "source": [
        "# import numpy as np\n",
        "# arr = np.array(y_test)\n",
        "# print(arr)\n",
        "# print(y_pred)"
      ],
      "metadata": {
        "id": "i9vTTZbc0Qoc"
      },
      "execution_count": 46,
      "outputs": []
    },
    {
      "cell_type": "code",
      "source": [
        "# y_test"
      ],
      "metadata": {
        "id": "DOAQxxTi1uIy"
      },
      "execution_count": 47,
      "outputs": []
    },
    {
      "cell_type": "code",
      "source": [
        "classificacao_peticoes_dicionario\n"
      ],
      "metadata": {
        "colab": {
          "base_uri": "https://localhost:8080/"
        },
        "id": "BLe9990WeWPy",
        "outputId": "97571030-43bd-4b50-d9cd-98c98f4cd401"
      },
      "execution_count": 63,
      "outputs": [
        {
          "output_type": "execute_result",
          "data": {
            "text/plain": [
              "{'aposentadoria_tempo_contribuicao': 0,\n",
              " 'aposentadoria_urbana': 1,\n",
              " 'salario_maternidade_rural': 2,\n",
              " 'revisional_fgts': 3,\n",
              " 'pensao_morte': 4,\n",
              " 'aposentadoria_idade_rural': 5,\n",
              " 'aposentadoria_especial': 6,\n",
              " 'beneficio_assistencial_loas': 7}"
            ]
          },
          "metadata": {},
          "execution_count": 63
        }
      ]
    },
    {
      "cell_type": "markdown",
      "source": [
        "### **Tentativa 4**:\n",
        "\n",
        "usando o módulo pipeline sklearn crie um pipeline de classificação para classificar as petições. Observação:\n",
        "\n",
        "use TF-IDF para pré-processar o texto.\n",
        "\n",
        "use **XGBoost** como classificador.\n",
        "\n",
        "imprimir o relatório de classificação.\n"
      ],
      "metadata": {
        "id": "kJqiY-0bAEiu"
      }
    },
    {
      "cell_type": "code",
      "source": [
        "from xgboost import XGBClassifier\n",
        "\n",
        "#1. Criar um objeto de pipeline\n",
        "pipeline_xgboost = Pipeline([\n",
        "     ('vectorizer_tfidf',TfidfVectorizer()),        \n",
        "     ('xgboost', XGBClassifier(\n",
        "            learning_rate=0.09,\n",
        "            n_estimators=500,\n",
        "     ))         \n",
        "])\n",
        "\n",
        "#2. Ajuste(fit) com X_train e y_train\n",
        "pipeline_xgboost.fit(X_train, y_train)\n",
        "\n",
        "\n",
        "#3. Obter previsões para X_test e armazenar em y_pred\n",
        "y_pred_xgboost = pipeline_xgboost.predict(X_test)"
      ],
      "metadata": {
        "id": "r4_Myx2FAQhj"
      },
      "execution_count": 76,
      "outputs": []
    },
    {
      "cell_type": "code",
      "source": [
        "y_pred_xgboost"
      ],
      "metadata": {
        "colab": {
          "base_uri": "https://localhost:8080/"
        },
        "id": "8ylQsQc6Iygk",
        "outputId": "63ae815e-192b-4af9-a35b-c5ee1503f99c"
      },
      "execution_count": 77,
      "outputs": [
        {
          "output_type": "execute_result",
          "data": {
            "text/plain": [
              "array([6, 0, 3, 2, 6, 3, 6, 7, 2, 5, 2, 4, 0, 3, 7, 5, 4, 0, 7, 5, 0, 7,\n",
              "       5, 6, 4, 4, 2, 6, 1, 1, 6, 5, 1, 2, 7, 1, 0, 3, 3, 7])"
            ]
          },
          "metadata": {},
          "execution_count": 77
        }
      ]
    },
    {
      "cell_type": "code",
      "source": [
        "# imprimir uma matriz de confusão e um relatório de classificação\n",
        "print(classification_report(y_test, y_pred_xgboost))\n",
        "\n",
        "pd.DataFrame(\n",
        "    confusion_matrix(y_test, y_pred_xgboost),\n",
        "    index = [\n",
        "        ['Amostra', 'Amostra', 'Amostra', 'Amostra', 'Amostra', 'Amostra', 'Amostra', 'Amostra'], \n",
        "        ['aposentadoria_tempo_contribuicao', 'aposentadoria_urbana', 'salario_maternidade_rural', 'revisional_fgts', 'pensao_morte', 'aposentadoria_idade_rural', 'aposentadoria_especial', 'beneficio_assistencial_loas']\n",
        "             ],\n",
        "    columns = [\n",
        "        ['Previsto', 'Previsto', 'Previsto', 'Previsto', 'Previsto', 'Previsto', 'Previsto', 'Previsto'], \n",
        "        ['aposentadoria_tempo_contribuicao', 'aposentadoria_urbana', 'salario_maternidade_rural', 'revisional_fgts', 'pensao_morte', 'aposentadoria_idade_rural', 'aposentadoria_especial', 'beneficio_assistencial_loas']\n",
        "             ])"
      ],
      "metadata": {
        "colab": {
          "base_uri": "https://localhost:8080/",
          "height": 656
        },
        "id": "ppBMz1z8AUMD",
        "outputId": "ee4e308a-4129-414d-eaa4-b068c5e8b13a"
      },
      "execution_count": 78,
      "outputs": [
        {
          "output_type": "stream",
          "name": "stdout",
          "text": [
            "              precision    recall  f1-score   support\n",
            "\n",
            "           0       1.00      1.00      1.00         5\n",
            "           1       1.00      0.80      0.89         5\n",
            "           2       1.00      1.00      1.00         5\n",
            "           3       1.00      1.00      1.00         5\n",
            "           4       1.00      0.80      0.89         5\n",
            "           5       1.00      1.00      1.00         5\n",
            "           6       0.83      1.00      0.91         5\n",
            "           7       0.83      1.00      0.91         5\n",
            "\n",
            "    accuracy                           0.95        40\n",
            "   macro avg       0.96      0.95      0.95        40\n",
            "weighted avg       0.96      0.95      0.95        40\n",
            "\n"
          ]
        },
        {
          "output_type": "execute_result",
          "data": {
            "text/plain": [
              "                                                                 Previsto  \\\n",
              "                                         aposentadoria_tempo_contribuicao   \n",
              "Amostra aposentadoria_tempo_contribuicao                                5   \n",
              "        aposentadoria_urbana                                            0   \n",
              "        salario_maternidade_rural                                       0   \n",
              "        revisional_fgts                                                 0   \n",
              "        pensao_morte                                                    0   \n",
              "        aposentadoria_idade_rural                                       0   \n",
              "        aposentadoria_especial                                          0   \n",
              "        beneficio_assistencial_loas                                     0   \n",
              "\n",
              "                                                               \\\n",
              "                                         aposentadoria_urbana   \n",
              "Amostra aposentadoria_tempo_contribuicao                    0   \n",
              "        aposentadoria_urbana                                4   \n",
              "        salario_maternidade_rural                           0   \n",
              "        revisional_fgts                                     0   \n",
              "        pensao_morte                                        0   \n",
              "        aposentadoria_idade_rural                           0   \n",
              "        aposentadoria_especial                              0   \n",
              "        beneficio_assistencial_loas                         0   \n",
              "\n",
              "                                                                    \\\n",
              "                                         salario_maternidade_rural   \n",
              "Amostra aposentadoria_tempo_contribuicao                         0   \n",
              "        aposentadoria_urbana                                     0   \n",
              "        salario_maternidade_rural                                5   \n",
              "        revisional_fgts                                          0   \n",
              "        pensao_morte                                             0   \n",
              "        aposentadoria_idade_rural                                0   \n",
              "        aposentadoria_especial                                   0   \n",
              "        beneficio_assistencial_loas                              0   \n",
              "\n",
              "                                                                       \\\n",
              "                                         revisional_fgts pensao_morte   \n",
              "Amostra aposentadoria_tempo_contribuicao               0            0   \n",
              "        aposentadoria_urbana                           0            0   \n",
              "        salario_maternidade_rural                      0            0   \n",
              "        revisional_fgts                                5            0   \n",
              "        pensao_morte                                   0            4   \n",
              "        aposentadoria_idade_rural                      0            0   \n",
              "        aposentadoria_especial                         0            0   \n",
              "        beneficio_assistencial_loas                    0            0   \n",
              "\n",
              "                                                                    \\\n",
              "                                         aposentadoria_idade_rural   \n",
              "Amostra aposentadoria_tempo_contribuicao                         0   \n",
              "        aposentadoria_urbana                                     0   \n",
              "        salario_maternidade_rural                                0   \n",
              "        revisional_fgts                                          0   \n",
              "        pensao_morte                                             0   \n",
              "        aposentadoria_idade_rural                                5   \n",
              "        aposentadoria_especial                                   0   \n",
              "        beneficio_assistencial_loas                              0   \n",
              "\n",
              "                                                                 \\\n",
              "                                         aposentadoria_especial   \n",
              "Amostra aposentadoria_tempo_contribuicao                      0   \n",
              "        aposentadoria_urbana                                  1   \n",
              "        salario_maternidade_rural                             0   \n",
              "        revisional_fgts                                       0   \n",
              "        pensao_morte                                          0   \n",
              "        aposentadoria_idade_rural                             0   \n",
              "        aposentadoria_especial                                5   \n",
              "        beneficio_assistencial_loas                           0   \n",
              "\n",
              "                                                                      \n",
              "                                         beneficio_assistencial_loas  \n",
              "Amostra aposentadoria_tempo_contribuicao                           0  \n",
              "        aposentadoria_urbana                                       0  \n",
              "        salario_maternidade_rural                                  0  \n",
              "        revisional_fgts                                            0  \n",
              "        pensao_morte                                               1  \n",
              "        aposentadoria_idade_rural                                  0  \n",
              "        aposentadoria_especial                                     0  \n",
              "        beneficio_assistencial_loas                                5  "
            ],
            "text/html": [
              "\n",
              "  <div id=\"df-943bf226-742a-40d0-a9b1-c42f27f14911\">\n",
              "    <div class=\"colab-df-container\">\n",
              "      <div>\n",
              "<style scoped>\n",
              "    .dataframe tbody tr th:only-of-type {\n",
              "        vertical-align: middle;\n",
              "    }\n",
              "\n",
              "    .dataframe tbody tr th {\n",
              "        vertical-align: top;\n",
              "    }\n",
              "\n",
              "    .dataframe thead tr th {\n",
              "        text-align: left;\n",
              "    }\n",
              "</style>\n",
              "<table border=\"1\" class=\"dataframe\">\n",
              "  <thead>\n",
              "    <tr>\n",
              "      <th></th>\n",
              "      <th></th>\n",
              "      <th colspan=\"8\" halign=\"left\">Previsto</th>\n",
              "    </tr>\n",
              "    <tr>\n",
              "      <th></th>\n",
              "      <th></th>\n",
              "      <th>aposentadoria_tempo_contribuicao</th>\n",
              "      <th>aposentadoria_urbana</th>\n",
              "      <th>salario_maternidade_rural</th>\n",
              "      <th>revisional_fgts</th>\n",
              "      <th>pensao_morte</th>\n",
              "      <th>aposentadoria_idade_rural</th>\n",
              "      <th>aposentadoria_especial</th>\n",
              "      <th>beneficio_assistencial_loas</th>\n",
              "    </tr>\n",
              "  </thead>\n",
              "  <tbody>\n",
              "    <tr>\n",
              "      <th rowspan=\"8\" valign=\"top\">Amostra</th>\n",
              "      <th>aposentadoria_tempo_contribuicao</th>\n",
              "      <td>5</td>\n",
              "      <td>0</td>\n",
              "      <td>0</td>\n",
              "      <td>0</td>\n",
              "      <td>0</td>\n",
              "      <td>0</td>\n",
              "      <td>0</td>\n",
              "      <td>0</td>\n",
              "    </tr>\n",
              "    <tr>\n",
              "      <th>aposentadoria_urbana</th>\n",
              "      <td>0</td>\n",
              "      <td>4</td>\n",
              "      <td>0</td>\n",
              "      <td>0</td>\n",
              "      <td>0</td>\n",
              "      <td>0</td>\n",
              "      <td>1</td>\n",
              "      <td>0</td>\n",
              "    </tr>\n",
              "    <tr>\n",
              "      <th>salario_maternidade_rural</th>\n",
              "      <td>0</td>\n",
              "      <td>0</td>\n",
              "      <td>5</td>\n",
              "      <td>0</td>\n",
              "      <td>0</td>\n",
              "      <td>0</td>\n",
              "      <td>0</td>\n",
              "      <td>0</td>\n",
              "    </tr>\n",
              "    <tr>\n",
              "      <th>revisional_fgts</th>\n",
              "      <td>0</td>\n",
              "      <td>0</td>\n",
              "      <td>0</td>\n",
              "      <td>5</td>\n",
              "      <td>0</td>\n",
              "      <td>0</td>\n",
              "      <td>0</td>\n",
              "      <td>0</td>\n",
              "    </tr>\n",
              "    <tr>\n",
              "      <th>pensao_morte</th>\n",
              "      <td>0</td>\n",
              "      <td>0</td>\n",
              "      <td>0</td>\n",
              "      <td>0</td>\n",
              "      <td>4</td>\n",
              "      <td>0</td>\n",
              "      <td>0</td>\n",
              "      <td>1</td>\n",
              "    </tr>\n",
              "    <tr>\n",
              "      <th>aposentadoria_idade_rural</th>\n",
              "      <td>0</td>\n",
              "      <td>0</td>\n",
              "      <td>0</td>\n",
              "      <td>0</td>\n",
              "      <td>0</td>\n",
              "      <td>5</td>\n",
              "      <td>0</td>\n",
              "      <td>0</td>\n",
              "    </tr>\n",
              "    <tr>\n",
              "      <th>aposentadoria_especial</th>\n",
              "      <td>0</td>\n",
              "      <td>0</td>\n",
              "      <td>0</td>\n",
              "      <td>0</td>\n",
              "      <td>0</td>\n",
              "      <td>0</td>\n",
              "      <td>5</td>\n",
              "      <td>0</td>\n",
              "    </tr>\n",
              "    <tr>\n",
              "      <th>beneficio_assistencial_loas</th>\n",
              "      <td>0</td>\n",
              "      <td>0</td>\n",
              "      <td>0</td>\n",
              "      <td>0</td>\n",
              "      <td>0</td>\n",
              "      <td>0</td>\n",
              "      <td>0</td>\n",
              "      <td>5</td>\n",
              "    </tr>\n",
              "  </tbody>\n",
              "</table>\n",
              "</div>\n",
              "      <button class=\"colab-df-convert\" onclick=\"convertToInteractive('df-943bf226-742a-40d0-a9b1-c42f27f14911')\"\n",
              "              title=\"Convert this dataframe to an interactive table.\"\n",
              "              style=\"display:none;\">\n",
              "        \n",
              "  <svg xmlns=\"http://www.w3.org/2000/svg\" height=\"24px\"viewBox=\"0 0 24 24\"\n",
              "       width=\"24px\">\n",
              "    <path d=\"M0 0h24v24H0V0z\" fill=\"none\"/>\n",
              "    <path d=\"M18.56 5.44l.94 2.06.94-2.06 2.06-.94-2.06-.94-.94-2.06-.94 2.06-2.06.94zm-11 1L8.5 8.5l.94-2.06 2.06-.94-2.06-.94L8.5 2.5l-.94 2.06-2.06.94zm10 10l.94 2.06.94-2.06 2.06-.94-2.06-.94-.94-2.06-.94 2.06-2.06.94z\"/><path d=\"M17.41 7.96l-1.37-1.37c-.4-.4-.92-.59-1.43-.59-.52 0-1.04.2-1.43.59L10.3 9.45l-7.72 7.72c-.78.78-.78 2.05 0 2.83L4 21.41c.39.39.9.59 1.41.59.51 0 1.02-.2 1.41-.59l7.78-7.78 2.81-2.81c.8-.78.8-2.07 0-2.86zM5.41 20L4 18.59l7.72-7.72 1.47 1.35L5.41 20z\"/>\n",
              "  </svg>\n",
              "      </button>\n",
              "      \n",
              "  <style>\n",
              "    .colab-df-container {\n",
              "      display:flex;\n",
              "      flex-wrap:wrap;\n",
              "      gap: 12px;\n",
              "    }\n",
              "\n",
              "    .colab-df-convert {\n",
              "      background-color: #E8F0FE;\n",
              "      border: none;\n",
              "      border-radius: 50%;\n",
              "      cursor: pointer;\n",
              "      display: none;\n",
              "      fill: #1967D2;\n",
              "      height: 32px;\n",
              "      padding: 0 0 0 0;\n",
              "      width: 32px;\n",
              "    }\n",
              "\n",
              "    .colab-df-convert:hover {\n",
              "      background-color: #E2EBFA;\n",
              "      box-shadow: 0px 1px 2px rgba(60, 64, 67, 0.3), 0px 1px 3px 1px rgba(60, 64, 67, 0.15);\n",
              "      fill: #174EA6;\n",
              "    }\n",
              "\n",
              "    [theme=dark] .colab-df-convert {\n",
              "      background-color: #3B4455;\n",
              "      fill: #D2E3FC;\n",
              "    }\n",
              "\n",
              "    [theme=dark] .colab-df-convert:hover {\n",
              "      background-color: #434B5C;\n",
              "      box-shadow: 0px 1px 3px 1px rgba(0, 0, 0, 0.15);\n",
              "      filter: drop-shadow(0px 1px 2px rgba(0, 0, 0, 0.3));\n",
              "      fill: #FFFFFF;\n",
              "    }\n",
              "  </style>\n",
              "\n",
              "      <script>\n",
              "        const buttonEl =\n",
              "          document.querySelector('#df-943bf226-742a-40d0-a9b1-c42f27f14911 button.colab-df-convert');\n",
              "        buttonEl.style.display =\n",
              "          google.colab.kernel.accessAllowed ? 'block' : 'none';\n",
              "\n",
              "        async function convertToInteractive(key) {\n",
              "          const element = document.querySelector('#df-943bf226-742a-40d0-a9b1-c42f27f14911');\n",
              "          const dataTable =\n",
              "            await google.colab.kernel.invokeFunction('convertToInteractive',\n",
              "                                                     [key], {});\n",
              "          if (!dataTable) return;\n",
              "\n",
              "          const docLinkHtml = 'Like what you see? Visit the ' +\n",
              "            '<a target=\"_blank\" href=https://colab.research.google.com/notebooks/data_table.ipynb>data table notebook</a>'\n",
              "            + ' to learn more about interactive tables.';\n",
              "          element.innerHTML = '';\n",
              "          dataTable['output_type'] = 'display_data';\n",
              "          await google.colab.output.renderOutput(dataTable, element);\n",
              "          const docLink = document.createElement('div');\n",
              "          docLink.innerHTML = docLinkHtml;\n",
              "          element.appendChild(docLink);\n",
              "        }\n",
              "      </script>\n",
              "    </div>\n",
              "  </div>\n",
              "  "
            ]
          },
          "metadata": {},
          "execution_count": 78
        }
      ]
    },
    {
      "cell_type": "code",
      "source": [
        "mat = confusion_matrix(y_test, y_pred_xgboost)\n",
        "import seaborn as sns\n",
        "import matplotlib.pyplot as plt\n",
        "sns.heatmap(mat.T,square=True,annot=True,fmt='d',cbar=False,\n",
        "            xticklabels=list(classificacao_peticoes_dicionario.keys()),yticklabels=list(classificacao_peticoes_dicionario.keys()))\n",
        "plt.xlabel('True Label')\n",
        "plt.ylabel(\"Predicted Label\")\n",
        "plt.show()"
      ],
      "metadata": {
        "colab": {
          "base_uri": "https://localhost:8080/",
          "height": 445
        },
        "id": "gCT444odAUU-",
        "outputId": "34138d61-7cbe-4098-ae9f-add2c94cc225"
      },
      "execution_count": 79,
      "outputs": [
        {
          "output_type": "display_data",
          "data": {
            "text/plain": [
              "<Figure size 432x288 with 1 Axes>"
            ],
            "image/png": "[encoded data removed]"
          },
          "metadata": {
            "needs_background": "light"
          }
        }
      ]
    },
    {
      "cell_type": "markdown",
      "source": [
        "# **Utilizando Cross-Validation**"
      ],
      "metadata": {
        "id": "glOBImhbZBM8"
      }
    },
    {
      "cell_type": "code",
      "source": [
        "from sklearn.model_selection import KFold\n",
        "\n",
        "validacao_cruzada = KFold(n_splits=5, shuffle=True, random_state=2022)\n",
        "validacao_cruzada"
      ],
      "metadata": {
        "colab": {
          "base_uri": "https://localhost:8080/"
        },
        "id": "RLRBZkzbZ5Vx",
        "outputId": "d23962c6-f2fb-46c5-90a8-264c96085272"
      },
      "execution_count": 49,
      "outputs": [
        {
          "output_type": "execute_result",
          "data": {
            "text/plain": [
              "KFold(n_splits=5, random_state=2022, shuffle=True)"
            ]
          },
          "metadata": {},
          "execution_count": 49
        }
      ]
    },
    {
      "cell_type": "code",
      "source": [
        "# Acurácia média para Vizinhos mais próximos\n",
        "from sklearn.model_selection import cross_val_score\n",
        "\n",
        "acuracia_media_vp = cross_val_score(pipeline_vizinhos_proximos, df_peticoes_iniciais['text_clean'], df_peticoes_iniciais['label_num'], cv=validacao_cruzada)\n",
        "print(acuracia_media_vp)\n",
        "print(acuracia_media_vp.mean())"
      ],
      "metadata": {
        "colab": {
          "base_uri": "https://localhost:8080/"
        },
        "id": "-R5fPvnZyy8K",
        "outputId": "9f2cfecc-70a2-41d8-9579-fe05e04f8c82"
      },
      "execution_count": 50,
      "outputs": [
        {
          "output_type": "stream",
          "name": "stdout",
          "text": [
            "[0.45  0.55  0.55  0.575 0.6  ]\n",
            "0.545\n"
          ]
        }
      ]
    },
    {
      "cell_type": "code",
      "source": [
        "# acuracia_media_vp.mean()"
      ],
      "metadata": {
        "id": "JeK9IfgxyzFI"
      },
      "execution_count": 51,
      "outputs": []
    },
    {
      "cell_type": "code",
      "source": [
        "# Acurácia média para random forest\n",
        "\n",
        "acuracia_media_rf = cross_val_score(pipeline_random_forest, df_peticoes_iniciais.text_clean, df_peticoes_iniciais.label_num, cv=validacao_cruzada)\n",
        "print(acuracia_media_rf)\n",
        "print(acuracia_media_rf.mean())"
      ],
      "metadata": {
        "colab": {
          "base_uri": "https://localhost:8080/"
        },
        "id": "Z7E7-uZYkSyN",
        "outputId": "77da1211-deb0-479f-efde-02af0a33fd99"
      },
      "execution_count": 52,
      "outputs": [
        {
          "output_type": "stream",
          "name": "stdout",
          "text": [
            "[0.825 0.875 0.875 0.85  0.75 ]\n",
            "0.8350000000000002\n"
          ]
        }
      ]
    },
    {
      "cell_type": "code",
      "source": [
        "# Acurácia média para SVM\n",
        "\n",
        "acuracia_media_svm = cross_val_score(pipeline_svc, \n",
        "                                     df_peticoes_iniciais.text_clean, \n",
        "                                     df_peticoes_iniciais.label_num, \n",
        "                                     cv=validacao_cruzada)\n",
        "print(acuracia_media_svm)\n",
        "print(acuracia_media_svm.mean())"
      ],
      "metadata": {
        "colab": {
          "base_uri": "https://localhost:8080/"
        },
        "id": "jZ3B-5Vq2Wpr",
        "outputId": "ceb98b85-17fc-4b54-b56f-0af8d2893080"
      },
      "execution_count": 62,
      "outputs": [
        {
          "output_type": "stream",
          "name": "stdout",
          "text": [
            "[0.825 0.875 0.85  0.85  0.8  ]\n",
            "0.8400000000000001\n"
          ]
        }
      ]
    },
    {
      "cell_type": "code",
      "source": [
        "# Acurácia média para XGBoost\n",
        "\n",
        "acuracia_media_xgboost = cross_val_score(pipeline_xgboost, \n",
        "                                     df_peticoes_iniciais.text_clean, \n",
        "                                     df_peticoes_iniciais.label_num, \n",
        "                                     cv=validacao_cruzada)\n",
        "print(acuracia_media_xgboost)\n",
        "print(acuracia_media_xgboost.mean())"
      ],
      "metadata": {
        "colab": {
          "base_uri": "https://localhost:8080/"
        },
        "id": "MK5qJ5DFKBLp",
        "outputId": "c505cf03-849a-4e5f-ea19-2a371e79fa46"
      },
      "execution_count": 80,
      "outputs": [
        {
          "output_type": "stream",
          "name": "stdout",
          "text": [
            "[0.85  0.9   0.85  0.875 0.775]\n",
            "0.85\n"
          ]
        }
      ]
    },
    {
      "cell_type": "code",
      "source": [
        "y_train"
      ],
      "metadata": {
        "colab": {
          "base_uri": "https://localhost:8080/"
        },
        "id": "9CfWVdj-k6ff",
        "outputId": "0ad8c111-24ec-4fb5-f7fe-debe13ecf48d"
      },
      "execution_count": 56,
      "outputs": [
        {
          "output_type": "execute_result",
          "data": {
            "text/plain": [
              "173    6\n",
              "47     1\n",
              "198    7\n",
              "63     2\n",
              "114    4\n",
              "      ..\n",
              "90     3\n",
              "12     0\n",
              "6      0\n",
              "127    5\n",
              "154    6\n",
              "Name: label_num, Length: 160, dtype: int64"
            ]
          },
          "metadata": {},
          "execution_count": 56
        }
      ]
    },
    {
      "cell_type": "code",
      "source": [
        "df_peticoes_iniciais.loc[17]['nome_documento']"
      ],
      "metadata": {
        "colab": {
          "base_uri": "https://localhost:8080/",
          "height": 35
        },
        "id": "USIbMuWNhdas",
        "outputId": "d1389b04-cf2a-48c1-dd12-d3f09bdcb633"
      },
      "execution_count": 58,
      "outputs": [
        {
          "output_type": "execute_result",
          "data": {
            "text/plain": [
              "'/content/drive/MyDrive/trf5.peticoes/25 - APOSENTADORIA POR TEMPO DE CONTRIBUICAO/0005513-30.2022.4.05.8300.pdf'"
            ],
            "application/vnd.google.colaboratory.intrinsic+json": {
              "type": "string"
            }
          },
          "metadata": {},
          "execution_count": 58
        }
      ]
    },
    {
      "cell_type": "markdown",
      "source": [
        "# **Fazendo Upload de arquivos e realizando predição**"
      ],
      "metadata": {
        "id": "DzVENFoeh1Cb"
      }
    },
    {
      "cell_type": "code",
      "source": [
        "def predict_category(s, train=y_train,model=pipeline_svc):\n",
        "    pred = model.predict([s])\n",
        "    return pred"
      ],
      "metadata": {
        "id": "aieiVzJWh3sH"
      },
      "execution_count": 59,
      "outputs": []
    },
    {
      "cell_type": "code",
      "source": [
        "# # Fazer upload de petição\n",
        "# from google.colab import files\n",
        "# import io, pdftotext\n",
        "# upload = files.upload()\n",
        "# filename = list(upload.keys())[0]\n",
        "# print(filename)\n",
        "\n",
        "# with open(filename, \"rb\") as f:\n",
        "#     pdf = pdftotext.PDF(f)\n",
        "\n",
        "# texto_documento = \"\\n\\n\".join(pdf)\n",
        "# texto_documento = texto_documento.lower()\n",
        "# texto_documento = clean_text(texto_documento)\n",
        "# texto_documento = remove_stopwords(texto_documento)\n",
        "# #print(texto_documento)\n",
        "\n",
        "# prediction_teste=predict_category(texto_documento)\n",
        "# #print(prediction_teste)\n",
        "# print('Esta petição é sugerida como...')\n",
        "# if prediction_teste == [0]:\n",
        "#   print('Aposentadoria por Tempo de Contribuição')\n",
        "# elif prediction_teste == [1]:\n",
        "#   print('Aposentadoria Urbana')\n",
        "# elif prediction_teste == [2]:\n",
        "#   print('Salario Maternidade Rural')\n",
        "# elif prediction_teste == [3]:\n",
        "#   print('Revisional Fgts')\n",
        "# elif prediction_teste == [4]:\n",
        "#   print('Pensao po Morte')\n",
        "# elif prediction_teste == [5]:\n",
        "#   print('Aposentadoria Idade Rural')\n",
        "# elif prediction_teste == [6]:\n",
        "#   print('Aposentadoria Especial')    \n",
        "# elif prediction_teste == [7]:\n",
        "#   print('Beneficio Assistencial Loas')   \n",
        "# else:\n",
        "#   print('Não identificado')\n",
        "     "
      ],
      "metadata": {
        "id": "n2sbmcWGiZTN"
      },
      "execution_count": 60,
      "outputs": []
    },
    {
      "cell_type": "code",
      "source": [
        "classificacao_peticoes_dicionario"
      ],
      "metadata": {
        "id": "HlPh9W9vmmW-",
        "colab": {
          "base_uri": "https://localhost:8080/"
        },
        "outputId": "7af9b8ad-3e08-4c68-8342-929afda7306a"
      },
      "execution_count": 61,
      "outputs": [
        {
          "output_type": "execute_result",
          "data": {
            "text/plain": [
              "{'aposentadoria_tempo_contribuicao': 0,\n",
              " 'aposentadoria_urbana': 1,\n",
              " 'salario_maternidade_rural': 2,\n",
              " 'revisional_fgts': 3,\n",
              " 'pensao_morte': 4,\n",
              " 'aposentadoria_idade_rural': 5,\n",
              " 'aposentadoria_especial': 6,\n",
              " 'beneficio_assistencial_loas': 7}"
            ]
          },
          "metadata": {},
          "execution_count": 61
        }
      ]
    }
  ]
}